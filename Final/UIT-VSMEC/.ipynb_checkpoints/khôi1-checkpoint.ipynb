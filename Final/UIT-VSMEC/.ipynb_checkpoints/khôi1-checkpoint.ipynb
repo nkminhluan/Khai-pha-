{
 "cells": [
  {
   "cell_type": "code",
   "execution_count": 19,
   "metadata": {},
   "outputs": [],
   "source": [
    "import csv\n",
    "import io\n",
    "from selenium import webdriver\n",
    "from selenium.common import exceptions\n",
    "import sys\n",
    "import time\n",
    "\n",
    "def scrape(url,filename):\n",
    "\n",
    "    driver = webdriver.Chrome()\n",
    "    driver.get(url)\n",
    "    driver.maximize_window()\n",
    "    time.sleep(5)\n",
    "\n",
    "    title = driver.find_element_by_xpath('//*[@id=\"container\"]/h1/yt-formatted-string').text\n",
    "\n",
    "    comment_section = driver.find_element_by_xpath('//*[@id=\"comments\"]')\n",
    "\n",
    "\n",
    "    driver.execute_script(\"arguments[0].scrollIntoView();\", comment_section)\n",
    "    time.sleep(7)\n",
    "\n",
    "\n",
    "    last_height = driver.execute_script(\"return document.documentElement.scrollHeight\")\n",
    "    count = 0\n",
    "    while True:\n",
    "\n",
    "        driver.execute_script(\"window.scrollTo(0, document.documentElement.scrollHeight);\")\n",
    "\n",
    "        time.sleep(5)\n",
    "    \n",
    "        new_height = driver.execute_script(\"return document.documentElement.scrollHeight\")\n",
    "        if new_height == last_height:\n",
    "            break\n",
    "        last_height = new_height\n",
    "\n",
    "\n",
    "    driver.execute_script(\"window.scrollTo(0, document.documentElement.scrollHeight);\")\n",
    "    \n",
    "    comment_elems = driver.find_elements_by_xpath('//*[@id=\"content-text\"]')    \n",
    "\n",
    "    with io.open(filename, 'w', newline='', encoding=\"utf-8\") as file:\n",
    "       \n",
    "        writer = csv.writer(file, quoting=csv.QUOTE_ALL)\n",
    "        writer.writerow([\"Comment\"])\n",
    "        for comment in (comment_elems):\n",
    "            writer.writerow([comment.text])\n",
    "\n",
    "    driver.close()\n"
   ]
  },
  {
   "cell_type": "code",
   "execution_count": 20,
   "metadata": {},
   "outputs": [],
   "source": [
    "#scrape('https://www.youtube.com/watch?v=Au43RWSMdRg','bongda.csv')"
   ]
  },
  {
   "cell_type": "code",
   "execution_count": 13,
   "metadata": {},
   "outputs": [],
   "source": [
    "#scrape('https://www.youtube.com/watch?v=nH_GMngQfzw','phiphuonganh.csv')"
   ]
  },
  {
   "cell_type": "code",
   "execution_count": 18,
   "metadata": {},
   "outputs": [],
   "source": [
    "#scrape('https://www.youtube.com/watch?v=8bBmDAtHUJY','khicodon.csv')"
   ]
  },
  {
   "cell_type": "code",
   "execution_count": null,
   "metadata": {},
   "outputs": [],
   "source": []
  }
 ],
 "metadata": {
  "kernelspec": {
   "display_name": "Python 3",
   "language": "python",
   "name": "python3"
  },
  "language_info": {
   "codemirror_mode": {
    "name": "ipython",
    "version": 3
   },
   "file_extension": ".py",
   "mimetype": "text/x-python",
   "name": "python",
   "nbconvert_exporter": "python",
   "pygments_lexer": "ipython3",
   "version": "3.8.3"
  }
 },
 "nbformat": 4,
 "nbformat_minor": 4
}
