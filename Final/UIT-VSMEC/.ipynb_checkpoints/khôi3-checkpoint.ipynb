{
 "cells": [
  {
   "cell_type": "code",
   "execution_count": 5,
   "metadata": {},
   "outputs": [],
   "source": [
    "import pandas as pd\n",
    "df1 = pd.read_csv('bongda.csv',encoding='utf-8')\n",
    "df2 = pd.read_csv('phiphuonganh.csv',encoding='utf-8')\n",
    "df3 = pd.read_csv('khicodon.csv',encoding='utf-8')\n"
   ]
  },
  {
   "cell_type": "code",
   "execution_count": 7,
   "metadata": {},
   "outputs": [
    {
     "data": {
      "text/html": [
       "<div>\n",
       "<style scoped>\n",
       "    .dataframe tbody tr th:only-of-type {\n",
       "        vertical-align: middle;\n",
       "    }\n",
       "\n",
       "    .dataframe tbody tr th {\n",
       "        vertical-align: top;\n",
       "    }\n",
       "\n",
       "    .dataframe thead th {\n",
       "        text-align: right;\n",
       "    }\n",
       "</style>\n",
       "<table border=\"1\" class=\"dataframe\">\n",
       "  <thead>\n",
       "    <tr style=\"text-align: right;\">\n",
       "      <th></th>\n",
       "      <th>Comment</th>\n",
       "      <th>Tag</th>\n",
       "    </tr>\n",
       "  </thead>\n",
       "  <tbody>\n",
       "    <tr>\n",
       "      <th>0</th>\n",
       "      <td>5OOK views release beat thì sao các bạn ơiiii</td>\n",
       "      <td>Anger</td>\n",
       "    </tr>\n",
       "    <tr>\n",
       "      <th>1</th>\n",
       "      <td>hóng MV quá</td>\n",
       "      <td>Enjoyment</td>\n",
       "    </tr>\n",
       "    <tr>\n",
       "      <th>2</th>\n",
       "      <td>Có ai từ  rap việt thành fan R. TEE k ạ :3</td>\n",
       "      <td>Enjoyment</td>\n",
       "    </tr>\n",
       "    <tr>\n",
       "      <th>3</th>\n",
       "      <td>Rapp hay á :))</td>\n",
       "      <td>Surprise</td>\n",
       "    </tr>\n",
       "    <tr>\n",
       "      <th>4</th>\n",
       "      <td>2020 &lt;33</td>\n",
       "      <td>Other</td>\n",
       "    </tr>\n",
       "    <tr>\n",
       "      <th>...</th>\n",
       "      <td>...</td>\n",
       "      <td>...</td>\n",
       "    </tr>\n",
       "    <tr>\n",
       "      <th>96</th>\n",
       "      <td>Nhớ gấu Brown😢</td>\n",
       "      <td>Sadness</td>\n",
       "    </tr>\n",
       "    <tr>\n",
       "      <th>97</th>\n",
       "      <td>beat giống Ngày Mai Em ĐI quá huhuu</td>\n",
       "      <td>Surprise</td>\n",
       "    </tr>\n",
       "    <tr>\n",
       "      <th>98</th>\n",
       "      <td>Nhiều bạn vô duyên vãi ấy, thích BAT thì searc...</td>\n",
       "      <td>Other</td>\n",
       "    </tr>\n",
       "    <tr>\n",
       "      <th>99</th>\n",
       "      <td>Đang ăn sáng quán bên cạnh mở lên mạng tìm lời...</td>\n",
       "      <td>Other</td>\n",
       "    </tr>\n",
       "    <tr>\n",
       "      <th>100</th>\n",
       "      <td>Tháng 9/ 2020 Aj còn aj</td>\n",
       "      <td>Other</td>\n",
       "    </tr>\n",
       "  </tbody>\n",
       "</table>\n",
       "<p>101 rows × 2 columns</p>\n",
       "</div>"
      ],
      "text/plain": [
       "                                               Comment        Tag\n",
       "0        5OOK views release beat thì sao các bạn ơiiii      Anger\n",
       "1                                          hóng MV quá  Enjoyment\n",
       "2           Có ai từ  rap việt thành fan R. TEE k ạ :3  Enjoyment\n",
       "3                                       Rapp hay á :))   Surprise\n",
       "4                                             2020 <33      Other\n",
       "..                                                 ...        ...\n",
       "96                                      Nhớ gấu Brown😢    Sadness\n",
       "97                 beat giống Ngày Mai Em ĐI quá huhuu   Surprise\n",
       "98   Nhiều bạn vô duyên vãi ấy, thích BAT thì searc...      Other\n",
       "99   Đang ăn sáng quán bên cạnh mở lên mạng tìm lời...      Other\n",
       "100                            Tháng 9/ 2020 Aj còn aj      Other\n",
       "\n",
       "[101 rows x 2 columns]"
      ]
     },
     "execution_count": 7,
     "metadata": {},
     "output_type": "execute_result"
    }
   ],
   "source": [
    "df1.drop(['Unnamed: 0','Unnamed: 0.1'],axis = 1)\n",
    "df2.drop(['Unnamed: 0','Unnamed: 0.1'],axis = 1)\n",
    "df3.drop(['Unnamed: 0','Unnamed: 0.1'],axis = 1)"
   ]
  },
  {
   "cell_type": "code",
   "execution_count": 8,
   "metadata": {},
   "outputs": [],
   "source": [
    "df = pd.concat([df1,df2,df3])"
   ]
  },
  {
   "cell_type": "code",
   "execution_count": 12,
   "metadata": {},
   "outputs": [],
   "source": [
    "df = df.drop(['Unnamed: 0','Unnamed: 0.1'],axis = 1)\n"
   ]
  },
  {
   "cell_type": "code",
   "execution_count": 13,
   "metadata": {},
   "outputs": [
    {
     "data": {
      "text/html": [
       "<div>\n",
       "<style scoped>\n",
       "    .dataframe tbody tr th:only-of-type {\n",
       "        vertical-align: middle;\n",
       "    }\n",
       "\n",
       "    .dataframe tbody tr th {\n",
       "        vertical-align: top;\n",
       "    }\n",
       "\n",
       "    .dataframe thead th {\n",
       "        text-align: right;\n",
       "    }\n",
       "</style>\n",
       "<table border=\"1\" class=\"dataframe\">\n",
       "  <thead>\n",
       "    <tr style=\"text-align: right;\">\n",
       "      <th></th>\n",
       "      <th>Comment</th>\n",
       "      <th>Tag</th>\n",
       "    </tr>\n",
       "  </thead>\n",
       "  <tbody>\n",
       "    <tr>\n",
       "      <th>0</th>\n",
       "      <td>chẳng ai muốn nhưng vì họ chỉ muốn đỡ , đá quả...</td>\n",
       "      <td>5</td>\n",
       "    </tr>\n",
       "    <tr>\n",
       "      <th>1</th>\n",
       "      <td>Người đau buồn nhất vẫn chính là đồng đội,đội ...</td>\n",
       "      <td>5</td>\n",
       "    </tr>\n",
       "    <tr>\n",
       "      <th>2</th>\n",
       "      <td>Nghề đá bóng thật là nguy hiểm \\nVì một trái b...</td>\n",
       "      <td>5</td>\n",
       "    </tr>\n",
       "    <tr>\n",
       "      <th>3</th>\n",
       "      <td>Đừng cho bố mẹ các cậu coi cái này nếu ko muốn...</td>\n",
       "      <td>1</td>\n",
       "    </tr>\n",
       "    <tr>\n",
       "      <th>4</th>\n",
       "      <td>3:50 chắc cậu ta vô tình nhưng rất hối hận lắm</td>\n",
       "      <td>5</td>\n",
       "    </tr>\n",
       "    <tr>\n",
       "      <th>...</th>\n",
       "      <td>...</td>\n",
       "      <td>...</td>\n",
       "    </tr>\n",
       "    <tr>\n",
       "      <th>96</th>\n",
       "      <td>Nhớ gấu Brown😢</td>\n",
       "      <td>5</td>\n",
       "    </tr>\n",
       "    <tr>\n",
       "      <th>97</th>\n",
       "      <td>beat giống Ngày Mai Em ĐI quá huhuu</td>\n",
       "      <td>6</td>\n",
       "    </tr>\n",
       "    <tr>\n",
       "      <th>98</th>\n",
       "      <td>Nhiều bạn vô duyên vãi ấy, thích BAT thì searc...</td>\n",
       "      <td>4</td>\n",
       "    </tr>\n",
       "    <tr>\n",
       "      <th>99</th>\n",
       "      <td>Đang ăn sáng quán bên cạnh mở lên mạng tìm lời...</td>\n",
       "      <td>4</td>\n",
       "    </tr>\n",
       "    <tr>\n",
       "      <th>100</th>\n",
       "      <td>Tháng 9/ 2020 Aj còn aj</td>\n",
       "      <td>4</td>\n",
       "    </tr>\n",
       "  </tbody>\n",
       "</table>\n",
       "<p>303 rows × 2 columns</p>\n",
       "</div>"
      ],
      "text/plain": [
       "                                               Comment  Tag\n",
       "0    chẳng ai muốn nhưng vì họ chỉ muốn đỡ , đá quả...    5\n",
       "1    Người đau buồn nhất vẫn chính là đồng đội,đội ...    5\n",
       "2    Nghề đá bóng thật là nguy hiểm \\nVì một trái b...    5\n",
       "3    Đừng cho bố mẹ các cậu coi cái này nếu ko muốn...    1\n",
       "4       3:50 chắc cậu ta vô tình nhưng rất hối hận lắm    5\n",
       "..                                                 ...  ...\n",
       "96                                      Nhớ gấu Brown😢    5\n",
       "97                 beat giống Ngày Mai Em ĐI quá huhuu    6\n",
       "98   Nhiều bạn vô duyên vãi ấy, thích BAT thì searc...    4\n",
       "99   Đang ăn sáng quán bên cạnh mở lên mạng tìm lời...    4\n",
       "100                            Tháng 9/ 2020 Aj còn aj    4\n",
       "\n",
       "[303 rows x 2 columns]"
      ]
     },
     "execution_count": 13,
     "metadata": {},
     "output_type": "execute_result"
    }
   ],
   "source": [
    "from sklearn.preprocessing import LabelEncoder\n",
    "le = LabelEncoder()\n",
    "df['Tag'] = le.fit_transform(df['Tag'])\n",
    "df"
   ]
  },
  {
   "cell_type": "code",
   "execution_count": 14,
   "metadata": {},
   "outputs": [
    {
     "name": "stdout",
     "output_type": "stream",
     "text": [
      "['chẳng ai muốn nhưng vì họ chỉ muốn đỡ , đá quả bóng mà vô_tình làm chết cầu_thủ của đội bạn , họ ko có lỗi nhưng số_phận nv rồi xin chia buồn cùng tất_cả', 'Người đau_buồn nhất vẫn chính là đồng_đội , đội bóng và gia_đình , người đã nuôi họ lớn và kề vai sát_cánh cùng họ , xin chia buồn cho các đội bóng xấu_số', 'Nghề đá bóng thật là nguy_hiểm Vì một trái bóng , vì một chiến_thắng mà người_ta đã phải hy_sinh tính_mạng của mình Chia buồn với gia_đình các cầu_thủ và đội bóng nhé', 'Đừng cho bố_mẹ các cậu coi cái này nếu ko muốn bỏ niềm đam_mê bóng_đá của mình 😢 😢', '3 : 50 chắc cậu ta vô_tình nhưng rất hối_hận lắm', 'tội nhất ông cuối ổng cười xong là ngã xuống luôn : (', 'Thật xót_xa cho các anh , ko nói gì đươc nữa', 'Cái chết đau_lòng nhất_là khi vừa ăn_mừng xong đã phải khóc : ( (', 'được cống_hiến vì đội nhà , chết bởi_vì đam_mê cũng mãng nguyện , những đồng_đội những fan hâm_mộ sẽ mãi giữ hình_bóng của các anh , các anh hãy yên_nghỉ nhé', 'Xin chia buồn cùng gia_đình các cầu_thủ Thiên_Chúa sẽ an_ủi anh , anh sẽ được hưởng Vinh_Quang trên Thiên_Quốc nước trời', 'Tôi đã khóc khi xem clip này 😢 tội_nghiệp cho mấy anh 😭', 'cảm_ơn các anh đã hết_mình cống_hiến cho bong đá . . , mong các anh đc an_nghỉ thảnh thản thế_giới bên kia . . các anh sống mãi trong tim mọi người', 'cái nhạc và pha đầu_tiên làm tim tui yếu dần đi', 'Thật tội cho họ , vì một quả bóng mà phải MẤT_MẠNG ! Xin chia buồn cùng tất_cả các cầu_thủ ... : ( (', 'Vì 1 Qủa bóng Duy_nhất đổi 1 MẠNG người', 'Pha đầu va_chạm quá mạnh , đập đầu vào tường , chấn_thương sọ não , mất ! Tiếc và buồn quá ( nhất là nhạc ) bức lòng luôn 😭 😭 😭 😭 😭 😭 😭 😭', '😢 😢', 'Tôi thật buồn cho những người có đam_mê bóng_đá qua_đời : (', 'Năm 2020 ai còn xem k , phút thứ 6 : 49 a ý ăn_mừng vì đá thủng lứoi đội bạn lộn mấy vòng ăn_mừng hình_như ngã gãy cổ mất luôn thương : ( ( (', 'Cái huyền_thoại trong làng bóng_đá ! ! Chúng_ta vẫn còn đó là những huyền_thoại đó Mãi_thi sâu những công_ơn các anh đã hy_sinh 😢 😢 Các anh vẫn nầm trong tim người hâm_mộ', 'Dù có mất nhưng trên sân tôi cx ấm lòng', 'tất_cả chỉ vì đam_mê , cống_hiến', 'các anh theo nghề , sống vì nghề , hy_sinh vì trái bóng . dù ko phải fan bóng_đá đi chăn nữa thì cũng rất là thương các anh . bóng_đá là vậy , ko lường trước được gì', 'Đây ko phải là cái chết mà là một sự hi_sinh anh_dũng Họ đã hi_sinh ko vì trái bóng mà vì tương_lai một nền bóng_đá mạnh hơn cho nước_nhà', 'đã buồn rồi nghe thêm quả nhạc nền vào chỉ muốn tự_tử', 'Sinh nghề_tử nghiệp nếu dc dốc hết_sức cho điều mơ_ước tôi nguyện trả mạng sống', 'Tội_nghiệp quá , đâu có cố_ý', 'tôi đã khóc khi xem clip này mong các anh đc an_nghỉ', 'T. T_tội_nghiệp mấy chú đó T. T', 'Ôi ! 11 : 55 vẫn còn đang cười mà ? ? Why ? ? số cả rồi ! MONG KIẾP SAU SỐNG TỐT !', 'R. i . p các cầu_thủ 😢 chúc cho kiếp sau làm cầu_thủ mang Vinh_Quang về cho nước', 'Coi khóc lun Mà chỉ là sự_cố thôi . ngta k cố_ý 😭', 'Đấy là lí_do sau_này không còn thấy mấy tấm biển xung_quanh sân thay vào đó là bảng điện_tử', '. Xem anh cuối_cùng , muốn khóc', 'Tôi có_thể ước_mơ sao này thành cầu_thủ bóng đa khi xem xong clip này thì tôi đã có sự thay_đổi lớn nhất trong cuộc_đời , một ước_mơ môt kỳ_vọng ma tôi phải tư bỏ . Cảm_ơn ad đã gửi tới tôi một kinh_nghiệp cảm_ơn', 'Hết muốn ra sân bóng nữa huhu', 'Xem_lại khúc 8 : 08 mọi người sẽ thấy phần thái_dương của ổng bị đập mạnh dẫn đến chết', 'Nghề nào cũng có cái nguy_hiểm riêng của nó ko ít cũng nhiều người đã phải bỏ_mạng vì công_việc mà họ gọi đó là đam_mê', 'Chúc 15 anh này và sala an_nghỉ bình_yên cần chúa ban phúc lành cho các anh', 'hãy yên_nghỉ hỡi những cầu_thủ đáng thương', 'Này thì santo ăn_mừng kiểu bt ko dc hay sao ák chết ngu . Mà công_nhận các anh qua_đời chưa ai quá 30 tuổi hết , tiếc những nhân_tài', 'Tội ôg Morosini cố chạy vì đội bóng r gục luôn', 'mong mọi người sẽ siêu_thoát ... ... ... ... .', 'chắc bị đau tim thay_vì đó nhưng họ vẫn cố đá để đem vinh_quang về cho đất_nước', 'Coi mà cạn nước_mắt , quá_đỗi mat mac và đau_thương', 'Vì 1 trò_chơi mà đã giết chết 1 mạng người sao . 🙏 🙏 🙏 cầu_mong những trận đá bóng ko còn như_vậy nữa . 😐 😐', '😢 😢 😢 😢', 'mog cac anh hay yen ngj', 'ú nghĩa lắm', 'Sợ nhất mấy pha đánh_đầu , nguy_hiểm_vđ', 'Chỉ vì đam_mê mà phải Hi_sinh . Thảm_thương qúa 😔 😔 😔', 'xem mà muốn khóc vì chiến_thắng có_thể làm thế_sao', 'Đang buồn . Coi rớt nước_mắt nhiều quá', 'Fd', 'Cái chết thứ 1 buồn nhất đập đầu vào tường 😢 😢 😢', 'huhu toi da khoc cac anh ay da congbhien nhieu cho mn the_thao vua ma', 'hoạt_động quá giới_hạn dễ đột_quỵ lắm .', '7 : 10__ cái chết ngu_ngốc và đầy lãng xẹt ... .', 'tội_nghiệp anh đầu_tiên ... .', 'đau_lòng quá . những cầu_thủ gây nên cái chết cho đồng_nghiệp chắc ray rức suốt đời', 'Coi của Feher mà muốn khóc . . còn cười mà ... .', '😢 cho người_ta yen tinh ở ... .', 'Đúng là những cầu_thủ hi_sinh vì đội bóng xinh chia buồn', 'Nghe cái nhạc tui sắp chết rồi', 'tội cho những cầu_thủ', 'Xúc_động quá', 'Khổ_thân quá', 'Rơi nước_mắt', 'Đá bóng sau chết dữ v', 'WTF đang xem cái muốn bỏ đá banh luôn', 'Buồnnn', 'Vì những thứ vô_tri mà đổi 1 mạng sống Thắng thua người_ta nhớ bạn chỉ 1 thời_gian còn cuộc_đời người nhà bạn nhớ mãi Hãy bình_tĩnh đá banh không phải chiến_trường không cần_thiết để mạng sống mình hay người khác bị nguy_hiểm', '12 : 18 tội_nghiệp ông trọng_tài , chắc ổng ân_hận về cái thẻ_vàng của mình lắm', '😭 😭 😭 😢 😢 😭', 'Thu mon , hau ve , tien ve , tien dao co du , 15 nguoi thanh lap doi bong ok luon', 'Pha đầu_tiên bị mất chân trụ ngã gập gáy sợ thât', 'Nhìn cái này mà nhớ đến quang brave', 'Xem xong chẳng muốn ra sân_cỏ đá luôn', '8 : 12 tôi biết sao ông đó chết', 'Mặt_trái của sự_thật', 'a_di_da phat ! cau cho linh hon cac anh duoc an nghi coi vinh hang', 'T bị 1 lần lc đá bóng có thg kia nó tay nó dọng vào ngực t ko thở đk tầm vài giây xg ms trở_lại bthw . T cứ tưởng lc đó toang r 🙂', 'đề_nghị mọi ngừoi k nên ăn_mừng theo kiểu nằm đè lên nhau', 'Mong họ siêu_thoát', 'Anh áo vàng peter biaksangzuala ... ... ... ... Vãi', 'Xem mà mún khóc nhưng ko thể khóc', 'Cầu_thủ Hocine Gacemi đáng thương quá 😢 😢 😢 😢 nằm chết ngay đó mà ko ai quan_tâm chỉ quan_tâm người bị đau chân 😢 😢 😢', 'anh đầu_tiên đau_đớn quá đâm_đầu vào tường tôi thấy xót cho họ', 'Chia buồn cho gia_đình của các anh .', 'a_di_đà phật , xin chia buồn cùng các cầu_thủ', 'Tội họ quá vì muôn cho tổ_quốc mà giờ thì họ không còn nữa', 'Má buồn vãi', 'Tội_nghiệp quá', '7 : 01 chết ngu', 'Nghề nào Cũng rủi_ro . số_phận 😨', 'CUỘC_SỐNG MÀ KHÔNG CÓ BÓNG_ĐÁ THÌ SẼ TƯƠI ĐẸP BIẾT_BAO !', 'vẫn có người chưa chết', 'mà họ cũng đâu có muốn như_vậy vì muốn trái bóng muốn lot vào gôn nên phải hi_sinh tính_mạng sin chia buồn cùng tất_cả đồng_đội', 'Vì 1 chữ tiền mà thôi .', 'Tội họ wa', 'so qua di', 'Mọi người học nhanh học lẹ Vũ_Điệu Đuổi Bướm trên TikTok nha : https://vt.tiktok.com/ZSoNe2ug/ Mong cả nhà ủng_hộ tinh_thần cho ekip thực_hiện M / V comeback của Phí Phương_Anh bằng cách click Like , Subscribe kênh và để lại Comment góp_ý cho cả ekip thực_hiện M / V nhé !', 'bà chị ở giây thứ 20 nhảy lỗi nhé', 'mình quyết_định chọn bài này để đi hát với công_ty . thế_thì mọi người sẽ nghĩ do bài hát dở chứ không phải mình hát dở 🙄 🙄 🙄', 'Có ai từ MV Răng_khôn qua đây không ?', 'Nổi lầu gồm thịt : KPop , rau : Vpop , đồ ăn kèm : UK USA , nước lẩu : Cpop , tô lẩu : Jpop . 😌 Tô lẩu xuyên quốc_gia từ Châu Á sang Châu_Âu , Bắc xuống Nam , ăn đi còn đạo luôn cả Stella của toy : )', 'cánh bươm dối gian nồi thập_cẩm kpop', 'Trong khi các ca_sĩ khác đang cố_gắng để mang âm_nhạc VN ra thế_giới thì c lại lm mất đi cái giá_trị của âm_nhạc VN. . . đừng ra MV nữa c nhé', 'Mr butterfly : một_cách nói đỡ thô hơn của \" thằng l * n \" : ) ) ) - The_Reviewer', 'Tóm lại ý của chị là : “ Người mà hở chút nói đạo_lí thường là người sống như l * n ” hả 😌', 'Từ \" Răng_Khôn \" qua đêy : ) )', 'Người đầu_tiên là ra món thập_cẩm kpop 😌', 'Nhạc nghe cứ tưởng Momoland 😳 Cảm_nhận vậy thôi anh_em đừng ném đá nha .', 'Tao đang tìm câu hát \" sáng sớm lung_linh hương_hoa vàng , mình xin_lỗi mình xin_lỗi được chưa \" tự_nhiên ra bài naiiii : ( (', 'Thì thường là người sống như loài bươm_bướm Bướm ơi bướm ơi xin đừng hát Bướm ơi bướm ơi xin đừng rống Rống rống chỉ khiến em đau_đầu', '00 : 20', 'Tui : Nghe xog bài này Bà_cô GDCD : Nhột nhẹ', 'Chào_mừng chị gia_nhập vào làng nhạc chế ❤ ️', '2 : 43 \" BlackPink Vietnam \" Mode = ) ) )', 'Vietsub cho ai chưa hiểu : - Cánh bướm dối gian -> Xạo lol - Sống như loài bươm_bướm -> Sống như lol = ) ) ) )', 'dù có_thể là một bài diss VR nhưng như mọi người thấy thì Taeyang không bị cắm_sừng 🤷 \\u200d ♂ ️', 'Sống như bím vậy thì chỉ có Phí_phạm cuộc_sống thôi ... hí hí hí', 'Phạm_Hương \" Chỉ có hoa_hậu mới tạo nên hoa_hậu \" = > chỉ có ca_sĩ mới tạo ra ca_sĩ , chị HNH giỏi quá', 'bài hát này là cả nồi thập_cẩm kpop , nếu bạn là blink thì hãy mở ở 2 : 50 để nghe how you like that của black pnk', 'Từ buổi stream của ông Độ : ) )', 'Giọng Ca khiến đối_phương khi nghe thấy , sẽ bị ỉa chạy đến cạn_kiệt_sức_lực , thật kinh_hồn .', 'Chị Phí Phương_Anh đang solo Dislike vs K - ICM sao ạ ? 😐', 'Một bầu_trời K - pop \" thu nhỏ \" lại là MV này : )', 'cách bướm dối gian + nồi thập_cẩm MV k - pop', 'Từ The_Review qua', 'Mặc_dù mv không hay nhưng mà sự màu_mè của mv tiếp thêm động_lực sống cho em Cảm_ơn chị = ) )', 'Sống như loài bươm_bướm = ) ) )', 'có sẵn cả một nồi kpop trong này lun Ai thích nghe tất_cả các bài kpop siu hay thì cứ đến đây xem một cái nha', 'Cả thế_giới K - pop bỗng_chốc thu nhỏ lại vừa đúng bằng một video của chị Phí Phương_Anh ... : ]', 'Nhạc hay đến_nỗi dislike nhiều hơn cả like là chị xuất_sắc rồi đó , fan K - pop vs US - UK bao năm nay lần đầu thấy 1 bài bao_gồm tất_cả như thế , bái_phục 😐', '2 : 45 Nói ng ta cánh bướm gian_dối xong mặc đồ con bươm_bướm : ) ) ) ) )', \"Chắc là không parody lại dc : ' (\", 'Chúng_ta nên khỏi đầu từ từ , nếu muốn tạo 1 siêu phẩm chúng_ta cần nhiều thời_gian , tâm_huyết và chúc bạn MV sau sẽ thành_công hơn . Tôi mông sai_lầm sẽ không nối_tiếp bằng sai_lầm lớn hơn .', 'Tránh xa tránh xa tai em 1 chút . Nói nữa chỉ khiến em đau_đầu ! . Baby let me go 😧', '2 : 45 động_tác y chang don ’ t know what to do luôn , dell tin nổi : ) ) ) )', 'Một ngày nào đó bạn sẽ giật được nút Đồng từ UTube vì có số_lượng MV bị dlike nhiều nhất', 'Thằng bạn tao bị liệt 8 năm lần đầu phải đứng dậy bật bài khác , Xin Cảm_Ơn !', 'Cánh bướm gian_dối cánh bướm = l ồ z gian_dối = xạo Nói ít thô là j mn nhỉ', '\" Vui_lòng không reupload video của PHÍ PHƯƠNG ANH Official \" À vâng : ) )', 'Phí Phương_Anh là sinh_viên ngành Marketing của học_viện công_nghệ bưu_chính viễn_thông', 'M. n zô coi MV mới của chj Phí rửa tai chút nhe !', 'Nhạc c * gì đây ? *', 'Bài này nên đổi tên là Bài Hát Dối_Gian đi : ) )', 'From D18 PTIT with luv < 3', '2 : 21 khạc 😆', 'nồi lẩu thập_cẩm 😌 à , hình_như đây là thế_giới K - pop thu nhỏ đúng ko 😒 🙄', 'Số người chỉ xem vì tò_mò 👍 🏻 👋 🏻 👋 🏻', 'ok MOMOLAND Fans its about 500k plus BP fans its about 50M , ... GOOD LUCK TO YOU ! ! ☺ ️ ☺ ️', 'cái đoạn đạo_lí nhưng sống như loài bưm bứm ý t cứ nghe nhầm hành downy e sống như lời sương sớm . . . = ) ) )', 'xem MV xong muốn sang_chấn', 'Vào xem chỉ để đọc cmt cười ỉa ; ) )', 'Ca_sĩ đầu_tiên của Việt_Nam hợp_tác với BLACKPINK , Momoland , Itzy , T - ara , Loona , Minho , Zico , Twice : ) ) Cả kpop thu nhỏ lại chỉ bằng 1 Mv', '1 : 17 không hề giả chân !', 'Đọan đầu có vẻ chấp_nhận đc đến điệp_khúc thì ... . Còn đọan gần cuối nữa ... ... . Ko tiêu_hóa_nổi', 'Trước_khumm để_ý bà chị này đâuuu . Nhưng đang nghiền Răng_Khôn nên lội ngược xem nàoo', '00 : 20', '“ Cả kpop bỗng_chốc thu bé lại vừa bằng 1 MV ”', 'Como llegue aquí por la pta madre ? : v xD', 'Có đoạn giống bài : Roly - Poly của T - ARA cái đoạn : tránh xa tránh xa em một_chút . đây là cảm_nhận cá_nhân đừng ném bê_tông vào nhà tui nhé', 'ôi trời bài hát có đủ các vị của k - pop luôn', 'MV : khiến tôi trầm kảm nặng trong thời_gian dài', \"0 : 20 Bboom_Bboom ( Momoland ) 2 : 45 Don ' t know what to do ( Blackpink ) , Call call call ( Seventeen ) 2 : 48 How u like that ( Blackpink ) Méo tin đc lun í : ) ) )\", 'Vâng_em đã mang bài này của chị bật lên cho trường em nhảy random dance nhưng mọi người đều bảo : \" M bật cái này lên tra_tấn lỗ tai t à \" Và tụi nó nói quá chuẩn', 'Hay quá . Mong chị ra nhiều MV hơn nữa để chị hết tiền ... kkk', \"Ko biết ai giống mình ko ( chê nhưng lặp_đi lặp lại 1 đoạn nào trong bài này ' - ' )\", 'thấy nghe nhiều đây là lẩu thập_cẩm kpop nên tui mới tò_mò vào xem', 'Do các bạn không biết thưởng_thức nhạc của chị ấy thôi , các bạn sẽ thấy bài hát hay hơn nếu biết chỉnh âm_lượng về mức 0', '1 : 26 phiêu nhở anh ae 😁 !', 'T vừa nghe xong cái gì thế này 😢 😢', '00 : 29', 'thật buồn cho chị Hậu_Hoàng vì đã bị 1 người cướp đi danh_hiệu BÀ HOÀNG NHẠC CHẾ : ( ( (', '𝘿𝙄𝙎𝙇𝙄𝙆𝙀 nhieu gherrrr', 'hey em luôn là một fan của k - pop mà em chưa bao_giờ thấy ai đi làm MV giống chị cả mà em chỉ nghe nhạc chế thôi 😑 😑 😑', 'T vừa nghe cái j dị tụi bây = . = Đơ 5s hổg hỉu sao mìg lại để lãng_phí 2f trog cuộc_đời của mìh để nghe cái quái j ko biết 😆 😆 😆 cũg bởi_vì fb dắt t đến đây = ) )', 'Biết là đạo nhạc nhưng mình vẫn thích vì bài hát nêu lên có những người hay nói đạo_lý thường sống như ... . sẽ có rất nhiều người ghét bài này vì nó làm cho nhột 🤣 🤣 🤣', 'hóng cris reaction mv này : ) )', '0 : 20 : Bboom_Bboom ( Momoland ) 0 : 51 : Icy ( Itzy ) 1 : 13 : Roly_Poly ( T - ara ) 1 : 28 : Đoạn rap Bboom_Bboom', 'Có ai như t không , vừa thần_tượng cặp Mariah_Carey - Whitney_Houseton , vừa thích cặp Chi_Pu - Phí Phương_Anh không : D.', '00 : 20', 'Một trò kiếm tiền ko bao_giờ mất hiệu_quả . Làm mấy video ba lăng_nhăng tạo hiệu_ứng dư_luận và cuối_cùng ăn_tiền quảng_cáo . Mình cũng muốn kiếm tiền kiểu vậy_mà éo có ekip nào hợp_tác hụhuj : < < < <', '00 : 20', 'Từ khi nghe nhạc của Phí Phương_Anh mình rất ủng_hộ Chipu ra thêm bài mới', '00 : 20', 'chị ơi khi chị làm lyrics chị quên chia động từ à : ) ) )', 'trình_độ tiếng anh cao ghê đến bọn tiểu_học còn biết chia động từ nha chị bủh bủh lmao', 'Tao nghe bài nào cx thấy hay riêng bày này thì cho C. h . o . s nghe : ) ) )', '“ Sự cẩu_thả trong bất_cứ nghề gì cũng là một sự bất_lương ” - Nhà_văn Nam_Cao', 'Úi tr ơi cái anh áo màu đỏ trong tỏ_tình hoàn_mỹ . Đụ má shock vl 😱 😱 😱 😱', 'Nồi thập_cẩm : ) )', 'Doc comment mới thấy lời bài hát chuẩn từng câu từng chữ , có quá nhiều đạo_lý trong phần bình_luận : )', 'T_thấy hậu hoàng t_click', '0 : 20 : Bboom_Bboom ( Momoland ) 0 : 51 : Icy ( Itzy ) 1 : 13 : Roly_Poly ( T - ara )', '* mama told me chị nhé = ) ) ) ) ) ) sai ngữ_pháp cơ_bản = ) ) )', 'Một nồi cháo thập_cẩm : * ( (', 'Qua bài hát này có_thể khẳng_định Hồ_Ngọc_Hà CHỈ dạy cho Phí Phương_Anh về nghề mẫu = ) ) )', 'Nghe xong bài này qua How you like that nghe lại bản_gốc', 'Cả làng Kpop chỉ hội_tụ lại 1 MV : ) )', '5OOK views release beat thì sao các bạn ơiiii', 'hóng MV quá', 'Có ai từ rap việt thành fan R. TEE k ạ : 3', 'Rapp hay á : ) )', '2020 < 33', 'Mình biết R._Tee từ RAP VIET 🙆 \\u200d ♂ ️ rap hay quá', 'Nghe lâu rồi mà mới để_ý bài này có Rtee', 'Những bản phối lại rất hay , đoạn dạo_đầu đã thấy cuốn_hút rồi , bài hát tuy cũ nhưng ko cũ . Rất cuốn_hút và bắt tai', 'From rap việt with love < 3', 'Thấy nhiều người nhận_xét chuyên_nghiệp quá : V chắc toàn các nghệ_sĩ giả_danh dân_thường quá : ) ) còn mình thì thấy bài này từ giọng Juun , Rtee cho đến Beat đều hay : ) ) dưới cái nhìn của 1 người bình_thường nghe nhạc 🙃 🙃', 'Giai_điệu bài này làm mình nhớ tới nhạc Việt cỡ 5 10 năm trước . Kiểu nó trong_sáng và dạt_dào tình_cảm', \"This is one underrated cover of this song : ' (\", 'Có ai từ live của NVL có Hoa_Vinh hát r bay qua đay khong mn', 'Cứ thích giọng hát của juun sao í , ko cần quá cao cũng ko quá thấp , kiểu nhẹ_nhàng', 'Khi cô_đơn e chỉ nhớ đến người mà e đã từng yêu , em chẳng thèm để_ý ts người luôn bên e : ( (', 'ủa ca_sĩ underground sao nhiều người đẹp_trai vậy ; ) ) )', 'Đoạn rap max Phê R Tee ơi . Rất thích rap nhẹ_nhàng sâu_lắng mà vẫn chất . Yêu lời rap quá đi mất !', 'Crush cực thích bài này luônnn mà mình cũng thích nữa', 'Mọi người hãy nghe cả Let me go ( Han_Sara ) để nghe R. Tee rap đi ạ , hay dã_man . Còn bài hát này thì quá đỉnh với mình rồi , nghe đi nghe lại vẫn cứ thấy hay vô_cùng', '03 - 01 - 2020 ❤', 'from rap Viet with love', 'Mình fan ĐT nhưng thấy bạn juun hát bài nay hay đấy chứ ! Một màu_sắc mới dù cover lại 😆', 'fan của anh Anh Bo Đang Trường từ lúc a hát bài này . Giờ nghe lại ôi bh kỉ_niệm', 'Iêm từ Rap Việ bay sang đây ạ ! ! ! ! ! !', 'team thích nhạc_nhẹ 😶', 'bay từ rap việt qua vs anh rtee < 3', 'Thất_tình bị crush từ_chối nghe muốn khóc quá : (', 'Năm 2020 vẫn nghe bài này 😁 😁 😁', 'cực_kì thích bài cover này . chữ \" Nhớ \" sao dễ_thương thế : * : *', 'Hơn 5 năm nghe bài này nhớ lại một thời ... .', 'S những bài hát hay thế này giờ tôi mới tìm ra nhỉ : ( (', 'Giá_như thời_gian quay trở_lại lúc bài này mới ra thì sẽ ko mất đi nhiều thứ lúc biết chân trọng cái gì đó hay điều gì đó thì hơn 3 chục tuổi rồi', 'Ai còn nghe bài này cho một like 😍', 'Nghe bài này tự_dưng tui lại nhớ tới bài \" Tình thôi xót_xa \" . Ôi nhớ lại list nhạc của 9x ngày_xưa', 'Thế bao_giờ có MV vậy ạ ? 500k views X10 hả Channel 😭 😭 😭 😭 😭', 'Giọng của anh này ấm và ngọt quá ! !', 'Hải_Đăng_Doo đã đưa iem tới đây < 3', '2020 vẫn đang nghe', 'Có ai nhớ đến Đan Trường ko ? ? ?', 'Hơn 500k views X 10 r mà ad vẫn chưa tung cmn beat lên : v : v', 'Sắp 2020 rồi ai còn nghe không ta ^ ^ ai còn like cho tuii biết nha < 3', 'Hóng chị_em từ RV qua : ( (', 'Rap việt qua đây ...', 'RTee 🥰 🥰 từ Rap_Việt', 'Crush mình mới hát bài này cho mình nghe ỏ thích hết_sức : ) ) ) )', 'Dattka dắt mình qua đây và từ đó nghe mãi bài này 😗', 'Mãi_mãi ủng_hộ Rtee nhé 💕 🍀', 'Mỗi lần nghe bài này lại nhớ đến ng crush Trung_Quốc cũ của mình trc đây . Lần cuối gặp anh trc khi anh về TQ , anh bảo rằng đây là lần cuối chúng_ta gặp rồi đấy , em có muốn nói gì với anh không , nhưng đến 1 câu ra_hồn mình cũng chẳng đáp được . Nhanh thật , đã 2 năm rồi . Bây_giờ không biết anh sống như thế_nào nhỉ .', '01 : 42', 'cảm_ơn anh đã cho em biết cảm_giác thích một người là như thế_nào ... HL', '02 / 11 ai còn nghe không ?', 'đoạn rap chất quá , hay hơn cả nhạc Tàu : D 20 / 02 / 2020', 'Rap của rtee khá là tự_nhiên , giọng ấm . Hay ! !', 'Khi cô_đơn em nhớ ai ? ? 😘 😘', 'chắc không phải là tôi !', 'Thích giọng a dũng từ khi a hát \" không vì em nữa \" . Và đến bây_giờ vẫn thích nghe giọng hát này', 'Nghe bao_nhiêu năm rồi . Bản phối này ưng quá : ) )', 'Em rất thích bài này sau khi anh chia_sẻ đó < 3', '2020 ai con nghe ko', '04 : 41 Tao đang buồn đấy . ⛺', 'Ai đã từng nghe đan trừng hát điểm_danh', 'hi xin chào mng : ) )', 'Đi ăn với 1 anh đó , quán mở bài này và nhớ mãi luôn , ngày nào cũng nghe .', 'Nhớ emmmm ❤', 'Thanh_xuân của tôi ❤ ️', 'Lời bài hát cưng quá à', 'Rap hay beat tốt , hát chính khá , bản phối lại nghe được', 'Lúc_nào cũng yêu Juun . 1 sáng mùa đông nghe phê giã_man', 'Từ Phi_Thường Hoàn_Mỹ tập Thiên_An - Hạ_Anh đến đây 😊', 'Bài này anh juun đăng dũng đăng bản acoustic hát 1 mình được không em thấy anh nhấn_nhá hay quá : ( ( ( (', '1 : 29 chữ nhớ hơi lạ ha anh', 'Cho em xin beat tone nữ đi ạ 🥺', 'Hay 😍 😍 😍', 'Anh Bo đưa tôi tới đây', '21 / 08 / 2020 😍', 'Này em , dừng lại một_chút nào Thời_gian đâu vô_tâm không để mình đợi nhau phút nào Cốc cà_phê còn để đắng và ngọt dần tan Mùa thu còn dư êm_ấm sao phải mong đông dần sang', 'Khi cô_đơn e nhớ ... anh', 'Nhớ crush ghiaaaa', '1.25 nghe cực hay ❤ ️ có màu_sắc vui_tươi chứ ko buồn như bản chậm . Đoạn rap nghe bắt tai quá . Like mạnh : ) )', 'vãi giờ nó mới đề suất : D', 'ko có mấy ông đến từ Rap Việt à : >', 'hay vcl : ( ( giờ mới bít', '13 / 11 / 2020 = ) )', 'Fan a Dũn hehe . Giọng hay quá', 'Theo cảm_nhận của em thì bài này rất hay !', 'Lã Thành Long < 3', 'Ai còn nghe ko 29 / 4 / 2020', 'Nhớ anh ❤ . Hi_vọng anh đọc được . Ahihi', 'Sao ko tải được nhỉ , ko có ở zing mp3 luôn 😂', 'hay aaaaaaa : 3', 'Đoạn rap hay thế', 'hát hay vl anh ơi', 'Xin lyrics : ) )', 'Ban o xa chi co vai hom o VN.', 'Ai từ bản trung đến đây', 'Kí_ức ùa về', 'Nhớ gấu Brown_😢', 'beat giống Ngày_Mai_Em ĐI quá huhuu', 'Nhiều bạn vô_duyên vãi ấy , thích BAT thì search BAT mà nghe , sao cứ phải nhất_định vào đây cmt là thích nghe BAT hát hơn . Mình cũng là fan BAT , nhưng ít_ra hãy tỏ ra lịch_sự , bài hát của ng này hát thì đừng vào bảo ng khác hát hay hơn , khó_chịu lắm ! Còn ai vào đây bảo thấy dở thì chê mình cũng nói luôn cái này không gọi là thẳng_tính , mà là vô_duyên nó nằm trong máu của bạn rồi , mở_miệng ra nói_chuyện chỉ thấy thum_thủm !', 'Đang ăn sáng quán bên cạnh mở lên mạng tìm lời . Nhớ về nó năm 2007', 'Tháng 9 / 2020 Aj còn aj']\n"
     ]
    }
   ],
   "source": [
    "from pyvi import ViTokenizer\n",
    "n=[]\n",
    "for i in df['Comment']:\n",
    "    n.append(ViTokenizer.tokenize(i))\n",
    "print(n)"
   ]
  },
  {
   "cell_type": "code",
   "execution_count": 16,
   "metadata": {},
   "outputs": [],
   "source": [
    "df['Comment'] = n"
   ]
  },
  {
   "cell_type": "code",
   "execution_count": 17,
   "metadata": {},
   "outputs": [
    {
     "name": "stdout",
     "output_type": "stream",
     "text": [
      "[[0 0 0 ... 0 0 0]\n",
      " [0 0 0 ... 0 0 0]\n",
      " [0 0 0 ... 0 0 0]\n",
      " ...\n",
      " [0 0 0 ... 0 0 0]\n",
      " [0 0 0 ... 0 0 0]\n",
      " [0 0 0 ... 0 0 0]]\n",
      "(303, 1148)\n"
     ]
    }
   ],
   "source": [
    "from sklearn.feature_extraction.text import CountVectorizer\n",
    "cv = CountVectorizer()\n",
    "features_cv = cv.fit_transform(df['Comment']).toarray()\n",
    "print(features_cv)\n",
    "print(features_cv.shape)"
   ]
  },
  {
   "cell_type": "code",
   "execution_count": 18,
   "metadata": {},
   "outputs": [],
   "source": [
    "y = df['Tag'].values"
   ]
  },
  {
   "cell_type": "code",
   "execution_count": 19,
   "metadata": {},
   "outputs": [],
   "source": [
    "from sklearn.model_selection import train_test_split\n",
    "X_train, X_test, y_train, y_test = train_test_split(features_cv, y, test_size=0.2)"
   ]
  },
  {
   "cell_type": "code",
   "execution_count": 20,
   "metadata": {},
   "outputs": [
    {
     "name": "stdout",
     "output_type": "stream",
     "text": [
      "              precision    recall  f1-score   support\n",
      "\n",
      "           0       0.00      0.00      0.00         3\n",
      "           1       0.50      0.33      0.40         9\n",
      "           2       0.40      0.71      0.51        14\n",
      "           3       0.50      0.14      0.22         7\n",
      "           4       0.50      0.31      0.38        13\n",
      "           5       0.42      0.73      0.53        11\n",
      "           6       0.00      0.00      0.00         4\n",
      "\n",
      "    accuracy                           0.43        61\n",
      "   macro avg       0.33      0.32      0.29        61\n",
      "weighted avg       0.41      0.43      0.38        61\n",
      "\n"
     ]
    },
    {
     "name": "stderr",
     "output_type": "stream",
     "text": [
      "/opt/anaconda3/lib/python3.8/site-packages/sklearn/metrics/_classification.py:1221: UndefinedMetricWarning: Precision and F-score are ill-defined and being set to 0.0 in labels with no predicted samples. Use `zero_division` parameter to control this behavior.\n",
      "  _warn_prf(average, modifier, msg_start, len(result))\n"
     ]
    }
   ],
   "source": [
    "from sklearn.linear_model import LogisticRegression  \n",
    "from sklearn.metrics import classification_report\n",
    "model_LR = LogisticRegression(max_iter=10000)\n",
    "model_LR = model_LR.fit(X_train,y_train)\n",
    "y_pred = model_LR.predict(X_test)\n",
    "print(classification_report(y_test,y_pred))"
   ]
  },
  {
   "cell_type": "code",
   "execution_count": null,
   "metadata": {},
   "outputs": [],
   "source": []
  }
 ],
 "metadata": {
  "kernelspec": {
   "display_name": "Python 3",
   "language": "python",
   "name": "python3"
  },
  "language_info": {
   "codemirror_mode": {
    "name": "ipython",
    "version": 3
   },
   "file_extension": ".py",
   "mimetype": "text/x-python",
   "name": "python",
   "nbconvert_exporter": "python",
   "pygments_lexer": "ipython3",
   "version": "3.8.3"
  }
 },
 "nbformat": 4,
 "nbformat_minor": 4
}
