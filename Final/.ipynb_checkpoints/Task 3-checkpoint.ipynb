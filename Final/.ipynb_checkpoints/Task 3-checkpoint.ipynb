{
 "cells": [
  {
   "cell_type": "code",
   "execution_count": 105,
   "metadata": {},
   "outputs": [],
   "source": [
    "import pandas as pd\n",
    "chipu = pd.read_excel('comments_chipu.xlsx',encoding='utf-8')\n",
    "fobtv = pd.read_excel('comments_fobtv.xlsx',encoding='utf-8')\n",
    "luadao = pd.read_excel('comments_luadao.xlsx',encoding='utf-8')\n"
   ]
  },
  {
   "cell_type": "code",
   "execution_count": 106,
   "metadata": {},
   "outputs": [
    {
     "data": {
      "text/html": [
       "<div>\n",
       "<style scoped>\n",
       "    .dataframe tbody tr th:only-of-type {\n",
       "        vertical-align: middle;\n",
       "    }\n",
       "\n",
       "    .dataframe tbody tr th {\n",
       "        vertical-align: top;\n",
       "    }\n",
       "\n",
       "    .dataframe thead th {\n",
       "        text-align: right;\n",
       "    }\n",
       "</style>\n",
       "<table border=\"1\" class=\"dataframe\">\n",
       "  <thead>\n",
       "    <tr style=\"text-align: right;\">\n",
       "      <th></th>\n",
       "      <th>Unnamed: 0</th>\n",
       "      <th>comment</th>\n",
       "      <th>tag</th>\n",
       "    </tr>\n",
       "  </thead>\n",
       "  <tbody>\n",
       "    <tr>\n",
       "      <th>0</th>\n",
       "      <td>0</td>\n",
       "      <td>2021 ai còn nghe ^_^</td>\n",
       "      <td>Enjoyment</td>\n",
       "    </tr>\n",
       "    <tr>\n",
       "      <th>1</th>\n",
       "      <td>1</td>\n",
       "      <td>Qua nghe Chi Pu thì thấy Chi Pu vẫn đỉnh hơn P...</td>\n",
       "      <td>Enjoyment</td>\n",
       "    </tr>\n",
       "    <tr>\n",
       "      <th>2</th>\n",
       "      <td>2</td>\n",
       "      <td>Có ai đến từ \"Cơm sườn\" Phí Phương Anh không :))</td>\n",
       "      <td>Enjoyment</td>\n",
       "    </tr>\n",
       "    <tr>\n",
       "      <th>3</th>\n",
       "      <td>3</td>\n",
       "      <td>bài này của  chị Chi Pu ra cũng lâu r, đã nghe...</td>\n",
       "      <td>Sadness</td>\n",
       "    </tr>\n",
       "    <tr>\n",
       "      <th>4</th>\n",
       "      <td>4</td>\n",
       "      <td>Người ta chỉ sợ công chúa khóc\\nKhông ai biết ...</td>\n",
       "      <td>Other</td>\n",
       "    </tr>\n",
       "    <tr>\n",
       "      <th>...</th>\n",
       "      <td>...</td>\n",
       "      <td>...</td>\n",
       "      <td>...</td>\n",
       "    </tr>\n",
       "    <tr>\n",
       "      <th>96</th>\n",
       "      <td>96</td>\n",
       "      <td>Sao có người lại nghĩ ra cái movie hay thế này...</td>\n",
       "      <td>Surprise</td>\n",
       "    </tr>\n",
       "    <tr>\n",
       "      <th>97</th>\n",
       "      <td>97</td>\n",
       "      <td>Cày liên tục, cày mòn mỏi mà mãi chưa lên được...</td>\n",
       "      <td>Enjoyment</td>\n",
       "    </tr>\n",
       "    <tr>\n",
       "      <th>98</th>\n",
       "      <td>98</td>\n",
       "      <td>Gil ơi ❤️</td>\n",
       "      <td>Enjoyment</td>\n",
       "    </tr>\n",
       "    <tr>\n",
       "      <th>99</th>\n",
       "      <td>99</td>\n",
       "      <td>Lấp lánh những ánh đèn đường hoà cùng tiếng mư...</td>\n",
       "      <td>Sadness</td>\n",
       "    </tr>\n",
       "    <tr>\n",
       "      <th>100</th>\n",
       "      <td>100</td>\n",
       "      <td>Lần đầu tiên trong đời mọi người thấy thương C...</td>\n",
       "      <td>Enjoyment</td>\n",
       "    </tr>\n",
       "  </tbody>\n",
       "</table>\n",
       "<p>101 rows × 3 columns</p>\n",
       "</div>"
      ],
      "text/plain": [
       "     Unnamed: 0                                            comment        tag\n",
       "0             0                               2021 ai còn nghe ^_^  Enjoyment\n",
       "1             1  Qua nghe Chi Pu thì thấy Chi Pu vẫn đỉnh hơn P...  Enjoyment\n",
       "2             2   Có ai đến từ \"Cơm sườn\" Phí Phương Anh không :))  Enjoyment\n",
       "3             3  bài này của  chị Chi Pu ra cũng lâu r, đã nghe...    Sadness\n",
       "4             4  Người ta chỉ sợ công chúa khóc\\nKhông ai biết ...      Other\n",
       "..          ...                                                ...        ...\n",
       "96           96  Sao có người lại nghĩ ra cái movie hay thế này...   Surprise\n",
       "97           97  Cày liên tục, cày mòn mỏi mà mãi chưa lên được...  Enjoyment\n",
       "98           98                                          Gil ơi ❤️  Enjoyment\n",
       "99           99  Lấp lánh những ánh đèn đường hoà cùng tiếng mư...    Sadness\n",
       "100         100  Lần đầu tiên trong đời mọi người thấy thương C...  Enjoyment\n",
       "\n",
       "[101 rows x 3 columns]"
      ]
     },
     "execution_count": 106,
     "metadata": {},
     "output_type": "execute_result"
    }
   ],
   "source": [
    "chipu"
   ]
  },
  {
   "cell_type": "code",
   "execution_count": 107,
   "metadata": {},
   "outputs": [
    {
     "data": {
      "text/html": [
       "<div>\n",
       "<style scoped>\n",
       "    .dataframe tbody tr th:only-of-type {\n",
       "        vertical-align: middle;\n",
       "    }\n",
       "\n",
       "    .dataframe tbody tr th {\n",
       "        vertical-align: top;\n",
       "    }\n",
       "\n",
       "    .dataframe thead th {\n",
       "        text-align: right;\n",
       "    }\n",
       "</style>\n",
       "<table border=\"1\" class=\"dataframe\">\n",
       "  <thead>\n",
       "    <tr style=\"text-align: right;\">\n",
       "      <th></th>\n",
       "      <th>Unnamed: 0</th>\n",
       "      <th>comment</th>\n",
       "      <th>tag</th>\n",
       "    </tr>\n",
       "  </thead>\n",
       "  <tbody>\n",
       "    <tr>\n",
       "      <th>0</th>\n",
       "      <td>0</td>\n",
       "      <td>Sợ ma thì có đó mà rất thích xem kiểu clip như...</td>\n",
       "      <td>Enjoyment</td>\n",
       "    </tr>\n",
       "    <tr>\n",
       "      <th>1</th>\n",
       "      <td>1</td>\n",
       "      <td>Có ai giống mình không, sợ ma mà vẫn thích xem</td>\n",
       "      <td>Fear</td>\n",
       "    </tr>\n",
       "    <tr>\n",
       "      <th>2</th>\n",
       "      <td>2</td>\n",
       "      <td>Hung thủ che gương bởi vì sợ sau khi giết linh...</td>\n",
       "      <td>Fear</td>\n",
       "    </tr>\n",
       "    <tr>\n",
       "      <th>3</th>\n",
       "      <td>3</td>\n",
       "      <td>Khung cảnh ở đó im lặng xong rùi nghe giọng tr...</td>\n",
       "      <td>Enjoyment</td>\n",
       "    </tr>\n",
       "    <tr>\n",
       "      <th>4</th>\n",
       "      <td>4</td>\n",
       "      <td>Nếu Video này Fob bị mất tâm lí nói ko chuẩn m...</td>\n",
       "      <td>Sadness</td>\n",
       "    </tr>\n",
       "    <tr>\n",
       "      <th>...</th>\n",
       "      <td>...</td>\n",
       "      <td>...</td>\n",
       "      <td>...</td>\n",
       "    </tr>\n",
       "    <tr>\n",
       "      <th>96</th>\n",
       "      <td>96</td>\n",
       "      <td>nghe a kể về cách hung thủ hành động thì e mới...</td>\n",
       "      <td>Sadness</td>\n",
       "    </tr>\n",
       "    <tr>\n",
       "      <th>97</th>\n",
       "      <td>97</td>\n",
       "      <td>Nghe xong sợ quá, hết dám tin người ngoài luôn :(</td>\n",
       "      <td>Sadness</td>\n",
       "    </tr>\n",
       "    <tr>\n",
       "      <th>98</th>\n",
       "      <td>98</td>\n",
       "      <td>eo ơi sợ mà cứ thích xem:)) xem xong hết ngủ l...</td>\n",
       "      <td>Sadness</td>\n",
       "    </tr>\n",
       "    <tr>\n",
       "      <th>99</th>\n",
       "      <td>99</td>\n",
       "      <td>Anh là người kể chuyện ma chân thật nhất em từ...</td>\n",
       "      <td>Enjoyment</td>\n",
       "    </tr>\n",
       "    <tr>\n",
       "      <th>100</th>\n",
       "      <td>100</td>\n",
       "      <td>Anh FOB ơi e thấy anh là người rất can đảm luô...</td>\n",
       "      <td>Enjoyment</td>\n",
       "    </tr>\n",
       "  </tbody>\n",
       "</table>\n",
       "<p>101 rows × 3 columns</p>\n",
       "</div>"
      ],
      "text/plain": [
       "     Unnamed: 0                                            comment        tag\n",
       "0             0  Sợ ma thì có đó mà rất thích xem kiểu clip như...  Enjoyment\n",
       "1             1     Có ai giống mình không, sợ ma mà vẫn thích xem       Fear\n",
       "2             2  Hung thủ che gương bởi vì sợ sau khi giết linh...       Fear\n",
       "3             3  Khung cảnh ở đó im lặng xong rùi nghe giọng tr...  Enjoyment\n",
       "4             4  Nếu Video này Fob bị mất tâm lí nói ko chuẩn m...    Sadness\n",
       "..          ...                                                ...        ...\n",
       "96           96  nghe a kể về cách hung thủ hành động thì e mới...    Sadness\n",
       "97           97  Nghe xong sợ quá, hết dám tin người ngoài luôn :(    Sadness\n",
       "98           98  eo ơi sợ mà cứ thích xem:)) xem xong hết ngủ l...    Sadness\n",
       "99           99  Anh là người kể chuyện ma chân thật nhất em từ...  Enjoyment\n",
       "100         100  Anh FOB ơi e thấy anh là người rất can đảm luô...  Enjoyment\n",
       "\n",
       "[101 rows x 3 columns]"
      ]
     },
     "execution_count": 107,
     "metadata": {},
     "output_type": "execute_result"
    }
   ],
   "source": [
    "fobtv"
   ]
  },
  {
   "cell_type": "code",
   "execution_count": 108,
   "metadata": {},
   "outputs": [
    {
     "data": {
      "text/html": [
       "<div>\n",
       "<style scoped>\n",
       "    .dataframe tbody tr th:only-of-type {\n",
       "        vertical-align: middle;\n",
       "    }\n",
       "\n",
       "    .dataframe tbody tr th {\n",
       "        vertical-align: top;\n",
       "    }\n",
       "\n",
       "    .dataframe thead th {\n",
       "        text-align: right;\n",
       "    }\n",
       "</style>\n",
       "<table border=\"1\" class=\"dataframe\">\n",
       "  <thead>\n",
       "    <tr style=\"text-align: right;\">\n",
       "      <th></th>\n",
       "      <th>Unnamed: 0</th>\n",
       "      <th>comment</th>\n",
       "      <th>tag</th>\n",
       "    </tr>\n",
       "  </thead>\n",
       "  <tbody>\n",
       "    <tr>\n",
       "      <th>0</th>\n",
       "      <td>0</td>\n",
       "      <td>Ai biết thằng này ( tức quá nên mình xin kêu l...</td>\n",
       "      <td>Anger</td>\n",
       "    </tr>\n",
       "    <tr>\n",
       "      <th>1</th>\n",
       "      <td>1</td>\n",
       "      <td>Mình đã bị nó lừa.. Thủ đoạn rất tinh vi mọi n...</td>\n",
       "      <td>Anger</td>\n",
       "    </tr>\n",
       "    <tr>\n",
       "      <th>2</th>\n",
       "      <td>2</td>\n",
       "      <td>Thương 2 em quá.Sợ người ta bị lừa,ai ngờ chín...</td>\n",
       "      <td>Sadness</td>\n",
       "    </tr>\n",
       "    <tr>\n",
       "      <th>3</th>\n",
       "      <td>3</td>\n",
       "      <td>2 anh thật tốt. Ước gì bây giờ ai cũng như 2 a...</td>\n",
       "      <td>Sadness</td>\n",
       "    </tr>\n",
       "    <tr>\n",
       "      <th>4</th>\n",
       "      <td>4</td>\n",
       "      <td>Ông này hôm bửa nè ko hiểu trai trẻ làm như vậ...</td>\n",
       "      <td>Disgust</td>\n",
       "    </tr>\n",
       "    <tr>\n",
       "      <th>...</th>\n",
       "      <td>...</td>\n",
       "      <td>...</td>\n",
       "      <td>...</td>\n",
       "    </tr>\n",
       "    <tr>\n",
       "      <th>96</th>\n",
       "      <td>96</td>\n",
       "      <td>E đừng buồn, chỉ là chúng ta đa phần lương thi...</td>\n",
       "      <td>Sadness</td>\n",
       "    </tr>\n",
       "    <tr>\n",
       "      <th>97</th>\n",
       "      <td>97</td>\n",
       "      <td>Hai ông thật thà chết đc,</td>\n",
       "      <td>Other</td>\n",
       "    </tr>\n",
       "    <tr>\n",
       "      <th>98</th>\n",
       "      <td>98</td>\n",
       "      <td>53:46 Bản nhạc buồn len lỏi từng góc phố 🗑</td>\n",
       "      <td>Other</td>\n",
       "    </tr>\n",
       "    <tr>\n",
       "      <th>99</th>\n",
       "      <td>99</td>\n",
       "      <td>Mấy cháu qúa hiền lành nhưng dể tin người , vì...</td>\n",
       "      <td>Anger</td>\n",
       "    </tr>\n",
       "    <tr>\n",
       "      <th>100</th>\n",
       "      <td>100</td>\n",
       "      <td>Tội nghiệp hai cháu quá thật thà khóa lại bị l...</td>\n",
       "      <td>Anger</td>\n",
       "    </tr>\n",
       "  </tbody>\n",
       "</table>\n",
       "<p>101 rows × 3 columns</p>\n",
       "</div>"
      ],
      "text/plain": [
       "     Unnamed: 0                                            comment      tag\n",
       "0             0  Ai biết thằng này ( tức quá nên mình xin kêu l...    Anger\n",
       "1             1  Mình đã bị nó lừa.. Thủ đoạn rất tinh vi mọi n...    Anger\n",
       "2             2  Thương 2 em quá.Sợ người ta bị lừa,ai ngờ chín...  Sadness\n",
       "3             3  2 anh thật tốt. Ước gì bây giờ ai cũng như 2 a...  Sadness\n",
       "4             4  Ông này hôm bửa nè ko hiểu trai trẻ làm như vậ...  Disgust\n",
       "..          ...                                                ...      ...\n",
       "96           96  E đừng buồn, chỉ là chúng ta đa phần lương thi...  Sadness\n",
       "97           97                       Hai ông thật thà chết đc,    Other\n",
       "98           98         53:46 Bản nhạc buồn len lỏi từng góc phố 🗑    Other\n",
       "99           99  Mấy cháu qúa hiền lành nhưng dể tin người , vì...    Anger\n",
       "100         100  Tội nghiệp hai cháu quá thật thà khóa lại bị l...    Anger\n",
       "\n",
       "[101 rows x 3 columns]"
      ]
     },
     "execution_count": 108,
     "metadata": {},
     "output_type": "execute_result"
    }
   ],
   "source": [
    "luadao"
   ]
  },
  {
   "cell_type": "code",
   "execution_count": null,
   "metadata": {},
   "outputs": [],
   "source": []
  },
  {
   "cell_type": "code",
   "execution_count": 111,
   "metadata": {},
   "outputs": [],
   "source": [
    "df = pd.DataFrame()\n",
    "\n",
    "for f in ['comments_chipu.xlsx', 'comments_fobtv.xlsx','comments_luadao.xlsx']:\n",
    "    data = pd.read_excel(f, 'Sheet1',index = True,index_col=0)\n",
    "    df = df.append(data)\n",
    "\n",
    "df.to_excel(\"all_task3.xlsx\")"
   ]
  },
  {
   "cell_type": "code",
   "execution_count": 118,
   "metadata": {},
   "outputs": [
    {
     "data": {
      "text/html": [
       "<div>\n",
       "<style scoped>\n",
       "    .dataframe tbody tr th:only-of-type {\n",
       "        vertical-align: middle;\n",
       "    }\n",
       "\n",
       "    .dataframe tbody tr th {\n",
       "        vertical-align: top;\n",
       "    }\n",
       "\n",
       "    .dataframe thead th {\n",
       "        text-align: right;\n",
       "    }\n",
       "</style>\n",
       "<table border=\"1\" class=\"dataframe\">\n",
       "  <thead>\n",
       "    <tr style=\"text-align: right;\">\n",
       "      <th></th>\n",
       "      <th>Unnamed: 0</th>\n",
       "      <th>comment</th>\n",
       "      <th>tag</th>\n",
       "    </tr>\n",
       "  </thead>\n",
       "  <tbody>\n",
       "    <tr>\n",
       "      <th>0</th>\n",
       "      <td>0</td>\n",
       "      <td>2021 ai còn nghe ^_^</td>\n",
       "      <td>Enjoyment</td>\n",
       "    </tr>\n",
       "    <tr>\n",
       "      <th>1</th>\n",
       "      <td>1</td>\n",
       "      <td>Qua nghe Chi Pu thì thấy Chi Pu vẫn đỉnh hơn P...</td>\n",
       "      <td>Enjoyment</td>\n",
       "    </tr>\n",
       "    <tr>\n",
       "      <th>2</th>\n",
       "      <td>2</td>\n",
       "      <td>Có ai đến từ \"Cơm sườn\" Phí Phương Anh không :))</td>\n",
       "      <td>Enjoyment</td>\n",
       "    </tr>\n",
       "    <tr>\n",
       "      <th>3</th>\n",
       "      <td>3</td>\n",
       "      <td>bài này của  chị Chi Pu ra cũng lâu r, đã nghe...</td>\n",
       "      <td>Sadness</td>\n",
       "    </tr>\n",
       "    <tr>\n",
       "      <th>4</th>\n",
       "      <td>4</td>\n",
       "      <td>Người ta chỉ sợ công chúa khóc\\nKhông ai biết ...</td>\n",
       "      <td>Other</td>\n",
       "    </tr>\n",
       "    <tr>\n",
       "      <th>...</th>\n",
       "      <td>...</td>\n",
       "      <td>...</td>\n",
       "      <td>...</td>\n",
       "    </tr>\n",
       "    <tr>\n",
       "      <th>298</th>\n",
       "      <td>96</td>\n",
       "      <td>E đừng buồn, chỉ là chúng ta đa phần lương thi...</td>\n",
       "      <td>Sadness</td>\n",
       "    </tr>\n",
       "    <tr>\n",
       "      <th>299</th>\n",
       "      <td>97</td>\n",
       "      <td>Hai ông thật thà chết đc,</td>\n",
       "      <td>Other</td>\n",
       "    </tr>\n",
       "    <tr>\n",
       "      <th>300</th>\n",
       "      <td>98</td>\n",
       "      <td>53:46 Bản nhạc buồn len lỏi từng góc phố 🗑</td>\n",
       "      <td>Other</td>\n",
       "    </tr>\n",
       "    <tr>\n",
       "      <th>301</th>\n",
       "      <td>99</td>\n",
       "      <td>Mấy cháu qúa hiền lành nhưng dể tin người , vì...</td>\n",
       "      <td>Anger</td>\n",
       "    </tr>\n",
       "    <tr>\n",
       "      <th>302</th>\n",
       "      <td>100</td>\n",
       "      <td>Tội nghiệp hai cháu quá thật thà khóa lại bị l...</td>\n",
       "      <td>Anger</td>\n",
       "    </tr>\n",
       "  </tbody>\n",
       "</table>\n",
       "<p>303 rows × 3 columns</p>\n",
       "</div>"
      ],
      "text/plain": [
       "     Unnamed: 0                                            comment        tag\n",
       "0             0                               2021 ai còn nghe ^_^  Enjoyment\n",
       "1             1  Qua nghe Chi Pu thì thấy Chi Pu vẫn đỉnh hơn P...  Enjoyment\n",
       "2             2   Có ai đến từ \"Cơm sườn\" Phí Phương Anh không :))  Enjoyment\n",
       "3             3  bài này của  chị Chi Pu ra cũng lâu r, đã nghe...    Sadness\n",
       "4             4  Người ta chỉ sợ công chúa khóc\\nKhông ai biết ...      Other\n",
       "..          ...                                                ...        ...\n",
       "298          96  E đừng buồn, chỉ là chúng ta đa phần lương thi...    Sadness\n",
       "299          97                       Hai ông thật thà chết đc,      Other\n",
       "300          98         53:46 Bản nhạc buồn len lỏi từng góc phố 🗑      Other\n",
       "301          99  Mấy cháu qúa hiền lành nhưng dể tin người , vì...      Anger\n",
       "302         100  Tội nghiệp hai cháu quá thật thà khóa lại bị l...      Anger\n",
       "\n",
       "[303 rows x 3 columns]"
      ]
     },
     "execution_count": 118,
     "metadata": {},
     "output_type": "execute_result"
    }
   ],
   "source": [
    "all_ = pd.read_excel('all_task3.xlsx',encoding='utf-8')\n",
    "all_"
   ]
  },
  {
   "cell_type": "code",
   "execution_count": null,
   "metadata": {},
   "outputs": [],
   "source": []
  },
  {
   "cell_type": "code",
   "execution_count": 7,
   "metadata": {},
   "outputs": [],
   "source": [
    "# all_ = all_.replace([0,1,2,3,4,5,6],['Disgust','Enjoyment','Anger','Surprise','Sadness','Fear','Other'])\n",
    "# all_.head()"
   ]
  },
  {
   "cell_type": "code",
   "execution_count": 42,
   "metadata": {},
   "outputs": [
    {
     "name": "stdout",
     "output_type": "stream",
     "text": [
      "Enjoyment    86\n",
      "Other        69\n",
      "Sadness      49\n",
      "Surprise     34\n",
      "Fear         22\n",
      "Anger        22\n",
      "Disgust      21\n",
      "Name: tag, dtype: int64\n"
     ]
    },
    {
     "data": {
      "text/plain": [
       "<matplotlib.axes._subplots.AxesSubplot at 0x7fd7309d6fd0>"
      ]
     },
     "execution_count": 42,
     "metadata": {},
     "output_type": "execute_result"
    },
    {
     "data": {
      "image/png": "[encoded data removed]",
      "text/plain": [
       "<Figure size 432x288 with 1 Axes>"
      ]
     },
     "metadata": {
      "needs_background": "light"
     },
     "output_type": "display_data"
    }
   ],
   "source": [
    "types = all_.tag.value_counts()\n",
    "print(types)\n",
    "all_['tag'].value_counts().plot(kind='bar',color='red')"
   ]
  },
  {
   "cell_type": "code",
   "execution_count": 43,
   "metadata": {},
   "outputs": [
    {
     "data": {
      "text/html": [
       "<div>\n",
       "<style scoped>\n",
       "    .dataframe tbody tr th:only-of-type {\n",
       "        vertical-align: middle;\n",
       "    }\n",
       "\n",
       "    .dataframe tbody tr th {\n",
       "        vertical-align: top;\n",
       "    }\n",
       "\n",
       "    .dataframe thead th {\n",
       "        text-align: right;\n",
       "    }\n",
       "</style>\n",
       "<table border=\"1\" class=\"dataframe\">\n",
       "  <thead>\n",
       "    <tr style=\"text-align: right;\">\n",
       "      <th></th>\n",
       "      <th>comment</th>\n",
       "      <th>tag</th>\n",
       "    </tr>\n",
       "  </thead>\n",
       "  <tbody>\n",
       "  </tbody>\n",
       "</table>\n",
       "</div>"
      ],
      "text/plain": [
       "Empty DataFrame\n",
       "Columns: [comment, tag]\n",
       "Index: []"
      ]
     },
     "execution_count": 43,
     "metadata": {},
     "output_type": "execute_result"
    }
   ],
   "source": [
    "all_[all_.isnull().any(axis=1)]"
   ]
  },
  {
   "cell_type": "code",
   "execution_count": 10,
   "metadata": {},
   "outputs": [],
   "source": [
    "# import string\n",
    "\n",
    "# def text_process(mess):\n",
    "#     STOPWORDS = ['^_^','.']\n",
    "#     nopunc = [char for char in mess if char not in string.punctuation]\n",
    "#     nopunc = ''.join(nopunc)\n",
    "#     return ' '.join([word for word in nopunc.split() if word.lower() not in STOPWORDS])"
   ]
  },
  {
   "cell_type": "code",
   "execution_count": 11,
   "metadata": {},
   "outputs": [],
   "source": [
    "# all_['comment'] = all_['comment'].apply(text_process)\n",
    "# all_"
   ]
  },
  {
   "cell_type": "code",
   "execution_count": 12,
   "metadata": {},
   "outputs": [],
   "source": [
    "# import emoji\n",
    "\n",
    "# def remove_emoji(text):\n",
    "#     return emoji.get_emoji_regexp().sub(u'', text)"
   ]
  },
  {
   "cell_type": "code",
   "execution_count": 44,
   "metadata": {},
   "outputs": [],
   "source": [
    "# all_['comment'] = all_['comment'].apply(remove_emoji)\n",
    "# all_"
   ]
  },
  {
   "cell_type": "code",
   "execution_count": 45,
   "metadata": {},
   "outputs": [],
   "source": [
    "d = pd.read_excel('replace.xlsx', engine='openpyxl')\n",
    "d = d.set_index(['word'])[\"word_replace\"].to_dict()"
   ]
  },
  {
   "cell_type": "code",
   "execution_count": 46,
   "metadata": {
    "scrolled": true
   },
   "outputs": [
    {
     "data": {
      "text/plain": [
       "{'vẩn': 'vẫn',\n",
       " 'trog': 'trong',\n",
       " 'sút': 'súc',\n",
       " 'hs': 'học sinh',\n",
       " ' lol': ' lon',\n",
       " 'minh': 'mình',\n",
       " 'ne': 'nè',\n",
       " ' ng ': 'người',\n",
       " 'ngừ': 'người',\n",
       " 'chừ': 'giờ',\n",
       " 'mẩu': 'mẫu',\n",
       " ' ca ': 'công an',\n",
       " 'oto': 'ô tô',\n",
       " 'sgk': 'sách giáo khoa',\n",
       " 'cv': 'công việc',\n",
       " 'dzầy': 'vầy',\n",
       " 'ăn mỳ': 'ăn mì',\n",
       " 'cta': 'chúng ta',\n",
       " 'tử hình con mẹ nó lũ chó má không có tính người đi . khổ thân lũ trẻ': 'tử hình con mẹ nó lũ chó má không có tính người đi, khổ thân lũ trẻ',\n",
       " 'nyc': 'người yêu cũ',\n",
       " 'thằng cha bảo vệ có tâm quá . nge con nhỏ kêu nguyên đêm zi mà đéo cứu': 'thằng cha bảo vệ có tâm quá, nghe con nhỏ kêu nguyên đêm vậy mà đéo cứu',\n",
       " 'zi': 'vậy',\n",
       " 'zị': 'vậy',\n",
       " 'sứng đáng': 'xứng đáng',\n",
       " 'chứ phạt g đâu': 'chứ phạt gì đâu',\n",
       " 'chowi': 'chơi',\n",
       " 'dcm': 'địt con mẹ',\n",
       " 'cô giáo có tâm vời nghề ghêeeee': 'cô giáo có tâm với nghề ghê',\n",
       " 'lỗ lực': 'nỗ lực',\n",
       " 'cắt đức ': 'cắt đứt',\n",
       " 'sử phạt': 'xử phạt',\n",
       " 'fải': 'phải',\n",
       " 'đáng yêuc quá': 'đáng yêu quá',\n",
       " 'hỏng viẹc': 'hỏng việc',\n",
       " 'bướng làm': 'bướng lắm',\n",
       " 'đả': 'đã',\n",
       " ' nà ': 'nè',\n",
       " 'zo': 'vô',\n",
       " 'zô': 'vô',\n",
       " 'q . tâm': 'quan tâm',\n",
       " 'dm': 'dume',\n",
       " ' t ': ' tao ',\n",
       " 'nta': 'người ta',\n",
       " 'thậc': 'thật',\n",
       " 'hàg': 'hàng',\n",
       " 'mặp': 'mập',\n",
       " 'cờ rút': 'crush',\n",
       " 'lsao': 'làm sao',\n",
       " 'trc': 'trước',\n",
       " 'trk': 'trước',\n",
       " 'cg': 'cũng',\n",
       " 'cũg': 'cũng',\n",
       " 'mk': 'mình',\n",
       " 'mik': 'mình',\n",
       " 'mh': 'mình',\n",
       " 'bướ c': 'bước',\n",
       " 'tươ ̉': 'tưởng',\n",
       " 'yêu nghiệ': 'yêu nghiệt',\n",
       " 'chư': 'chứ ',\n",
       " 'đanh răng': 'đánh răng',\n",
       " 'vãi_chưởng': 'vãi chưởng',\n",
       " 'thuờg': 'thường',\n",
       " 'trời oi': 'trời ơi',\n",
       " 'sạo': 'xạo',\n",
       " 'trái đất': 'Trái Đất',\n",
       " ' a ': ' anh ',\n",
       " 'sẻ': 'sẽ',\n",
       " ' ah': ' à',\n",
       " ' lồn': ' lon',\n",
       " 'trể': 'trễ',\n",
       " ' or': ' hoặc',\n",
       " 'thik': 'thích',\n",
       " 'ae ': 'anh em',\n",
       " '\\\\n': ' ',\n",
       " '\"': ' ',\n",
       " 'dể': 'dễ',\n",
       " ' r ': ' rồi',\n",
       " ' h ': ' giờ ',\n",
       " ' bn ': ' bạn ',\n",
       " 'con cac': 'cc',\n",
       " 'ko': 'không',\n",
       " 'bh': 'bây giờ',\n",
       " 'snghi': 'suy nghĩ',\n",
       " 'rùi': 'rồi',\n",
       " 'PPA': 'Phí Phương Anh',\n",
       " 'ppa': 'Phí Phương Anh',\n",
       " 'Mv': 'MV',\n",
       " 'mv': 'MV',\n",
       " 'mặt kệ': 'mặc kệ',\n",
       " 'cj': 'chị',\n",
       " 'đx': 'được',\n",
       " 'thick': 'thích',\n",
       " 'mn': 'mọi người',\n",
       " ' z ': ' vậy ',\n",
       " 'leennnn': 'lên',\n",
       " ' e ': ' em ',\n",
       " 'tứk': 'tức'}"
      ]
     },
     "execution_count": 46,
     "metadata": {},
     "output_type": "execute_result"
    }
   ],
   "source": [
    "d"
   ]
  },
  {
   "cell_type": "code",
   "execution_count": 47,
   "metadata": {},
   "outputs": [],
   "source": [
    "all_['comment'] = all_['comment'].replace(d,regex=True)"
   ]
  },
  {
   "cell_type": "code",
   "execution_count": 48,
   "metadata": {
    "scrolled": true
   },
   "outputs": [
    {
     "name": "stdout",
     "output_type": "stream",
     "text": [
      "Counter({'Enjoyment': 86, 'Other': 69, 'Sadness': 49, 'Surprise': 34, 'Anger': 22, 'Fear': 22, 'Disgust': 21})\n",
      "\n",
      "['Enjoyment' 'Enjoyment' 'Enjoyment' 'Sadness' 'Other']\n",
      "\n",
      "['2021 ai còn nghe ^_^'\n",
      " 'Qua nghe Chi Pu thì thấy Chi Pu vẫn đỉnh hơn Phí Phương Anh :))'\n",
      " 'Có ai đến từ  Cơm sườn  Phí Phương Anh không :))'\n",
      " 'bài này của  chị Chi Pu ra cũng lâu r, đã nghe rất nhiều, nhưng không hiểu sao hôm nay nghe lại thì buồn đến thế. :(((  thương cho nhân vật Cám .. hay thương cho chính mình .....'\n",
      " 'Người ta chỉ sợ công chúa khóc Không ai biết rằng phù thủy cũng biết đau  Cre : truyện   không thể yêu em một ngày sao  ']\n"
     ]
    }
   ],
   "source": [
    "from collections import Counter\n",
    "counter = Counter()\n",
    "tag = all_.values[:,1]\n",
    "comments = all_.values[:,0]\n",
    "counter.update(tag)\n",
    "print(counter)\n",
    "print()\n",
    "print(tag[0:5])\n",
    "print()\n",
    "print(comments[0:5])"
   ]
  },
  {
   "cell_type": "code",
   "execution_count": 49,
   "metadata": {},
   "outputs": [],
   "source": [
    "# import re\n",
    "# import numpy as np\n",
    "# def find_replace_multi_ordered(string, dictionary):\n",
    "#     for item in sorted(dictionary.keys(), key = len, reverse = True):\n",
    "#         string = re.sub(item, dictionary[item], string)\n",
    "#     return list(string)\n",
    "\n",
    "# sentences = find_replace_multi_ordered(str(sentences), d)"
   ]
  },
  {
   "cell_type": "code",
   "execution_count": 50,
   "metadata": {},
   "outputs": [],
   "source": [
    "# sentences = np.array(str(sentences))\n",
    "# sentences"
   ]
  },
  {
   "cell_type": "code",
   "execution_count": null,
   "metadata": {},
   "outputs": [],
   "source": []
  },
  {
   "cell_type": "code",
   "execution_count": 51,
   "metadata": {},
   "outputs": [
    {
     "name": "stdout",
     "output_type": "stream",
     "text": [
      "['Có', 'ai', 'đến', 'từ', 'Cơm', 'sườn', 'Phí Phương Anh', 'không', ':))']\n"
     ]
    }
   ],
   "source": [
    "from underthesea import word_tokenize\n",
    "print(word_tokenize(comments[2]))"
   ]
  },
  {
   "cell_type": "code",
   "execution_count": 52,
   "metadata": {},
   "outputs": [
    {
     "name": "stdout",
     "output_type": "stream",
     "text": [
      "[['2021', 'ai', 'còn', 'nghe', '^', '_', '^'], ['Qua', 'nghe', 'Chi Pu', 'thì', 'thấy', 'Chi Pu', 'vẫn', 'đỉnh', 'hơn', 'Phí Phương Anh', ':))'], ['Có', 'ai', 'đến', 'từ', 'Cơm', 'sườn', 'Phí Phương Anh', 'không', ':))'], ['bài', 'này', 'của', 'chị', 'Chi', 'Pu', 'ra', 'cũng', 'lâu', 'r', ',', 'đã', 'nghe', 'rất', 'nhiều', ',', 'nhưng', 'không', 'hiểu', 'sao', 'hôm nay', 'nghe', 'lại', 'thì', 'buồn', 'đến', 'thế', '.', ':', '(', '(', '(', 'thương', 'cho', 'nhân vật', 'Cám', '..', 'hay', 'thương', 'cho', 'chính', 'mình', '.....'], ['Người ta', 'chỉ', 'sợ', 'công chúa', 'khóc', 'Không', 'ai', 'biết', 'rằng', 'phù thủy', 'cũng', 'biết', 'đau', 'Cre', ':', 'truyện', 'không thể', 'yêu', 'em', 'một', 'ngày', 'sao'], ['Lại', 'là', 'chia tay', 'sau', 'những', 'lần', 'không', 'hiểu', 'nhau', 'Tại vì', 'thơ ngây', 'bao nhiêu', 'lần', 'yêu', 'vỡ', 'nát', 'nữa', 'rồi', 'Tại', 'vì', 'hôm', 'mưa', 'anh', 'đưa', 'chiếc', 'ô', 'Đã', 'làm', 'trái tim', 'em', 'có', 'cầu vồng'], ['Quay', 'lại', 'nghe', 'Chi Pu', 'hát', 'để', 'rửa', 'tai', 'rửa', 'mắt', '(', 'sau', 'khi', 'nghe', '2', 'bài', 'của', 'Phí Phương Anh', ')', '🤧'], ['Diễn xuất', 'của', 'chị', 'xuất sắc', 'thật', ',', 'dù', 'chỉ', 'là', 'MV', 'nhưng', 'cảm xúc', 'như', '1', 'bộ', 'phim', 'vậy', '.'], ['còn', 'ai', 'nghe', 'không', '?', '93', 'tr', 'view', 'rồi', 'nè'], ['Ta', 'nâng', 'ô', 'che', 'nàng', 'ngày', 'mưa gió', '...', 'nàng', 'lại', 'ngỡ', 'tình', 'đó', 'là', 'nơi', 'vua', '...', 'Zinniareigia'], ['Ý tưởng', 'kịch bản', 'xuất sắc', 'quá', ',', 'bài', 'hát', 'cũng', 'hay', ',', 'công nhận', 'nhờ', 'bài', 'này', 'mà', 'tao', 'có', 'cảm tình', 'với', 'Chipu', ',', 'phục', 'ông', 'Đạt', 'G', 'sáng tác', 'hay', 'quá', 'ạ'], ['Ai', 'vẫn', 'nghe', 'giơ', 'tay', 'nàoooooooooo', 'Híc', 'híc', 'buồn', 'wa', \"'\"], ['Đến', 'bây giờ', 'có', 'ai', 'còn', 'nghe', 'bài', 'này', 'k', 'ạ', 'Cố gắng', 'lên', '100M', 'thôi', 'mọi', 'người', 'ơi'], ['Hay', 'quá', '💯', '😍', 'nhớ', 'ngày xưa', 'comeback', 'hóng', 'toàn', 'MV', 'chị', 'chipu'], ['Tui', 'thấy', 'thị vệ', 'đẹp trai', 'hơn', 'hoàng thượng', 'đó', 'có', 'ai', 'chung', 'suy nghĩ', 'không', '?', '?', '?'], ['Nghe', 'qua', 'bài', 'này', 'rồi', 'thì', 'mới', 'thấy', 'So sánh', 'Chi Pu', 'vs', 'Phí Phương Anh', 'là', 'tao', 'tội ác', '😰'], ['Xem', 'Phí Phương Anh', 'xong', 'qua', 'nghe', 'chipu', 'vẫn', 'đỉnh', 'hơn'], ['Sau', '1', 'năm', 'quay', 'lại', 'thì', 'vẫn', 'thấy', 'MV', 'và', 'bài', 'hát', 'này', 'xuất sắc', '.'], ['Ngày', 'ấy', 'che', 'ô', ',', 'tưởng', 'lòng', 'mình', 'đã', 'cùng', '1', 'chỗ', 'Khoảng', 'khắc', 'vén', 'màn', ',', 'mới', 'biết', 'tình', 'nàng', 'đâu', 'có', 'chỗ', 'cho', 'ta', '.'], ['Hoàng tử', 'chỉ', 'nghĩ', 'đến', 'sự', 'đáng thương', 'của', 'Tấm', 'mà', 'quên', 'mất', 'Cám', 'cũng', 'muốn', 'được', 'yêu thương', ':)'], ['Giờ', 'còn', 'ai', 'xem lại', 'không', 'nhỉ', '. MV', 'này', 'Chi', 'diễn', 'đỉnh', 'thật sự', '.', 'Ánh mắt', 'biết', 'diễn', '..', ':))'], ['Mọi', 'người', 'ơi', 'nếu', 'được', 'cố gắng', 'trong', 'năm', 'nay', 'đưa', 'MV', 'này', 'lên', '100', 'm', 'lượt', 'xem', '...', 'đây', 'sẽ', 'là', 'món', 'quà', 'vô cùng', 'to lớn', 'dành', 'tặng', 'cho', 'chị', 'ấy', '...', 'cô', 'gái', 'mạnh mẽ', 'nghiêm túc', 'trong', 'nghệ thuật', 'nghị lực', 'phi thường', '...', '❤', '❤', '❤', '❤', '❤', '❤'], ['Người', 'che', 'ô', 'cho', 'nàng', 'là', 'ta', '!', 'Người', 'vén', 'màn', 'kiệu', 'cho', 'nàng', 'là', 'ta', '!', 'Người', 'đốt', 'vàng mã', 'cho', 'nàng', 'cũng', 'là', 'ta', '!', 'Best', 'thị vệ', '=))))'], ['Nhiều', 'câu chuyện', 'tình yêu', 'trong', 'đó', 'người', 'đau khổ', 'nhất', 'vẫn', 'là', 'nữ', 'phụ', '..'], ['100M', 'nào', 'Sunny', 'ơiii', '!', '!', 'Chồng', 'yêu', 'của', 'em', '❤', '❤', '👉', '👈'], ['Nghe', 'nhạc', 'của', 'Chi Pu', 'nó', 'cũng', 'ở', 'đẳng cấp', 'khác', 'so', 'với', 'con', 'mẹ', 'Phí', 'Phương Anh', 'kia', 'rồi', '🥴', '🥴', '🥴'], ['Hay', 'quá', 'Love Chipu and', 'this', 'song'], ['Ai', 'đọc', 'được', 'cmt', 'CHÚC', 'NGƯỜI', 'ĐÓ', 'THI', 'TỐT', '<3'], ['Cứ', 'mãi', 'lo', 'cho', 'người', 'ướt', 'áo', 'Quanh đi', 'quẩn', 'lại', 'ta', 'mới', 'là', 'người', 'ướt', 'lòng', '.'], ['90', 'm', 'ê'], ['Sắp', '100', 'm', 'view', 'rồi', ':', '>>', '>'], ['Sắp', '95', 'tr', 'view', 'r'], ['Hoàng tử', 'chỉ', 'thấy', 'Tấm', 'khóc', 'nhưng', 'đâu', 'biết', 'cám', 'cũng', 'buồn', '=)))'], ['Có', 'ai', 'đang', 'cày', '100', 'tr', 'không', 'ạ', 'hih'], ['Sắp', '100', 'triệu', 'views', 'rồi', '❤', '️'], ['90', 'm', 'nào'], ['Trời', 'mưa', 'mà', 'nghe', 'lại', 'bài', 'này', 'của', 'Chi', 'nó', 'da diết', 'làm sao', '.', 'Từ', 'giọng hát', 'cho', 'đến', 'diễn xuất', 'tất cả', 'điều', 'vô cùng', 'hoàn hảo', '.', 'Rất', 'hay'], ['Vì', 'sợ', 'cô đơn', 'nên', 'mặc kệ', 'đúng sai', '😭'], ['Có', 'ai', 'xem', 'MV', 'mà', 'thấy', 'thị vệ', 'còn', 'đáng', 'thương', 'hơn', 'Cám', 'không', '?'], ['Công nhận', 'nghe', 'mãi', 'vẫn', 'hay', 'chị', 'yêu', 'ạ', ',', 'Ko', 'biết', 'chị', 'có', 'đọc', 'dc', 'cmt', 'này', 'không', ',', 'dù', 'ai', 'nói', 'j', ',', 'em', 'vẫn', 'mãi', 'Fan', 'chị', 'và', 'vẫn', 'mãi', 'ủng hộ', 'chị', ',', 'Thân ái', '10/1/2020'], ['18/9/2020', 'điểm danh', 'những', 'người', 'còn', 'xem'], ['Còn', 'ai', 'nghe', 'không', 'ta', ',', 'dù sao', 'thì', 'mình', 'vẫn', 'ủng hộ', 'chị'], ['Chuyện', 'cổ tích', 'Tấm', 'Cám', ':', 'Huỳnh Lập', 'kể', 'về', 'dì ghẻ', ',', 'Ngô Thanh Vân', 'kể', 'về', 'hoàng tử', ',', 'Chi Pu', 'kể', 'về', 'Cám', ',', '365', 'kể', 'về', 'cá bống', ':))'], ['Bài', 'này', 'được', 'nhiều', 'biết', 'vì', 'Đạt', 'G', 'sáng tác', 'đỉnh'], ['Thick', 'nhất', 'bài', 'hát', 'này', 'của', 'chị', 'Chi Pu', '(', '❁', '´', '◡', '`', '❁', ')'], ['Lúc', 'nào', 'trong', 'ty', 'mình', 'cũng', 'nói', 'a', 'ơi', 'ở', 'lại', 'với', 'em', 'đi', 'vì', 'quá', 'yêu', 'nên', 'mặc kệ', 'họ', 'đúng sai', 'miễn sao', 'níu', 'họ', 'lại', 'đc', ',', 'nhưng', 'họ', 'nhất định', 'rời', 'đi'], ['Oh', 'My Gooddddddddddddd', ',', \"I'm\", 'testing', 'my', 'phonè', 'and', 'I', 'hear', 'this', 'song', '. OMG', ',', 'I', 'fall', 'in', 'love', '~'], ['Chúc mừng', 'MV', 'hơn', '90', 'tr', 'lượt', 'xem', 'rồi', '.', '·', '´', '¯', '`', '(', '>', '▂', '<', ')', '´', '¯', '`', '·', '.'], ['Hơn', '1', 'năm', 'rồi', 'mà', 'vẫn', 'nghe', 'hoài', 'không', 'chán', '.'], ['1', 'ngày', 'không', 'nghe', 'quay', 'lại', 'đã', 'lên', '90', 'm', '|', 'chúc mừng', '❤', '🎉'], ['Cầu', 'cho', 'những', 'ai', 'thấy', 'bình luận', 'này', 'luôn', 'gặp', 'may mắn', 'trong', 'năm', '2019'], ['100M', 'letgo'], ['Bh', 'còn', 'ai', 'xem', 'bài', 'này', 'không', '?', ',', 'Nay', 'mở', 'ra', 'xem lại', 'vậy', 'thấy', 'hay', 'quá', ':)))'], ['trong', 'cả', 'tá', 'MV', 'của', 'Chipu', 'thì', 'cái', 'này', 'là', 'ổn', 'nhất', 'vì', 'cả', 'nhạc', 'cả', 'nội dung', 'MV', 'không', 'bị', 'nhảm', 'như', 'mấy', 'cái', 'kia', ':)))))'], ['Bài', 'này', 'vẫn', 'đỉnh', 'nhất', 'này'], ['Lần', 'đầu tiên', 'khóc', 'vì', 'Cám', ',', 'chị', 'hoá thân', 'lột tả', 'một', 'góc', 'khuất', 'tình yêu', 'của', 'Cám', 'theo', 'một cách', 'quá', 'xuất sắc', '.', 'Ngây ngô', 'có', 'thâm độc', 'có', 'đau đớn', 'có', 'nói chung', 'tất cả', 'là', 'một', 'màu sắc', 'rất', 'riêng', 'tạo', 'nên', 'câu chuyện', 'Cám Tấm', 'mà', 'k', 'ai', 'có thể', 'ngờ', 'được', 'là', 'có', 'một', 'cô', 'Cám', 'đáng', 'trách', 'lại', 'đáng', 'thương', 'đến', 'thế', '.', 'MV', 'ý nghĩa', ',', 'giọng hát', 'hay', ',', 'diễn', 'suất', 'đỉnh', '...', 'chả', 'chê', 'được', 'điễm', 'nào', '❤', '️'], ['Đỉnhhhhh'], ['91', 'm', 'sớm', 'thuiiii'], ['Yeah', '90', 'm', 'rồi', '❤', '❤'], ['Ai', 'còn', 'nghe', 'không', 'kk'], ['Vẫn', 'đang', 'cày', 'view', 'cho', 'bài', 'cán', 'mốc', '100M', 'luôn', 'mọi', 'người', 'ơi'], ['89.6', 'm'], ['MV', 'được', 'quay', 'tại', 'khu', 'di tích', 'lịch sử', '🗓', 'Lam Kinh', 'Thanh Hóa', '.'], ['Mấy', 'bạn', 'cứ', 'bảo', 'Vua', 'với', 'Tấm', 'không', 'đc', 'xinh', 'vì', 'đơn giản', 'họ', 'là', 'vai', 'phụ', 'trong', 'MV', 'này', 'thôi', ',', 'chứ', 'xinh', 'hơn', 'lấy', 'đâu', 'ra', 'điểm', 'nhấn', 'cho', 'Cám', 'với', 'Thị vệ'], ['2', ':', '49', 'ấm áp', 'cho', 'ai', '🥰', '🥰', ',', 'thích', 'ghê', 'á', 'trời'], ['Số', 'người', 'từ', 'tiktok', 'bay', 'qua', 'đây'], ['MV', 'là', 'một', 'bản', 'ballad', 'thiết tha', ',', 'nhẹ nhàng', 'chạm', 'đến', 'từng', 'giọt', 'cảm xúc', 'buồn', '-', 'mang', 'đến', 'sự', 'đồng cảm', 'của', 'người', 'nghe', '.'], ['Ngày', 'nào', 'cũng', 'nghe', 'bài', 'này', 'của', 'Chi', ',', 'càng', 'nghe', 'càng', 'thấy', 'hay', '.', 'Chi', 'diễn', 'vai', 'Cám', 'này', 'công nhận', 'xuất sắc', ',', 'ánh', 'mắt', ',', 'thần thái', ',', 'nội tâm', 'của', 'Cám', 'được', 'Chi', 'thể hiện', 'rất', 'nuột nà', '.', 'Luôn', 'ủng hộ', 'Chi'], ['Đây', 'là', 'MV', 'hay', 'nhất', 'của', 'Chipu MV', 'rất', 'thấm thía', 'và', 'sâu sắc', '.', 'Phản ánh', '1', 'mặt khác', 'về', 'nv', 'Cám'], ['co', 'gang', 'cay', 'view', 'len', '100', 'tr', 'moi', 'nguoi', 'oi'], ['Chipu', 'mặc dù', 'hát', 'live', 'éo', 'hay', 'lắm', 'nhưng', 'bài', 'này', 'dc', 'đầu tư', 'và', 'hay', 'thật'], ['Bài', 'này', 'hay', 'nhất', 'trong', 'mấy', 'bài', 'chipu', 'hát'], ['Mỗi', 'khi', 'mùa', 'đông', 'đến', 'lại', 'vào', 'nghe', 'lại', 'bài', 'này', ',', 'lời', 'bài', 'hát', 'da diết', ',', 'thấm', 'từng', 'câu', ':', '(', '('], ['Gần', '100', 'tr', 'view', 'rồi', ':))', '2020', '?', '?', '?', '❤'], ['Ai', 'đang', 'thất tình', 'nghe', 'bài', 'này', 'thì', 'tim', 'đã', 'nứt', 'giờ', 'còn', 'vỡ', 'thành', 'nghìn', 'mảnh'], ['Mong', 'mọi', 'người', 'ủng hộ', 'MV', 'này', 'của', 'Chi', 'ạ', '.', 'Để', 'lên', '100', 'tr', 'view', 'nha', '.', 'Cảm ơn', 'mọi', 'người', 'nhiêfu', 'ạ'], ['Hi vọng', 'MV', 'sẽ', 'đạt', '100M', 'views'], ['Đoạn', 'của', 'ĐạtG', 'hay', 'thật', '!'], ['Diễn xuất', 'và', 'giọngcông', 'ancủa', 'CHI', 'dạo', 'này', 'và', 'cô', 'ấy', 'ngày càng', 'cải thiện', 'con', 'đườngcông', 'anhát', '.', 'Mọi', 'người', 'sẽ', 'nhận', 'ra', 'sự cố gắng', 'ngày một', 'hoàn thiện', 'dần', '.', 'chúc', 'cô', 'gái', 'trẻ', 'thành công'], ['Có', 'ai', 'nghĩ', 'như', 'mình', 'không', ':', 'đoạn', 'bị', 'trầy', 'gót', 'là', 'do', 'chiếc', 'giày', 'đó', 'của', 'cám', ',', 'hôm', 'mưa', 'bị', 'ngã', 'nên', 'chân', 'mới', 'trầy', ',', 'nhưng', 'chân', 'tấm', 'vẫn', 'vừa', ',', 'theo', 'chuyện', 'thì', 'giày', 'của', 'tấm', ',', 'nhưng', 'đây', 'là', 'tấm', 'cám', 'chuyện', 'chipu', 'kể', 'nên', 'kịch bản', 'khác', ':))'], ['Love', 'Chipu', 'from', 'South Korea'], ['Nghe', 'nhiều', 'nữa', 'đi', 'nm', 'sắp', 'được', '100', 'triệu', 'lượt', 'xem', 'rồi', ',', 'vậy', 'mới', 'sứng', 'vs', 'b', 'hát', 'này', ':)'], ['đến', 'giờ', 'vẫn', 'nghe', 'bài', 'này', 'thường xuyên', 'vì', 'nó', 'có', 'cảm xúc', 'nhẹ nhàng', ',', 'mỗi', 'lần', 'buồn buồn', 'nghe', 'bài', 'này', 'hay', 'cực', '<3', 'chị', 'chipu', 'cảm ơn', 'chị', 'ra', 'bài', 'hát', 'này', '<3'], ['nghe', 'đi', 'nghe', 'lại', 'vẫn', 'thấy', 'rất', 'bắt', 'tai', 'vì', 'phần', 'lời', 'đầy', 'cảm xúc', 'đau buồn', 'của', 'tình yêu', ',', 'giọng', 'của', 'Chipu', 'cũng', 'cực kì', 'hợp', 'với', 'bài', 'hát', 'nữa', '😍', '😍', '😍', 'đặc biệt', 'yêu thích', 'khi', 'MV', 'đầu tư', 'về', 'mặt', 'hình ảnh', 'chất lượng', 'như', 'này', ',', 'rất', 'đậm', 'chất', 'Việt Nam', '💖', '💖', '💖'], ['trót', 'yêu', 'Chipu', 'từ', 'video', 'này', '...'], ['Một', 'MV', 'độc đáo', ',', 'thú vị', ',', 'hấp dẫn', '.', 'Đôi', 'mắt', 'của', 'Cám', 'ở', 'từng', 'phân đoạn', 'trong', 'MV', 'ám ảnh', 'người', 'xem', '.'], ['Hôm nay', '30', 'tháng', '8', '2020', 'mình', 'nghe', 'lại', 'bài', 'này', '.', 'có', 'ai', 'giống', 'mình', 'k', 'ạ'], ['Sắp', '100', 'tr', 'view', 'rồi'], ['90', 'm', 'rồi', 'nhá', '.', 'congratulations'], ['Đây', 'là', 'tác phẩm', 'tao', 'thích', 'nhất', 'của', 'Chipu', 'từ', 'đầu', 'đến', 'giờ', 'nhạc', 'thì', 'nhẹ nhàng', 'nhưng', 'lại', 'có', 'cảm giác', 'rất', 'thu hút', 'MV', 'quá', 'chỉnh', 'chu', 'cốt truyện', 'cũng', 'rất', 'hấp dẫn', '😘', '😘', '💚', '💚'], ['Lời', 'bài', 'hát', 'đẹp', ',', 'dễ nghe', ',', 'dễ', 'thuộc', ',', 'nhưng', 'không', 'hề', 'dễ', 'hát', '. Chi', 'đã', 'hát', 'rất', 'hay', 'bài', 'hát', 'này', 'của', 'chính', 'mình', 'với', 'ngập', 'tràn', 'cảm xúc', 'trong', 'từngcông', 'antừ', 'của', 'một', 'câu chuyện', 'tình yêu', '💔'], ['Sao', 'cái', 'này', 'tui', 'crush', 'cám', 'hơn'], ['Thằng', 'che', 'ô', 'thì', 'k', 'thích', 'lại', 'thích', 'ông', 'qua', 'đường', '😁', '😁', '😁'], ['100', 'M', 'thẳng', 'tiến', 'naod'], ['Chúc mừng', 'chị', ',', 'đại diện', 'VN', 'tham gia', 'đêm', 'hộicông', 'annhạc', '.', 'Chị', 'Chi', 'cố', 'lên', '.', 'Sắp', '100', 'tr', 'view', 'rồi', '.'], ['Nghe', 'cả', 'năm', 'rồimà', 'vẫn', 'không', 'chán', '😂'], ['Sao', 'có', 'người', 'lại', 'nghĩ', 'ra', 'cái', 'movie', 'hay', 'thế', 'này', 'nhỉ'], ['Cày', 'liên tục', ',', 'cày', 'mòn mỏi', 'mà', 'mãi', 'chứ', 'a', 'lên', 'được', '90M', '.', 'Mong', 'Chi Pu', 'thả', 'tym', ':))))', 'để', 'có', 'động lực', 'lên', 'hẳn', '100M', 'luôn'], ['Gil', 'ơi', '❤', '️'], ['Lấp lánh', 'những', 'ánh', 'đèn', 'đường', 'hoà', 'cùng', 'tiếng', 'mưa giông', 'đang', 'kéo', 'về', '...', 'Thích', 'câu', 'này', ',', 'nghe', 'buồn', ',', 'cô đơn', 'quá', '!'], ['Lần', 'đầu tiên', 'trong', 'đời', 'mọi', 'người', 'thấy', 'thương', 'Cám', 'hơn', 'Tấm', '=))'], ['Sợ', 'ma', 'thì', 'có', 'đó', 'mà', 'rất', 'thích', 'xem', 'kiểu', 'clip', 'như', 'này', 'vào', 'buổi', 'tối', ',', 'cảm giác', 'nó', 'vừa', 'sợ', 'vừa', 'hào hứng', 'kiểu', 'j', 'ấy', '😅'], ['Có', 'ai', 'giống', 'mình', 'không', ',', 'sợ', 'ma', 'mà', 'vẫn', 'thích', 'xem'], ['Hung thủ', 'che', 'gương', 'bởi vì', 'sợ', 'sau', 'khi', 'giết', 'linh hồn', 'sẽ', 'đi', 'vào', 'gương', 'và', 'sẽ', 'tìm', 'hắn', 'trả thù', 'qua', 'những', 'chiếc', 'gương', 'mà', 'hắn', 'ở', 'gần'], ['Khung cảnh', 'ở', 'đó', 'im lặng', 'xong', 'rồi', 'nghe', 'giọng', 'trầm', 'trầm', 'của', 'ổng', 'nghe', 'đã', 'tai', 'thiệt', ':))'], ['Nếu', 'Video', 'này', 'Fob', 'bị', 'mất', 'tâm lí', 'nói', 'không', 'chuẩn', 'một số', 'câu', 'thông cảm', 'nhé', '.'], ['Về', 'Vn', 'rủ', 'ông', 'Hoàng Nam', '(', 'kênh', 'Hãy', 'thách thức', 'tôi', ')', 'qua', 'đồng hành', 'cùng', 'anh', '.', 'Hóng', '2', 'người', 'kết hợp', 'ghê', 'á'], ['Đi', 'theo', 'team', 'đi', 'anh', ':)', 'An toàn', 'hơn', 'vì', 'lỡ', 'có', 'người', 'nào', 'vào', '..', '!', 'Em', 'thấy', 'anh', 'là', 'một', 'nhà', 'thám hiểm', 'khá', 'là', 'mạnh dạn', 'và', 'không', 'sợ', '!', 'Em', 'vừa', 'nghe', 'là', 'rợn', 'lun'], ['Má', 'ơi', 'khâm phục', 'ổng', 'lun', '.', 'Căn', 'nhà', 'đã', 'ghê', 'rồi', 'còn', 'thêm', 'mấy', 'con', 'búp bê', 'nữa', ',', 'có', 'ai', 'coi', 'nhìn', 'cháy', 'banh', 'trên', 'cầu thang', 'mà', 'tưởng tượng', 'nó', 'lăn', 'xuốn', 'cầu thang', 'hok', '😅'], ['Ở', 'trọ', '1', 'mình', 'và', 'xem', 'mấy', 'cái', 'này', 'lúc', '11', 'h', 'đêm', '=))', 'cảm giác', 'yomost', 'vcl'], ['Video', 'này', 'được', '.', 'đăng', 'lên', 'là', 'tao', 'biết', 'ông', 'anh', 'này', 'về', 'nhà', 'an toàn', 'rồi', 'Anh', 'liều', 'thật sự', 'anh trai', 'ạ', 'Ủng hộ', 'anh', 'nhưng', 'khuyên', 'anh', 'nên', 'đi', 'cùng', 'team'], ['2', ':', '54', 'nhìn', 'khiếp', 'quá'], ['12', ':', '00', 'thần kinh', 'thép', 'Ban đêm', 'Ngồi', 'tại', 'hiện trường', 'Kể chuyện', ':', '(', '(', '('], ['6', ':', '00', 'anh', 'làm', 'em', 'sợ', 'á', 'anh', '=)))', 'em', 'nể', 'anh', 'thật sự'], ['Gan', 'vãi', 'ông', 'anh', '...', ':', '(', '(', 'Hầu như', 'mấy', 'team', 'săn', 'ma', 'toàn', 'đi', 'mấy', 'người', '..', 'ông', 'anh', 'thì', 'đi', '1', 'mình', '...', 'nói', 'thật', 'kênh', 'người', 'của', 'người', 'việt', 'làm', 'về', 'chủ đề', 'khám phá', 'tâm linh', 'rất', 'ít', 'ai', 'gan dạ', 'đc', 'như', 'ông', 'anh'], ['Ác', 'vậy', 'chời', ':', '>>', '>>'], ['chỉ', 'cần', 'chân thật', 'như', 'thế', 'mà', 'clip', 'triệu', 'view', ',', 'không', 'cần', 'phải', 'thêm', 'âm thanh', 'rùng rợn', 'mà', 'hay', 'hết sức', ',', '4', 'h', 'sáng', 'xem', 'xong', 'mất', 'mọe', 'ngủ', 'luôn', '=))'], ['Coi', 'video', 'nhà', 'ma', 'mà', 'cứ', 'nằng', 'cực', 'vì', 'thằng', 'host', 'ghê', '😂'], ['1912', 'mà', 'nhà cửa', 'đã', 'như', 'này', '.', 'Nước', 'Mỹ', 'quá', 'giàu', '😢'], ['Không', 'cần', 'xuất hiện', 'ma quỉ', '. Như', 'này', 'thôi', 'đã', 'đau', 'tim', 'lắm', 'rồi', '🥺', 'Anh', 'gan', 'quá', '!', '!', '!', 'Gút', 'chóp', 'anh', '!', 'Cẩn trọng', 'nha', 'anh'], ['41', ':', '26', 'có', 'bé', 'mèo', 'kìa', 'mọi', 'người'], ['Mình', 'ở', 'Việt Nam', 'nhưng', 'rất', 'thích', 'tính cách', 'và', 'cách', 'suy nghĩ', 'của', 'FOB', 'cũng', 'như', 'những', 'clip', 'của', 'FOB', 'làm nên', 'mình', 'sẽ', 'luôn', 'ủng hộ', 'bạn', 'chúc', 'bạn', 'thành công', 'hơn', 'nữa', '.'], ['Miêu tả', 'chi tiết', ':', 'bấy', 'nhầy', 'chết', 'không', 'kịp', 'ngáp', '(', '(', ':'], ['Tới', 'khúc', 'hình như', 'có', 'ai', 'ở', 'dưới', 'nhà', 'tao', 'tao', 'muốn', 'xỉu', 'ngang', 'gòi', 'á', 'troii'], ['Anh', 'phải', 'có', 'thêm', 'vài', 'người', 'đi', 'cùng', 'chứ', 'đi', '1', 'mình', 'như', 'này', 'em', 'thấy', 'sợ', 'thay', 'anh', '😯'], ['Vẫn', 'câu', ':', '“', 'chết', 'không', 'kịp', 'ngáp', '”'], ['1', 'điểm', 'cộng', 'cho', 'sự', 'gan dạ', 'Tui', 'ngồi', 'xem', 'mà còn', 'rén', ',', 'nổi', 'hết', 'da gà', '😖'], ['Lần', 'đầu tiên', 'đến', 'với', 'kênh', 'anh', '.', 'Câu chuyện', 'của', 'gia đình', 'nạn nhân', 'thật', 'khiến', 'nhiều', 'người', 'kinh hãi', ',', 'đau', 'sót', 'cho', 'những', 'đứa', 'trẻ', 'vô tội', ',', 'những', 'tâm hồn', 'trong sáng', 'nhất', 'của', 'gia chủ', '😔'], ['Tim', 'đập', 'nhanh', 'và', 'nhín', 'thở', 'khi', 'xem', ',', 'ghê', 'quá', 'mình', 'sợ', 'búp bê', 'lắm', 'bên', 'trong', 'thường', 'có', 'ma'], ['My', 'favorite', 'channèl', '<3'], ['Tui', 'coi', 'mà', 'hồi hộp', 'dùm', 'ổng', 'lun', 'á', 'trời'], ['Nể', 'ông', 'này', 'thiệt', 'chứ', 'like', 'mạnh', 'cho', 'ông', 'còn', 'tái hiện', 'lại', 'hiện trường', 'nữa', 'quá', 'hay', 'luôn'], ['Thật', 'tội nghiệp', 'các', 'nạn nhân', 'tại sao', 'thủ phạm', 'lại', 'quá', 'tàn nhẫn', 'cùng', 'lúc', 'giết', '8', 'mạng', 'người'], ['Xem', 'anh', 'này', 'cảm giác', 'chân thực', 'không', 'hề', 'ghép', 'âm thanh', 'như', 'mấy', 'ông', 'kia', 'làm', 'sợ', 'vãi'], ['Was', 'this', 'located', 'in', 'Iowa', '?', 'Apologies', ',', 'my', 'Vietnamese', 'is', 'very', 'limited', '.', \"I'm Khmer\", \". You're\", 'brave', '😂'], ['mong', 'anh', 'lần', 'sau', 'sẽ', 'đi', 'cùng', 'bạn bè', 'để', 'phòng', 'nguy hiểm', ',', 'nói', 'thật', 'mấy', 'địa danh', 'kiểu', 'này', 'thì', 'mình', 'không', 'sợ', 'ma', ',', 'chỉ', 'sợ', 'mấy', 'thằng', 'nghiện ngập', 'ẩn nấp', 'làm', 'điều', 'bất chính', 'thôi'], ['Thật ra', 'tui', 'chỉ', 'thích', 'anh', 'ấy', 'kể', 'về', 'lịch sử', 'của', 'những', 'nơi', 'nổi tiếng', 'ntn', 'chứ', 'còn', 'chuyện', 'tâm linh', 'thì', 'không', 'để ý', 'cho', 'lắm', '😁'], ['Má', 'ơi', 'ông', 'gan', 'kìaaa', ',', 'coi', 'mà', 'tim', 'đập', 'nhanh', 'dùm', 'ổng', 'luôn', 'á'], ['Ông', 'anh', 'này', 'mà', 'kết hợp', 'với', 'kênh', 'challenge', 'me', 'nữa', 'thì', 'tuyệt vời'], ['Thần kinh', 'thép', '.', 'Đến', 'hiện trường', 'kể', 'chuyện', 'vào', 'ban đêm'], ['bà', 'mèo', 'ở', 'khúc', 'cuối', 'bả', 'khoái', 'quá', 'ha', 'gì', ',', 'chạy', 'theo', 'anh', 'FOB', 'hoài', 'luôn'], ['Má', 'ơi', ',', 'chứ', 'a', 'thấy', 'ai', 'liều', 'như', 'ông', 'luôn', '. Clip', 'chất lượng', 'quá', 'ông', 'ạ'], ['From', '4', 'h', 'sáng', 'with', 'love', ',', 'đm', 'sợ', 'quá'], ['Mọi', 'người', 'cứ', 'nói', 'đi', 'theo', 'bạn', 'chứ', 'ai', 'đủ', 'gan dạ', 'đi', 'theo', 'anh', 'ấy', 'nào', '=))'], ['Phải', 'công nhận', 'anh', 'gan dạ', 'thiệt', '.', 'Dám', 'đi', '1', 'mjk', 'đến', 'chỗ', 'tâm linh', 'có', 'oán', 'khí', 'nặng', 'như', 'zậy'], ['Đi', '1', 'mình', 'vào', 'căn', 'nhà', 'như', 'này', 'ban đêm', '+', '1', 'Respect', 'cho', 'anh', '=))'], ['Mình', 'nghe', 'buổi', 'trưa', ',', 'sáng', 'bẹt', 'mắt', 'mà', 'đã', 'nổi', 'da gà', ',', 'anh', 'FOB', 'vào', 'tận', 'nơi', 'ngồi', 'tại', 'địa điểm', 'giết', 'người', 'để', 'mà', 'kể', 'truyện', 'vào', 'lúc', 'nữa', 'đêm', 'thì', 'quả', 'là', 'thần kinh', 'làm', 'bằng', 'vật liệu', 'siêu bền', 'rồi', ',', 'giọng', 'kể', 'rất', 'cuốn', '.', 'Lúc', 'đó', 'mà', 'vẫn', 'nói năng', 'rành mạch', 'vậy', 'thì', 'xứng đáng', 'vạn', 'like', '.'], ['em', 'lại', 'nghĩ', 'hắn', 'che', 'gương', 'lại', 'là', 'để', 'ma', 'trong', 'gương', 'không', 'bắt', 'hồn', 'hắn', 'đi', 'đó', 'anh'], ['Tui', 'nhìn', 'mà', 'sợ', 'lun', '😅', '😅', '10', 'đ', 'cho', 'sự', 'gan dạ', '❤', 'Mà', 'lần', 'sau', 'anh', 'nhớ', 'đi', 'chung', 'vs', 'bạn', 'đồng hành', 'nha', 'A', ':', '(', '(', 'Em', 'hồi hộp', 'dùm A lun'], ['Ở', 'nhà', '1', 'mình', 'tui', 'chẳng', 'giám', 'coi', 'thấy', 'video', 'này', 'trên', 'youtube', 'mấy', 'lần', 'rồitò', 'mò', 'quá', 'có', 'người', 'ở', 'nhà', 'mới', 'giám', 'coi', '😅'], ['Tra Tấn', 'Thót', 'Tim', 'chết', 'Tại', 'chổ'], ['Thật sự', '!', '!', 'E', 'cảm nhận', 'cổ họng', 'anh', 'cứng', 'lại', 'nhưng', 'vẫn', 'cố', 'bình tĩnh', 'để', 'kể', 'lại', '..', 'Khúc', 'đầu', 'quay', 'là', 'đã', 'thấy', 'bầu không khí', 'ảm đạm', 'kinh', 'lun', '!', '!', 'Mong', 'anh', 'lần', 'sau', 'dẫn', 'thêm', '1', 'ngườib', 'đồng hành', 'để', 'hỗ trợ', 'anh', 'trong', 'mọi', 'hoàn cảnh', 'xấu', 'nhất', '!', '!', 'Vì', 'không', 'ai', 'lường', 'trước', 'dc', 'điều', 'gì', 'đâu', 'anh', 'nhé', '..'], ['Thks', 'anh', 'rất', 'nhiều', 'vì', 'lòng', 'can', 'đãm', 'để', 'đến', 'căn', 'nhà', 'này', ',', 'thực sự', 'em', 'xem', 'mà', 'vẫn', 'không', 'khỏi', 'bủn rủn', 'chân tay', '😰', 'và', 'anh', 'đã', 'cung cấp', 'rất', 'nhiều', 'thông tin', 'về', 'vụ án', 'này', ',', 'xem', 'trên', 'báo', 'đài', 'vẫn', 'còn', 'rất', 'ít', ',', 'vì', 'vụ án', 'xảy', 'ra', 'rất', 'lâu', 'rồi', '.', 'Nể', 'phục', 'anh', 'thực sự', '🙏', '❤', '️', 'Sẽ', 'follow', 'anh', 'từ', 'đây', ':D'], ['Chu', 'choa', 'má', 'ơi', '.', 'Tưởng', 'ổng', 'review', 'xong', 'rồiđi', '.', 'Ai ngờ', 'ổng', 'còn', 'ở', 'lại', 'ngồi', 'kể', 'chuyện', 'nữa', 'chứ'], ['nể', 'anh', 'quá', ',', 'anh', 'gan', 'thật sự'], ['Mấy', 'vụ', 'thảm sát', 'này', 'còn', 'gớm', 'hơn', 'cả', 'mấy', 'chuyện', 'tâm linh', 'vì', 'thảm sát', 'và', 'người', 'gây án', 'đều', 'có', 'hiện hữu', 'thật', '.', 'Coi', 'xong', 'nể', 'anh', 'thật sự'], ['12', ':', '00', 'adu', 'xem', 'nhà', 'xong', 'ngồi', 'kể', 'chuyện', 'luôn', 'mới', 'dữ', ':))', 'ăn', 'gì', 'gan', 'vậy', 'trời'], ['Anh', 'ơi', 'em', 'nghỉ', 'anh', 'nên', 'tìm', 'thêm', '2-3', 'bạn', 'đồng hành', 'đi', 'ạ', ',', 'chứ', 'em', 'nhìn', 'anh', 'đi', '1', 'mình', 'em', 'ớn', 'lắm', 'luôn', 'á', '😢'], ['Sợ', 'mà', 'vẫn', 'thích', 'xem', 'kết quả', 'cả', 'đêm', 'k', 'dám', 'tắt', 'điện', '😓', '😫', '😭', 'Ai bảo', 'kiểu', 'này', 'cuốn', 'quá'], ['Không', 'biết', 'còn', 'đứng', 'nổi', 'trong', 'đây', 'không', ',', 'anh', 'gan dạ', 'thiệt', 'sự'], ['Có khi', 'ở', 'Việt Nam', 'nó', 'bắt', 'trong', '1', 'nốt nhạc', 'rồi', '=)))))'], ['Em', 'cũng', 'lạy', 'anh', 'luôn', 'em', 'ở', 'nhà', 'xem', 'mà còn', 'thấy', 'sợ', 'lắm', 'lun', 'rồi'], ['Vừa', 'từ', 'tiktok', 'qua', '🤧'], ['Em', 'mong', 'anh', 'lập', 'team', 'để', 'đi', 'chung', 'ạ', '=)))', 'chứ', 'thấy', 'anh', 'đi', 'một mình', 'mà', 'em', 'sợ', 'dùm', 'luôn', 'Á', '😿'], ['Ko', 'bt', 'ông', 'quay phim', 'sợ', 'không', ',', 'chứ', 'tui', 'thấy', 'sợ', 'vãi'], ['Xem', 'kiểu', 'sợ', 'bị', 'hù', ':', '('], ['cố', 'lên', 'fob', ',', '500', 'anh em', 'luôn', 'ở', 'bên', 'em', '.', 'Tuy nhiên', 'nếu', 'có', '1', 'người', 'nữa', 'thì', 'tốt', 'hơn', 'vì', 'mấy', 'chỗ', 'này', 'thấy', 'nguy hiểm', 'quá'], ['Sợ', 'Gì', 'Đúng', 'Không', 'Anh', '..', 'Cầm', 'camera', 'là', 'bất tử', 'liền', '😂'], ['Hãy', 'nhân danh', 'Chúa', 'khi', 'bạn', 'gặp', 'nguy hiểm', 'và', 'cầu nguyện', 'với', 'các', 'thiên thần', 'để', 'các', 'Ngài', 'bảo vệ', 'bạn', 'khỏi', 'quỷ', 'dữ'], ['Ông', 'anh', 'này', 'chính', 'là', 'cái', 'kiểu', 'người', 'ban đêm', 'đi', 'đái', 'không', 'cần', 'bật', 'đèn', 'nhà tắm'], ['3', 'h', '17', 'p', 'sáng', 'Hơi', 'sợ', 'nk', 'vẫn', 'gắng', 'xem', '=))'], ['Thích', 'mấy', 'video', 'ma mị', 'rùng rợn', 'này', 'nọ', 'như', 'này', 'ghê', ',', 'biết', 'anh', 'hơi', 'trễ', 'nhưng', 'k', 'sao', 'em', 'sẽ', 'theo dõi', 'kênh', 'của', 'anh', '😊', '😊', '😊', 'rất', 'hay', 'ạ', '.'], ['Lúc', 'đang', 'kể', 'tới', 'những', 'nghi', 'phạm', 'tự nhiên', 'ra', 'quảng cáo', 'Công Phượng', 'mà', 'hú hồn'], ['khiếp', 'anh', 'Fob', 'đang', 'cầm', 'cây', 'gậy', 'tự dưng', 'nghe', 'tiếng', 'ting', 'từ', 'điện thoại', ',', 'sợ', 'v', ':', '(', '(', '('], ['Thả', 'mình', 'vào', 'thế giới', 'Tâm Linh', 'để', 'cảm nhận', 'sự', 'sống', 'đằng', 'sau', 'cái', 'chết', '.', 'Lo lắng', 'cho', 'tâm lý', '&', 'tim mạch', 'của', 'Bạn', 'khi', 'vào', 'ngôi', 'nhà', 'này', '😨'], ['Khiếp', 'cái', 'anh', 'FOB', 'này', ',', 'mình', 'xem', 'mà', 'sợ', 'thót', 'tim'], ['❤', '️'], ['Thật', 'chứ', 'em', 'không', 'tin', 'là', 'anh', 'đi', 'một mình', 'và', 'cũng', 'tại', 'hiện trường', 'như', 'anh', 'nói', '..', 'chắc', 'có', 'kịch bản', 'thôi', 'còn', 'nếu như', 'anh', 'nói', 'thì', 'anh', 'quả', 'là', 'một', 'con người', 'quá', 'gan dạ'], ['em', 'khuyên', 'anh', 'lần', 'sau', 'anh', 'nên', 'đi', 'cùng', 'một', 'người', 'nào', 'đấy', 'để', 'tránh', 'những', 'chuyện', 'bất trắc', 'ạ'], ['Thề', 'luôn', 'xem', 'cứ', 'cuốn', 'thế là', 'đăng kí', 'kênh', 'ngay', ':))'], ['Quả', 'clip', 'đáng', 'sợ', 'nhất', 'đó', 'giờ', 'của', 'anh', ':', '(', '(', '('], ['Thật', 'tội nghiệp', 'các', 'nạn nhân', 'tại sao', 'thủ phạm', 'lại', 'quá', 'tàn nhẫn', 'cùng', 'lúc', 'giết', '8', 'mạng', 'người'], ['Duma', 'khúc', 'ổng', 'nói', 'có', 'người', 'dưới', 'nhà', 'làm', 'tui', 'sợ', 'xỉu', '😖'], ['5', ':', '30', 'way', ',', 'Annabelle', 'kia', '`', 'moa', \"'\", 'oi'], ['32', ':', '35', 'nghe', 'thấy', 'tiếng', 'đệm', 'gì', 'vậy', '?'], ['Cầu mong', 'Em', 'được', 'trời Phật', 'phù hộ', '.', 'Em', 'đi', 'một mình', 'chị', 'xem', 'clip', 'con', 'không', 'dám', 'nhìn', 'vào', 'màng', 'hình', 'điện thoại', ',', 'em', 'thi', 'ngồi', 'tại', 'hiện trường', 'cũ', 'kể', 'chuyện', 'luôn', '!', 'Hy vọng', 'em', 'sớm', 'co', 'bạn', 'đồng hành', 'chứ', 'c', 'xem', 'ma', 'lo lắng', '.'], ['Em', 'biết', 'kênh', 'anh', 'mới đây', 'thôi', ',', 'lúc', 'đó', 'tầm', '158', 'k', 'sub', ',', 'nhưng', 'bây giờ', 'lên', 'nhiều', 'quá', 'anh', 'ơi', '!', 'Chúc', 'anh', 'thành công', 'nha', '!', 'Em', 'sẽ', 'luôn', 'ủng hộ', 'những', 'video', 'của', 'anh', '!', 'Em', 'kể', 'chuyện', 'rất', 'hấp dẫn', 'và', 'lôi cuốn', 'người', 'xem', '!', 'Chúc', 'kênh', 'anh', 'ngày càng', 'phát triển', 'ạ', '❤', '️'], ['Ác', 'vl', ':))'], ['1', 'trong', '10', 'ngôi', 'nhà', 'đáng', 'sợ', 'nhất', 'tại', 'mỹ VS', '1', 'trong', 'những', 'người', 'dũng cảm', 'nhất', 'VN', ':)))'], ['lần', 'đầu', 'coi', ',', 'thấy', 'ổng', 'làm', 'hay', ',', 'cuốn hút', ',', 'sẽ', 'ủng hộ'], ['Đái', 'ra', 'máuuu', 'rồi', '🎀'], ['Anh', 'thật sự', 'tâm lý', 'và', 'sâu sắc', ':', '*', '(', '(', '(', '('], ['chết', 'không', 'kịp', 'ngáp', '=))))))))', 'cuốn', 'quá trời'], ['nghe', 'tiếng động', 'trong', 'nhà', 'có lẽ', 'là', 'hồn', 'ma', 'ám', 'trong', 'căn', 'nhà', 'đó', 'r', ':', '('], ['Lại', 'có', 'búp bê', 'nữa', 'chứ', 'kinh', 'đấy', ',', 'nhìn', 'anh', 'căng thẳng', 'em', 'cũng', 'lây', 'thay', '😰'], ['Tinh thần', 'thép', 'mọi', 'người', 'ạ', '.', 'Chúc', 'anh', 'gặp', 'nhiều', 'điều', 'may mắn', 'trong', 'cuộc sống', '.', 'Mình', 'rất', 'thích', 'xem', 'mấy', 'clip', 'kiểu', 'như', 'này', '.', 'Ủng hộ', 'a'], ['Mé', 'ổng', 'dám', 'ngồi', 'ở', 'cái', 'phòng', 'mà', 'chủ', 'nhà', 'bị', 'giết hại', 'ngồi', 'đó', 'kể', 'chuyện', 'hay', 'thiệt', 'chứ'], ['nghe', 'anh', 'kể', 'về', 'cách', 'hung thủ', 'hành động', 'thì', 'em', 'mới', 'thấy', 'thấy', 'rằng', 'có', 'một số', 'người', 'còn', 'đáng', 'sợ', 'hơn', 'ma quỷ', 'nhiều', ',', 'rùng mình'], ['Nghe', 'xong', 'sợ', 'quá', ',', 'hết', 'dám', 'tin', 'người', 'ngoài', 'luôn', ':', '('], ['eo', 'ơi', 'sợ', 'mà', 'cứ', 'thích', 'xem', ':))', 'xem', 'xong', 'hết', 'ngủ', 'luôn', '🤦', '🏻', '\\u200d', '♀', '️', 'không', 'hiểu', 'khiểu', 'j', 'luôn', 'ấy', '!', '!'], ['Anh', 'là', 'người', 'kể', 'chuyện', 'ma', 'chân thật', 'nhất', 'em', 'từng', 'xem', 'luôn', ':))'], ['Anh', 'FOB', 'ơi', 'em', 'thấy', 'anh', 'là', 'người', 'rất', 'can', 'đãm', 'luôn', 'á', 'luôn luôn', 'ủng hộ', 'anh', '^', '^'], ['Ai', 'biết', 'thằng', 'này', '(', 'tức', 'quá', 'nên', 'mình', 'xin', 'kêu', 'là', 'thằng', ')', 'hay', 'lết', 'ở', 'đường', 'nào', 'trên', 'Sài Gòn', 'thì', 'comment', 'giúp', 'mình', 'nha', ',', 'mình', 'mới', 'nhận', 'thông tin', 'là', 'nó', 'hay', 'lết', 'ở', 'đường', 'Nguyễn Trãi', ',', 'đường', '3/2', ',', 'đường', 'Tân Phú', '...', 'Ai', 'biết', 'nó', 'hay', 'lết', 'ở', 'đoạn', 'đường', 'nào', 'nữa', 'thì', 'comment', 'dưới', 'đây', 'giúp', 'mình', 'nha', ',', 'mình', 'phải', 'làm', 'cho', 'ra', 'lẽ', ',', 'cảm ơn', 'mọi', 'người'], ['Mình', 'đã', 'bị', 'nó', 'lừa', '..', 'Thủ đoạn', 'rất', 'tinh vi', 'mọi', 'người', 'hãy', 'cẩn thận', 'nhé'], ['Thương', '2', 'em', 'quá', '. Sợ', 'người ta', 'bị', 'lừa', ',', 'ai ngờ', 'chính', 'mình', 'bị', 'lừa', ',', 'lương tâm', 'con người', 'thật', 'là', 'DỄ SỢ', '.'], ['2', 'anh', 'thật', 'tốt', '.', 'Ước gì', 'bây giờ', 'ai', 'cũng', 'như', '2', 'anh', 'thì', 'thế giới', 'này', 'thay đổi', 'rồi'], ['Ông', 'này', 'hôm', 'bửa', 'nè', 'không', 'hiểu', 'trai trẻ', 'làm', 'như', 'vậy', 'có', 'ngày', 'sẽ', 'bị', 'thật', 'cho', 'khôngi'], ['2', 'cháu', 'có', 'lòng', 'hảo tâm', 'nên', 'tìm', 'đến', 'những', 'người', 'Cao tuổi', 'nèo', 'đơn', 'bệnh tật', 'giúp', 'không', 'sợ', 'bị', 'lừa', 'mà', 'có', 'ý nghĩa', 'hơn', '💛', '💛', '👍'], ['Buồn', 'quá', 'mọi', 'người', 'ạ', ',', 'mình', 'lại', 'bị', 'lừa', 'nữa', 'rồi', '.', 'cuộc sống', 'này', 'có', 'quá', 'nhiều', 'lừa dối', '.', 'Người', 'muốn', 'mạnh khỏe', 'để', 'đi', 'làm', '.', 'Còn', 'người', 'thì', 'giả vờ', 'tật nguyền', 'để', 'xin', 'tiền', 'Facebook', 'của', 'Trọng', 'https://www.facebook.com/phuctrongvlogss', 'Fanpage', 'của', 'Trọng', 'https://www.facebook.com/phuctrongyoutober/'], ['Bó tay', 'luôn', 'đủ', 'thứ', 'kiểu', 'để', 'lửa', 'gạt', '.', 'Thôi', 'đừng', 'buồn', 'các', 'em', 'nhé', ',', 'thương', 'các', 'em', 'lắm'], ['thương', 'nhóm', '.', 'Làm việc', 'ác', 'ắt', 'nhận', 'hậu quả', '.', 'Tấm lòng', 'của', 'các', 'bạn', 'cho', 'đi', 'sẽ', 'được', 'nhận', 'lại', 'điều', 'tốt', '.', 'Chúc', 'team', 'luôn', 'khoẻ mạnh'], ['Các', 'em', 'đi', 'làm', 'YouTube', 'giúp', 'cho', 'những', 'mảnh', 'đời', 'khó khăn', ',', 'nhưng', 'sao', 'thấy', 'mạo hiểm', 'quá', '...', 'Mong', 'quý', 'vị', 'và', 'các', 'Mạnh Thường Quân', 'có', 'giải pháp', 'giúp', 'đở', 'cho', 'các', 'em', 'này'], ['❤', '❤', '❤', 'hai', 'đứa', 'cháu', 'này', 'tốt', 'lắm', ',', 'cảm ơn', 'hai', 'cháu', 'nhé'], ['Hi vọng', 'cọc', 'vé số', 'đó', 'lại', 'trúng', 'được', 'vài', 'trăm', 'triệu', 'để', '2', 'em', 'đi', 'giúp đỡ', 'nhiều', 'người', 'hơn', 'nữa', 'hjjjj'], ['Em', 'hỏi', 'họ', 'nghe', 'cách', 'nói chuyện', 'của', 'ho', 'là', 'biết', 'liền', '.....', '✌', '️', '😷'], ['Không', 'biết', 'vé số', 'giả', 'hay', 'thiệt', '?', '. Thương', 'các', 'cháu', 'thật', 'nhiều', '❤', '️'], ['Cái', 'khúc', 'con', 'hẻm', 'tại', 'cái', 'bà', 'bận', 'áo', 'cam', 'chặn', 'đường', 'không', 'là', 'bắt', 'kịp', 'rồi', ',', 'tức', 'ở', 'chỗ', 'đó', ':', '<'], ['Thương', '2', 'anh', 'emquá'], ['Mấy', 'đứa', 'ơi', 'thằng', 'này', 'giả', 'đó', ',', 'hom', 'trước', 'nó', 'bị', 'bắt', 'một', 'lần', 'rồi', 'và', 'có', 'hứa', 'là', 'không', 'lam', 'nhu', 'vậy', 'nữa', 'mà', 'nay', 'nó', 'lại', 'chứng', 'nào', 'tật', 'nấy', 'dung', 'giúp', 'gì', 'nó', 'hết', 'moi', 'người', 'oi'], ['Tức giận', ',', 'tức', 'quá', 'chời', 'luôn', '👍'], ['trời', 'ơi', 'ông', 'shipper', 'ổng', 'đứng', 'nhìn', '🤣'], ['Rồi', '!', '!', '!', ',', 'from', 'Phú Yên', 'nữa', 'bà con', 'ơi', ','], ['Các', 'bạn', 'thật thà', 'quá', '.', 'Chỉ', 'vì', 'thương', 'người', 'thôi', '.', 'Lần', 'sau', 'các', 'bạn', 'lên cân', 'thận', 'và', 'tìm hiểu', 'kỹ', 'hơn', 'nha'], ['Khổ', 'lắm', 'thương', 'người', 'như thể', 'thương thân', ',', '😭'], ['Luôn luôn', 'gap', 'hoài', ',', 'đừng', 'buồn', 'e', '.', 'lần', 'sau', 'cân nhắc', 'thật', 'kĩ', 'khi', 'giúp đỡ', 'ai', '.', 'mãi', 'ủng hộ', 'lòng', 'tốt', 'của', 'e'], ['Lành lặn', 'không', 'thích', 'lại', 'thích', 'què', '!', 'Nó', 'đã', 'thích', 'què', 'thì', 'đánh', 'cho', 'nó', 'què', 'luôn', 'mấy', 'a', '!', '!', 'Lúc', 'ấy', 'tha hồ', 'nằm', 'lê lết', 'ngoài', 'đường', 'lượm', 'tiền', ':))', 'đỡ', 'phải', 'mang tiếng', 'lừa', 'đão'], ['Thời buổi', 'bây giờ', 'kh', 'hiểu', 'nổi'], ['Mấy', 'em', 'thật', 'tốt bụng', 'mua', 'vé số', 'ủng hộ', 'làm', 'việc', 'thiện', 'không', 'ngờ', 'bị', 'chúng nó', 'lừa', ',', 'vậy', 'là', 'bài học', 'rút', 'kinh nghiệm', 'lần', 'sau', '!'], ['Mấy', 'anh', 'đúng', 'là', 'người', 'rất', 'tốt', 'rất', 'ngưỡng mộ', 'và', 'khâm phục', 'Chúc', 'mấy', 'anh', 'luôn luôn', 'bình an', 'và', 'thành công'], ['Lần', 'sau', 'mình', 'chắc chắn', 'nó', 'k', 'dám', 'lếch', 'ra', 'đường', 'bán', 'đâu', ',', 'bỏ', 'tiền', 'ra', 'làm', 'vẫn', 'cũng', 'xứng đáng', 'cảm ơn', '2', 'anh', 'đã', 'làm', 'việc', 'tốt', 'cho', 'xã hội', '..'], ['Thời buổi', 'bây giờ', 'là', 'vậy', 'đó', 'anh', '.', 'Ba', 'mẹ', 'bạn', 'em', 'bị', 'lừa', 'rồi', 'đó', 'trời', 'ơi', 'là', 'trời', 'tức', 'thiệt', 'chứ', '😡', '😡', '😡'], ['Con', 'yên tâm', 'đi', 'phật', 'trời', 'sẽ', 'làm', 'cho', 'tụi', 'con', 'thấy', 'rõ', 'luật', 'trời', 'như', 'thế nào', 'là', 'lễ độ', '!', 'Nam mô', 'anh', 'di đà', 'phật'], ['Hai', 'bạn', 'thật', 'dũng cảm', '.'], ['Cảm ơn', 'mấy', 'em', 'làm', 'clip', 'cho', 'nhiều', 'người', 'dân', 'đỡ', 'bị', 'lũ', 'khốn nạn', 'lừa', 'đão'], ['Cô', 'xem', 'các', 'cảnh', 'này', ',', 'buồn', 'quá', '.', 'Tụi', 'con', 'ơi', ',', 'cẩn thận', 'nhe', '.'], ['Hiện tại', 'đang', 'ở', 'tân bình', 'nha', 'anh'], ['Thằng', 'này', 'tôi', 'gặp', 'hoài', ',', 'nó', 'giả', 'nhiệt tình', 'luôn', ',', 'cả', 'ngày', 'ngoài', 'đường', 'mà', 'da', 'trắng', 'như', 'bột', '😂', '😂', '😂', '😂', '😂'], ['Dân', 'phú', 'yên', 'nè', ',', 'sáng', 'nay', 'ngoài', 'chợ', 'An chấn', 'quê', 'mình', 'có', '3', 'cha', 'con', ',', 'mặt mũi', 'sáng láng', ',', 'bé', 'lớn', '5', 't', ',', 'nhỏ', 'giờng', '2', 't', ',', 'thằng cha', 'dẫn', 'ra', 'chợ', 'ngồi', 'xin', ',', 'quá', 'giờng', 'người', 'cho', 'tiền', '.', 'Lý do', 'xin', 'ăn', 'là', 'vì', 'vợ', 'bỏ', 'đi', 'không', 'có', 'tiền', 'nuôi', 'con', 'bạn', 'ạ', '.', 'Hết hồn'], ['Một', 'tháng', 'trước', 'bên', 'Anh', 'Tình', 'blog', 'có', 'đăng', 'rồi'], ['Ở', 'chợ', 'bến', 'bạ', 'huyện', 'cù lao dung', ',', 'st', 'cũng', 'có', '1', 'cặp', 'xin', 'ăn', '.', 'Lúc', 'xin', 'người', 'vợ', 'tưởng', 'như', 'bệnh', 'rất', 'nặng', 'sắp', 'chết', ',', 'nhung', 'khi', 'lên', 'xe', 'về', 'cười', 'nói', 'tỉnh bơ', ',', 'k', 'bị', 'gì', 'hết', '.'], ['Thật', 'tội nghiệp', 'cho', '2', 'em', '.', 'rút', 'kinh nghiệm', 'lần', 'sau', 'có', 'trường hợp', 'như', 'vậy', '.', 'Tụi', 'em', 'phải', 'xem', 'liền', 'tại chỗ', '.', 'Tại', 'tụi', 'em', 'tin', 'người', 'quá', '.', 'về', 'nhà', 'tụi', 'nó', 'còn', 'cười', 'tụi', 'em', 'nữa', '.', 'Nói', 'thật', 'tụi', 'em', 'là', 'nhà quê', 'lên', 'tỉnh', '.'], ['Các', 'bạn', 'thật', 'tốt bụng', '.', 'Bị', 'lợi dụng', 'đúng', 'là', 'ức chế', 'thật', '💐', '💐', '💐', '💐', '👌', '👍'], ['Kiếp', 'sau', 'là', 'mày', 'được', 'như', 'ý muốn', ',', 'lành lặn', 'không', 'muốn', 'muốn', 'gạt', 'người', 'khác'], ['Những', 'người', 'lừa dối', 'anh', 'thì', 'sau này', 'họ', 'sẽ', 'gặp', 'quả báo', 'còn', 'anh', 'sống', 'mà', 'có', 'lòng', 'thương', 'người', 'thì', 'sau này', 'anh', 'sẽ', 'gặp', 'may mắn', 'rất', 'nhiều', '❤', '️', '❤', '️'], ['Vừa', 'thấy', 'lết', 'trên', 'đường', 'Lí', 'thường kiệt', 'luôn', 'nè', '!'], ['Hội', 'của', 'nó', 'hỗ trợ', 'nhau', 'ngáng', 'đường', 'cắt', 'đuôi', 'Trọng', 'và', 'Khoa', 'rồi'], ['Anh', 'ơi', 'cho', 'em', 'hỏi', 'chiếc', 'áo khoác', 'anh', 'đang', 'mặc', 'tên', 'gì', 'ạ', '😂', '😂'], ['Các', 'cháu', 'làm phúc', 'là', 'rất', 'tốt', '.', 'Họ', 'lừa', 'thì', 'giờ', 'đi', 'bò', 'tiếp', 'mọi', 'người', 'sẽ', 'phát hiện', 'ra', 'mà', '.', 'Chúc', '2', 'cháu', 'trúng', 'thưởng', 'lớn', 'trong', '2', 'tập', 'vé số', 'để', 'tiếp tục', 'giúp', 'những', 'mảnh', 'đời', 'bất hạnh', '.', 'Hai', 'cháu', 'k', 'cần', 'đuổi', 'xe', 'theo', 'họ', 'nhỡ', 'gặp', 'nguy hiểm', 'nhé', '!'], ['R', 'mấy', 'thằng', 'dislike', 'cũng', 'giống', 'nó', 'luôn', 'à', '?'], ['Chúc', 'hai', 'Cháu', 'luân', 'bình an', 'mạnh khỏe', '.', 'Lần', 'sau', 'chớ', 'bị', 'kẻ gian', 'lừa', 'nữa', '...'], ['Giúp', 'người', 'còn', 'gặp', 'kẻ', 'xấu', 'thì', 'chịu', 'xã hội', 'bây giờ', 'rồi'], ['Hai', 'bạn', 'trẻ', 'cần', 'rút', 'kinh nghiệm', 'lại', '.', 'Giúp', 'người', 'là', 'việc', 'tốt', 'cần', 'phải', 'làm', 'nhưng', 'cần', 'phải', 'xem xét', 'cho', 'kỹ', 'rồi', 'hãy', 'giúp', '.', 'Cầu chúc', '2', 'bạn', 'có', 'nhiều', 'sức khỏe', 'để', 'làm', 'việc', 'thiện', '.'], ['Tôi', 'khuyên', 'mọi', 'người', 'muốn', 'giúp đỡ', 'người', 'nghèo', 'nhưng', 'người', 'tàn tật', 'nên', 'đi', 'đến', 'những', 'người', 'ở', 'vùng sâu vùng xa', 'rất', 'nhiều', 'người', 'còn', 'khổ', 'hơn', 'nhiều'], ['thương', '2', 'cháu', 'có', 'lòng', 'tốt', 'giúp', 'người', 'mà', 'bị', 'lửa', '2', 'cháu', 'nhớ', 'tìm hiểu', 'kỷ', 'rồi', 'hả', 'giúp', 'người', ',', 'chúc', 'cháu', 'trên', 'con', 'đường', 'làm', 'thiện', 'nguyên', 'may mắn', 'và', 'khoẻ mạnh', 'hạnh phúc'], ['Thời buổi', 'bây giờ', 'ớ', 'cứ', 'đi', 'lừa', 'đão', 'hoài', 'à', '..', 'Mấy', 'à', 'tốt', 'như', 'zây', 'mà', 'cứ', 'bị', 'lừa', 'hoài', 'à', '..', 'Mấy', 'người', 'này', 'á', 'người ta', 'có', 'câu', 'CÓ', 'LÀM', 'THÌ', 'MỚI', 'CÓ ĂN'], ['Bó tay', '...', 'O', 'sao', 'đâu', 'cháu', ',', 'vì', 'cháu', 'có', 'tấm', 'lòng', 'tốt', 'thôi', 'làm', 'việc', 'tốt', 'sẽ', 'có', 'trời', 'phật', 'phù hộ', ',', 'còn', 'họ', 'sống', 'sao', 'thì', 'nghiệp', 'đấy', 'thôi', 'cháu', 'á', '.', 'Chúc', '2', 'cháu', 'luôn', 'thành công', 'trong', 'công việc', 'nhé', '!'], ['Bạn', 'nên', 'giúp', 'những', 'người', 'già', 'và', 'người', 'đúng', 'bị', 'liệt', 'thật sự', 'mấy', 'thèn', 'này', 'chuyên nghiệp', 'mẹ', 'ròi'], ['Cầu', 'cho', '2', 'con', 'trúng', 'vài', 'tờ', 'trong', 'số', 'đó', 'để', 'tụi', 'con', 'làm', 'tự tiện'], ['Nhìn', 'mặt', 'đã', 'không', 'tin', 'rồi', 'thích', 'lợi dụng', 'lòng', 'tốt', 'củangườikhác', 'trả', 'sống', 'đc', 'tốt'], ['Dò', 'vé số', 'đi', 'anh', ',', 'biết đâu', 'trúng'], ['thương', 'anh', 'Trọng', '❤'], ['Nếu', 'lần', 'sau', 'thế nào', 'cũng', 'gặp', 'lại', 'sao', 'em', 'ơi', ',', ',', 'chúc', 'hai', 'em', 'luôn', 'khỏe mạnh', 'và', 'bình an', 'giống', 'như', 'lon', 'lưng'], ['Gì', 'tiền', 'mà', 'lòng', 'người', 'khó', 'lường', '.', 'tội nghiệp', 'cho', '2', 'em', 'gì', 'thường', 'người', 'mà', 'bị', 'lừa', 'tội nghiệp', '..'], ['Tức', 'nhất', 'là', 'bà', 'kia', 'chen', 'lại', 'khi', 'rượt', 'đuổi'], ['Thích', 'Khoa', '.', 'ghê'], ['Coi', 'giờng', 'xem', 'vé số', 'giả', 'luôn', 'hok', 'giờng', 'à'], ['Cám ơn', 'những', 'chàng', 'trai', '....', 'nho', 'các', 'em', 'mà', 'biết', 'được', 'những', 'kẻ', 'ăn xin', 'này'], ['Ung', 'hộ', '2', 'em trai', '💯', '💯', '💯', '💯', '💯', '💯'], ['2', 'em', 'quá', 'tốt'], ['Thui', 'hai', 'em', 'ơi', 'nó', 'thích', 'què', '.', 'Lại', 'lừa', 'hai', 'em', 'như', 'vậy', '.', 'Nó', 'sẽ', 'gặp', 'hậu quả', 'rồi', 'bị', 'què', 'luôn', 'đó', '.', 'Chúc', 'hai', 'em', 'khoẻ', 'làm', 'điều', 'nhiều', 'tốt'], ['Người', 'tàn tật', 'mà', 'có', 'Sk', 'lết', 'kinh', 'nhỉ', '😀', 'Muốn', 'giúp', 'người', 'phải', 'tìm hiểu', 'cho', 'kỹ', ',', 'mấy', 'tin', 'này', 'trên', 'YouTube', 'đầy', '.', 'Chúc', '2', 'em', 'gặp', 'may mắn', 'và', 'có', 'Sk', '..'], ['Ak', 'ơi', 'đừng', 'buồn', 'cố gắng', 'lên', '💪', '💪', '💪'], ['Gieo', 'gió', 'gặt', 'bão', 'ông Trời', 'cao', 'có', 'mắt', '.', 'Các', 'bạn', 'được', 'phước', '.'], ['Ráng', 'lên', 'người', 'tốt', 'sẽ', 'gặp may', 'thôi', 'sớm muộn', 'sẽ', 'bắt', 'được', 'nó', '💪', '💪'], ['Anh', 'chở', 'thẳng', 'lên', 'phường', 'là', 'nó', 'sợ', 'à', '.', '😂'], ['Người', 'tốt', 'anh', 'emxem', 'ủng hộ', 'cho', '2', 'anh', 'emcó', 'động lực'], ['Mấy', 'cái', 'đường', 'anh', 'chạy', 'gần', 'nhà', 'em', 'để', 'có', 'j', 'em', 'quan sát', 'rồi', 'em', 'ib', 'anh', 'nhé'], ['Cũng', 'may', 'có', 'khác', 'em', 'truy lùng', 'như', 'vậy', 'chứ', 'xã hội', 'này', 'càng ngày càng', 'ngoan'], ['Tụi', 'nó', 'bây giờ', 'lọng', 'hành', 'quá', 'mọi', 'người', 'cũng', 'cảnh giác', 'nhé'], ['Mấy', 'hôm', 'trước', 'ở', 'Trà Vinh', 'có', '2', 'người', '.', 'Y như', 'thế', 'này', 'nhưng', 'họ', 'bán', 'vé số', '.', 'Bị', 'thanh niên', 'xung kích', 'trà vinh', 'vạch trần', 'bộ mặt', 'thật', 'của', 'họ'], ['Chúc', 'các', 'con', 'sức khoẻ', 'các', 'con', 'nên', 'cảnh giác', 'và', 'gũi', 'gìn', 'bản thân'], ['Cảm ơn', 'video', ',', 'để', 'biết', 'có', 'gặp', 'né', '.'], ['Cuối cùng', 'hai', 'bạn', 'trúng độc đắc', 'chứ', 'a', '?', '?', 'kk'], ['Các', 'bạn', 'nên', 'giúp đỡ', 'những', 'người', 'có', 'hoàn cảnh', 'thật sự', '.', 'hãy', 'tìm hiểu', 'trước', 'kỹ', 'càng', 'rồi', 'giúp'], ['non', 'và', 'xanh', 'quá', '2', 'chú', '.', 'kkkkk'], ['Tội', 'à', 'quá', '.'], ['Bạn', 'bán', 'vé số', 'này', 'bị', 'phát hiện', 'rồinha', '....', 'Ae', 'vào', 'fb', 'Thanh niên', 'xung kích', 'trà vinh', 'sẽ', 'thấy'], ['Người', 'thật', 'không', 'bao giờ', 'làm', 'vậy', ',', 'vì', 'người ta', 'tự ái', ',', 'còn', 'những', 'người', 'không', 'tự ái', 'thì', 'bó tay', ',', 'bây giờ', 'có', 'nhiều', 'người', 'chăn dắt'], ['A', 'ơi', 'xuống', 'thăm', 'chú', 'Tuấn', 'đi', 'ạ'], ['Chào', 'các', 'con', '.', 'k', 'sao', 'đâu', '.', 'cac', 'con', 'đã', 'có', 'tâm hồn', 'cao đẹp', '.', 'cac', 'con', 'đã', 'cho', 'đi', 'rằng', 'các', 'con', 'sẽ', 'nhận', 'lại', '.', 'con', 'ai', 'sống', 'lua', 'đao', 'họ', 'sẽ', 'đón nhận', '...', 'nhan', 'qua', '..'], ['Nhìn', 'mà', 'sót', 'quá', '😭'], ['2', 'em', 'lần', 'sau', 'rút', 'kinh nghiệm', 'giờ', 'nó', 'cứ', 'giả vờ', 'lết', 'vậy', 'để', 'ban', 've', 'số', 'đó'], ['200', 'tờ', 'vé', 'đó', 'nếu', 'còn', 'sớm', 'hai', 'anh', 'tới', 'đại lý', 'thương lượng', '!'], ['troi', 'oi', 'toi', 'nghiep', '2', 'em', 'qua'], ['Tại sao', 'những', 'người', 'này', 'đa phần', 'là', 'người', 'miền', 'Trung', 'hết', 'vậy', 'mong', 'sống', 'thật', 'với', 'con', 'tim', 'mình', 'đi'], ['Thời buổi', 'giờ', 'nhìu', 'chiêu', 'trò', 'lắm', 'các', 'à', 'cẩn thận', 'lại', 'nha', '❤', '️'], ['Lại', 'tiếng', 'Phú Yên', 'kkkk'], ['Em', 'ơi', '!', 'Tốt bụng', 'như vậy', 'không', 'đáng', 'đâu', ',', 'luận', 'làm', 'gì', 'cho', 'mệt', ',', 'kẻ', 'đã', 'lừa', 'đão', 'còn', 'gì', 'để', 'nói', '.'], ['E', 'đừng', 'buồn', ',', 'chỉ', 'là', 'chúng ta', 'đa phần', 'lương thiện', ',', 'chỉ', 'là', 'mình', 'xui', 'gặp', 'phải', 'phường', 'lừa', 'đão', ',', 'mỗi', 'trải nghiệm', 'là', 'một', 'kinh nghiệm', ',', 'tiền', 'đó', 'em', 'xem', 'như', 'là', 'tiền', 'đóng', 'học phí', 'để', 'ta', 'học', 'thêm', 'kinh nghiệm', 'thôi', 'mà', '.', 'Nghĩ', 'vậy', 'đi', 'cho', 'lành', 'em', 'ạ'], ['Hai', 'ông', 'thật thà', 'chết', 'đc', ','], ['53', ':', '46', 'Bản nhạc', 'buồn', 'len lỏi', 'từng', 'góc phố', '🗑'], ['Mấy', 'cháu', 'qúa', 'hiền lành', 'nhưng', 'dễ', 'tin', 'người', ',', 'vì', 'là', 'tuổi trẻ', ',', 'nên', 'các', 'cháu', 'làm việc', 'rất', 'thật tâm', ',', 'nên', 'bị', 'người ta', 'chửi', ',', 'các', 'cháu', 'tức', ',', 'vì', 'bị', 'người ta', 'nói xấu', ',', 'chửi', 'các', 'cháu', ',', 'nên', 'các', 'cháu', 'giận', ',', 'cô', 'rất', 'hiểu', 'và', 'các', 'MTQ', 'cũng', 'rất', 'hiểu', 'các', 'cháu', '.', 'Các', 'cháu', 'hãy', 'vượt', 'qua', 'và', 'kẽ', 'lừa', 'mình', ',', 'họ', 'sẽ', 'bị', 'qua', 'báo', '!', '.'], ['Tội nghiệp', 'hai', 'cháu', 'quá', 'thật thà', 'khóa', 'lại', 'bị', 'lừa', 'kiếm', 'được', 'nó', 'ở', 'đâu', 'đem', 'nó', 'vô', 'công an']]\n"
     ]
    }
   ],
   "source": [
    "result = [word_tokenize(i) for i in comments]\n",
    "print(result)"
   ]
  },
  {
   "cell_type": "code",
   "execution_count": 53,
   "metadata": {},
   "outputs": [
    {
     "name": "stdout",
     "output_type": "stream",
     "text": [
      "<keras_preprocessing.text.Tokenizer object at 0x7fd735915520>\n"
     ]
    }
   ],
   "source": [
    "from keras.preprocessing.text import Tokenizer \n",
    "tokenizer = Tokenizer()\n",
    "tokenizer.fit_on_texts(result)\n",
    "print(tokenizer)"
   ]
  },
  {
   "cell_type": "code",
   "execution_count": 54,
   "metadata": {},
   "outputs": [
    {
     "name": "stdout",
     "output_type": "stream",
     "text": [
      "[[0. 0. 0. ... 0. 0. 0.]\n",
      " [0. 0. 0. ... 0. 0. 0.]\n",
      " [0. 0. 0. ... 0. 0. 0.]\n",
      " ...\n",
      " [0. 0. 0. ... 0. 0. 0.]\n",
      " [0. 1. 1. ... 0. 0. 0.]\n",
      " [0. 0. 0. ... 1. 1. 1.]]\n"
     ]
    }
   ],
   "source": [
    "X = tokenizer.texts_to_matrix(result,mode='binary')\n",
    "print(X)"
   ]
  },
  {
   "cell_type": "code",
   "execution_count": 55,
   "metadata": {},
   "outputs": [],
   "source": [
    "from sklearn.model_selection import train_test_split\n",
    "X_train, X_test, y_train, y_test = train_test_split(X, tag, test_size=0.5, random_state=10)"
   ]
  },
  {
   "cell_type": "code",
   "execution_count": 56,
   "metadata": {},
   "outputs": [
    {
     "data": {
      "text/plain": [
       "array([[0., 0., 0., ..., 0., 0., 0.],\n",
       "       [0., 0., 0., ..., 0., 0., 0.],\n",
       "       [0., 1., 0., ..., 0., 0., 0.],\n",
       "       ...,\n",
       "       [0., 0., 0., ..., 0., 0., 0.],\n",
       "       [0., 0., 0., ..., 0., 0., 0.],\n",
       "       [0., 0., 0., ..., 0., 0., 0.]])"
      ]
     },
     "execution_count": 56,
     "metadata": {},
     "output_type": "execute_result"
    }
   ],
   "source": [
    "X_train"
   ]
  },
  {
   "cell_type": "code",
   "execution_count": 57,
   "metadata": {},
   "outputs": [
    {
     "name": "stdout",
     "output_type": "stream",
     "text": [
      "              precision    recall  f1-score   support\n",
      "\n",
      "       Anger       1.00      0.15      0.27        13\n",
      "     Disgust       0.00      0.00      0.00        11\n",
      "   Enjoyment       0.39      0.56      0.46        43\n",
      "        Fear       0.00      0.00      0.00        13\n",
      "       Other       0.28      0.35      0.31        34\n",
      "     Sadness       0.27      0.48      0.34        21\n",
      "    Surprise       0.50      0.18      0.26        17\n",
      "\n",
      "    accuracy                           0.34       152\n",
      "   macro avg       0.35      0.25      0.23       152\n",
      "weighted avg       0.35      0.34      0.30       152\n",
      "\n"
     ]
    }
   ],
   "source": [
    "from sklearn.linear_model import LogisticRegression  \n",
    "from sklearn.metrics import classification_report\n",
    "model_LR = LogisticRegression(max_iter=50000)\n",
    "model_LR = model_LR.fit(X_train,y_train)\n",
    "y_pred = model_LR.predict(X_test)\n",
    "print(classification_report(y_test,y_pred))"
   ]
  },
  {
   "cell_type": "code",
   "execution_count": 64,
   "metadata": {},
   "outputs": [
    {
     "name": "stdout",
     "output_type": "stream",
     "text": [
      "['tội nghiệp', 'hai', 'bạn', 'quá', 'à', ':', '(']\n"
     ]
    }
   ],
   "source": [
    "input_sen = 'tội nghiệp hai bạn quá à :('\n",
    "tokens = word_tokenize(input_sen)\n",
    "print(tokens)"
   ]
  },
  {
   "cell_type": "code",
   "execution_count": 65,
   "metadata": {},
   "outputs": [
    {
     "name": "stdout",
     "output_type": "stream",
     "text": [
      "[[0. 0. 0. ... 0. 0. 0.]]\n"
     ]
    }
   ],
   "source": [
    "X_input = tokenizer.texts_to_matrix([tokens],mode='binary')\n",
    "print(X_input)"
   ]
  },
  {
   "cell_type": "code",
   "execution_count": 66,
   "metadata": {},
   "outputs": [
    {
     "name": "stdout",
     "output_type": "stream",
     "text": [
      "['Sadness']\n"
     ]
    }
   ],
   "source": [
    "y_pred = model_LR.predict(X_input)\n",
    "print(y_pred)"
   ]
  },
  {
   "cell_type": "code",
   "execution_count": null,
   "metadata": {},
   "outputs": [],
   "source": []
  },
  {
   "cell_type": "code",
   "execution_count": null,
   "metadata": {},
   "outputs": [],
   "source": []
  },
  {
   "cell_type": "markdown",
   "metadata": {},
   "source": [
    "# Sklearn"
   ]
  },
  {
   "cell_type": "code",
   "execution_count": 67,
   "metadata": {},
   "outputs": [
    {
     "data": {
      "text/html": [
       "<div>\n",
       "<style scoped>\n",
       "    .dataframe tbody tr th:only-of-type {\n",
       "        vertical-align: middle;\n",
       "    }\n",
       "\n",
       "    .dataframe tbody tr th {\n",
       "        vertical-align: top;\n",
       "    }\n",
       "\n",
       "    .dataframe thead th {\n",
       "        text-align: right;\n",
       "    }\n",
       "</style>\n",
       "<table border=\"1\" class=\"dataframe\">\n",
       "  <thead>\n",
       "    <tr style=\"text-align: right;\">\n",
       "      <th></th>\n",
       "      <th>comment</th>\n",
       "      <th>tag</th>\n",
       "    </tr>\n",
       "  </thead>\n",
       "  <tbody>\n",
       "    <tr>\n",
       "      <th>0</th>\n",
       "      <td>2021 ai còn nghe ^_^</td>\n",
       "      <td>Enjoyment</td>\n",
       "    </tr>\n",
       "    <tr>\n",
       "      <th>1</th>\n",
       "      <td>Qua nghe Chi Pu thì thấy Chi Pu vẫn đỉnh hơn P...</td>\n",
       "      <td>Enjoyment</td>\n",
       "    </tr>\n",
       "    <tr>\n",
       "      <th>2</th>\n",
       "      <td>Có ai đến từ  Cơm sườn  Phí Phương Anh không :))</td>\n",
       "      <td>Enjoyment</td>\n",
       "    </tr>\n",
       "    <tr>\n",
       "      <th>3</th>\n",
       "      <td>bài này của  chị Chi Pu ra cũng lâu r, đã nghe...</td>\n",
       "      <td>Sadness</td>\n",
       "    </tr>\n",
       "    <tr>\n",
       "      <th>4</th>\n",
       "      <td>Người ta chỉ sợ công chúa khóc Không ai biết r...</td>\n",
       "      <td>Other</td>\n",
       "    </tr>\n",
       "    <tr>\n",
       "      <th>...</th>\n",
       "      <td>...</td>\n",
       "      <td>...</td>\n",
       "    </tr>\n",
       "    <tr>\n",
       "      <th>96</th>\n",
       "      <td>E đừng buồn, chỉ là chúng ta đa phần lương thi...</td>\n",
       "      <td>Sadness</td>\n",
       "    </tr>\n",
       "    <tr>\n",
       "      <th>97</th>\n",
       "      <td>Hai ông thật thà chết đc,</td>\n",
       "      <td>Other</td>\n",
       "    </tr>\n",
       "    <tr>\n",
       "      <th>98</th>\n",
       "      <td>53:46 Bản nhạc buồn len lỏi từng góc phố 🗑</td>\n",
       "      <td>Other</td>\n",
       "    </tr>\n",
       "    <tr>\n",
       "      <th>99</th>\n",
       "      <td>Mấy cháu qúa hiền lành nhưng dễ tin người , vì...</td>\n",
       "      <td>Anger</td>\n",
       "    </tr>\n",
       "    <tr>\n",
       "      <th>100</th>\n",
       "      <td>Tội nghiệp hai cháu quá thật thà khóa lại bị l...</td>\n",
       "      <td>Anger</td>\n",
       "    </tr>\n",
       "  </tbody>\n",
       "</table>\n",
       "<p>303 rows × 2 columns</p>\n",
       "</div>"
      ],
      "text/plain": [
       "                                               comment        tag\n",
       "0                                 2021 ai còn nghe ^_^  Enjoyment\n",
       "1    Qua nghe Chi Pu thì thấy Chi Pu vẫn đỉnh hơn P...  Enjoyment\n",
       "2     Có ai đến từ  Cơm sườn  Phí Phương Anh không :))  Enjoyment\n",
       "3    bài này của  chị Chi Pu ra cũng lâu r, đã nghe...    Sadness\n",
       "4    Người ta chỉ sợ công chúa khóc Không ai biết r...      Other\n",
       "..                                                 ...        ...\n",
       "96   E đừng buồn, chỉ là chúng ta đa phần lương thi...    Sadness\n",
       "97                        Hai ông thật thà chết đc,      Other\n",
       "98          53:46 Bản nhạc buồn len lỏi từng góc phố 🗑      Other\n",
       "99   Mấy cháu qúa hiền lành nhưng dễ tin người , vì...      Anger\n",
       "100  Tội nghiệp hai cháu quá thật thà khóa lại bị l...      Anger\n",
       "\n",
       "[303 rows x 2 columns]"
      ]
     },
     "execution_count": 67,
     "metadata": {},
     "output_type": "execute_result"
    }
   ],
   "source": [
    "all_"
   ]
  },
  {
   "cell_type": "code",
   "execution_count": null,
   "metadata": {},
   "outputs": [],
   "source": []
  },
  {
   "cell_type": "code",
   "execution_count": 68,
   "metadata": {},
   "outputs": [
    {
     "data": {
      "text/html": [
       "<div>\n",
       "<style scoped>\n",
       "    .dataframe tbody tr th:only-of-type {\n",
       "        vertical-align: middle;\n",
       "    }\n",
       "\n",
       "    .dataframe tbody tr th {\n",
       "        vertical-align: top;\n",
       "    }\n",
       "\n",
       "    .dataframe thead th {\n",
       "        text-align: right;\n",
       "    }\n",
       "</style>\n",
       "<table border=\"1\" class=\"dataframe\">\n",
       "  <thead>\n",
       "    <tr style=\"text-align: right;\">\n",
       "      <th></th>\n",
       "      <th>comment</th>\n",
       "      <th>tag</th>\n",
       "    </tr>\n",
       "  </thead>\n",
       "  <tbody>\n",
       "    <tr>\n",
       "      <th>0</th>\n",
       "      <td>2021 ai còn nghe ^_^</td>\n",
       "      <td>2</td>\n",
       "    </tr>\n",
       "    <tr>\n",
       "      <th>1</th>\n",
       "      <td>Qua nghe Chi Pu thì thấy Chi Pu vẫn đỉnh hơn P...</td>\n",
       "      <td>2</td>\n",
       "    </tr>\n",
       "    <tr>\n",
       "      <th>2</th>\n",
       "      <td>Có ai đến từ  Cơm sườn  Phí Phương Anh không :))</td>\n",
       "      <td>2</td>\n",
       "    </tr>\n",
       "    <tr>\n",
       "      <th>3</th>\n",
       "      <td>bài này của  chị Chi Pu ra cũng lâu r, đã nghe...</td>\n",
       "      <td>5</td>\n",
       "    </tr>\n",
       "    <tr>\n",
       "      <th>4</th>\n",
       "      <td>Người ta chỉ sợ công chúa khóc Không ai biết r...</td>\n",
       "      <td>4</td>\n",
       "    </tr>\n",
       "    <tr>\n",
       "      <th>...</th>\n",
       "      <td>...</td>\n",
       "      <td>...</td>\n",
       "    </tr>\n",
       "    <tr>\n",
       "      <th>96</th>\n",
       "      <td>E đừng buồn, chỉ là chúng ta đa phần lương thi...</td>\n",
       "      <td>5</td>\n",
       "    </tr>\n",
       "    <tr>\n",
       "      <th>97</th>\n",
       "      <td>Hai ông thật thà chết đc,</td>\n",
       "      <td>4</td>\n",
       "    </tr>\n",
       "    <tr>\n",
       "      <th>98</th>\n",
       "      <td>53:46 Bản nhạc buồn len lỏi từng góc phố 🗑</td>\n",
       "      <td>4</td>\n",
       "    </tr>\n",
       "    <tr>\n",
       "      <th>99</th>\n",
       "      <td>Mấy cháu qúa hiền lành nhưng dễ tin người , vì...</td>\n",
       "      <td>0</td>\n",
       "    </tr>\n",
       "    <tr>\n",
       "      <th>100</th>\n",
       "      <td>Tội nghiệp hai cháu quá thật thà khóa lại bị l...</td>\n",
       "      <td>0</td>\n",
       "    </tr>\n",
       "  </tbody>\n",
       "</table>\n",
       "<p>303 rows × 2 columns</p>\n",
       "</div>"
      ],
      "text/plain": [
       "                                               comment  tag\n",
       "0                                 2021 ai còn nghe ^_^    2\n",
       "1    Qua nghe Chi Pu thì thấy Chi Pu vẫn đỉnh hơn P...    2\n",
       "2     Có ai đến từ  Cơm sườn  Phí Phương Anh không :))    2\n",
       "3    bài này của  chị Chi Pu ra cũng lâu r, đã nghe...    5\n",
       "4    Người ta chỉ sợ công chúa khóc Không ai biết r...    4\n",
       "..                                                 ...  ...\n",
       "96   E đừng buồn, chỉ là chúng ta đa phần lương thi...    5\n",
       "97                        Hai ông thật thà chết đc,    4\n",
       "98          53:46 Bản nhạc buồn len lỏi từng góc phố 🗑    4\n",
       "99   Mấy cháu qúa hiền lành nhưng dễ tin người , vì...    0\n",
       "100  Tội nghiệp hai cháu quá thật thà khóa lại bị l...    0\n",
       "\n",
       "[303 rows x 2 columns]"
      ]
     },
     "execution_count": 68,
     "metadata": {},
     "output_type": "execute_result"
    }
   ],
   "source": [
    "from sklearn.preprocessing import LabelEncoder\n",
    "le = LabelEncoder()\n",
    "all_['tag'] = le.fit_transform(all_['tag'])\n",
    "all_"
   ]
  },
  {
   "cell_type": "code",
   "execution_count": 69,
   "metadata": {},
   "outputs": [
    {
     "name": "stdout",
     "output_type": "stream",
     "text": [
      "['2021 ai còn nghe ^ _ ^', 'Qua nghe Chi_Pu thì thấy Chi_Pu vẫn đỉnh hơn Phí Phương_Anh : ) )', 'Có ai đến từ Cơm sườn Phí Phương_Anh không : ) )', 'bài này của chị Chi Pu ra cũng lâu r , đã nghe rất nhiều , nhưng không hiểu sao hôm_nay nghe lại thì buồn đến thế . : ( ( ( thương cho nhân_vật Cám . . hay thương cho chính mình ... . .', 'Người_ta chỉ sợ công_chúa khóc Không ai biết rằng phù_thủy cũng biết đau Cre : truyện không_thể yêu em một ngày sao', 'Lại là chia_tay sau những lần không hiểu nhau Tại vì thơ_ngây bao_nhiêu lần yêu vỡ nát nữa rồi Tại vì hôm mưa anh đưa chiếc ô Đã làm trái_tim em có cầu_vồng', 'Quay lại nghe Chi Pu hát để rửa tai rửa mắt ( sau khi nghe 2 bài của Phí Phương_Anh ) 🤧', 'Diễn_xuất của chị xuất_sắc thật , dù chỉ là MV nhưng cảm_xúc như 1 bộ phim_vậy .', 'còn ai nghe không ? 93tr view rồi nè', 'Ta nâng ô che nàng ngày mưa_gió ... nàng lại ngỡ tình đó là nơi vua ... Zinniareigia', 'Ý_tưởng kịch_bản xuất_sắc quá , bài hát cũng hay , công_nhận nhờ bài này mà tao có cảm_tình với Chipu , phục ông Đạt G sáng_tác hay quá ạ', \"Ai vẫn nghe giơ tay nàoooooooooo Híc híc buồn wa '\", 'Đến bây_giờ có ai còn nghe bài này k ạ Cố_gắng lên 100M thôi mọi người ơi', 'Hay quá 💯 😍 nhớ ngày_xưa comeback hóng toàn MV chị chipu', 'Tui thấy thị_vệ đẹp_trai hơn hoàng thượng đó có ai chung suy_nghĩ không ? ? ?', 'Nghe qua bài này rồi thì mới thấy So_sánh Chi Pu vs Phí Phương_Anh là tao tội_ác 😰', 'Xem Phí Phương Anh xong qua nghe chipu vẫn đỉnh hơn', 'Sau 1 năm quay lại thì vẫn thấy MV và bài hát này xuất_sắc .', 'Ngày ấy che ô , tưởng lòng mình đã cùng 1 chỗ Khoảng khắc vén màn , mới biết tình nàng đâu có chỗ cho ta .', 'Hoàng_tử chỉ nghĩ đến sự đáng thương của Tấm mà quên mất Cám cũng muốn được yêu_thương : )', 'Giờ còn ai xem_lại không nhỉ . MV này Chi diễn đỉnh thật_sự . Ánh mắt biết diễn . . : ) )', 'Mọi người ơi nếu được cố_gắng trong năm nay đưa MV này lên 100m lượt xem ... đây sẽ là món quà vô_cùng to_lớn dành tặng cho chị ấy ... cô gái mạnh_mẽ nghiêm_túc trong nghệ_thuật nghị_lực phi_thường ... ❤ ❤ ❤ ❤ ❤ ❤', 'Người che ô cho nàng là ta ! Người vén màn kiệu cho nàng là ta ! Người đốt vàng_mã cho nàng cũng là ta ! Best thị_vệ = ) ) ) )', 'Nhiều câu_chuyện tình_yêu trong đó người đau_khổ nhất vẫn là nữ phụ . .', '100M nào Sunny ơiii ! ! Chồng yêu của em ❤ ❤ 👉 👈', 'Nghe nhạc của Chi Pu nó cũng ở đẳng_cấp khác so với con mẹ Phí Phương_Anh kia rồi 🥴 🥴 🥴', 'Hay quá Love Chipu and this song', 'Ai đọc được cmt CHÚC NGƯỜI ĐÓ THI TỐT < 3', 'Cứ mãi lo cho người ướt áo Quanh_đi quẩn lại ta mới là người ướt lòng .', '90m ê', 'Sắp 100m view rồi : >> >', 'Sắp 95tr view r', 'Hoàng_tử chỉ thấy Tấm khóc nhưng đâu biết cám cũng buồn = ) ) )', 'Có ai đang cày 100tr không ạ hih', 'Sắp 100 triệu views rồi ❤ ️', '90m nào', 'Trời mưa mà nghe lại bài này của Chi nó da_diết làm_sao . Từ giọng hát cho đến diễn_xuất tất_cả điều vô_cùng hoàn_hảo . Rất hay', 'Vì sợ cô_đơn nên mặc_kệ đúng sai 😭', 'Có ai xem MV mà thấy thị_vệ còn đáng thương hơn Cám không ?', 'Công_nhận nghe mãi vẫn hay chị yêu ạ , Ko biết chị có đọc dc cmt này không , dù ai nói j , em vẫn mãi Fan chị và vẫn mãi ủng_hộ chị , Thân_ái 10 / 1 / 2020', '18 / 9 / 2020 điểm_danh những người còn xem', 'Còn ai nghe không ta , dù_sao thì mình vẫn ủng_hộ chị', 'Chuyện cổ_tích Tấm Cám : Huỳnh_Lập kể về dì_ghẻ , Ngô_Thanh_Vân kể về hoàng_tử , Chi Pu kể về Cám , 365 kể về cá_bống : ) )', 'Bài này được nhiều biết vì Đạt G sáng_tác đỉnh', 'Thick nhất bài hát này của chị Chi_Pu ( ❁ ´ ◡ ` ❁ )', 'Lúc_nào trong ty mình cũng nói a ơi ở lại với em đi vì quá yêu nên mặc_kệ họ đúng sai miễn_sao níu họ lại đc , nhưng họ nhất_định rời đi', \"Oh_My_Gooddddddddddddd , I ' m testing my phonè and I hear this song . OMG , I fall in love ~\", 'Chúc_mừng MV hơn 90tr lượt xem rồi . · ´ ¯ ` ( > ▂ < ) ´ ¯ ` · .', 'Hơn 1 năm rồi mà vẫn nghe hoài không chán .', '1ngày không nghe quay lại đã lên 90m | chúc_mừng ❤ 🎉', 'Cầu cho những ai thấy bình_luận này luôn gặp may_mắn trong năm 2019', '100M letgo', 'Bh còn ai xem bài này không ? , Nay mở ra xem_lại vậy thấy hay quá : ) ) )', 'trong cả tá MV của Chipu thì cái này là ổn nhất vì cả nhạc cả nội_dung MV không bị nhảm như mấy cái kia : ) ) ) ) )', 'Bài này vẫn đỉnh nhất này', 'Lần đầu_tiên khóc vì Cám , chị hoá_thân lột_tả một góc khuất tình_yêu của Cám theo một_cách quá xuất_sắc . Ngây_ngô có thâm_độc có đau_đớn có nói_chung tất_cả là một màu_sắc rất riêng tạo nên câu_chuyện Cám Tấm mà k ai có_thể ngờ được là có một cô Cám đáng trách lại đáng thương đến thế . MV ý_nghĩa , giọng hát hay , diễn suất đỉnh ... chả chê được điễm nào ❤ ️', 'Đỉnhhhhh', '91m sớm thuiiii', 'Yeah 90m rồi ❤ ❤', 'Ai còn nghe không kk', 'Vẫn đang cày view cho bài cán mốc 100M luôn mọi người ơi', '89.6 m', 'MV được quay tại khu di_tích lịch_sử 🗓 Lam Kinh_Thanh_Hóa .', 'Mấy bạn cứ bảo Vua với Tấm không đc xinh vì đơn_giản họ là vai phụ trong MV này thôi , chứ xinh hơn lấy đâu ra điểm nhấn cho Cám với Thị_vệ', '2 : 49 ấm_áp cho ai 🥰 🥰 , thích ghê_á trời', 'Số người từ tiktok bay qua đây', 'MV là một bản ballad thiết_tha , nhẹ_nhàng chạm đến từng giọt cảm_xúc buồn - mang đến sự đồng_cảm của người nghe .', 'Ngày nào cũng nghe bài này của Chi , càng nghe càng thấy hay . Chi diễn vai Cám này công_nhận xuất_sắc , ánh mắt , thần_thái , nội_tâm của Cám được Chi thể_hiện rất nuột_nà . Luôn ủng_hộ Chi', 'Đây là MV hay nhất của Chipu MV rất thấm_thía và sâu_sắc . Phản_ánh 1 mặt_khác về nv Cám', 'co gang cay view len 100tr moi nguoi oi', 'Chipu mặc_dù hát live éo hay lắm nhưng bài này dc đầu_tư và hay thật', 'Bài này hay nhất trong mấy bài chipu hát', 'Mỗi khi mùa đông đến lại vào nghe lại bài này , lời bài hát da_diết , thấm từng câu : ( (', 'Gần 100tr view rồi : ) ) 2020 ? ? ? ❤', 'Ai đang thất_tình nghe bài này thì tim đã nứt giờ còn vỡ thành nghìn_mảnh', 'Mong mọi người ủng_hộ MV này của Chi ạ . Để lên 100tr view nha . Cảm_ơn mọi người nhiêfu ạ', 'Hi_vọng MV sẽ đạt 100M views', 'Đoạn của ĐạtG hay thật !', 'Diễn_xuất và giọngcông ancủa CHI dạo này và cô ấy ngày_càng cải_thiện con đườngcông anhát . Mọi người sẽ nhận ra sự_cố_gắng ngày_một hoàn_thiện dần . chúc cô gái trẻ thành_công', 'Có ai nghĩ như mình không : đoạn bị trầy gót là do chiếc giày đó của cám , hôm mưa bị ngã nên chân mới trầy , nhưng chân tấm vẫn vừa , theo chuyện thì giày của tấm , nhưng đây là tấm cám chuyện chipu kể nên kịch_bản khác : ) )', 'Love Chipu from South_Korea', 'Nghe nhiều nữa đi nm sắp được 100 triệu lượt xem rồi , vậy mới sứng vs b hát này : )', 'đến giờ vẫn nghe bài này thường_xuyên vì nó có cảm_xúc nhẹ_nhàng , mỗi lần buồn buồn nghe bài này hay cực < 3 chị chipu cảm_ơn chị ra bài hát này < 3', 'nghe đi nghe lại vẫn thấy rất bắt tai vì phần lời đầy cảm_xúc đau_buồn của tình_yêu , giọng của Chipu cũng cực_kì hợp với bài hát nữa 😍 😍 😍 đặc_biệt yêu thích khi MV đầu_tư về mặt hình_ảnh chất_lượng như này , rất đậm chất Việt_Nam 💖 💖 💖', 'trót yêu Chipu từ video này ...', 'Một MV độc_đáo , thú_vị , hấp_dẫn . Đôi mắt của Cám ở từng phân_đoạn trong MV ám_ảnh người xem .', 'Hôm_nay 30 tháng 8 2020 mình nghe lại bài này . có ai giống mình k ạ', 'Sắp 100tr view rồi', '90m rồi nhá . congratulations', 'Đây là tác_phẩm tao thích nhất của Chipu từ đầu đến giờ nhạc thì nhẹ_nhàng nhưng lại có cảm_giác rất thu_hút MV quá chỉnh chu cốt_truyện cũng rất hấp_dẫn 😘 😘 💚 💚', 'Lời bài hát đẹp , dễ nghe , dễ thuộc , nhưng không hề dễ hát . Chi đã hát rất hay bài hát này của chính mình với ngập_tràn cảm_xúc trong từngcông antừ của một câu_chuyện tình_yêu 💔', 'Sao cái này tui crush cám hơn', 'Thằng che ô thì k thích lại thích ông qua đường 😁 😁 😁', '100 M thẳng tiến naod', 'Chúc_mừng chị , đại_diện VN tham_gia đêm hộicông annhạc . Chị Chi cố lên . Sắp 100tr view rồi .', 'Nghe cả năm rồimà vẫn không chán 😂', 'Sao có người lại nghĩ ra cái movie hay thế này nhỉ', 'Cày liên_tục , cày mòn_mỏi mà mãi chứ a lên được 90M . Mong Chi Pu thả tym : ) ) ) ) để có động_lực lên hẳn 100M luôn', 'Gil ơi ❤ ️', 'Lấp_lánh những ánh đèn đường hoà cùng tiếng mưa giông đang kéo về ... Thích câu này , nghe buồn , cô_đơn quá !', 'Lần đầu_tiên trong đời mọi người thấy thương Cám hơn Tấm = ) )', 'Sợ ma thì có đó mà rất thích xem kiểu clip như này vào buổi tối , cảm_giác nó vừa sợ vừa hào_hứng kiểu j ấy 😅', 'Có ai giống mình không , sợ ma mà vẫn thích xem', 'Hung_thủ che gương bởi_vì sợ sau khi giết linh_hồn sẽ đi vào gương và sẽ tìm hắn trả_thù qua những chiếc gương mà hắn ở gần', 'Khung_cảnh ở đó im_lặng xong rồi nghe giọng trầm trầm của ổng nghe đã tai thiệt : ) )', 'Nếu Video này Fob bị mất tâm_lí nói không chuẩn một_số câu thông_cảm nhé .', 'Về Vn rủ ông Hoàng_Nam ( kênh Hãy thách_thức tôi ) qua đồng_hành cùng anh . Hóng 2 người kết_hợp ghê_á', 'Đi theo team đi anh : ) An_toàn hơn vì lỡ có người nào vào . . ! Em thấy anh là một nhà thám_hiểm khá là mạnh_dạn và không sợ ! Em vừa nghe là rợn lun', 'Má ơi khâm_phục ổng lun . Căn nhà đã ghê rồi còn thêm mấy con búp_bê nữa , có ai coi nhìn cháy banh trên cầu_thang mà tưởng_tượng nó lăn xuốn cầu_thang hok 😅', 'Ở trọ 1 mình và xem mấy cái này lúc 11h đêm = ) ) cảm_giác yomost vcl', 'Video này được . đăng lên là tao biết ông anh này về nhà an_toàn rồi Anh liều thật_sự anh_trai ạ Ủng_hộ anh nhưng khuyên anh nên đi cùng team', '2 : 54 nhìn khiếp quá', '12 : 00 thần_kinh thép Ban_đêm Ngồi tại hiện_trường Kể chuyện : ( ( (', '6 : 00 anh làm em sợ á anh = ) ) ) em nể anh thật_sự', 'Gan vãi ông anh ... : ( ( Hầu_như mấy team săn ma toàn đi mấy người . . ông anh thì đi 1 mình ... nói thật kênh người của người việt làm về chủ_đề khám_phá tâm_linh rất ít ai gan_dạ đc như ông anh', 'Ác_vậy chời : >> >>', 'chỉ cần chân_thật như thế_mà clip triệu view , không cần phải thêm âm_thanh rùng_rợn mà hay hết_sức , 4h sáng xem xong mất mọe ngủ luôn = ) )', 'Coi video nhà ma mà cứ nằng cực vì thằng host ghê_😂', '1912 mà nhà_cửa đã như này . Nước Mỹ quá giàu 😢', 'Không cần xuất_hiện ma_quỉ . Như này thôi đã đau tim lắm rồi 🥺 Anh gan quá ! ! ! Gút chóp anh ! Cẩn_trọng nha_anh', '41 : 26 có bé mèo kìa mọi người', 'Mình ở Việt_Nam nhưng rất thích tính_cách và cách suy_nghĩ của FOB cũng như những clip của FOB làm_nên mình sẽ luôn ủng_hộ bạn chúc bạn thành_công hơn nữa .', 'Miêu_tả chi_tiết : bấy nhầy chết không kịp ngáp ( ( :', 'Tới khúc hình_như có ai ở dưới nhà tao tao muốn xỉu ngang gòi á troii', 'Anh phải có thêm vài người đi cùng chứ đi 1 mình như này em thấy sợ thay anh 😯', 'Vẫn câu : “ chết không kịp ngáp ”', '1 điểm cộng cho sự gan_dạ Tui ngồi xem mà còn rén , nổi hết da_gà 😖', 'Lần đầu_tiên đến với kênh anh . Câu_chuyện của gia_đình nạn_nhân thật khiến nhiều người kinh_hãi , đau sót cho những đứa trẻ vô_tội , những tâm_hồn trong_sáng nhất của gia chủ 😔', 'Tim đập nhanh và nhín thở khi xem , ghê quá mình sợ búp_bê lắm bên trong thường có ma', 'My favorite channèl < 3', 'Tui coi mà hồi_hộp dùm ổng lun á trời', 'Nể ông này thiệt chứ like mạnh cho ông còn tái_hiện lại hiện_trường nữa quá hay luôn', 'Thật tội_nghiệp các nạn_nhân tại_sao thủ_phạm lại quá tàn_nhẫn cùng lúc giết 8 mạng người', 'Xem anh này cảm_giác chân_thực không hề ghép âm_thanh như mấy ông kia làm sợ vãi', \"Was this located in Iowa ? Apologies , my Vietnamese is very limited . I ' m Khmer . You ' re brave 😂\", 'mong anh lần sau sẽ đi cùng bạn_bè để phòng nguy_hiểm , nói thật mấy địa_danh kiểu này thì mình không sợ ma , chỉ sợ mấy thằng nghiện_ngập ẩn_nấp làm điều bất_chính thôi', 'Thật_ra tui chỉ thích anh ấy kể về lịch_sử của những nơi nổi_tiếng ntn chứ còn chuyện tâm_linh thì không để_ý cho lắm 😁', 'Má ơi ông gan kìaaa , coi mà tim đập nhanh dùm ổng luôn á', 'Ông anh này mà kết_hợp với kênh challenge me nữa thì tuyệt_vời', 'Thần_kinh thép . Đến hiện_trường kể chuyện vào ban_đêm', 'bà mèo ở khúc cuối bả khoái quá ha gì , chạy theo anh FOB hoài luôn', 'Má ơi , chứ a thấy ai liều như ông luôn . Clip chất_lượng quá ông ạ', 'From 4h sáng with love , đm sợ quá', 'Mọi người cứ nói đi theo bạn chứ ai đủ gan_dạ đi theo anh ấy nào = ) )', 'Phải công_nhận anh gan_dạ thiệt . Dám đi 1 mjk đến chỗ tâm_linh có oán khí nặng như zậy', 'Đi 1 mình vào căn nhà như này ban_đêm + 1 Respect cho anh = ) )', 'Mình nghe buổi trưa , sáng bẹt mắt mà đã nổi da_gà , anh FOB vào tận nơi ngồi tại địa_điểm giết người để mà kể truyện vào lúc nữa đêm thì quả là thần_kinh làm_bằng vật_liệu siêu bền rồi , giọng kể rất cuốn . Lúc đó mà vẫn nói_năng rành_mạch vậy thì xứng_đáng vạn like .', 'em lại nghĩ hắn che gương lại là để ma trong gương không bắt hồn hắn đi đó anh', 'Tui nhìn mà sợ lun 😅 😅 10đ cho sự gan_dạ ❤ Mà lần sau anh nhớ đi chung vs bạn đồng_hành nha A : ( ( Em hồi_hộp dùm A_lun', 'Ở nhà 1 mình tui chẳng giám coi thấy video này trên youtube mấy lần rồitò mò quá có người ở nhà mới giám coi 😅', 'Tra_Tấn Thót_Tim chết Tại chổ', 'Thật_sự ! ! E cảm_nhận cổ_họng anh cứng lại nhưng vẫn cố bình_tĩnh để kể lại . . Khúc đầu quay là đã thấy bầu không_khí ảm_đạm kinh lun ! ! Mong anh lần sau dẫn thêm 1ngườib đồng_hành để hỗ_trợ anh trong mọi hoàn_cảnh xấu nhất ! ! Vì không ai lường trước dc điều gì đâu anh nhé . .', 'Thks anh rất nhiều vì lòng can đãm để đến căn nhà này , thực_sự em xem mà vẫn không khỏi bủn_rủn chân tay 😰 và anh đã cung_cấp rất nhiều thông_tin về vụ án này , xem trên báo đài vẫn còn rất ít , vì vụ án xảy ra rất lâu rồi . Nể phục anh thực_sự 🙏 ❤ ️ Sẽ follow anh từ đây : D', 'Chu choa má ơi . Tưởng ổng review xong rồiđi . Ai_ngờ ổng còn ở lại ngồi kể chuyện nữa chứ', 'nể anh quá , anh gan thật_sự', 'Mấy vụ thảm_sát này còn gớm hơn cả mấy chuyện tâm_linh vì thảm_sát và người gây án đều có hiện_hữu thật . Coi xong nể anh thật_sự', '12 : 00 adu xem nhà xong ngồi kể chuyện luôn mới dữ : ) ) ăn gì gan_vậy trời', 'Anh ơi em nghỉ anh nên tìm thêm 2 - 3 bạn đồng_hành đi ạ , chứ em nhìn anh đi 1 mình em ớn lắm luôn á 😢', 'Sợ mà vẫn thích xem kết_quả cả đêm k dám tắt điện 😓 😫 😭 Ai_bảo kiểu này cuốn quá', 'Không biết còn đứng nổi trong đây không , anh gan_dạ thiệt sự', 'Có_khi ở Việt_Nam nó bắt trong 1 nốt_nhạc rồi = ) ) ) ) )', 'Em cũng lạy anh luôn em ở nhà xem mà còn thấy sợ lắm lun rồi', 'Vừa từ tiktok qua 🤧', 'Em mong anh lập team để đi chung ạ = ) ) ) chứ thấy anh đi một_mình mà em sợ dùm luôn Á_😿', 'Ko bt ông quay_phim sợ không , chứ tui thấy sợ vãi', 'Xem kiểu sợ bị hù : (', 'cố lên fob , 500 anh_em luôn ở bên em . Tuy_nhiên nếu có 1 người nữa thì tốt hơn vì mấy chỗ này thấy nguy_hiểm quá', 'Sợ Gì Đúng Không Anh . . Cầm camera là bất_tử liền 😂', 'Hãy nhân_danh Chúa khi bạn gặp nguy_hiểm và cầu_nguyện với các thiên_thần để các Ngài bảo_vệ bạn khỏi quỷ dữ', 'Ông anh này chính là cái kiểu người ban_đêm đi đái không cần bật đèn nhà_tắm', '3h 17 p sáng Hơi sợ nk vẫn gắng xem = ) )', 'Thích mấy video ma_mị rùng_rợn này_nọ như này ghê , biết anh hơi trễ nhưng k sao em sẽ theo_dõi kênh của anh 😊 😊 😊 rất hay ạ .', 'Lúc đang kể tới những nghi phạm tự_nhiên ra quảng_cáo Công Phượng mà hú_hồn', 'khiếp anh Fob đang cầm cây gậy tự_dưng nghe tiếng ting từ điện_thoại , sợ v : ( ( (', 'Thả mình vào thế_giới Tâm_Linh để cảm_nhận sự sống đằng sau cái chết . Lo_lắng cho tâm_lý & tim_mạch của Bạn khi vào ngôi nhà này 😨', 'Khiếp cái anh FOB này , mình xem mà sợ thót_tim', '❤ ️', 'Thật chứ em không tin là anh đi một_mình và cũng tại hiện_trường như anh nói . . chắc có kịch_bản thôi còn nếu_như anh nói thì anh quả là một con_người quá gan_dạ', 'em khuyên anh lần sau anh nên đi cùng một người nào đấy để tránh những chuyện bất_trắc ạ', 'Thề luôn xem cứ cuốn thế_là đăng_kí kênh ngay : ) )', 'Quả clip đáng sợ nhất đó giờ của anh : ( ( (', 'Thật tội_nghiệp các nạn_nhân tại_sao thủ_phạm lại quá tàn_nhẫn cùng lúc giết 8 mạng người', 'Duma khúc ổng nói có người dưới nhà làm tui sợ xỉu 😖', \"5 : 30 way , Annabelle kia ` moa ' oi\", '32 : 35 nghe thấy tiếng đệm gì vậy ?', 'Cầu_mong Em được trời Phật phù_hộ . Em đi một_mình chị xem clip con không dám nhìn vào màng hình điện_thoại , em thi ngồi tại hiện_trường cũ kể chuyện luôn ! Hy_vọng em sớm co bạn đồng_hành chứ c xem ma lo_lắng .', 'Em biết kênh anh mới_đây thôi , lúc đó tầm 158k sub , nhưng bây_giờ lên nhiều quá anh ơi ! Chúc anh thành_công nha ! Em sẽ luôn ủng_hộ những video của anh ! Em kể chuyện rất hấp_dẫn và lôi_cuốn người xem ! Chúc kênh anh ngày_càng phát_triển ạ ❤ ️', 'Ác vl : ) )', '1 trong 10 ngôi nhà đáng sợ nhất tại mỹ VS 1 trong những người dũng_cảm nhất VN : ) ) )', 'lần đầu coi , thấy ổng làm hay , cuốn_hút , sẽ ủng_hộ', 'Đái ra máuuu rồi 🎀', 'Anh thật_sự tâm_lý và sâu_sắc : * ( ( ( (', 'chết không kịp ngáp = ) ) ) ) ) ) ) ) cuốn quá trời', 'nghe tiếng_động trong nhà có_lẽ là hồn ma_ám trong căn nhà đó r : (', 'Lại có búp_bê nữa chứ kinh đấy , nhìn anh căng_thẳng em cũng lây thay 😰', 'Tinh_thần thép mọi người ạ . Chúc anh gặp nhiều điều may_mắn trong cuộc_sống . Mình rất thích xem mấy clip kiểu như này . Ủng_hộ a', 'Mé ổng dám ngồi ở cái phòng mà chủ nhà bị giết_hại ngồi đó kể chuyện hay thiệt chứ', 'nghe anh kể về cách hung_thủ hành_động thì em mới thấy thấy rằng có một_số người còn đáng sợ hơn ma_quỷ nhiều , rùng_mình', 'Nghe xong sợ quá , hết dám tin người_ngoài luôn : (', 'eo ơi sợ mà cứ thích xem : ) ) xem xong hết ngủ luôn 🤦 🏻 \\u200d ♀ ️ không hiểu khiểu j luôn ấy ! !', 'Anh là người kể chuyện ma chân_thật nhất em từng xem luôn : ) )', 'Anh FOB ơi em thấy anh là người rất can đãm luôn á luôn_luôn ủng_hộ anh ^ ^', 'Ai biết thằng này ( tức quá nên mình xin kêu là thằng ) hay lết ở đường nào trên Sài_Gòn thì comment giúp mình nha , mình mới nhận thông_tin là nó hay lết ở đường Nguyễn_Trãi , đường 3 / 2 , đường Tân_Phú ... Ai biết nó hay lết ở đoạn đường nào nữa thì comment dưới đây giúp mình nha , mình phải làm cho ra lẽ , cảm_ơn mọi người', 'Mình đã bị nó lừa . . Thủ_đoạn rất tinh_vi mọi người hãy cẩn_thận nhé', 'Thương 2 em quá . Sợ người_ta bị lừa , ai_ngờ chính mình bị lừa , lương_tâm con_người thật là DỄ SỢ .', '2 anh thật tốt . Ước gì bây_giờ ai cũng như 2 anh thì thế_giới này thay_đổi rồi', 'Ông này hôm bửa nè không hiểu trai_trẻ làm như_vậy có ngày sẽ bị thật cho khôngi', '2 cháu có lòng hảo_tâm nên tìm đến những người Cao_tuổi nèo đơn bệnh_tật giúp không sợ bị lừa mà có ý_nghĩa hơn 💛 💛 👍', 'Buồn quá mọi người ạ , mình lại bị lừa nữa rồi . cuộc_sống này có quá nhiều lừa_dối . Người muốn mạnh_khỏe để đi làm . Còn người thì giả_vờ tật_nguyền để xin tiền Facebook của Trọng https://www.facebook.com/phuctrongvlogss Fanpage của Trọng_https://www.facebook.com/phuctrongyoutober/', 'Bó_tay luôn đủ thứ kiểu để lửa gạt . Thôi đừng buồn các em nhé , thương các em lắm', 'thương nhóm . Làm_việc ác ắt nhận hậu_quả . Tấm lòng của các bạn cho đi sẽ được nhận lại điều tốt . Chúc team luôn khoẻ_mạnh', 'Các em đi làm YouTube giúp cho những mảnh đời khó_khăn , nhưng sao thấy mạo_hiểm quá ... Mong quý_vị và các Mạnh_Thường Quân có giải_pháp giúp đở cho các em này', '❤ ❤ ❤ hai đứa cháu này tốt lắm , cảm_ơn hai cháu nhé', 'Hi_vọng cọc vé_số đó lại trúng được vài trăm triệu để 2 em đi giúp_đỡ nhiều người hơn nữa hjjjj', 'Em hỏi họ nghe cách nói_chuyện của ho là biết liền ... . . ✌ ️ 😷', 'Không biết vé_số giả hay thiệt ? . Thương các cháu thật nhiều ❤ ️', 'Cái khúc con hẻm tại cái bà bận áo cam chặn đường không là bắt kịp rồi , tức ở chỗ đó : <', 'Thương 2anh emquá', 'Mấy đứa ơi thằng này giả đó , hom trước nó bị bắt một lần rồi và có hứa là không lam nhu vậy nữa mà nay nó lại chứng nào tật nấy dung giúp gì nó hết moi người oi', 'Tức_giận , tức quá chời luôn 👍', 'trời ơi ông shipper ổng đứng nhìn 🤣', 'Rồi ! ! ! , from Phú_Yên nữa bà_con ơi ,', 'Các bạn thật_thà quá . Chỉ vì thương người thôi . Lần sau các bạn lên_cân thận và tìm_hiểu kỹ hơn nha', 'Khổ lắm thương người như_thể thương thân , 😭', 'Luôn_luôn gap hoài , đừng buồn_e . lần sau cân_nhắc thật kĩ khi giúp_đỡ ai . mãi ủng_hộ lòng tốt của e', 'Lành_lặn không thích lại thích què ! Nó đã thích què thì đánh cho nó què luôn mấy a ! ! Lúc ấy tha_hồ nằm lê_lết ngoài đường lượm tiền : ) ) đỡ phải mang_tiếng lừa đão', 'Thời_buổi bây_giờ kh hiểu nổi', 'Mấy em thật tốt_bụng mua vé_số ủng_hộ làm_việc thiện không ngờ bị chúng_nó lừa , vậy là bài_học rút kinh_nghiệm lần sau !', 'Mấy anh đúng là người rất tốt rất ngưỡng_mộ và khâm_phục Chúc mấy anh luôn_luôn bình an và thành_công', 'Lần sau mình chắc_chắn nó k dám lếch ra đường bán đâu , bỏ tiền ra làm vẫn cũng xứng_đáng cảm_ơn 2 anh đã làm_việc tốt cho xã_hội . .', 'Thời_buổi bây_giờ là vậy đó anh . Ba mẹ bạn em bị lừa rồi đó trời ơi_là trời tức thiệt chứ 😡 😡 😡', 'Con yên_tâm đi phật trời sẽ làm cho tụi con thấy rõ luật trời như thế_nào là lễ_độ ! Nam_mô anh di_đà phật', 'Hai bạn thật dũng_cảm .', 'Cảm_ơn mấy em làm clip cho nhiều người dân đỡ bị lũ khốn_nạn lừa đão', 'Cô xem các cảnh này , buồn quá . Tụi con ơi , cẩn_thận nhe .', 'Hiện_tại đang ở tân_bình nha_anh', 'Thằng này tôi gặp hoài , nó giả nhiệt_tình luôn , cả ngày ngoài đường mà da trắng như bột 😂 😂 😂 😂 😂', 'Dân phú yên nè , sáng nay ngoài chợ An chấn quê mình có 3 cha con , mặt_mũi sáng_láng , bé lớn 5t , nhỏ giờng 2t , thằng_cha dẫn ra chợ ngồi xin , quá giờng người cho tiền . Lý_do xin ăn là vì vợ bỏ đi không có tiền nuôi con bạn ạ . Hết_hồn', 'Một tháng trước bên Anh Tình blog có đăng rồi', 'Ở chợ bến bạ huyện cù_lao dung , st cũng có 1 cặp xin ăn . Lúc xin người vợ tưởng như bệnh rất nặng sắp chết , nhung khi lên xe về cười nói tỉnh_bơ , k bị gì hết .', 'Thật tội_nghiệp cho 2 em . rút kinh_nghiệm lần sau có trường_hợp như_vậy . Tụi em phải xem liền tại_chỗ . Tại tụi em tin người quá . về nhà tụi nó còn cười tụi em nữa . Nói thật tụi em là nhà_quê lên tỉnh .', 'Các bạn thật tốt_bụng . Bị lợi_dụng đúng là ức_chế thật 💐 💐 💐 💐 👌 👍', 'Kiếp sau là mày được như_ý_muốn , lành_lặn không muốn muốn gạt người khác', 'Những người lừa_dối anh thì sau_này họ sẽ gặp quả_báo còn anh sống mà có lòng thương người thì sau_này anh sẽ gặp may_mắn rất nhiều ❤ ️ ❤ ️', 'Vừa thấy lết trên đường Lí thường kiệt luôn nè !', 'Hội của nó hỗ_trợ nhau ngáng đường cắt đuôi Trọng và Khoa rồi', 'Anh ơi cho em hỏi chiếc áo_khoác anh đang mặc tên gì ạ 😂 😂', 'Các cháu làm_phúc là rất tốt . Họ lừa thì giờ đi bò tiếp mọi người sẽ phát_hiện ra mà . Chúc 2 cháu trúng thưởng lớn trong 2 tập vé_số để tiếp_tục giúp những mảnh đời bất_hạnh . Hai cháu k cần đuổi xe theo họ nhỡ gặp nguy_hiểm nhé !', 'R mấy thằng dislike cũng giống nó luôn à ?', 'Chúc hai Cháu luân bình an mạnh_khỏe . Lần sau chớ bị kẻ_gian lừa nữa ...', 'Giúp người còn gặp kẻ xấu thì chịu xã_hội bây_giờ rồi', 'Hai bạn trẻ cần rút kinh_nghiệm lại . Giúp người là việc tốt cần phải làm nhưng cần phải xem_xét cho kỹ rồi hãy giúp . Cầu_chúc 2 bạn có nhiều sức_khỏe để làm_việc thiện .', 'Tôi khuyên mọi người muốn giúp_đỡ người nghèo nhưng người tàn_tật nên đi đến những người ở vùng_sâu vùng_xa rất nhiều người còn khổ hơn nhiều', 'thương 2 cháu có lòng tốt giúp người mà bị lửa 2 cháu nhớ tìm_hiểu kỷ rồi hả giúp người , chúc cháu trên con đường làm thiện nguyên may_mắn và khoẻ_mạnh hạnh_phúc', 'Thời_buổi bây_giờ ớ cứ đi lừa đão hoài à . . Mấy à tốt như zây mà cứ bị lừa hoài à . . Mấy người này á người_ta có câu CÓ LÀM THÌ MỚI CÓ_ĂN', 'Bó_tay ... O sao đâu cháu , vì cháu có tấm lòng tốt thôi làm_việc tốt sẽ có trời phật phù_hộ , còn họ sống sao thì nghiệp đấy thôi cháu á . Chúc 2 cháu luôn thành_công trong công_việc nhé !', 'Bạn nên giúp những người già và người đúng bị liệt thật_sự mấy thèn này chuyên_nghiệp mẹ ròi', 'Cầu cho 2 con trúng vài tờ trong số đó để tụi con làm tự_tiện', 'Nhìn mặt đã không tin rồi thích lợi_dụng lòng tốt củangườikhác trả sống đc tốt', 'Dò vé_số đi anh , biết_đâu trúng', 'thương anh Trọng_❤', 'Nếu lần sau thế_nào cũng gặp lại sao em ơi , , chúc hai em luôn khỏe_mạnh và bình an giống như lon lưng', 'Gì tiền mà lòng người khó lường . tội_nghiệp cho 2 em gì thường người mà bị lừa tội_nghiệp . .', 'Tức nhất là bà kia chen lại khi rượt đuổi', 'Thích_Khoa . ghê', 'Coi giờng xem vé_số giả luôn hok giờng à', 'Cám_ơn những chàng trai ... . nho các em mà biết được những kẻ ăn_xin này', 'Ung hộ 2 em_trai 💯 💯 💯 💯 💯 💯', '2 em quá tốt', 'Thui hai em ơi nó thích què . Lại lừa hai em như_vậy . Nó sẽ gặp hậu_quả rồi bị què luôn đó . Chúc hai em khoẻ làm điều nhiều tốt', 'Người tàn_tật mà có Sk lết kinh nhỉ 😀 Muốn giúp người phải tìm_hiểu cho kỹ , mấy tin này trên YouTube đầy . Chúc 2 em gặp may_mắn và có Sk . .', 'Ak ơi đừng buồn cố_gắng lên 💪 💪 💪', 'Gieo_gió gặt bão ông Trời cao có mắt . Các bạn được phước .', 'Ráng lên người tốt sẽ gặp may thôi sớm_muộn sẽ bắt được nó 💪 💪', 'Anh chở thẳng lên phường là nó sợ à . 😂', 'Người tốt anh emxem ủng_hộ cho 2anh emcó động_lực', 'Mấy cái đường anh chạy gần nhà em để có j em quan_sát rồi em ib anh nhé', 'Cũng may có khác em truy_lùng như_vậy chứ xã_hội này càng ngày_càng ngoan', 'Tụi nó bây_giờ lọng hành quá mọi người cũng cảnh_giác nhé', 'Mấy hôm trước ở Trà_Vinh có 2 người . Y_như thế này nhưng họ bán vé_số . Bị thanh_niên xung_kích trà vinh vạch_trần bộ_mặt thật của họ', 'Chúc các con sức_khoẻ các con nên cảnh_giác và gũi gìn bản_thân', 'Cảm_ơn video , để biết có gặp né .', 'Cuối_cùng hai bạn trúng_độc_đắc chứ a ? ? kk', 'Các bạn nên giúp_đỡ những người có hoàn_cảnh thật_sự . hãy tìm_hiểu trước kỹ_càng rồi giúp', 'non và xanh quá 2 chú . kkkkk', 'Tội à quá .', 'Bạn bán vé_số này bị phát_hiện rồinha ... . Ae vào fb Thanh_niên xung_kích trà vinh sẽ thấy', 'Người thật không bao_giờ làm vậy , vì người_ta tự_ái , còn những người không tự_ái thì bó_tay , bây_giờ có nhiều người chăn_dắt', 'A ơi xuống thăm chú Tuấn đi ạ', 'Chào các con . k sao đâu . cac con đã có tâm_hồn cao_đẹp . cac con đã cho đi rằng các con sẽ nhận lại . con ai sống lua đao họ sẽ đón_nhận ... nhan qua . .', 'Nhìn mà sót quá 😭', '2 em lần sau rút kinh_nghiệm giờ nó cứ giả_vờ lết_vậy để ban ve_số đó', '200 tờ vé đó nếu còn sớm hai anh tới đại_lý thương_lượng !', 'troi oi toi nghiep 2 em qua', 'Tại_sao những người này đa_phần là người miền Trung hết vậy mong sống thật với con tim mình đi', 'Thời_buổi giờ nhìu chiêu trò lắm các à cẩn_thận lại nha ❤ ️', 'Lại tiếng Phú_Yên_kkkk', 'Em ơi ! Tốt_bụng như_vậy không đáng đâu , luận làm gì cho mệt , kẻ đã lừa đão còn gì để nói .', 'E đừng buồn , chỉ là chúng_ta đa_phần lương_thiện , chỉ là mình xui gặp phải phường lừa đão , mỗi trải nghiệm là một kinh_nghiệm , tiền đó em xem như là tiền đóng học_phí để ta học thêm kinh_nghiệm thôi mà . Nghĩ_vậy đi cho lành em ạ', 'Hai ông thật_thà chết đc ,', '53 : 46 Bản_nhạc buồn len_lỏi từng góc phố 🗑', 'Mấy cháu qúa hiền_lành nhưng dễ tin người , vì là tuổi_trẻ , nên các cháu làm_việc rất thật tâm , nên bị người_ta chửi , các cháu tức , vì bị người_ta nói_xấu , chửi các cháu , nên các cháu giận , cô rất hiểu và các MTQ cũng rất hiểu các cháu . Các cháu hãy vượt qua và kẽ lừa mình , họ sẽ bị qua báo ! .', 'Tội_nghiệp hai cháu quá thật_thà khóa lại bị lừa kiếm được nó ở đâu đem nó vô công_an']\n"
     ]
    }
   ],
   "source": [
    "from pyvi import ViTokenizer\n",
    "n=[]\n",
    "for i in all_['comment']:\n",
    "    n.append(ViTokenizer.tokenize(i))\n",
    "print(n)"
   ]
  },
  {
   "cell_type": "code",
   "execution_count": 70,
   "metadata": {},
   "outputs": [
    {
     "data": {
      "text/plain": [
       "0                                 2021 ai còn nghe ^ _ ^\n",
       "1      Qua nghe Chi_Pu thì thấy Chi_Pu vẫn đỉnh hơn P...\n",
       "2       Có ai đến từ Cơm sườn Phí Phương_Anh không : ) )\n",
       "3      bài này của chị Chi Pu ra cũng lâu r , đã nghe...\n",
       "4      Người_ta chỉ sợ công_chúa khóc Không ai biết r...\n",
       "                             ...                        \n",
       "96     E đừng buồn , chỉ là chúng_ta đa_phần lương_th...\n",
       "97                            Hai ông thật_thà chết đc ,\n",
       "98          53 : 46 Bản_nhạc buồn len_lỏi từng góc phố 🗑\n",
       "99     Mấy cháu qúa hiền_lành nhưng dễ tin người , vì...\n",
       "100    Tội_nghiệp hai cháu quá thật_thà khóa lại bị l...\n",
       "Name: Sentence, Length: 303, dtype: object"
      ]
     },
     "execution_count": 70,
     "metadata": {},
     "output_type": "execute_result"
    }
   ],
   "source": [
    "all_['Sentence'] = n\n",
    "all_['Sentence']"
   ]
  },
  {
   "cell_type": "code",
   "execution_count": 83,
   "metadata": {},
   "outputs": [
    {
     "name": "stdout",
     "output_type": "stream",
     "text": [
      "[[ 0.          0.          0.         ...  0.          0.\n",
      "   0.81649658]\n",
      " [-0.18257419 -0.36514837  0.36514837 ...  0.          0.\n",
      "   0.18257419]\n",
      " [-0.26726124  0.          0.26726124 ...  0.          0.53452248\n",
      "   0.        ]\n",
      " ...\n",
      " [ 0.         -0.35355339 -0.35355339 ...  0.          0.\n",
      "   0.        ]\n",
      " [-0.08421519  0.         -0.50529115 ... -0.08421519 -0.16843038\n",
      "   0.50529115]\n",
      " [ 0.20412415  0.         -0.40824829 ... -0.20412415 -0.20412415\n",
      "   0.20412415]]\n",
      "(303, 16)\n"
     ]
    }
   ],
   "source": [
    "from sklearn.feature_extraction.text import HashingVectorizer\n",
    "hv = HashingVectorizer(n_features=16)\n",
    "features_hv = hv.fit_transform(all_['comment']).toarray()\n",
    "print(features_hv)\n",
    "print(features_hv.shape)\n"
   ]
  },
  {
   "cell_type": "code",
   "execution_count": 84,
   "metadata": {},
   "outputs": [],
   "source": [
    "y = all_.tag.values"
   ]
  },
  {
   "cell_type": "code",
   "execution_count": 85,
   "metadata": {},
   "outputs": [],
   "source": [
    "from sklearn.model_selection import train_test_split\n",
    "X_train, X_test, y_train, y_test = train_test_split(features_hv, y, test_size=0.2, random_state=0)"
   ]
  },
  {
   "cell_type": "code",
   "execution_count": 87,
   "metadata": {},
   "outputs": [],
   "source": [
    "from sklearn import tree\n",
    "from sklearn import metrics\n",
    "model = tree.DecisionTreeClassifier()"
   ]
  },
  {
   "cell_type": "code",
   "execution_count": 92,
   "metadata": {},
   "outputs": [
    {
     "name": "stdout",
     "output_type": "stream",
     "text": [
      "              precision    recall  f1-score   support\n",
      "\n",
      "           0       0.00      0.00      0.00         6\n",
      "           1       0.00      0.00      0.00         5\n",
      "           2       0.43      0.29      0.34        21\n",
      "           3       0.00      0.00      0.00         4\n",
      "           4       0.44      0.58      0.50        12\n",
      "           5       0.00      0.00      0.00         9\n",
      "           6       0.20      0.50      0.29         4\n",
      "\n",
      "    accuracy                           0.25        61\n",
      "   macro avg       0.15      0.20      0.16        61\n",
      "weighted avg       0.25      0.25      0.24        61\n",
      "\n"
     ]
    },
    {
     "name": "stderr",
     "output_type": "stream",
     "text": [
      "/opt/anaconda3/lib/python3.8/site-packages/sklearn/metrics/_classification.py:1221: UndefinedMetricWarning: Precision and F-score are ill-defined and being set to 0.0 in labels with no predicted samples. Use `zero_division` parameter to control this behavior.\n",
      "  _warn_prf(average, modifier, msg_start, len(result))\n"
     ]
    }
   ],
   "source": [
    "model.fit(X_train, y_train)\n",
    "y_pred = model.predict(X_test)\n",
    "print(classification_report(y_test,y_pred))"
   ]
  },
  {
   "cell_type": "code",
   "execution_count": 103,
   "metadata": {},
   "outputs": [
    {
     "name": "stdout",
     "output_type": "stream",
     "text": [
      "tội_nghiệp bạn quá\n",
      "[[ 0.          0.          0.         -0.57735027  0.57735027  0.\n",
      "   0.          0.          0.         -0.57735027  0.          0.\n",
      "   0.          0.          0.          0.        ]]\n"
     ]
    }
   ],
   "source": [
    "input_sen = 'tội nghiệp bạn quá'\n",
    "input_sen = ViTokenizer.tokenize(input_sen)\n",
    "print(input_sen)\n",
    "inpu = hv.fit_transform([input_sen]).toarray()\n",
    "print(inpu)"
   ]
  },
  {
   "cell_type": "code",
   "execution_count": 104,
   "metadata": {},
   "outputs": [
    {
     "name": "stdout",
     "output_type": "stream",
     "text": [
      "[5]\n"
     ]
    }
   ],
   "source": [
    "y_pred = model.predict(inpu)\n",
    "print(y_pred)"
   ]
  },
  {
   "cell_type": "code",
   "execution_count": null,
   "metadata": {},
   "outputs": [],
   "source": []
  }
 ],
 "metadata": {
  "kernelspec": {
   "display_name": "Python 3",
   "language": "python",
   "name": "python3"
  },
  "language_info": {
   "codemirror_mode": {
    "name": "ipython",
    "version": 3
   },
   "file_extension": ".py",
   "mimetype": "text/x-python",
   "name": "python",
   "nbconvert_exporter": "python",
   "pygments_lexer": "ipython3",
   "version": "3.8.3"
  }
 },
 "nbformat": 4,
 "nbformat_minor": 4
}
