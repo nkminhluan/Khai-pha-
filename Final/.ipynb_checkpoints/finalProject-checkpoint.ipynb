{
 "cells": [
  {
   "cell_type": "markdown",
   "metadata": {},
   "source": [
    "# Sử dụng thư viện Selenium để lấy Comments Youtube"
   ]
  },
  {
   "cell_type": "code",
   "execution_count": 1,
   "metadata": {},
   "outputs": [],
   "source": [
    "import time\n",
    "from selenium.webdriver import Chrome\n",
    "from selenium.webdriver.common.by import By\n",
    "from selenium.webdriver.common.keys import Keys\n",
    "from selenium.webdriver.support.ui import WebDriverWait\n",
    "from selenium.webdriver.support import expected_conditions as EC\n",
    "\n"
   ]
  },
  {
   "cell_type": "code",
   "execution_count": 8,
   "metadata": {},
   "outputs": [],
   "source": [
    "def get_comments_url(url):\n",
    "    data = []\n",
    "    with Chrome() as driver:\n",
    "        wait = WebDriverWait(driver,15)\n",
    "        driver.get(url)\n",
    "\n",
    "        for item in range(13): \n",
    "            wait.until(EC.visibility_of_element_located((By.TAG_NAME, \"body\"))).send_keys(Keys.END)\n",
    "            time.sleep(5)\n",
    "\n",
    "        for comment in wait.until(EC.presence_of_all_elements_located((By.CSS_SELECTOR, \"#content\"))):\n",
    "            data.append(comment.text)\n",
    "    return data"
   ]
  },
  {
   "cell_type": "markdown",
   "metadata": {},
   "source": [
    "# Lấy URL video Youtube"
   ]
  },
  {
   "cell_type": "code",
   "execution_count": 9,
   "metadata": {},
   "outputs": [],
   "source": [
    "# data_chipu = get_comments_url(\"https://www.youtube.com/watch?v=3fi7uwBU-CE\")\n",
    "\n",
    "# data_fobtv = get_comments_url(\"https://www.youtube.com/watch?v=0LBUQRs8-q8\")\n",
    "data_luadao = get_comments_url(\"https://www.youtube.com/watch?v=b1x2Km90vmM\")\n"
   ]
  },
  {
   "cell_type": "code",
   "execution_count": 10,
   "metadata": {},
   "outputs": [],
   "source": [
    "#smoth data\n",
    "import pandas as pd  \n",
    "def smoth(data): \n",
    "    df = pd.DataFrame(data, columns=['comment'])\n",
    "    df.drop({0,1}, axis=0, inplace=True)\n",
    "    df.head()\n",
    "    return df"
   ]
  },
  {
   "cell_type": "markdown",
   "metadata": {},
   "source": [
    "# Ghi dữ liệu vào DataFrame"
   ]
  },
  {
   "cell_type": "code",
   "execution_count": 11,
   "metadata": {},
   "outputs": [],
   "source": [
    "# data_chipu = smoth(data_chipu)\n",
    "# data_fobtv = smoth(data_fobtv)\n",
    "data_luadao = smoth(data_luadao)"
   ]
  },
  {
   "cell_type": "code",
   "execution_count": 12,
   "metadata": {},
   "outputs": [],
   "source": [
    "#wirte data\n",
    "import xlsxwriter\n",
    "def writeData(data, file_path):\n",
    "    workbook = xlsxwriter.Workbook(file_path)\n",
    "    worksheet = workbook.add_worksheet()\n",
    "    row = 0\n",
    "    count = 0\n",
    "    worksheet.write(row, 1, \"comment\")\n",
    "    for doc  in data.comment:\n",
    "        row = row +1\n",
    "        worksheet.write(row, 0, count)\n",
    "        worksheet.write(row, 1, doc)\n",
    "        count = count +1\n",
    "    workbook.close()"
   ]
  },
  {
   "cell_type": "markdown",
   "metadata": {},
   "source": [
    "# Đưa dữ liệu vào file excel"
   ]
  },
  {
   "cell_type": "code",
   "execution_count": 13,
   "metadata": {},
   "outputs": [],
   "source": [
    "# writeData(data_chipu, \"comments_chipu.xlsx\")\n",
    "# writeData(data_fobtv,\"comments_fobtv.xlsx\")\n",
    "writeData(data_luadao,\"comments_luadao.xlsx\")"
   ]
  }
 ],
 "metadata": {
  "kernelspec": {
   "display_name": "Python 3",
   "language": "python",
   "name": "python3"
  },
  "language_info": {
   "codemirror_mode": {
    "name": "ipython",
    "version": 3
   },
   "file_extension": ".py",
   "mimetype": "text/x-python",
   "name": "python",
   "nbconvert_exporter": "python",
   "pygments_lexer": "ipython3",
   "version": "3.8.3"
  },
  "metadata": {
   "interpreter": {
    "hash": "aee8b7b246df8f9039afb4144a1f6fd8d2ca17a180786b69acc140d282b71a49"
   }
  }
 },
 "nbformat": 4,
 "nbformat_minor": 2
}
