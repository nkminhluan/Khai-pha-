{
 "cells": [
  {
   "cell_type": "code",
   "execution_count": 1,
   "metadata": {},
   "outputs": [
    {
     "name": "stdout",
     "output_type": "stream",
     "text": [
      "Enter name file: comments_luadao.xlsx\n"
     ]
    },
    {
     "data": {
      "text/html": [
       "<pre style=\"white-space:pre;overflow-x:auto;line-height:normal;font-family:Menlo,'DejaVu Sans Mono',consolas,'Courier New',monospace\"><span style=\"font-style: italic\">                                     KEY TAG                                     </span>\n",
       "┏━━━━━━━━━━━┳━━━━━━━━━━━┳━━━━━━━━━┳━━━━━━━━━━━━┳━━━━━━━━━┳━━━━━━━━┳━━━━━━┳━━━━━━┓\n",
       "┃<span style=\"font-weight: bold\"> 0         </span>┃<span style=\"font-weight: bold\"> 1         </span>┃<span style=\"font-weight: bold\"> 2       </span>┃<span style=\"font-weight: bold\"> 3          </span>┃<span style=\"font-weight: bold\"> 4       </span>┃<span style=\"font-weight: bold\"> 5      </span>┃<span style=\"font-weight: bold\"> 6    </span>┃<span style=\"font-weight: bold\"> 7    </span>┃\n",
       "┡━━━━━━━━━━━╇━━━━━━━━━━━╇━━━━━━━━━╇━━━━━━━━━━━━╇━━━━━━━━━╇━━━━━━━━╇━━━━━━╇━━━━━━┩\n",
       "│ chán ghét │ thích thú │ giận dữ │ ngạc nhiên │ buồn bã │ sợ hãi │ khác │ LOẠI │\n",
       "└───────────┴───────────┴─────────┴────────────┴─────────┴────────┴──────┴──────┘\n",
       "</pre>\n"
      ],
      "text/plain": [
       "\u001b[3m                                     KEY TAG                                     \u001b[0m\n",
       "┏━━━━━━━━━━━┳━━━━━━━━━━━┳━━━━━━━━━┳━━━━━━━━━━━━┳━━━━━━━━━┳━━━━━━━━┳━━━━━━┳━━━━━━┓\n",
       "┃\u001b[1m \u001b[0m\u001b[1m0        \u001b[0m\u001b[1m \u001b[0m┃\u001b[1m \u001b[0m\u001b[1m1        \u001b[0m\u001b[1m \u001b[0m┃\u001b[1m \u001b[0m\u001b[1m2      \u001b[0m\u001b[1m \u001b[0m┃\u001b[1m \u001b[0m\u001b[1m3         \u001b[0m\u001b[1m \u001b[0m┃\u001b[1m \u001b[0m\u001b[1m4      \u001b[0m\u001b[1m \u001b[0m┃\u001b[1m \u001b[0m\u001b[1m5     \u001b[0m\u001b[1m \u001b[0m┃\u001b[1m \u001b[0m\u001b[1m6   \u001b[0m\u001b[1m \u001b[0m┃\u001b[1m \u001b[0m\u001b[1m7   \u001b[0m\u001b[1m \u001b[0m┃\n",
       "┡━━━━━━━━━━━╇━━━━━━━━━━━╇━━━━━━━━━╇━━━━━━━━━━━━╇━━━━━━━━━╇━━━━━━━━╇━━━━━━╇━━━━━━┩\n",
       "│ chán ghét │ thích thú │ giận dữ │ ngạc nhiên │ buồn bã │ sợ hãi │ khác │ LOẠI │\n",
       "└───────────┴───────────┴─────────┴────────────┴─────────┴────────┴──────┴──────┘\n"
      ]
     },
     "metadata": {},
     "output_type": "display_data"
    },
    {
     "name": "stdout",
     "output_type": "stream",
     "text": [
      "\n",
      "Count:  0 \n",
      "\n",
      "Ai biết thằng này ( tức quá nên mình xin kêu là thằng ) hay lết ở đường nào  trên Sài Gòn thì comment giúp mình nha, mình mới nhận thông tin là nó hay lết ở đường Nguyễn Trãi, đường 3/2, đường Tân Phú...Ai biết nó hay lết ở đoạn đường nào nữa thì comment dưới đây giúp mình nha, mình phải làm cho ra lẽ, cảm ơn mọi người \n",
      "\n",
      "Tag: 2\n"
     ]
    },
    {
     "data": {
      "text/html": [
       "<pre style=\"white-space:pre;overflow-x:auto;line-height:normal;font-family:Menlo,'DejaVu Sans Mono',consolas,'Courier New',monospace\"><span style=\"font-style: italic\">                                     KEY TAG                                     </span>\n",
       "┏━━━━━━━━━━━┳━━━━━━━━━━━┳━━━━━━━━━┳━━━━━━━━━━━━┳━━━━━━━━━┳━━━━━━━━┳━━━━━━┳━━━━━━┓\n",
       "┃<span style=\"font-weight: bold\"> 0         </span>┃<span style=\"font-weight: bold\"> 1         </span>┃<span style=\"font-weight: bold\"> 2       </span>┃<span style=\"font-weight: bold\"> 3          </span>┃<span style=\"font-weight: bold\"> 4       </span>┃<span style=\"font-weight: bold\"> 5      </span>┃<span style=\"font-weight: bold\"> 6    </span>┃<span style=\"font-weight: bold\"> 7    </span>┃\n",
       "┡━━━━━━━━━━━╇━━━━━━━━━━━╇━━━━━━━━━╇━━━━━━━━━━━━╇━━━━━━━━━╇━━━━━━━━╇━━━━━━╇━━━━━━┩\n",
       "│ chán ghét │ thích thú │ giận dữ │ ngạc nhiên │ buồn bã │ sợ hãi │ khác │ LOẠI │\n",
       "└───────────┴───────────┴─────────┴────────────┴─────────┴────────┴──────┴──────┘\n",
       "</pre>\n"
      ],
      "text/plain": [
       "\u001b[3m                                     KEY TAG                                     \u001b[0m\n",
       "┏━━━━━━━━━━━┳━━━━━━━━━━━┳━━━━━━━━━┳━━━━━━━━━━━━┳━━━━━━━━━┳━━━━━━━━┳━━━━━━┳━━━━━━┓\n",
       "┃\u001b[1m \u001b[0m\u001b[1m0        \u001b[0m\u001b[1m \u001b[0m┃\u001b[1m \u001b[0m\u001b[1m1        \u001b[0m\u001b[1m \u001b[0m┃\u001b[1m \u001b[0m\u001b[1m2      \u001b[0m\u001b[1m \u001b[0m┃\u001b[1m \u001b[0m\u001b[1m3         \u001b[0m\u001b[1m \u001b[0m┃\u001b[1m \u001b[0m\u001b[1m4      \u001b[0m\u001b[1m \u001b[0m┃\u001b[1m \u001b[0m\u001b[1m5     \u001b[0m\u001b[1m \u001b[0m┃\u001b[1m \u001b[0m\u001b[1m6   \u001b[0m\u001b[1m \u001b[0m┃\u001b[1m \u001b[0m\u001b[1m7   \u001b[0m\u001b[1m \u001b[0m┃\n",
       "┡━━━━━━━━━━━╇━━━━━━━━━━━╇━━━━━━━━━╇━━━━━━━━━━━━╇━━━━━━━━━╇━━━━━━━━╇━━━━━━╇━━━━━━┩\n",
       "│ chán ghét │ thích thú │ giận dữ │ ngạc nhiên │ buồn bã │ sợ hãi │ khác │ LOẠI │\n",
       "└───────────┴───────────┴─────────┴────────────┴─────────┴────────┴──────┴──────┘\n"
      ]
     },
     "metadata": {},
     "output_type": "display_data"
    },
    {
     "name": "stdout",
     "output_type": "stream",
     "text": [
      "\n",
      "Count:  1 \n",
      "\n",
      "Mình đã bị nó lừa.. Thủ đoạn rất tinh vi mọi người hãy cẩn thận nhé \n",
      "\n",
      "Tag: 2\n"
     ]
    },
    {
     "data": {
      "text/html": [
       "<pre style=\"white-space:pre;overflow-x:auto;line-height:normal;font-family:Menlo,'DejaVu Sans Mono',consolas,'Courier New',monospace\"><span style=\"font-style: italic\">                                     KEY TAG                                     </span>\n",
       "┏━━━━━━━━━━━┳━━━━━━━━━━━┳━━━━━━━━━┳━━━━━━━━━━━━┳━━━━━━━━━┳━━━━━━━━┳━━━━━━┳━━━━━━┓\n",
       "┃<span style=\"font-weight: bold\"> 0         </span>┃<span style=\"font-weight: bold\"> 1         </span>┃<span style=\"font-weight: bold\"> 2       </span>┃<span style=\"font-weight: bold\"> 3          </span>┃<span style=\"font-weight: bold\"> 4       </span>┃<span style=\"font-weight: bold\"> 5      </span>┃<span style=\"font-weight: bold\"> 6    </span>┃<span style=\"font-weight: bold\"> 7    </span>┃\n",
       "┡━━━━━━━━━━━╇━━━━━━━━━━━╇━━━━━━━━━╇━━━━━━━━━━━━╇━━━━━━━━━╇━━━━━━━━╇━━━━━━╇━━━━━━┩\n",
       "│ chán ghét │ thích thú │ giận dữ │ ngạc nhiên │ buồn bã │ sợ hãi │ khác │ LOẠI │\n",
       "└───────────┴───────────┴─────────┴────────────┴─────────┴────────┴──────┴──────┘\n",
       "</pre>\n"
      ],
      "text/plain": [
       "\u001b[3m                                     KEY TAG                                     \u001b[0m\n",
       "┏━━━━━━━━━━━┳━━━━━━━━━━━┳━━━━━━━━━┳━━━━━━━━━━━━┳━━━━━━━━━┳━━━━━━━━┳━━━━━━┳━━━━━━┓\n",
       "┃\u001b[1m \u001b[0m\u001b[1m0        \u001b[0m\u001b[1m \u001b[0m┃\u001b[1m \u001b[0m\u001b[1m1        \u001b[0m\u001b[1m \u001b[0m┃\u001b[1m \u001b[0m\u001b[1m2      \u001b[0m\u001b[1m \u001b[0m┃\u001b[1m \u001b[0m\u001b[1m3         \u001b[0m\u001b[1m \u001b[0m┃\u001b[1m \u001b[0m\u001b[1m4      \u001b[0m\u001b[1m \u001b[0m┃\u001b[1m \u001b[0m\u001b[1m5     \u001b[0m\u001b[1m \u001b[0m┃\u001b[1m \u001b[0m\u001b[1m6   \u001b[0m\u001b[1m \u001b[0m┃\u001b[1m \u001b[0m\u001b[1m7   \u001b[0m\u001b[1m \u001b[0m┃\n",
       "┡━━━━━━━━━━━╇━━━━━━━━━━━╇━━━━━━━━━╇━━━━━━━━━━━━╇━━━━━━━━━╇━━━━━━━━╇━━━━━━╇━━━━━━┩\n",
       "│ chán ghét │ thích thú │ giận dữ │ ngạc nhiên │ buồn bã │ sợ hãi │ khác │ LOẠI │\n",
       "└───────────┴───────────┴─────────┴────────────┴─────────┴────────┴──────┴──────┘\n"
      ]
     },
     "metadata": {},
     "output_type": "display_data"
    },
    {
     "name": "stdout",
     "output_type": "stream",
     "text": [
      "\n",
      "Count:  2 \n",
      "\n",
      "Thương 2 em quá.Sợ người ta bị lừa,ai ngờ chính mình bị lừa,lương tâm con người thật là DỄ SỢ. \n",
      "\n",
      "Tag: 4\n"
     ]
    },
    {
     "data": {
      "text/html": [
       "<pre style=\"white-space:pre;overflow-x:auto;line-height:normal;font-family:Menlo,'DejaVu Sans Mono',consolas,'Courier New',monospace\"><span style=\"font-style: italic\">                                     KEY TAG                                     </span>\n",
       "┏━━━━━━━━━━━┳━━━━━━━━━━━┳━━━━━━━━━┳━━━━━━━━━━━━┳━━━━━━━━━┳━━━━━━━━┳━━━━━━┳━━━━━━┓\n",
       "┃<span style=\"font-weight: bold\"> 0         </span>┃<span style=\"font-weight: bold\"> 1         </span>┃<span style=\"font-weight: bold\"> 2       </span>┃<span style=\"font-weight: bold\"> 3          </span>┃<span style=\"font-weight: bold\"> 4       </span>┃<span style=\"font-weight: bold\"> 5      </span>┃<span style=\"font-weight: bold\"> 6    </span>┃<span style=\"font-weight: bold\"> 7    </span>┃\n",
       "┡━━━━━━━━━━━╇━━━━━━━━━━━╇━━━━━━━━━╇━━━━━━━━━━━━╇━━━━━━━━━╇━━━━━━━━╇━━━━━━╇━━━━━━┩\n",
       "│ chán ghét │ thích thú │ giận dữ │ ngạc nhiên │ buồn bã │ sợ hãi │ khác │ LOẠI │\n",
       "└───────────┴───────────┴─────────┴────────────┴─────────┴────────┴──────┴──────┘\n",
       "</pre>\n"
      ],
      "text/plain": [
       "\u001b[3m                                     KEY TAG                                     \u001b[0m\n",
       "┏━━━━━━━━━━━┳━━━━━━━━━━━┳━━━━━━━━━┳━━━━━━━━━━━━┳━━━━━━━━━┳━━━━━━━━┳━━━━━━┳━━━━━━┓\n",
       "┃\u001b[1m \u001b[0m\u001b[1m0        \u001b[0m\u001b[1m \u001b[0m┃\u001b[1m \u001b[0m\u001b[1m1        \u001b[0m\u001b[1m \u001b[0m┃\u001b[1m \u001b[0m\u001b[1m2      \u001b[0m\u001b[1m \u001b[0m┃\u001b[1m \u001b[0m\u001b[1m3         \u001b[0m\u001b[1m \u001b[0m┃\u001b[1m \u001b[0m\u001b[1m4      \u001b[0m\u001b[1m \u001b[0m┃\u001b[1m \u001b[0m\u001b[1m5     \u001b[0m\u001b[1m \u001b[0m┃\u001b[1m \u001b[0m\u001b[1m6   \u001b[0m\u001b[1m \u001b[0m┃\u001b[1m \u001b[0m\u001b[1m7   \u001b[0m\u001b[1m \u001b[0m┃\n",
       "┡━━━━━━━━━━━╇━━━━━━━━━━━╇━━━━━━━━━╇━━━━━━━━━━━━╇━━━━━━━━━╇━━━━━━━━╇━━━━━━╇━━━━━━┩\n",
       "│ chán ghét │ thích thú │ giận dữ │ ngạc nhiên │ buồn bã │ sợ hãi │ khác │ LOẠI │\n",
       "└───────────┴───────────┴─────────┴────────────┴─────────┴────────┴──────┴──────┘\n"
      ]
     },
     "metadata": {},
     "output_type": "display_data"
    },
    {
     "name": "stdout",
     "output_type": "stream",
     "text": [
      "\n",
      "Count:  3 \n",
      "\n",
      "2 anh thật tốt. Ước gì bây giờ ai cũng như 2 anh thì thế giới này thay đổi rồi \n",
      "\n",
      "Tag: 4\n"
     ]
    },
    {
     "data": {
      "text/html": [
       "<pre style=\"white-space:pre;overflow-x:auto;line-height:normal;font-family:Menlo,'DejaVu Sans Mono',consolas,'Courier New',monospace\"><span style=\"font-style: italic\">                                     KEY TAG                                     </span>\n",
       "┏━━━━━━━━━━━┳━━━━━━━━━━━┳━━━━━━━━━┳━━━━━━━━━━━━┳━━━━━━━━━┳━━━━━━━━┳━━━━━━┳━━━━━━┓\n",
       "┃<span style=\"font-weight: bold\"> 0         </span>┃<span style=\"font-weight: bold\"> 1         </span>┃<span style=\"font-weight: bold\"> 2       </span>┃<span style=\"font-weight: bold\"> 3          </span>┃<span style=\"font-weight: bold\"> 4       </span>┃<span style=\"font-weight: bold\"> 5      </span>┃<span style=\"font-weight: bold\"> 6    </span>┃<span style=\"font-weight: bold\"> 7    </span>┃\n",
       "┡━━━━━━━━━━━╇━━━━━━━━━━━╇━━━━━━━━━╇━━━━━━━━━━━━╇━━━━━━━━━╇━━━━━━━━╇━━━━━━╇━━━━━━┩\n",
       "│ chán ghét │ thích thú │ giận dữ │ ngạc nhiên │ buồn bã │ sợ hãi │ khác │ LOẠI │\n",
       "└───────────┴───────────┴─────────┴────────────┴─────────┴────────┴──────┴──────┘\n",
       "</pre>\n"
      ],
      "text/plain": [
       "\u001b[3m                                     KEY TAG                                     \u001b[0m\n",
       "┏━━━━━━━━━━━┳━━━━━━━━━━━┳━━━━━━━━━┳━━━━━━━━━━━━┳━━━━━━━━━┳━━━━━━━━┳━━━━━━┳━━━━━━┓\n",
       "┃\u001b[1m \u001b[0m\u001b[1m0        \u001b[0m\u001b[1m \u001b[0m┃\u001b[1m \u001b[0m\u001b[1m1        \u001b[0m\u001b[1m \u001b[0m┃\u001b[1m \u001b[0m\u001b[1m2      \u001b[0m\u001b[1m \u001b[0m┃\u001b[1m \u001b[0m\u001b[1m3         \u001b[0m\u001b[1m \u001b[0m┃\u001b[1m \u001b[0m\u001b[1m4      \u001b[0m\u001b[1m \u001b[0m┃\u001b[1m \u001b[0m\u001b[1m5     \u001b[0m\u001b[1m \u001b[0m┃\u001b[1m \u001b[0m\u001b[1m6   \u001b[0m\u001b[1m \u001b[0m┃\u001b[1m \u001b[0m\u001b[1m7   \u001b[0m\u001b[1m \u001b[0m┃\n",
       "┡━━━━━━━━━━━╇━━━━━━━━━━━╇━━━━━━━━━╇━━━━━━━━━━━━╇━━━━━━━━━╇━━━━━━━━╇━━━━━━╇━━━━━━┩\n",
       "│ chán ghét │ thích thú │ giận dữ │ ngạc nhiên │ buồn bã │ sợ hãi │ khác │ LOẠI │\n",
       "└───────────┴───────────┴─────────┴────────────┴─────────┴────────┴──────┴──────┘\n"
      ]
     },
     "metadata": {},
     "output_type": "display_data"
    },
    {
     "name": "stdout",
     "output_type": "stream",
     "text": [
      "\n",
      "Count:  4 \n",
      "\n",
      "Ông này hôm bửa nè ko hiểu trai trẻ làm như vậy có ngày sẽ bị thật cho koi \n",
      "\n",
      "Tag: 0\n"
     ]
    },
    {
     "data": {
      "text/html": [
       "<pre style=\"white-space:pre;overflow-x:auto;line-height:normal;font-family:Menlo,'DejaVu Sans Mono',consolas,'Courier New',monospace\"><span style=\"font-style: italic\">                                     KEY TAG                                     </span>\n",
       "┏━━━━━━━━━━━┳━━━━━━━━━━━┳━━━━━━━━━┳━━━━━━━━━━━━┳━━━━━━━━━┳━━━━━━━━┳━━━━━━┳━━━━━━┓\n",
       "┃<span style=\"font-weight: bold\"> 0         </span>┃<span style=\"font-weight: bold\"> 1         </span>┃<span style=\"font-weight: bold\"> 2       </span>┃<span style=\"font-weight: bold\"> 3          </span>┃<span style=\"font-weight: bold\"> 4       </span>┃<span style=\"font-weight: bold\"> 5      </span>┃<span style=\"font-weight: bold\"> 6    </span>┃<span style=\"font-weight: bold\"> 7    </span>┃\n",
       "┡━━━━━━━━━━━╇━━━━━━━━━━━╇━━━━━━━━━╇━━━━━━━━━━━━╇━━━━━━━━━╇━━━━━━━━╇━━━━━━╇━━━━━━┩\n",
       "│ chán ghét │ thích thú │ giận dữ │ ngạc nhiên │ buồn bã │ sợ hãi │ khác │ LOẠI │\n",
       "└───────────┴───────────┴─────────┴────────────┴─────────┴────────┴──────┴──────┘\n",
       "</pre>\n"
      ],
      "text/plain": [
       "\u001b[3m                                     KEY TAG                                     \u001b[0m\n",
       "┏━━━━━━━━━━━┳━━━━━━━━━━━┳━━━━━━━━━┳━━━━━━━━━━━━┳━━━━━━━━━┳━━━━━━━━┳━━━━━━┳━━━━━━┓\n",
       "┃\u001b[1m \u001b[0m\u001b[1m0        \u001b[0m\u001b[1m \u001b[0m┃\u001b[1m \u001b[0m\u001b[1m1        \u001b[0m\u001b[1m \u001b[0m┃\u001b[1m \u001b[0m\u001b[1m2      \u001b[0m\u001b[1m \u001b[0m┃\u001b[1m \u001b[0m\u001b[1m3         \u001b[0m\u001b[1m \u001b[0m┃\u001b[1m \u001b[0m\u001b[1m4      \u001b[0m\u001b[1m \u001b[0m┃\u001b[1m \u001b[0m\u001b[1m5     \u001b[0m\u001b[1m \u001b[0m┃\u001b[1m \u001b[0m\u001b[1m6   \u001b[0m\u001b[1m \u001b[0m┃\u001b[1m \u001b[0m\u001b[1m7   \u001b[0m\u001b[1m \u001b[0m┃\n",
       "┡━━━━━━━━━━━╇━━━━━━━━━━━╇━━━━━━━━━╇━━━━━━━━━━━━╇━━━━━━━━━╇━━━━━━━━╇━━━━━━╇━━━━━━┩\n",
       "│ chán ghét │ thích thú │ giận dữ │ ngạc nhiên │ buồn bã │ sợ hãi │ khác │ LOẠI │\n",
       "└───────────┴───────────┴─────────┴────────────┴─────────┴────────┴──────┴──────┘\n"
      ]
     },
     "metadata": {},
     "output_type": "display_data"
    },
    {
     "name": "stdout",
     "output_type": "stream",
     "text": [
      "\n",
      "Count:  5 \n",
      "\n",
      "2 cháu có lòng hảo tâm nên tìm đến những người Cao tuổi neo đơn bệnh tật  giúp không sợ bị lừa mà có ý nghĩa hơn 💛💛👍 \n",
      "\n",
      "Tag: 6\n"
     ]
    },
    {
     "data": {
      "text/html": [
       "<pre style=\"white-space:pre;overflow-x:auto;line-height:normal;font-family:Menlo,'DejaVu Sans Mono',consolas,'Courier New',monospace\"><span style=\"font-style: italic\">                                     KEY TAG                                     </span>\n",
       "┏━━━━━━━━━━━┳━━━━━━━━━━━┳━━━━━━━━━┳━━━━━━━━━━━━┳━━━━━━━━━┳━━━━━━━━┳━━━━━━┳━━━━━━┓\n",
       "┃<span style=\"font-weight: bold\"> 0         </span>┃<span style=\"font-weight: bold\"> 1         </span>┃<span style=\"font-weight: bold\"> 2       </span>┃<span style=\"font-weight: bold\"> 3          </span>┃<span style=\"font-weight: bold\"> 4       </span>┃<span style=\"font-weight: bold\"> 5      </span>┃<span style=\"font-weight: bold\"> 6    </span>┃<span style=\"font-weight: bold\"> 7    </span>┃\n",
       "┡━━━━━━━━━━━╇━━━━━━━━━━━╇━━━━━━━━━╇━━━━━━━━━━━━╇━━━━━━━━━╇━━━━━━━━╇━━━━━━╇━━━━━━┩\n",
       "│ chán ghét │ thích thú │ giận dữ │ ngạc nhiên │ buồn bã │ sợ hãi │ khác │ LOẠI │\n",
       "└───────────┴───────────┴─────────┴────────────┴─────────┴────────┴──────┴──────┘\n",
       "</pre>\n"
      ],
      "text/plain": [
       "\u001b[3m                                     KEY TAG                                     \u001b[0m\n",
       "┏━━━━━━━━━━━┳━━━━━━━━━━━┳━━━━━━━━━┳━━━━━━━━━━━━┳━━━━━━━━━┳━━━━━━━━┳━━━━━━┳━━━━━━┓\n",
       "┃\u001b[1m \u001b[0m\u001b[1m0        \u001b[0m\u001b[1m \u001b[0m┃\u001b[1m \u001b[0m\u001b[1m1        \u001b[0m\u001b[1m \u001b[0m┃\u001b[1m \u001b[0m\u001b[1m2      \u001b[0m\u001b[1m \u001b[0m┃\u001b[1m \u001b[0m\u001b[1m3         \u001b[0m\u001b[1m \u001b[0m┃\u001b[1m \u001b[0m\u001b[1m4      \u001b[0m\u001b[1m \u001b[0m┃\u001b[1m \u001b[0m\u001b[1m5     \u001b[0m\u001b[1m \u001b[0m┃\u001b[1m \u001b[0m\u001b[1m6   \u001b[0m\u001b[1m \u001b[0m┃\u001b[1m \u001b[0m\u001b[1m7   \u001b[0m\u001b[1m \u001b[0m┃\n",
       "┡━━━━━━━━━━━╇━━━━━━━━━━━╇━━━━━━━━━╇━━━━━━━━━━━━╇━━━━━━━━━╇━━━━━━━━╇━━━━━━╇━━━━━━┩\n",
       "│ chán ghét │ thích thú │ giận dữ │ ngạc nhiên │ buồn bã │ sợ hãi │ khác │ LOẠI │\n",
       "└───────────┴───────────┴─────────┴────────────┴─────────┴────────┴──────┴──────┘\n"
      ]
     },
     "metadata": {},
     "output_type": "display_data"
    },
    {
     "name": "stdout",
     "output_type": "stream",
     "text": [
      "\n",
      "Count:  6 \n",
      "\n",
      "Buồn quá mọi người ạ, mình lại bị lừa nữa rồi . cuộc sống này có quá nhiều lừa dối. Người muốn mạnh khỏe để đi làm. Còn người thì giả vờ tật nguyền để xin tiền Facebook của Trọng https://www.facebook.com/phuctrongvlogss\n",
      "\n",
      "Fanpage của Trọng https://www.facebook.com/phuctrongyoutober/ \n",
      "\n",
      "Tag: 6\n"
     ]
    },
    {
     "data": {
      "text/html": [
       "<pre style=\"white-space:pre;overflow-x:auto;line-height:normal;font-family:Menlo,'DejaVu Sans Mono',consolas,'Courier New',monospace\"><span style=\"font-style: italic\">                                     KEY TAG                                     </span>\n",
       "┏━━━━━━━━━━━┳━━━━━━━━━━━┳━━━━━━━━━┳━━━━━━━━━━━━┳━━━━━━━━━┳━━━━━━━━┳━━━━━━┳━━━━━━┓\n",
       "┃<span style=\"font-weight: bold\"> 0         </span>┃<span style=\"font-weight: bold\"> 1         </span>┃<span style=\"font-weight: bold\"> 2       </span>┃<span style=\"font-weight: bold\"> 3          </span>┃<span style=\"font-weight: bold\"> 4       </span>┃<span style=\"font-weight: bold\"> 5      </span>┃<span style=\"font-weight: bold\"> 6    </span>┃<span style=\"font-weight: bold\"> 7    </span>┃\n",
       "┡━━━━━━━━━━━╇━━━━━━━━━━━╇━━━━━━━━━╇━━━━━━━━━━━━╇━━━━━━━━━╇━━━━━━━━╇━━━━━━╇━━━━━━┩\n",
       "│ chán ghét │ thích thú │ giận dữ │ ngạc nhiên │ buồn bã │ sợ hãi │ khác │ LOẠI │\n",
       "└───────────┴───────────┴─────────┴────────────┴─────────┴────────┴──────┴──────┘\n",
       "</pre>\n"
      ],
      "text/plain": [
       "\u001b[3m                                     KEY TAG                                     \u001b[0m\n",
       "┏━━━━━━━━━━━┳━━━━━━━━━━━┳━━━━━━━━━┳━━━━━━━━━━━━┳━━━━━━━━━┳━━━━━━━━┳━━━━━━┳━━━━━━┓\n",
       "┃\u001b[1m \u001b[0m\u001b[1m0        \u001b[0m\u001b[1m \u001b[0m┃\u001b[1m \u001b[0m\u001b[1m1        \u001b[0m\u001b[1m \u001b[0m┃\u001b[1m \u001b[0m\u001b[1m2      \u001b[0m\u001b[1m \u001b[0m┃\u001b[1m \u001b[0m\u001b[1m3         \u001b[0m\u001b[1m \u001b[0m┃\u001b[1m \u001b[0m\u001b[1m4      \u001b[0m\u001b[1m \u001b[0m┃\u001b[1m \u001b[0m\u001b[1m5     \u001b[0m\u001b[1m \u001b[0m┃\u001b[1m \u001b[0m\u001b[1m6   \u001b[0m\u001b[1m \u001b[0m┃\u001b[1m \u001b[0m\u001b[1m7   \u001b[0m\u001b[1m \u001b[0m┃\n",
       "┡━━━━━━━━━━━╇━━━━━━━━━━━╇━━━━━━━━━╇━━━━━━━━━━━━╇━━━━━━━━━╇━━━━━━━━╇━━━━━━╇━━━━━━┩\n",
       "│ chán ghét │ thích thú │ giận dữ │ ngạc nhiên │ buồn bã │ sợ hãi │ khác │ LOẠI │\n",
       "└───────────┴───────────┴─────────┴────────────┴─────────┴────────┴──────┴──────┘\n"
      ]
     },
     "metadata": {},
     "output_type": "display_data"
    },
    {
     "name": "stdout",
     "output_type": "stream",
     "text": [
      "\n",
      "Count:  7 \n",
      "\n",
      "Bó tay luôn đủ thứ kiểu để lửa gạt . Thôi đừng buồn các em nhé , thương các em lắm \n",
      "\n",
      "Tag: 0\n"
     ]
    },
    {
     "data": {
      "text/html": [
       "<pre style=\"white-space:pre;overflow-x:auto;line-height:normal;font-family:Menlo,'DejaVu Sans Mono',consolas,'Courier New',monospace\"><span style=\"font-style: italic\">                                     KEY TAG                                     </span>\n",
       "┏━━━━━━━━━━━┳━━━━━━━━━━━┳━━━━━━━━━┳━━━━━━━━━━━━┳━━━━━━━━━┳━━━━━━━━┳━━━━━━┳━━━━━━┓\n",
       "┃<span style=\"font-weight: bold\"> 0         </span>┃<span style=\"font-weight: bold\"> 1         </span>┃<span style=\"font-weight: bold\"> 2       </span>┃<span style=\"font-weight: bold\"> 3          </span>┃<span style=\"font-weight: bold\"> 4       </span>┃<span style=\"font-weight: bold\"> 5      </span>┃<span style=\"font-weight: bold\"> 6    </span>┃<span style=\"font-weight: bold\"> 7    </span>┃\n",
       "┡━━━━━━━━━━━╇━━━━━━━━━━━╇━━━━━━━━━╇━━━━━━━━━━━━╇━━━━━━━━━╇━━━━━━━━╇━━━━━━╇━━━━━━┩\n",
       "│ chán ghét │ thích thú │ giận dữ │ ngạc nhiên │ buồn bã │ sợ hãi │ khác │ LOẠI │\n",
       "└───────────┴───────────┴─────────┴────────────┴─────────┴────────┴──────┴──────┘\n",
       "</pre>\n"
      ],
      "text/plain": [
       "\u001b[3m                                     KEY TAG                                     \u001b[0m\n",
       "┏━━━━━━━━━━━┳━━━━━━━━━━━┳━━━━━━━━━┳━━━━━━━━━━━━┳━━━━━━━━━┳━━━━━━━━┳━━━━━━┳━━━━━━┓\n",
       "┃\u001b[1m \u001b[0m\u001b[1m0        \u001b[0m\u001b[1m \u001b[0m┃\u001b[1m \u001b[0m\u001b[1m1        \u001b[0m\u001b[1m \u001b[0m┃\u001b[1m \u001b[0m\u001b[1m2      \u001b[0m\u001b[1m \u001b[0m┃\u001b[1m \u001b[0m\u001b[1m3         \u001b[0m\u001b[1m \u001b[0m┃\u001b[1m \u001b[0m\u001b[1m4      \u001b[0m\u001b[1m \u001b[0m┃\u001b[1m \u001b[0m\u001b[1m5     \u001b[0m\u001b[1m \u001b[0m┃\u001b[1m \u001b[0m\u001b[1m6   \u001b[0m\u001b[1m \u001b[0m┃\u001b[1m \u001b[0m\u001b[1m7   \u001b[0m\u001b[1m \u001b[0m┃\n",
       "┡━━━━━━━━━━━╇━━━━━━━━━━━╇━━━━━━━━━╇━━━━━━━━━━━━╇━━━━━━━━━╇━━━━━━━━╇━━━━━━╇━━━━━━┩\n",
       "│ chán ghét │ thích thú │ giận dữ │ ngạc nhiên │ buồn bã │ sợ hãi │ khác │ LOẠI │\n",
       "└───────────┴───────────┴─────────┴────────────┴─────────┴────────┴──────┴──────┘\n"
      ]
     },
     "metadata": {},
     "output_type": "display_data"
    },
    {
     "name": "stdout",
     "output_type": "stream",
     "text": [
      "\n",
      "Count:  8 \n",
      "\n",
      "thương nhóm. Làm việc ác ắt nhận hậu quả. Tấm lòng của các bạn cho đi sẽ được nhận lại điều tốt. Chúc team luôn khoẻ mạnh \n",
      "\n",
      "Tag: 2\n"
     ]
    },
    {
     "data": {
      "text/html": [
       "<pre style=\"white-space:pre;overflow-x:auto;line-height:normal;font-family:Menlo,'DejaVu Sans Mono',consolas,'Courier New',monospace\"><span style=\"font-style: italic\">                                     KEY TAG                                     </span>\n",
       "┏━━━━━━━━━━━┳━━━━━━━━━━━┳━━━━━━━━━┳━━━━━━━━━━━━┳━━━━━━━━━┳━━━━━━━━┳━━━━━━┳━━━━━━┓\n",
       "┃<span style=\"font-weight: bold\"> 0         </span>┃<span style=\"font-weight: bold\"> 1         </span>┃<span style=\"font-weight: bold\"> 2       </span>┃<span style=\"font-weight: bold\"> 3          </span>┃<span style=\"font-weight: bold\"> 4       </span>┃<span style=\"font-weight: bold\"> 5      </span>┃<span style=\"font-weight: bold\"> 6    </span>┃<span style=\"font-weight: bold\"> 7    </span>┃\n",
       "┡━━━━━━━━━━━╇━━━━━━━━━━━╇━━━━━━━━━╇━━━━━━━━━━━━╇━━━━━━━━━╇━━━━━━━━╇━━━━━━╇━━━━━━┩\n",
       "│ chán ghét │ thích thú │ giận dữ │ ngạc nhiên │ buồn bã │ sợ hãi │ khác │ LOẠI │\n",
       "└───────────┴───────────┴─────────┴────────────┴─────────┴────────┴──────┴──────┘\n",
       "</pre>\n"
      ],
      "text/plain": [
       "\u001b[3m                                     KEY TAG                                     \u001b[0m\n",
       "┏━━━━━━━━━━━┳━━━━━━━━━━━┳━━━━━━━━━┳━━━━━━━━━━━━┳━━━━━━━━━┳━━━━━━━━┳━━━━━━┳━━━━━━┓\n",
       "┃\u001b[1m \u001b[0m\u001b[1m0        \u001b[0m\u001b[1m \u001b[0m┃\u001b[1m \u001b[0m\u001b[1m1        \u001b[0m\u001b[1m \u001b[0m┃\u001b[1m \u001b[0m\u001b[1m2      \u001b[0m\u001b[1m \u001b[0m┃\u001b[1m \u001b[0m\u001b[1m3         \u001b[0m\u001b[1m \u001b[0m┃\u001b[1m \u001b[0m\u001b[1m4      \u001b[0m\u001b[1m \u001b[0m┃\u001b[1m \u001b[0m\u001b[1m5     \u001b[0m\u001b[1m \u001b[0m┃\u001b[1m \u001b[0m\u001b[1m6   \u001b[0m\u001b[1m \u001b[0m┃\u001b[1m \u001b[0m\u001b[1m7   \u001b[0m\u001b[1m \u001b[0m┃\n",
       "┡━━━━━━━━━━━╇━━━━━━━━━━━╇━━━━━━━━━╇━━━━━━━━━━━━╇━━━━━━━━━╇━━━━━━━━╇━━━━━━╇━━━━━━┩\n",
       "│ chán ghét │ thích thú │ giận dữ │ ngạc nhiên │ buồn bã │ sợ hãi │ khác │ LOẠI │\n",
       "└───────────┴───────────┴─────────┴────────────┴─────────┴────────┴──────┴──────┘\n"
      ]
     },
     "metadata": {},
     "output_type": "display_data"
    },
    {
     "name": "stdout",
     "output_type": "stream",
     "text": [
      "\n",
      "Count:  9 \n",
      "\n",
      "Các em đi làm YouTube giúp cho những mảnh đời khó khăn, nhưng sao thấy mạo hiểm quá...  Mong quý vị và các Mạnh Thường Quân có giải pháp giúp đở  cho các em này \n",
      "\n",
      "Tag: 4\n"
     ]
    },
    {
     "data": {
      "text/html": [
       "<pre style=\"white-space:pre;overflow-x:auto;line-height:normal;font-family:Menlo,'DejaVu Sans Mono',consolas,'Courier New',monospace\"><span style=\"font-style: italic\">                                     KEY TAG                                     </span>\n",
       "┏━━━━━━━━━━━┳━━━━━━━━━━━┳━━━━━━━━━┳━━━━━━━━━━━━┳━━━━━━━━━┳━━━━━━━━┳━━━━━━┳━━━━━━┓\n",
       "┃<span style=\"font-weight: bold\"> 0         </span>┃<span style=\"font-weight: bold\"> 1         </span>┃<span style=\"font-weight: bold\"> 2       </span>┃<span style=\"font-weight: bold\"> 3          </span>┃<span style=\"font-weight: bold\"> 4       </span>┃<span style=\"font-weight: bold\"> 5      </span>┃<span style=\"font-weight: bold\"> 6    </span>┃<span style=\"font-weight: bold\"> 7    </span>┃\n",
       "┡━━━━━━━━━━━╇━━━━━━━━━━━╇━━━━━━━━━╇━━━━━━━━━━━━╇━━━━━━━━━╇━━━━━━━━╇━━━━━━╇━━━━━━┩\n",
       "│ chán ghét │ thích thú │ giận dữ │ ngạc nhiên │ buồn bã │ sợ hãi │ khác │ LOẠI │\n",
       "└───────────┴───────────┴─────────┴────────────┴─────────┴────────┴──────┴──────┘\n",
       "</pre>\n"
      ],
      "text/plain": [
       "\u001b[3m                                     KEY TAG                                     \u001b[0m\n",
       "┏━━━━━━━━━━━┳━━━━━━━━━━━┳━━━━━━━━━┳━━━━━━━━━━━━┳━━━━━━━━━┳━━━━━━━━┳━━━━━━┳━━━━━━┓\n",
       "┃\u001b[1m \u001b[0m\u001b[1m0        \u001b[0m\u001b[1m \u001b[0m┃\u001b[1m \u001b[0m\u001b[1m1        \u001b[0m\u001b[1m \u001b[0m┃\u001b[1m \u001b[0m\u001b[1m2      \u001b[0m\u001b[1m \u001b[0m┃\u001b[1m \u001b[0m\u001b[1m3         \u001b[0m\u001b[1m \u001b[0m┃\u001b[1m \u001b[0m\u001b[1m4      \u001b[0m\u001b[1m \u001b[0m┃\u001b[1m \u001b[0m\u001b[1m5     \u001b[0m\u001b[1m \u001b[0m┃\u001b[1m \u001b[0m\u001b[1m6   \u001b[0m\u001b[1m \u001b[0m┃\u001b[1m \u001b[0m\u001b[1m7   \u001b[0m\u001b[1m \u001b[0m┃\n",
       "┡━━━━━━━━━━━╇━━━━━━━━━━━╇━━━━━━━━━╇━━━━━━━━━━━━╇━━━━━━━━━╇━━━━━━━━╇━━━━━━╇━━━━━━┩\n",
       "│ chán ghét │ thích thú │ giận dữ │ ngạc nhiên │ buồn bã │ sợ hãi │ khác │ LOẠI │\n",
       "└───────────┴───────────┴─────────┴────────────┴─────────┴────────┴──────┴──────┘\n"
      ]
     },
     "metadata": {},
     "output_type": "display_data"
    },
    {
     "name": "stdout",
     "output_type": "stream",
     "text": [
      "\n",
      "Count:  10 \n",
      "\n",
      "❤❤❤ hai đứa cháu này tốt lắm, cảm ơn hai cháu nhé \n",
      "\n",
      "Tag: 1\n"
     ]
    },
    {
     "data": {
      "text/html": [
       "<pre style=\"white-space:pre;overflow-x:auto;line-height:normal;font-family:Menlo,'DejaVu Sans Mono',consolas,'Courier New',monospace\"><span style=\"font-style: italic\">                                     KEY TAG                                     </span>\n",
       "┏━━━━━━━━━━━┳━━━━━━━━━━━┳━━━━━━━━━┳━━━━━━━━━━━━┳━━━━━━━━━┳━━━━━━━━┳━━━━━━┳━━━━━━┓\n",
       "┃<span style=\"font-weight: bold\"> 0         </span>┃<span style=\"font-weight: bold\"> 1         </span>┃<span style=\"font-weight: bold\"> 2       </span>┃<span style=\"font-weight: bold\"> 3          </span>┃<span style=\"font-weight: bold\"> 4       </span>┃<span style=\"font-weight: bold\"> 5      </span>┃<span style=\"font-weight: bold\"> 6    </span>┃<span style=\"font-weight: bold\"> 7    </span>┃\n",
       "┡━━━━━━━━━━━╇━━━━━━━━━━━╇━━━━━━━━━╇━━━━━━━━━━━━╇━━━━━━━━━╇━━━━━━━━╇━━━━━━╇━━━━━━┩\n",
       "│ chán ghét │ thích thú │ giận dữ │ ngạc nhiên │ buồn bã │ sợ hãi │ khác │ LOẠI │\n",
       "└───────────┴───────────┴─────────┴────────────┴─────────┴────────┴──────┴──────┘\n",
       "</pre>\n"
      ],
      "text/plain": [
       "\u001b[3m                                     KEY TAG                                     \u001b[0m\n",
       "┏━━━━━━━━━━━┳━━━━━━━━━━━┳━━━━━━━━━┳━━━━━━━━━━━━┳━━━━━━━━━┳━━━━━━━━┳━━━━━━┳━━━━━━┓\n",
       "┃\u001b[1m \u001b[0m\u001b[1m0        \u001b[0m\u001b[1m \u001b[0m┃\u001b[1m \u001b[0m\u001b[1m1        \u001b[0m\u001b[1m \u001b[0m┃\u001b[1m \u001b[0m\u001b[1m2      \u001b[0m\u001b[1m \u001b[0m┃\u001b[1m \u001b[0m\u001b[1m3         \u001b[0m\u001b[1m \u001b[0m┃\u001b[1m \u001b[0m\u001b[1m4      \u001b[0m\u001b[1m \u001b[0m┃\u001b[1m \u001b[0m\u001b[1m5     \u001b[0m\u001b[1m \u001b[0m┃\u001b[1m \u001b[0m\u001b[1m6   \u001b[0m\u001b[1m \u001b[0m┃\u001b[1m \u001b[0m\u001b[1m7   \u001b[0m\u001b[1m \u001b[0m┃\n",
       "┡━━━━━━━━━━━╇━━━━━━━━━━━╇━━━━━━━━━╇━━━━━━━━━━━━╇━━━━━━━━━╇━━━━━━━━╇━━━━━━╇━━━━━━┩\n",
       "│ chán ghét │ thích thú │ giận dữ │ ngạc nhiên │ buồn bã │ sợ hãi │ khác │ LOẠI │\n",
       "└───────────┴───────────┴─────────┴────────────┴─────────┴────────┴──────┴──────┘\n"
      ]
     },
     "metadata": {},
     "output_type": "display_data"
    },
    {
     "name": "stdout",
     "output_type": "stream",
     "text": [
      "\n",
      "Count:  11 \n",
      "\n",
      "Hi vọng cọc vé số đó lại trúng được vài trăm triệu để 2 em đi giúp đỡ nhiều người hơn nữa hjjjj \n",
      "\n",
      "Tag: 6\n"
     ]
    },
    {
     "data": {
      "text/html": [
       "<pre style=\"white-space:pre;overflow-x:auto;line-height:normal;font-family:Menlo,'DejaVu Sans Mono',consolas,'Courier New',monospace\"><span style=\"font-style: italic\">                                     KEY TAG                                     </span>\n",
       "┏━━━━━━━━━━━┳━━━━━━━━━━━┳━━━━━━━━━┳━━━━━━━━━━━━┳━━━━━━━━━┳━━━━━━━━┳━━━━━━┳━━━━━━┓\n",
       "┃<span style=\"font-weight: bold\"> 0         </span>┃<span style=\"font-weight: bold\"> 1         </span>┃<span style=\"font-weight: bold\"> 2       </span>┃<span style=\"font-weight: bold\"> 3          </span>┃<span style=\"font-weight: bold\"> 4       </span>┃<span style=\"font-weight: bold\"> 5      </span>┃<span style=\"font-weight: bold\"> 6    </span>┃<span style=\"font-weight: bold\"> 7    </span>┃\n",
       "┡━━━━━━━━━━━╇━━━━━━━━━━━╇━━━━━━━━━╇━━━━━━━━━━━━╇━━━━━━━━━╇━━━━━━━━╇━━━━━━╇━━━━━━┩\n",
       "│ chán ghét │ thích thú │ giận dữ │ ngạc nhiên │ buồn bã │ sợ hãi │ khác │ LOẠI │\n",
       "└───────────┴───────────┴─────────┴────────────┴─────────┴────────┴──────┴──────┘\n",
       "</pre>\n"
      ],
      "text/plain": [
       "\u001b[3m                                     KEY TAG                                     \u001b[0m\n",
       "┏━━━━━━━━━━━┳━━━━━━━━━━━┳━━━━━━━━━┳━━━━━━━━━━━━┳━━━━━━━━━┳━━━━━━━━┳━━━━━━┳━━━━━━┓\n",
       "┃\u001b[1m \u001b[0m\u001b[1m0        \u001b[0m\u001b[1m \u001b[0m┃\u001b[1m \u001b[0m\u001b[1m1        \u001b[0m\u001b[1m \u001b[0m┃\u001b[1m \u001b[0m\u001b[1m2      \u001b[0m\u001b[1m \u001b[0m┃\u001b[1m \u001b[0m\u001b[1m3         \u001b[0m\u001b[1m \u001b[0m┃\u001b[1m \u001b[0m\u001b[1m4      \u001b[0m\u001b[1m \u001b[0m┃\u001b[1m \u001b[0m\u001b[1m5     \u001b[0m\u001b[1m \u001b[0m┃\u001b[1m \u001b[0m\u001b[1m6   \u001b[0m\u001b[1m \u001b[0m┃\u001b[1m \u001b[0m\u001b[1m7   \u001b[0m\u001b[1m \u001b[0m┃\n",
       "┡━━━━━━━━━━━╇━━━━━━━━━━━╇━━━━━━━━━╇━━━━━━━━━━━━╇━━━━━━━━━╇━━━━━━━━╇━━━━━━╇━━━━━━┩\n",
       "│ chán ghét │ thích thú │ giận dữ │ ngạc nhiên │ buồn bã │ sợ hãi │ khác │ LOẠI │\n",
       "└───────────┴───────────┴─────────┴────────────┴─────────┴────────┴──────┴──────┘\n"
      ]
     },
     "metadata": {},
     "output_type": "display_data"
    },
    {
     "name": "stdout",
     "output_type": "stream",
     "text": [
      "\n",
      "Count:  12 \n",
      "\n",
      "Em hỏi họ nghe cách nói chuyện của ho là biết liền .....✌️😷 \n",
      "\n",
      "Tag: 6\n"
     ]
    },
    {
     "data": {
      "text/html": [
       "<pre style=\"white-space:pre;overflow-x:auto;line-height:normal;font-family:Menlo,'DejaVu Sans Mono',consolas,'Courier New',monospace\"><span style=\"font-style: italic\">                                     KEY TAG                                     </span>\n",
       "┏━━━━━━━━━━━┳━━━━━━━━━━━┳━━━━━━━━━┳━━━━━━━━━━━━┳━━━━━━━━━┳━━━━━━━━┳━━━━━━┳━━━━━━┓\n",
       "┃<span style=\"font-weight: bold\"> 0         </span>┃<span style=\"font-weight: bold\"> 1         </span>┃<span style=\"font-weight: bold\"> 2       </span>┃<span style=\"font-weight: bold\"> 3          </span>┃<span style=\"font-weight: bold\"> 4       </span>┃<span style=\"font-weight: bold\"> 5      </span>┃<span style=\"font-weight: bold\"> 6    </span>┃<span style=\"font-weight: bold\"> 7    </span>┃\n",
       "┡━━━━━━━━━━━╇━━━━━━━━━━━╇━━━━━━━━━╇━━━━━━━━━━━━╇━━━━━━━━━╇━━━━━━━━╇━━━━━━╇━━━━━━┩\n",
       "│ chán ghét │ thích thú │ giận dữ │ ngạc nhiên │ buồn bã │ sợ hãi │ khác │ LOẠI │\n",
       "└───────────┴───────────┴─────────┴────────────┴─────────┴────────┴──────┴──────┘\n",
       "</pre>\n"
      ],
      "text/plain": [
       "\u001b[3m                                     KEY TAG                                     \u001b[0m\n",
       "┏━━━━━━━━━━━┳━━━━━━━━━━━┳━━━━━━━━━┳━━━━━━━━━━━━┳━━━━━━━━━┳━━━━━━━━┳━━━━━━┳━━━━━━┓\n",
       "┃\u001b[1m \u001b[0m\u001b[1m0        \u001b[0m\u001b[1m \u001b[0m┃\u001b[1m \u001b[0m\u001b[1m1        \u001b[0m\u001b[1m \u001b[0m┃\u001b[1m \u001b[0m\u001b[1m2      \u001b[0m\u001b[1m \u001b[0m┃\u001b[1m \u001b[0m\u001b[1m3         \u001b[0m\u001b[1m \u001b[0m┃\u001b[1m \u001b[0m\u001b[1m4      \u001b[0m\u001b[1m \u001b[0m┃\u001b[1m \u001b[0m\u001b[1m5     \u001b[0m\u001b[1m \u001b[0m┃\u001b[1m \u001b[0m\u001b[1m6   \u001b[0m\u001b[1m \u001b[0m┃\u001b[1m \u001b[0m\u001b[1m7   \u001b[0m\u001b[1m \u001b[0m┃\n",
       "┡━━━━━━━━━━━╇━━━━━━━━━━━╇━━━━━━━━━╇━━━━━━━━━━━━╇━━━━━━━━━╇━━━━━━━━╇━━━━━━╇━━━━━━┩\n",
       "│ chán ghét │ thích thú │ giận dữ │ ngạc nhiên │ buồn bã │ sợ hãi │ khác │ LOẠI │\n",
       "└───────────┴───────────┴─────────┴────────────┴─────────┴────────┴──────┴──────┘\n"
      ]
     },
     "metadata": {},
     "output_type": "display_data"
    },
    {
     "name": "stdout",
     "output_type": "stream",
     "text": [
      "\n",
      "Count:  13 \n",
      "\n",
      "Không biết  vé số  giả  hay thiệt?. Thương các cháu thật nhiều ❤️ \n",
      "\n",
      "Tag: 6\n"
     ]
    },
    {
     "data": {
      "text/html": [
       "<pre style=\"white-space:pre;overflow-x:auto;line-height:normal;font-family:Menlo,'DejaVu Sans Mono',consolas,'Courier New',monospace\"><span style=\"font-style: italic\">                                     KEY TAG                                     </span>\n",
       "┏━━━━━━━━━━━┳━━━━━━━━━━━┳━━━━━━━━━┳━━━━━━━━━━━━┳━━━━━━━━━┳━━━━━━━━┳━━━━━━┳━━━━━━┓\n",
       "┃<span style=\"font-weight: bold\"> 0         </span>┃<span style=\"font-weight: bold\"> 1         </span>┃<span style=\"font-weight: bold\"> 2       </span>┃<span style=\"font-weight: bold\"> 3          </span>┃<span style=\"font-weight: bold\"> 4       </span>┃<span style=\"font-weight: bold\"> 5      </span>┃<span style=\"font-weight: bold\"> 6    </span>┃<span style=\"font-weight: bold\"> 7    </span>┃\n",
       "┡━━━━━━━━━━━╇━━━━━━━━━━━╇━━━━━━━━━╇━━━━━━━━━━━━╇━━━━━━━━━╇━━━━━━━━╇━━━━━━╇━━━━━━┩\n",
       "│ chán ghét │ thích thú │ giận dữ │ ngạc nhiên │ buồn bã │ sợ hãi │ khác │ LOẠI │\n",
       "└───────────┴───────────┴─────────┴────────────┴─────────┴────────┴──────┴──────┘\n",
       "</pre>\n"
      ],
      "text/plain": [
       "\u001b[3m                                     KEY TAG                                     \u001b[0m\n",
       "┏━━━━━━━━━━━┳━━━━━━━━━━━┳━━━━━━━━━┳━━━━━━━━━━━━┳━━━━━━━━━┳━━━━━━━━┳━━━━━━┳━━━━━━┓\n",
       "┃\u001b[1m \u001b[0m\u001b[1m0        \u001b[0m\u001b[1m \u001b[0m┃\u001b[1m \u001b[0m\u001b[1m1        \u001b[0m\u001b[1m \u001b[0m┃\u001b[1m \u001b[0m\u001b[1m2      \u001b[0m\u001b[1m \u001b[0m┃\u001b[1m \u001b[0m\u001b[1m3         \u001b[0m\u001b[1m \u001b[0m┃\u001b[1m \u001b[0m\u001b[1m4      \u001b[0m\u001b[1m \u001b[0m┃\u001b[1m \u001b[0m\u001b[1m5     \u001b[0m\u001b[1m \u001b[0m┃\u001b[1m \u001b[0m\u001b[1m6   \u001b[0m\u001b[1m \u001b[0m┃\u001b[1m \u001b[0m\u001b[1m7   \u001b[0m\u001b[1m \u001b[0m┃\n",
       "┡━━━━━━━━━━━╇━━━━━━━━━━━╇━━━━━━━━━╇━━━━━━━━━━━━╇━━━━━━━━━╇━━━━━━━━╇━━━━━━╇━━━━━━┩\n",
       "│ chán ghét │ thích thú │ giận dữ │ ngạc nhiên │ buồn bã │ sợ hãi │ khác │ LOẠI │\n",
       "└───────────┴───────────┴─────────┴────────────┴─────────┴────────┴──────┴──────┘\n"
      ]
     },
     "metadata": {},
     "output_type": "display_data"
    },
    {
     "name": "stdout",
     "output_type": "stream",
     "text": [
      "\n",
      "Count:  14 \n",
      "\n",
      "Cái khúc con hẻm tại cái bà bận áo cam chặn đường ko là bắt kịp r , tứk ở chỗ đó :< \n",
      "\n",
      "Tag: 2\n"
     ]
    },
    {
     "data": {
      "text/html": [
       "<pre style=\"white-space:pre;overflow-x:auto;line-height:normal;font-family:Menlo,'DejaVu Sans Mono',consolas,'Courier New',monospace\"><span style=\"font-style: italic\">                                     KEY TAG                                     </span>\n",
       "┏━━━━━━━━━━━┳━━━━━━━━━━━┳━━━━━━━━━┳━━━━━━━━━━━━┳━━━━━━━━━┳━━━━━━━━┳━━━━━━┳━━━━━━┓\n",
       "┃<span style=\"font-weight: bold\"> 0         </span>┃<span style=\"font-weight: bold\"> 1         </span>┃<span style=\"font-weight: bold\"> 2       </span>┃<span style=\"font-weight: bold\"> 3          </span>┃<span style=\"font-weight: bold\"> 4       </span>┃<span style=\"font-weight: bold\"> 5      </span>┃<span style=\"font-weight: bold\"> 6    </span>┃<span style=\"font-weight: bold\"> 7    </span>┃\n",
       "┡━━━━━━━━━━━╇━━━━━━━━━━━╇━━━━━━━━━╇━━━━━━━━━━━━╇━━━━━━━━━╇━━━━━━━━╇━━━━━━╇━━━━━━┩\n",
       "│ chán ghét │ thích thú │ giận dữ │ ngạc nhiên │ buồn bã │ sợ hãi │ khác │ LOẠI │\n",
       "└───────────┴───────────┴─────────┴────────────┴─────────┴────────┴──────┴──────┘\n",
       "</pre>\n"
      ],
      "text/plain": [
       "\u001b[3m                                     KEY TAG                                     \u001b[0m\n",
       "┏━━━━━━━━━━━┳━━━━━━━━━━━┳━━━━━━━━━┳━━━━━━━━━━━━┳━━━━━━━━━┳━━━━━━━━┳━━━━━━┳━━━━━━┓\n",
       "┃\u001b[1m \u001b[0m\u001b[1m0        \u001b[0m\u001b[1m \u001b[0m┃\u001b[1m \u001b[0m\u001b[1m1        \u001b[0m\u001b[1m \u001b[0m┃\u001b[1m \u001b[0m\u001b[1m2      \u001b[0m\u001b[1m \u001b[0m┃\u001b[1m \u001b[0m\u001b[1m3         \u001b[0m\u001b[1m \u001b[0m┃\u001b[1m \u001b[0m\u001b[1m4      \u001b[0m\u001b[1m \u001b[0m┃\u001b[1m \u001b[0m\u001b[1m5     \u001b[0m\u001b[1m \u001b[0m┃\u001b[1m \u001b[0m\u001b[1m6   \u001b[0m\u001b[1m \u001b[0m┃\u001b[1m \u001b[0m\u001b[1m7   \u001b[0m\u001b[1m \u001b[0m┃\n",
       "┡━━━━━━━━━━━╇━━━━━━━━━━━╇━━━━━━━━━╇━━━━━━━━━━━━╇━━━━━━━━━╇━━━━━━━━╇━━━━━━╇━━━━━━┩\n",
       "│ chán ghét │ thích thú │ giận dữ │ ngạc nhiên │ buồn bã │ sợ hãi │ khác │ LOẠI │\n",
       "└───────────┴───────────┴─────────┴────────────┴─────────┴────────┴──────┴──────┘\n"
      ]
     },
     "metadata": {},
     "output_type": "display_data"
    },
    {
     "name": "stdout",
     "output_type": "stream",
     "text": [
      "\n",
      "Count:  15 \n",
      "\n",
      "Thương 2ae quá \n",
      "\n",
      "Tag: 4\n"
     ]
    },
    {
     "data": {
      "text/html": [
       "<pre style=\"white-space:pre;overflow-x:auto;line-height:normal;font-family:Menlo,'DejaVu Sans Mono',consolas,'Courier New',monospace\"><span style=\"font-style: italic\">                                     KEY TAG                                     </span>\n",
       "┏━━━━━━━━━━━┳━━━━━━━━━━━┳━━━━━━━━━┳━━━━━━━━━━━━┳━━━━━━━━━┳━━━━━━━━┳━━━━━━┳━━━━━━┓\n",
       "┃<span style=\"font-weight: bold\"> 0         </span>┃<span style=\"font-weight: bold\"> 1         </span>┃<span style=\"font-weight: bold\"> 2       </span>┃<span style=\"font-weight: bold\"> 3          </span>┃<span style=\"font-weight: bold\"> 4       </span>┃<span style=\"font-weight: bold\"> 5      </span>┃<span style=\"font-weight: bold\"> 6    </span>┃<span style=\"font-weight: bold\"> 7    </span>┃\n",
       "┡━━━━━━━━━━━╇━━━━━━━━━━━╇━━━━━━━━━╇━━━━━━━━━━━━╇━━━━━━━━━╇━━━━━━━━╇━━━━━━╇━━━━━━┩\n",
       "│ chán ghét │ thích thú │ giận dữ │ ngạc nhiên │ buồn bã │ sợ hãi │ khác │ LOẠI │\n",
       "└───────────┴───────────┴─────────┴────────────┴─────────┴────────┴──────┴──────┘\n",
       "</pre>\n"
      ],
      "text/plain": [
       "\u001b[3m                                     KEY TAG                                     \u001b[0m\n",
       "┏━━━━━━━━━━━┳━━━━━━━━━━━┳━━━━━━━━━┳━━━━━━━━━━━━┳━━━━━━━━━┳━━━━━━━━┳━━━━━━┳━━━━━━┓\n",
       "┃\u001b[1m \u001b[0m\u001b[1m0        \u001b[0m\u001b[1m \u001b[0m┃\u001b[1m \u001b[0m\u001b[1m1        \u001b[0m\u001b[1m \u001b[0m┃\u001b[1m \u001b[0m\u001b[1m2      \u001b[0m\u001b[1m \u001b[0m┃\u001b[1m \u001b[0m\u001b[1m3         \u001b[0m\u001b[1m \u001b[0m┃\u001b[1m \u001b[0m\u001b[1m4      \u001b[0m\u001b[1m \u001b[0m┃\u001b[1m \u001b[0m\u001b[1m5     \u001b[0m\u001b[1m \u001b[0m┃\u001b[1m \u001b[0m\u001b[1m6   \u001b[0m\u001b[1m \u001b[0m┃\u001b[1m \u001b[0m\u001b[1m7   \u001b[0m\u001b[1m \u001b[0m┃\n",
       "┡━━━━━━━━━━━╇━━━━━━━━━━━╇━━━━━━━━━╇━━━━━━━━━━━━╇━━━━━━━━━╇━━━━━━━━╇━━━━━━╇━━━━━━┩\n",
       "│ chán ghét │ thích thú │ giận dữ │ ngạc nhiên │ buồn bã │ sợ hãi │ khác │ LOẠI │\n",
       "└───────────┴───────────┴─────────┴────────────┴─────────┴────────┴──────┴──────┘\n"
      ]
     },
     "metadata": {},
     "output_type": "display_data"
    },
    {
     "name": "stdout",
     "output_type": "stream",
     "text": [
      "\n",
      "Count:  16 \n",
      "\n",
      "Mấy đứa ơi thằng này giả đó,hom trước nó bị bắt một lần rồi và có hứa là không lam nhu vậy nữa mà nay nó lại chứng nào tật nấy dung giúp gì nó hết moi người oi \n",
      "\n",
      "Tag: 2\n"
     ]
    },
    {
     "data": {
      "text/html": [
       "<pre style=\"white-space:pre;overflow-x:auto;line-height:normal;font-family:Menlo,'DejaVu Sans Mono',consolas,'Courier New',monospace\"><span style=\"font-style: italic\">                                     KEY TAG                                     </span>\n",
       "┏━━━━━━━━━━━┳━━━━━━━━━━━┳━━━━━━━━━┳━━━━━━━━━━━━┳━━━━━━━━━┳━━━━━━━━┳━━━━━━┳━━━━━━┓\n",
       "┃<span style=\"font-weight: bold\"> 0         </span>┃<span style=\"font-weight: bold\"> 1         </span>┃<span style=\"font-weight: bold\"> 2       </span>┃<span style=\"font-weight: bold\"> 3          </span>┃<span style=\"font-weight: bold\"> 4       </span>┃<span style=\"font-weight: bold\"> 5      </span>┃<span style=\"font-weight: bold\"> 6    </span>┃<span style=\"font-weight: bold\"> 7    </span>┃\n",
       "┡━━━━━━━━━━━╇━━━━━━━━━━━╇━━━━━━━━━╇━━━━━━━━━━━━╇━━━━━━━━━╇━━━━━━━━╇━━━━━━╇━━━━━━┩\n",
       "│ chán ghét │ thích thú │ giận dữ │ ngạc nhiên │ buồn bã │ sợ hãi │ khác │ LOẠI │\n",
       "└───────────┴───────────┴─────────┴────────────┴─────────┴────────┴──────┴──────┘\n",
       "</pre>\n"
      ],
      "text/plain": [
       "\u001b[3m                                     KEY TAG                                     \u001b[0m\n",
       "┏━━━━━━━━━━━┳━━━━━━━━━━━┳━━━━━━━━━┳━━━━━━━━━━━━┳━━━━━━━━━┳━━━━━━━━┳━━━━━━┳━━━━━━┓\n",
       "┃\u001b[1m \u001b[0m\u001b[1m0        \u001b[0m\u001b[1m \u001b[0m┃\u001b[1m \u001b[0m\u001b[1m1        \u001b[0m\u001b[1m \u001b[0m┃\u001b[1m \u001b[0m\u001b[1m2      \u001b[0m\u001b[1m \u001b[0m┃\u001b[1m \u001b[0m\u001b[1m3         \u001b[0m\u001b[1m \u001b[0m┃\u001b[1m \u001b[0m\u001b[1m4      \u001b[0m\u001b[1m \u001b[0m┃\u001b[1m \u001b[0m\u001b[1m5     \u001b[0m\u001b[1m \u001b[0m┃\u001b[1m \u001b[0m\u001b[1m6   \u001b[0m\u001b[1m \u001b[0m┃\u001b[1m \u001b[0m\u001b[1m7   \u001b[0m\u001b[1m \u001b[0m┃\n",
       "┡━━━━━━━━━━━╇━━━━━━━━━━━╇━━━━━━━━━╇━━━━━━━━━━━━╇━━━━━━━━━╇━━━━━━━━╇━━━━━━╇━━━━━━┩\n",
       "│ chán ghét │ thích thú │ giận dữ │ ngạc nhiên │ buồn bã │ sợ hãi │ khác │ LOẠI │\n",
       "└───────────┴───────────┴─────────┴────────────┴─────────┴────────┴──────┴──────┘\n"
      ]
     },
     "metadata": {},
     "output_type": "display_data"
    },
    {
     "name": "stdout",
     "output_type": "stream",
     "text": [
      "\n",
      "Count:  17 \n",
      "\n",
      "Tức giận, tức quá chời luôn 👍 \n",
      "\n",
      "Tag: 2\n"
     ]
    },
    {
     "data": {
      "text/html": [
       "<pre style=\"white-space:pre;overflow-x:auto;line-height:normal;font-family:Menlo,'DejaVu Sans Mono',consolas,'Courier New',monospace\"><span style=\"font-style: italic\">                                     KEY TAG                                     </span>\n",
       "┏━━━━━━━━━━━┳━━━━━━━━━━━┳━━━━━━━━━┳━━━━━━━━━━━━┳━━━━━━━━━┳━━━━━━━━┳━━━━━━┳━━━━━━┓\n",
       "┃<span style=\"font-weight: bold\"> 0         </span>┃<span style=\"font-weight: bold\"> 1         </span>┃<span style=\"font-weight: bold\"> 2       </span>┃<span style=\"font-weight: bold\"> 3          </span>┃<span style=\"font-weight: bold\"> 4       </span>┃<span style=\"font-weight: bold\"> 5      </span>┃<span style=\"font-weight: bold\"> 6    </span>┃<span style=\"font-weight: bold\"> 7    </span>┃\n",
       "┡━━━━━━━━━━━╇━━━━━━━━━━━╇━━━━━━━━━╇━━━━━━━━━━━━╇━━━━━━━━━╇━━━━━━━━╇━━━━━━╇━━━━━━┩\n",
       "│ chán ghét │ thích thú │ giận dữ │ ngạc nhiên │ buồn bã │ sợ hãi │ khác │ LOẠI │\n",
       "└───────────┴───────────┴─────────┴────────────┴─────────┴────────┴──────┴──────┘\n",
       "</pre>\n"
      ],
      "text/plain": [
       "\u001b[3m                                     KEY TAG                                     \u001b[0m\n",
       "┏━━━━━━━━━━━┳━━━━━━━━━━━┳━━━━━━━━━┳━━━━━━━━━━━━┳━━━━━━━━━┳━━━━━━━━┳━━━━━━┳━━━━━━┓\n",
       "┃\u001b[1m \u001b[0m\u001b[1m0        \u001b[0m\u001b[1m \u001b[0m┃\u001b[1m \u001b[0m\u001b[1m1        \u001b[0m\u001b[1m \u001b[0m┃\u001b[1m \u001b[0m\u001b[1m2      \u001b[0m\u001b[1m \u001b[0m┃\u001b[1m \u001b[0m\u001b[1m3         \u001b[0m\u001b[1m \u001b[0m┃\u001b[1m \u001b[0m\u001b[1m4      \u001b[0m\u001b[1m \u001b[0m┃\u001b[1m \u001b[0m\u001b[1m5     \u001b[0m\u001b[1m \u001b[0m┃\u001b[1m \u001b[0m\u001b[1m6   \u001b[0m\u001b[1m \u001b[0m┃\u001b[1m \u001b[0m\u001b[1m7   \u001b[0m\u001b[1m \u001b[0m┃\n",
       "┡━━━━━━━━━━━╇━━━━━━━━━━━╇━━━━━━━━━╇━━━━━━━━━━━━╇━━━━━━━━━╇━━━━━━━━╇━━━━━━╇━━━━━━┩\n",
       "│ chán ghét │ thích thú │ giận dữ │ ngạc nhiên │ buồn bã │ sợ hãi │ khác │ LOẠI │\n",
       "└───────────┴───────────┴─────────┴────────────┴─────────┴────────┴──────┴──────┘\n"
      ]
     },
     "metadata": {},
     "output_type": "display_data"
    },
    {
     "name": "stdout",
     "output_type": "stream",
     "text": [
      "\n",
      "Count:  18 \n",
      "\n",
      "trời ơi ông shipper ổng đứng nhìn🤣 \n",
      "\n",
      "Tag: 6\n"
     ]
    },
    {
     "data": {
      "text/html": [
       "<pre style=\"white-space:pre;overflow-x:auto;line-height:normal;font-family:Menlo,'DejaVu Sans Mono',consolas,'Courier New',monospace\"><span style=\"font-style: italic\">                                     KEY TAG                                     </span>\n",
       "┏━━━━━━━━━━━┳━━━━━━━━━━━┳━━━━━━━━━┳━━━━━━━━━━━━┳━━━━━━━━━┳━━━━━━━━┳━━━━━━┳━━━━━━┓\n",
       "┃<span style=\"font-weight: bold\"> 0         </span>┃<span style=\"font-weight: bold\"> 1         </span>┃<span style=\"font-weight: bold\"> 2       </span>┃<span style=\"font-weight: bold\"> 3          </span>┃<span style=\"font-weight: bold\"> 4       </span>┃<span style=\"font-weight: bold\"> 5      </span>┃<span style=\"font-weight: bold\"> 6    </span>┃<span style=\"font-weight: bold\"> 7    </span>┃\n",
       "┡━━━━━━━━━━━╇━━━━━━━━━━━╇━━━━━━━━━╇━━━━━━━━━━━━╇━━━━━━━━━╇━━━━━━━━╇━━━━━━╇━━━━━━┩\n",
       "│ chán ghét │ thích thú │ giận dữ │ ngạc nhiên │ buồn bã │ sợ hãi │ khác │ LOẠI │\n",
       "└───────────┴───────────┴─────────┴────────────┴─────────┴────────┴──────┴──────┘\n",
       "</pre>\n"
      ],
      "text/plain": [
       "\u001b[3m                                     KEY TAG                                     \u001b[0m\n",
       "┏━━━━━━━━━━━┳━━━━━━━━━━━┳━━━━━━━━━┳━━━━━━━━━━━━┳━━━━━━━━━┳━━━━━━━━┳━━━━━━┳━━━━━━┓\n",
       "┃\u001b[1m \u001b[0m\u001b[1m0        \u001b[0m\u001b[1m \u001b[0m┃\u001b[1m \u001b[0m\u001b[1m1        \u001b[0m\u001b[1m \u001b[0m┃\u001b[1m \u001b[0m\u001b[1m2      \u001b[0m\u001b[1m \u001b[0m┃\u001b[1m \u001b[0m\u001b[1m3         \u001b[0m\u001b[1m \u001b[0m┃\u001b[1m \u001b[0m\u001b[1m4      \u001b[0m\u001b[1m \u001b[0m┃\u001b[1m \u001b[0m\u001b[1m5     \u001b[0m\u001b[1m \u001b[0m┃\u001b[1m \u001b[0m\u001b[1m6   \u001b[0m\u001b[1m \u001b[0m┃\u001b[1m \u001b[0m\u001b[1m7   \u001b[0m\u001b[1m \u001b[0m┃\n",
       "┡━━━━━━━━━━━╇━━━━━━━━━━━╇━━━━━━━━━╇━━━━━━━━━━━━╇━━━━━━━━━╇━━━━━━━━╇━━━━━━╇━━━━━━┩\n",
       "│ chán ghét │ thích thú │ giận dữ │ ngạc nhiên │ buồn bã │ sợ hãi │ khác │ LOẠI │\n",
       "└───────────┴───────────┴─────────┴────────────┴─────────┴────────┴──────┴──────┘\n"
      ]
     },
     "metadata": {},
     "output_type": "display_data"
    },
    {
     "name": "stdout",
     "output_type": "stream",
     "text": [
      "\n",
      "Count:  19 \n",
      "\n",
      "Rồi !!!\n",
      ", from Phú Yên nữa bà con ơi, \n",
      "\n",
      "Tag: 6\n"
     ]
    },
    {
     "data": {
      "text/html": [
       "<pre style=\"white-space:pre;overflow-x:auto;line-height:normal;font-family:Menlo,'DejaVu Sans Mono',consolas,'Courier New',monospace\"><span style=\"font-style: italic\">                                     KEY TAG                                     </span>\n",
       "┏━━━━━━━━━━━┳━━━━━━━━━━━┳━━━━━━━━━┳━━━━━━━━━━━━┳━━━━━━━━━┳━━━━━━━━┳━━━━━━┳━━━━━━┓\n",
       "┃<span style=\"font-weight: bold\"> 0         </span>┃<span style=\"font-weight: bold\"> 1         </span>┃<span style=\"font-weight: bold\"> 2       </span>┃<span style=\"font-weight: bold\"> 3          </span>┃<span style=\"font-weight: bold\"> 4       </span>┃<span style=\"font-weight: bold\"> 5      </span>┃<span style=\"font-weight: bold\"> 6    </span>┃<span style=\"font-weight: bold\"> 7    </span>┃\n",
       "┡━━━━━━━━━━━╇━━━━━━━━━━━╇━━━━━━━━━╇━━━━━━━━━━━━╇━━━━━━━━━╇━━━━━━━━╇━━━━━━╇━━━━━━┩\n",
       "│ chán ghét │ thích thú │ giận dữ │ ngạc nhiên │ buồn bã │ sợ hãi │ khác │ LOẠI │\n",
       "└───────────┴───────────┴─────────┴────────────┴─────────┴────────┴──────┴──────┘\n",
       "</pre>\n"
      ],
      "text/plain": [
       "\u001b[3m                                     KEY TAG                                     \u001b[0m\n",
       "┏━━━━━━━━━━━┳━━━━━━━━━━━┳━━━━━━━━━┳━━━━━━━━━━━━┳━━━━━━━━━┳━━━━━━━━┳━━━━━━┳━━━━━━┓\n",
       "┃\u001b[1m \u001b[0m\u001b[1m0        \u001b[0m\u001b[1m \u001b[0m┃\u001b[1m \u001b[0m\u001b[1m1        \u001b[0m\u001b[1m \u001b[0m┃\u001b[1m \u001b[0m\u001b[1m2      \u001b[0m\u001b[1m \u001b[0m┃\u001b[1m \u001b[0m\u001b[1m3         \u001b[0m\u001b[1m \u001b[0m┃\u001b[1m \u001b[0m\u001b[1m4      \u001b[0m\u001b[1m \u001b[0m┃\u001b[1m \u001b[0m\u001b[1m5     \u001b[0m\u001b[1m \u001b[0m┃\u001b[1m \u001b[0m\u001b[1m6   \u001b[0m\u001b[1m \u001b[0m┃\u001b[1m \u001b[0m\u001b[1m7   \u001b[0m\u001b[1m \u001b[0m┃\n",
       "┡━━━━━━━━━━━╇━━━━━━━━━━━╇━━━━━━━━━╇━━━━━━━━━━━━╇━━━━━━━━━╇━━━━━━━━╇━━━━━━╇━━━━━━┩\n",
       "│ chán ghét │ thích thú │ giận dữ │ ngạc nhiên │ buồn bã │ sợ hãi │ khác │ LOẠI │\n",
       "└───────────┴───────────┴─────────┴────────────┴─────────┴────────┴──────┴──────┘\n"
      ]
     },
     "metadata": {},
     "output_type": "display_data"
    },
    {
     "name": "stdout",
     "output_type": "stream",
     "text": [
      "\n",
      "Count:  20 \n",
      "\n",
      "Các bạn thật thà quá. Chỉ vì thương người thôi. Lần sau các bạn lên cân thận và tìm hiểu kỹ hơn nha \n",
      "\n",
      "Tag: 4\n"
     ]
    },
    {
     "data": {
      "text/html": [
       "<pre style=\"white-space:pre;overflow-x:auto;line-height:normal;font-family:Menlo,'DejaVu Sans Mono',consolas,'Courier New',monospace\"><span style=\"font-style: italic\">                                     KEY TAG                                     </span>\n",
       "┏━━━━━━━━━━━┳━━━━━━━━━━━┳━━━━━━━━━┳━━━━━━━━━━━━┳━━━━━━━━━┳━━━━━━━━┳━━━━━━┳━━━━━━┓\n",
       "┃<span style=\"font-weight: bold\"> 0         </span>┃<span style=\"font-weight: bold\"> 1         </span>┃<span style=\"font-weight: bold\"> 2       </span>┃<span style=\"font-weight: bold\"> 3          </span>┃<span style=\"font-weight: bold\"> 4       </span>┃<span style=\"font-weight: bold\"> 5      </span>┃<span style=\"font-weight: bold\"> 6    </span>┃<span style=\"font-weight: bold\"> 7    </span>┃\n",
       "┡━━━━━━━━━━━╇━━━━━━━━━━━╇━━━━━━━━━╇━━━━━━━━━━━━╇━━━━━━━━━╇━━━━━━━━╇━━━━━━╇━━━━━━┩\n",
       "│ chán ghét │ thích thú │ giận dữ │ ngạc nhiên │ buồn bã │ sợ hãi │ khác │ LOẠI │\n",
       "└───────────┴───────────┴─────────┴────────────┴─────────┴────────┴──────┴──────┘\n",
       "</pre>\n"
      ],
      "text/plain": [
       "\u001b[3m                                     KEY TAG                                     \u001b[0m\n",
       "┏━━━━━━━━━━━┳━━━━━━━━━━━┳━━━━━━━━━┳━━━━━━━━━━━━┳━━━━━━━━━┳━━━━━━━━┳━━━━━━┳━━━━━━┓\n",
       "┃\u001b[1m \u001b[0m\u001b[1m0        \u001b[0m\u001b[1m \u001b[0m┃\u001b[1m \u001b[0m\u001b[1m1        \u001b[0m\u001b[1m \u001b[0m┃\u001b[1m \u001b[0m\u001b[1m2      \u001b[0m\u001b[1m \u001b[0m┃\u001b[1m \u001b[0m\u001b[1m3         \u001b[0m\u001b[1m \u001b[0m┃\u001b[1m \u001b[0m\u001b[1m4      \u001b[0m\u001b[1m \u001b[0m┃\u001b[1m \u001b[0m\u001b[1m5     \u001b[0m\u001b[1m \u001b[0m┃\u001b[1m \u001b[0m\u001b[1m6   \u001b[0m\u001b[1m \u001b[0m┃\u001b[1m \u001b[0m\u001b[1m7   \u001b[0m\u001b[1m \u001b[0m┃\n",
       "┡━━━━━━━━━━━╇━━━━━━━━━━━╇━━━━━━━━━╇━━━━━━━━━━━━╇━━━━━━━━━╇━━━━━━━━╇━━━━━━╇━━━━━━┩\n",
       "│ chán ghét │ thích thú │ giận dữ │ ngạc nhiên │ buồn bã │ sợ hãi │ khác │ LOẠI │\n",
       "└───────────┴───────────┴─────────┴────────────┴─────────┴────────┴──────┴──────┘\n"
      ]
     },
     "metadata": {},
     "output_type": "display_data"
    },
    {
     "name": "stdout",
     "output_type": "stream",
     "text": [
      "\n",
      "Count:  21 \n",
      "\n",
      "Khổ lắm thương người như thể thương thân ,😭 \n",
      "\n",
      "Tag: 4\n"
     ]
    },
    {
     "data": {
      "text/html": [
       "<pre style=\"white-space:pre;overflow-x:auto;line-height:normal;font-family:Menlo,'DejaVu Sans Mono',consolas,'Courier New',monospace\"><span style=\"font-style: italic\">                                     KEY TAG                                     </span>\n",
       "┏━━━━━━━━━━━┳━━━━━━━━━━━┳━━━━━━━━━┳━━━━━━━━━━━━┳━━━━━━━━━┳━━━━━━━━┳━━━━━━┳━━━━━━┓\n",
       "┃<span style=\"font-weight: bold\"> 0         </span>┃<span style=\"font-weight: bold\"> 1         </span>┃<span style=\"font-weight: bold\"> 2       </span>┃<span style=\"font-weight: bold\"> 3          </span>┃<span style=\"font-weight: bold\"> 4       </span>┃<span style=\"font-weight: bold\"> 5      </span>┃<span style=\"font-weight: bold\"> 6    </span>┃<span style=\"font-weight: bold\"> 7    </span>┃\n",
       "┡━━━━━━━━━━━╇━━━━━━━━━━━╇━━━━━━━━━╇━━━━━━━━━━━━╇━━━━━━━━━╇━━━━━━━━╇━━━━━━╇━━━━━━┩\n",
       "│ chán ghét │ thích thú │ giận dữ │ ngạc nhiên │ buồn bã │ sợ hãi │ khác │ LOẠI │\n",
       "└───────────┴───────────┴─────────┴────────────┴─────────┴────────┴──────┴──────┘\n",
       "</pre>\n"
      ],
      "text/plain": [
       "\u001b[3m                                     KEY TAG                                     \u001b[0m\n",
       "┏━━━━━━━━━━━┳━━━━━━━━━━━┳━━━━━━━━━┳━━━━━━━━━━━━┳━━━━━━━━━┳━━━━━━━━┳━━━━━━┳━━━━━━┓\n",
       "┃\u001b[1m \u001b[0m\u001b[1m0        \u001b[0m\u001b[1m \u001b[0m┃\u001b[1m \u001b[0m\u001b[1m1        \u001b[0m\u001b[1m \u001b[0m┃\u001b[1m \u001b[0m\u001b[1m2      \u001b[0m\u001b[1m \u001b[0m┃\u001b[1m \u001b[0m\u001b[1m3         \u001b[0m\u001b[1m \u001b[0m┃\u001b[1m \u001b[0m\u001b[1m4      \u001b[0m\u001b[1m \u001b[0m┃\u001b[1m \u001b[0m\u001b[1m5     \u001b[0m\u001b[1m \u001b[0m┃\u001b[1m \u001b[0m\u001b[1m6   \u001b[0m\u001b[1m \u001b[0m┃\u001b[1m \u001b[0m\u001b[1m7   \u001b[0m\u001b[1m \u001b[0m┃\n",
       "┡━━━━━━━━━━━╇━━━━━━━━━━━╇━━━━━━━━━╇━━━━━━━━━━━━╇━━━━━━━━━╇━━━━━━━━╇━━━━━━╇━━━━━━┩\n",
       "│ chán ghét │ thích thú │ giận dữ │ ngạc nhiên │ buồn bã │ sợ hãi │ khác │ LOẠI │\n",
       "└───────────┴───────────┴─────────┴────────────┴─────────┴────────┴──────┴──────┘\n"
      ]
     },
     "metadata": {},
     "output_type": "display_data"
    },
    {
     "name": "stdout",
     "output_type": "stream",
     "text": [
      "\n",
      "Count:  22 \n",
      "\n",
      "Luôn luôn gap hoài,đừng buồn e.lần sau cân nhắc thật kĩ khi giúp đỡ ai.mãi ủng hộ lòng tốt của e \n",
      "\n",
      "Tag: 1\n"
     ]
    },
    {
     "data": {
      "text/html": [
       "<pre style=\"white-space:pre;overflow-x:auto;line-height:normal;font-family:Menlo,'DejaVu Sans Mono',consolas,'Courier New',monospace\"><span style=\"font-style: italic\">                                     KEY TAG                                     </span>\n",
       "┏━━━━━━━━━━━┳━━━━━━━━━━━┳━━━━━━━━━┳━━━━━━━━━━━━┳━━━━━━━━━┳━━━━━━━━┳━━━━━━┳━━━━━━┓\n",
       "┃<span style=\"font-weight: bold\"> 0         </span>┃<span style=\"font-weight: bold\"> 1         </span>┃<span style=\"font-weight: bold\"> 2       </span>┃<span style=\"font-weight: bold\"> 3          </span>┃<span style=\"font-weight: bold\"> 4       </span>┃<span style=\"font-weight: bold\"> 5      </span>┃<span style=\"font-weight: bold\"> 6    </span>┃<span style=\"font-weight: bold\"> 7    </span>┃\n",
       "┡━━━━━━━━━━━╇━━━━━━━━━━━╇━━━━━━━━━╇━━━━━━━━━━━━╇━━━━━━━━━╇━━━━━━━━╇━━━━━━╇━━━━━━┩\n",
       "│ chán ghét │ thích thú │ giận dữ │ ngạc nhiên │ buồn bã │ sợ hãi │ khác │ LOẠI │\n",
       "└───────────┴───────────┴─────────┴────────────┴─────────┴────────┴──────┴──────┘\n",
       "</pre>\n"
      ],
      "text/plain": [
       "\u001b[3m                                     KEY TAG                                     \u001b[0m\n",
       "┏━━━━━━━━━━━┳━━━━━━━━━━━┳━━━━━━━━━┳━━━━━━━━━━━━┳━━━━━━━━━┳━━━━━━━━┳━━━━━━┳━━━━━━┓\n",
       "┃\u001b[1m \u001b[0m\u001b[1m0        \u001b[0m\u001b[1m \u001b[0m┃\u001b[1m \u001b[0m\u001b[1m1        \u001b[0m\u001b[1m \u001b[0m┃\u001b[1m \u001b[0m\u001b[1m2      \u001b[0m\u001b[1m \u001b[0m┃\u001b[1m \u001b[0m\u001b[1m3         \u001b[0m\u001b[1m \u001b[0m┃\u001b[1m \u001b[0m\u001b[1m4      \u001b[0m\u001b[1m \u001b[0m┃\u001b[1m \u001b[0m\u001b[1m5     \u001b[0m\u001b[1m \u001b[0m┃\u001b[1m \u001b[0m\u001b[1m6   \u001b[0m\u001b[1m \u001b[0m┃\u001b[1m \u001b[0m\u001b[1m7   \u001b[0m\u001b[1m \u001b[0m┃\n",
       "┡━━━━━━━━━━━╇━━━━━━━━━━━╇━━━━━━━━━╇━━━━━━━━━━━━╇━━━━━━━━━╇━━━━━━━━╇━━━━━━╇━━━━━━┩\n",
       "│ chán ghét │ thích thú │ giận dữ │ ngạc nhiên │ buồn bã │ sợ hãi │ khác │ LOẠI │\n",
       "└───────────┴───────────┴─────────┴────────────┴─────────┴────────┴──────┴──────┘\n"
      ]
     },
     "metadata": {},
     "output_type": "display_data"
    },
    {
     "name": "stdout",
     "output_type": "stream",
     "text": [
      "\n",
      "Count:  23 \n",
      "\n",
      "Lành lặn ko thick lại thick què! Nó đã thick què thì đánh cho nó què luôn mấy a!! Lúc ấy tha hồ nằm lê lết ngoài đường lượm tiền :)) đỡ phải mang tiếng lừa đảo \n",
      "\n",
      "Tag: 0\n"
     ]
    },
    {
     "data": {
      "text/html": [
       "<pre style=\"white-space:pre;overflow-x:auto;line-height:normal;font-family:Menlo,'DejaVu Sans Mono',consolas,'Courier New',monospace\"><span style=\"font-style: italic\">                                     KEY TAG                                     </span>\n",
       "┏━━━━━━━━━━━┳━━━━━━━━━━━┳━━━━━━━━━┳━━━━━━━━━━━━┳━━━━━━━━━┳━━━━━━━━┳━━━━━━┳━━━━━━┓\n",
       "┃<span style=\"font-weight: bold\"> 0         </span>┃<span style=\"font-weight: bold\"> 1         </span>┃<span style=\"font-weight: bold\"> 2       </span>┃<span style=\"font-weight: bold\"> 3          </span>┃<span style=\"font-weight: bold\"> 4       </span>┃<span style=\"font-weight: bold\"> 5      </span>┃<span style=\"font-weight: bold\"> 6    </span>┃<span style=\"font-weight: bold\"> 7    </span>┃\n",
       "┡━━━━━━━━━━━╇━━━━━━━━━━━╇━━━━━━━━━╇━━━━━━━━━━━━╇━━━━━━━━━╇━━━━━━━━╇━━━━━━╇━━━━━━┩\n",
       "│ chán ghét │ thích thú │ giận dữ │ ngạc nhiên │ buồn bã │ sợ hãi │ khác │ LOẠI │\n",
       "└───────────┴───────────┴─────────┴────────────┴─────────┴────────┴──────┴──────┘\n",
       "</pre>\n"
      ],
      "text/plain": [
       "\u001b[3m                                     KEY TAG                                     \u001b[0m\n",
       "┏━━━━━━━━━━━┳━━━━━━━━━━━┳━━━━━━━━━┳━━━━━━━━━━━━┳━━━━━━━━━┳━━━━━━━━┳━━━━━━┳━━━━━━┓\n",
       "┃\u001b[1m \u001b[0m\u001b[1m0        \u001b[0m\u001b[1m \u001b[0m┃\u001b[1m \u001b[0m\u001b[1m1        \u001b[0m\u001b[1m \u001b[0m┃\u001b[1m \u001b[0m\u001b[1m2      \u001b[0m\u001b[1m \u001b[0m┃\u001b[1m \u001b[0m\u001b[1m3         \u001b[0m\u001b[1m \u001b[0m┃\u001b[1m \u001b[0m\u001b[1m4      \u001b[0m\u001b[1m \u001b[0m┃\u001b[1m \u001b[0m\u001b[1m5     \u001b[0m\u001b[1m \u001b[0m┃\u001b[1m \u001b[0m\u001b[1m6   \u001b[0m\u001b[1m \u001b[0m┃\u001b[1m \u001b[0m\u001b[1m7   \u001b[0m\u001b[1m \u001b[0m┃\n",
       "┡━━━━━━━━━━━╇━━━━━━━━━━━╇━━━━━━━━━╇━━━━━━━━━━━━╇━━━━━━━━━╇━━━━━━━━╇━━━━━━╇━━━━━━┩\n",
       "│ chán ghét │ thích thú │ giận dữ │ ngạc nhiên │ buồn bã │ sợ hãi │ khác │ LOẠI │\n",
       "└───────────┴───────────┴─────────┴────────────┴─────────┴────────┴──────┴──────┘\n"
      ]
     },
     "metadata": {},
     "output_type": "display_data"
    },
    {
     "name": "stdout",
     "output_type": "stream",
     "text": [
      "\n",
      "Count:  24 \n",
      "\n",
      "Thời buổi bây giờ kh hiểu nổi \n",
      "\n",
      "Tag: 0\n"
     ]
    },
    {
     "data": {
      "text/html": [
       "<pre style=\"white-space:pre;overflow-x:auto;line-height:normal;font-family:Menlo,'DejaVu Sans Mono',consolas,'Courier New',monospace\"><span style=\"font-style: italic\">                                     KEY TAG                                     </span>\n",
       "┏━━━━━━━━━━━┳━━━━━━━━━━━┳━━━━━━━━━┳━━━━━━━━━━━━┳━━━━━━━━━┳━━━━━━━━┳━━━━━━┳━━━━━━┓\n",
       "┃<span style=\"font-weight: bold\"> 0         </span>┃<span style=\"font-weight: bold\"> 1         </span>┃<span style=\"font-weight: bold\"> 2       </span>┃<span style=\"font-weight: bold\"> 3          </span>┃<span style=\"font-weight: bold\"> 4       </span>┃<span style=\"font-weight: bold\"> 5      </span>┃<span style=\"font-weight: bold\"> 6    </span>┃<span style=\"font-weight: bold\"> 7    </span>┃\n",
       "┡━━━━━━━━━━━╇━━━━━━━━━━━╇━━━━━━━━━╇━━━━━━━━━━━━╇━━━━━━━━━╇━━━━━━━━╇━━━━━━╇━━━━━━┩\n",
       "│ chán ghét │ thích thú │ giận dữ │ ngạc nhiên │ buồn bã │ sợ hãi │ khác │ LOẠI │\n",
       "└───────────┴───────────┴─────────┴────────────┴─────────┴────────┴──────┴──────┘\n",
       "</pre>\n"
      ],
      "text/plain": [
       "\u001b[3m                                     KEY TAG                                     \u001b[0m\n",
       "┏━━━━━━━━━━━┳━━━━━━━━━━━┳━━━━━━━━━┳━━━━━━━━━━━━┳━━━━━━━━━┳━━━━━━━━┳━━━━━━┳━━━━━━┓\n",
       "┃\u001b[1m \u001b[0m\u001b[1m0        \u001b[0m\u001b[1m \u001b[0m┃\u001b[1m \u001b[0m\u001b[1m1        \u001b[0m\u001b[1m \u001b[0m┃\u001b[1m \u001b[0m\u001b[1m2      \u001b[0m\u001b[1m \u001b[0m┃\u001b[1m \u001b[0m\u001b[1m3         \u001b[0m\u001b[1m \u001b[0m┃\u001b[1m \u001b[0m\u001b[1m4      \u001b[0m\u001b[1m \u001b[0m┃\u001b[1m \u001b[0m\u001b[1m5     \u001b[0m\u001b[1m \u001b[0m┃\u001b[1m \u001b[0m\u001b[1m6   \u001b[0m\u001b[1m \u001b[0m┃\u001b[1m \u001b[0m\u001b[1m7   \u001b[0m\u001b[1m \u001b[0m┃\n",
       "┡━━━━━━━━━━━╇━━━━━━━━━━━╇━━━━━━━━━╇━━━━━━━━━━━━╇━━━━━━━━━╇━━━━━━━━╇━━━━━━╇━━━━━━┩\n",
       "│ chán ghét │ thích thú │ giận dữ │ ngạc nhiên │ buồn bã │ sợ hãi │ khác │ LOẠI │\n",
       "└───────────┴───────────┴─────────┴────────────┴─────────┴────────┴──────┴──────┘\n"
      ]
     },
     "metadata": {},
     "output_type": "display_data"
    },
    {
     "name": "stdout",
     "output_type": "stream",
     "text": [
      "\n",
      "Count:  25 \n",
      "\n",
      "Mấy em thật tốt bụng mua vé số ủng hộ làm việc thiện không ngờ bị chúng nó lừa ,vậy là bài học rút kinh nghiệm lần sau ! \n",
      "\n",
      "Tag: 4\n"
     ]
    },
    {
     "data": {
      "text/html": [
       "<pre style=\"white-space:pre;overflow-x:auto;line-height:normal;font-family:Menlo,'DejaVu Sans Mono',consolas,'Courier New',monospace\"><span style=\"font-style: italic\">                                     KEY TAG                                     </span>\n",
       "┏━━━━━━━━━━━┳━━━━━━━━━━━┳━━━━━━━━━┳━━━━━━━━━━━━┳━━━━━━━━━┳━━━━━━━━┳━━━━━━┳━━━━━━┓\n",
       "┃<span style=\"font-weight: bold\"> 0         </span>┃<span style=\"font-weight: bold\"> 1         </span>┃<span style=\"font-weight: bold\"> 2       </span>┃<span style=\"font-weight: bold\"> 3          </span>┃<span style=\"font-weight: bold\"> 4       </span>┃<span style=\"font-weight: bold\"> 5      </span>┃<span style=\"font-weight: bold\"> 6    </span>┃<span style=\"font-weight: bold\"> 7    </span>┃\n",
       "┡━━━━━━━━━━━╇━━━━━━━━━━━╇━━━━━━━━━╇━━━━━━━━━━━━╇━━━━━━━━━╇━━━━━━━━╇━━━━━━╇━━━━━━┩\n",
       "│ chán ghét │ thích thú │ giận dữ │ ngạc nhiên │ buồn bã │ sợ hãi │ khác │ LOẠI │\n",
       "└───────────┴───────────┴─────────┴────────────┴─────────┴────────┴──────┴──────┘\n",
       "</pre>\n"
      ],
      "text/plain": [
       "\u001b[3m                                     KEY TAG                                     \u001b[0m\n",
       "┏━━━━━━━━━━━┳━━━━━━━━━━━┳━━━━━━━━━┳━━━━━━━━━━━━┳━━━━━━━━━┳━━━━━━━━┳━━━━━━┳━━━━━━┓\n",
       "┃\u001b[1m \u001b[0m\u001b[1m0        \u001b[0m\u001b[1m \u001b[0m┃\u001b[1m \u001b[0m\u001b[1m1        \u001b[0m\u001b[1m \u001b[0m┃\u001b[1m \u001b[0m\u001b[1m2      \u001b[0m\u001b[1m \u001b[0m┃\u001b[1m \u001b[0m\u001b[1m3         \u001b[0m\u001b[1m \u001b[0m┃\u001b[1m \u001b[0m\u001b[1m4      \u001b[0m\u001b[1m \u001b[0m┃\u001b[1m \u001b[0m\u001b[1m5     \u001b[0m\u001b[1m \u001b[0m┃\u001b[1m \u001b[0m\u001b[1m6   \u001b[0m\u001b[1m \u001b[0m┃\u001b[1m \u001b[0m\u001b[1m7   \u001b[0m\u001b[1m \u001b[0m┃\n",
       "┡━━━━━━━━━━━╇━━━━━━━━━━━╇━━━━━━━━━╇━━━━━━━━━━━━╇━━━━━━━━━╇━━━━━━━━╇━━━━━━╇━━━━━━┩\n",
       "│ chán ghét │ thích thú │ giận dữ │ ngạc nhiên │ buồn bã │ sợ hãi │ khác │ LOẠI │\n",
       "└───────────┴───────────┴─────────┴────────────┴─────────┴────────┴──────┴──────┘\n"
      ]
     },
     "metadata": {},
     "output_type": "display_data"
    },
    {
     "name": "stdout",
     "output_type": "stream",
     "text": [
      "\n",
      "Count:  26 \n",
      "\n",
      "Mấy anh đúng là người rất tốt rất ngưỡng mộ và khâm phục Chúc mấy anh luôn luôn bình an và thành công \n",
      "\n",
      "Tag: 6\n"
     ]
    },
    {
     "data": {
      "text/html": [
       "<pre style=\"white-space:pre;overflow-x:auto;line-height:normal;font-family:Menlo,'DejaVu Sans Mono',consolas,'Courier New',monospace\"><span style=\"font-style: italic\">                                     KEY TAG                                     </span>\n",
       "┏━━━━━━━━━━━┳━━━━━━━━━━━┳━━━━━━━━━┳━━━━━━━━━━━━┳━━━━━━━━━┳━━━━━━━━┳━━━━━━┳━━━━━━┓\n",
       "┃<span style=\"font-weight: bold\"> 0         </span>┃<span style=\"font-weight: bold\"> 1         </span>┃<span style=\"font-weight: bold\"> 2       </span>┃<span style=\"font-weight: bold\"> 3          </span>┃<span style=\"font-weight: bold\"> 4       </span>┃<span style=\"font-weight: bold\"> 5      </span>┃<span style=\"font-weight: bold\"> 6    </span>┃<span style=\"font-weight: bold\"> 7    </span>┃\n",
       "┡━━━━━━━━━━━╇━━━━━━━━━━━╇━━━━━━━━━╇━━━━━━━━━━━━╇━━━━━━━━━╇━━━━━━━━╇━━━━━━╇━━━━━━┩\n",
       "│ chán ghét │ thích thú │ giận dữ │ ngạc nhiên │ buồn bã │ sợ hãi │ khác │ LOẠI │\n",
       "└───────────┴───────────┴─────────┴────────────┴─────────┴────────┴──────┴──────┘\n",
       "</pre>\n"
      ],
      "text/plain": [
       "\u001b[3m                                     KEY TAG                                     \u001b[0m\n",
       "┏━━━━━━━━━━━┳━━━━━━━━━━━┳━━━━━━━━━┳━━━━━━━━━━━━┳━━━━━━━━━┳━━━━━━━━┳━━━━━━┳━━━━━━┓\n",
       "┃\u001b[1m \u001b[0m\u001b[1m0        \u001b[0m\u001b[1m \u001b[0m┃\u001b[1m \u001b[0m\u001b[1m1        \u001b[0m\u001b[1m \u001b[0m┃\u001b[1m \u001b[0m\u001b[1m2      \u001b[0m\u001b[1m \u001b[0m┃\u001b[1m \u001b[0m\u001b[1m3         \u001b[0m\u001b[1m \u001b[0m┃\u001b[1m \u001b[0m\u001b[1m4      \u001b[0m\u001b[1m \u001b[0m┃\u001b[1m \u001b[0m\u001b[1m5     \u001b[0m\u001b[1m \u001b[0m┃\u001b[1m \u001b[0m\u001b[1m6   \u001b[0m\u001b[1m \u001b[0m┃\u001b[1m \u001b[0m\u001b[1m7   \u001b[0m\u001b[1m \u001b[0m┃\n",
       "┡━━━━━━━━━━━╇━━━━━━━━━━━╇━━━━━━━━━╇━━━━━━━━━━━━╇━━━━━━━━━╇━━━━━━━━╇━━━━━━╇━━━━━━┩\n",
       "│ chán ghét │ thích thú │ giận dữ │ ngạc nhiên │ buồn bã │ sợ hãi │ khác │ LOẠI │\n",
       "└───────────┴───────────┴─────────┴────────────┴─────────┴────────┴──────┴──────┘\n"
      ]
     },
     "metadata": {},
     "output_type": "display_data"
    },
    {
     "name": "stdout",
     "output_type": "stream",
     "text": [
      "\n",
      "Count:  27 \n",
      "\n",
      "Lần sau mình chắc chắn nó k dám lếch ra đường bán đâu,bỏ tiền ra làm vẫn cũng xứng đáng cảm ơn 2 anh đã làm việc tốt cho xã hội.. \n",
      "\n",
      "Tag: 6\n"
     ]
    },
    {
     "data": {
      "text/html": [
       "<pre style=\"white-space:pre;overflow-x:auto;line-height:normal;font-family:Menlo,'DejaVu Sans Mono',consolas,'Courier New',monospace\"><span style=\"font-style: italic\">                                     KEY TAG                                     </span>\n",
       "┏━━━━━━━━━━━┳━━━━━━━━━━━┳━━━━━━━━━┳━━━━━━━━━━━━┳━━━━━━━━━┳━━━━━━━━┳━━━━━━┳━━━━━━┓\n",
       "┃<span style=\"font-weight: bold\"> 0         </span>┃<span style=\"font-weight: bold\"> 1         </span>┃<span style=\"font-weight: bold\"> 2       </span>┃<span style=\"font-weight: bold\"> 3          </span>┃<span style=\"font-weight: bold\"> 4       </span>┃<span style=\"font-weight: bold\"> 5      </span>┃<span style=\"font-weight: bold\"> 6    </span>┃<span style=\"font-weight: bold\"> 7    </span>┃\n",
       "┡━━━━━━━━━━━╇━━━━━━━━━━━╇━━━━━━━━━╇━━━━━━━━━━━━╇━━━━━━━━━╇━━━━━━━━╇━━━━━━╇━━━━━━┩\n",
       "│ chán ghét │ thích thú │ giận dữ │ ngạc nhiên │ buồn bã │ sợ hãi │ khác │ LOẠI │\n",
       "└───────────┴───────────┴─────────┴────────────┴─────────┴────────┴──────┴──────┘\n",
       "</pre>\n"
      ],
      "text/plain": [
       "\u001b[3m                                     KEY TAG                                     \u001b[0m\n",
       "┏━━━━━━━━━━━┳━━━━━━━━━━━┳━━━━━━━━━┳━━━━━━━━━━━━┳━━━━━━━━━┳━━━━━━━━┳━━━━━━┳━━━━━━┓\n",
       "┃\u001b[1m \u001b[0m\u001b[1m0        \u001b[0m\u001b[1m \u001b[0m┃\u001b[1m \u001b[0m\u001b[1m1        \u001b[0m\u001b[1m \u001b[0m┃\u001b[1m \u001b[0m\u001b[1m2      \u001b[0m\u001b[1m \u001b[0m┃\u001b[1m \u001b[0m\u001b[1m3         \u001b[0m\u001b[1m \u001b[0m┃\u001b[1m \u001b[0m\u001b[1m4      \u001b[0m\u001b[1m \u001b[0m┃\u001b[1m \u001b[0m\u001b[1m5     \u001b[0m\u001b[1m \u001b[0m┃\u001b[1m \u001b[0m\u001b[1m6   \u001b[0m\u001b[1m \u001b[0m┃\u001b[1m \u001b[0m\u001b[1m7   \u001b[0m\u001b[1m \u001b[0m┃\n",
       "┡━━━━━━━━━━━╇━━━━━━━━━━━╇━━━━━━━━━╇━━━━━━━━━━━━╇━━━━━━━━━╇━━━━━━━━╇━━━━━━╇━━━━━━┩\n",
       "│ chán ghét │ thích thú │ giận dữ │ ngạc nhiên │ buồn bã │ sợ hãi │ khác │ LOẠI │\n",
       "└───────────┴───────────┴─────────┴────────────┴─────────┴────────┴──────┴──────┘\n"
      ]
     },
     "metadata": {},
     "output_type": "display_data"
    },
    {
     "name": "stdout",
     "output_type": "stream",
     "text": [
      "\n",
      "Count:  28 \n",
      "\n",
      "Thời buổi bây giờ là vậy đó anh . Ba mẹ bạn em  bị lừa rồi đó trời ơi là trời  tức thiệt chứ 😡😡😡 \n",
      "\n",
      "Tag: 2\n"
     ]
    },
    {
     "data": {
      "text/html": [
       "<pre style=\"white-space:pre;overflow-x:auto;line-height:normal;font-family:Menlo,'DejaVu Sans Mono',consolas,'Courier New',monospace\"><span style=\"font-style: italic\">                                     KEY TAG                                     </span>\n",
       "┏━━━━━━━━━━━┳━━━━━━━━━━━┳━━━━━━━━━┳━━━━━━━━━━━━┳━━━━━━━━━┳━━━━━━━━┳━━━━━━┳━━━━━━┓\n",
       "┃<span style=\"font-weight: bold\"> 0         </span>┃<span style=\"font-weight: bold\"> 1         </span>┃<span style=\"font-weight: bold\"> 2       </span>┃<span style=\"font-weight: bold\"> 3          </span>┃<span style=\"font-weight: bold\"> 4       </span>┃<span style=\"font-weight: bold\"> 5      </span>┃<span style=\"font-weight: bold\"> 6    </span>┃<span style=\"font-weight: bold\"> 7    </span>┃\n",
       "┡━━━━━━━━━━━╇━━━━━━━━━━━╇━━━━━━━━━╇━━━━━━━━━━━━╇━━━━━━━━━╇━━━━━━━━╇━━━━━━╇━━━━━━┩\n",
       "│ chán ghét │ thích thú │ giận dữ │ ngạc nhiên │ buồn bã │ sợ hãi │ khác │ LOẠI │\n",
       "└───────────┴───────────┴─────────┴────────────┴─────────┴────────┴──────┴──────┘\n",
       "</pre>\n"
      ],
      "text/plain": [
       "\u001b[3m                                     KEY TAG                                     \u001b[0m\n",
       "┏━━━━━━━━━━━┳━━━━━━━━━━━┳━━━━━━━━━┳━━━━━━━━━━━━┳━━━━━━━━━┳━━━━━━━━┳━━━━━━┳━━━━━━┓\n",
       "┃\u001b[1m \u001b[0m\u001b[1m0        \u001b[0m\u001b[1m \u001b[0m┃\u001b[1m \u001b[0m\u001b[1m1        \u001b[0m\u001b[1m \u001b[0m┃\u001b[1m \u001b[0m\u001b[1m2      \u001b[0m\u001b[1m \u001b[0m┃\u001b[1m \u001b[0m\u001b[1m3         \u001b[0m\u001b[1m \u001b[0m┃\u001b[1m \u001b[0m\u001b[1m4      \u001b[0m\u001b[1m \u001b[0m┃\u001b[1m \u001b[0m\u001b[1m5     \u001b[0m\u001b[1m \u001b[0m┃\u001b[1m \u001b[0m\u001b[1m6   \u001b[0m\u001b[1m \u001b[0m┃\u001b[1m \u001b[0m\u001b[1m7   \u001b[0m\u001b[1m \u001b[0m┃\n",
       "┡━━━━━━━━━━━╇━━━━━━━━━━━╇━━━━━━━━━╇━━━━━━━━━━━━╇━━━━━━━━━╇━━━━━━━━╇━━━━━━╇━━━━━━┩\n",
       "│ chán ghét │ thích thú │ giận dữ │ ngạc nhiên │ buồn bã │ sợ hãi │ khác │ LOẠI │\n",
       "└───────────┴───────────┴─────────┴────────────┴─────────┴────────┴──────┴──────┘\n"
      ]
     },
     "metadata": {},
     "output_type": "display_data"
    },
    {
     "name": "stdout",
     "output_type": "stream",
     "text": [
      "\n",
      "Count:  29 \n",
      "\n",
      "Con yên tâm đi phật trời sẽ làm cho tụi con thấy rõ luật trời như thế nào là lễ độ! Nam mô a di đà phật \n",
      "\n",
      "Tag: 0\n"
     ]
    },
    {
     "data": {
      "text/html": [
       "<pre style=\"white-space:pre;overflow-x:auto;line-height:normal;font-family:Menlo,'DejaVu Sans Mono',consolas,'Courier New',monospace\"><span style=\"font-style: italic\">                                     KEY TAG                                     </span>\n",
       "┏━━━━━━━━━━━┳━━━━━━━━━━━┳━━━━━━━━━┳━━━━━━━━━━━━┳━━━━━━━━━┳━━━━━━━━┳━━━━━━┳━━━━━━┓\n",
       "┃<span style=\"font-weight: bold\"> 0         </span>┃<span style=\"font-weight: bold\"> 1         </span>┃<span style=\"font-weight: bold\"> 2       </span>┃<span style=\"font-weight: bold\"> 3          </span>┃<span style=\"font-weight: bold\"> 4       </span>┃<span style=\"font-weight: bold\"> 5      </span>┃<span style=\"font-weight: bold\"> 6    </span>┃<span style=\"font-weight: bold\"> 7    </span>┃\n",
       "┡━━━━━━━━━━━╇━━━━━━━━━━━╇━━━━━━━━━╇━━━━━━━━━━━━╇━━━━━━━━━╇━━━━━━━━╇━━━━━━╇━━━━━━┩\n",
       "│ chán ghét │ thích thú │ giận dữ │ ngạc nhiên │ buồn bã │ sợ hãi │ khác │ LOẠI │\n",
       "└───────────┴───────────┴─────────┴────────────┴─────────┴────────┴──────┴──────┘\n",
       "</pre>\n"
      ],
      "text/plain": [
       "\u001b[3m                                     KEY TAG                                     \u001b[0m\n",
       "┏━━━━━━━━━━━┳━━━━━━━━━━━┳━━━━━━━━━┳━━━━━━━━━━━━┳━━━━━━━━━┳━━━━━━━━┳━━━━━━┳━━━━━━┓\n",
       "┃\u001b[1m \u001b[0m\u001b[1m0        \u001b[0m\u001b[1m \u001b[0m┃\u001b[1m \u001b[0m\u001b[1m1        \u001b[0m\u001b[1m \u001b[0m┃\u001b[1m \u001b[0m\u001b[1m2      \u001b[0m\u001b[1m \u001b[0m┃\u001b[1m \u001b[0m\u001b[1m3         \u001b[0m\u001b[1m \u001b[0m┃\u001b[1m \u001b[0m\u001b[1m4      \u001b[0m\u001b[1m \u001b[0m┃\u001b[1m \u001b[0m\u001b[1m5     \u001b[0m\u001b[1m \u001b[0m┃\u001b[1m \u001b[0m\u001b[1m6   \u001b[0m\u001b[1m \u001b[0m┃\u001b[1m \u001b[0m\u001b[1m7   \u001b[0m\u001b[1m \u001b[0m┃\n",
       "┡━━━━━━━━━━━╇━━━━━━━━━━━╇━━━━━━━━━╇━━━━━━━━━━━━╇━━━━━━━━━╇━━━━━━━━╇━━━━━━╇━━━━━━┩\n",
       "│ chán ghét │ thích thú │ giận dữ │ ngạc nhiên │ buồn bã │ sợ hãi │ khác │ LOẠI │\n",
       "└───────────┴───────────┴─────────┴────────────┴─────────┴────────┴──────┴──────┘\n"
      ]
     },
     "metadata": {},
     "output_type": "display_data"
    },
    {
     "name": "stdout",
     "output_type": "stream",
     "text": [
      "\n",
      "Count:  30 \n",
      "\n",
      "Hai bạn thật dũng cảm. \n",
      "\n",
      "Tag: 1\n"
     ]
    },
    {
     "data": {
      "text/html": [
       "<pre style=\"white-space:pre;overflow-x:auto;line-height:normal;font-family:Menlo,'DejaVu Sans Mono',consolas,'Courier New',monospace\"><span style=\"font-style: italic\">                                     KEY TAG                                     </span>\n",
       "┏━━━━━━━━━━━┳━━━━━━━━━━━┳━━━━━━━━━┳━━━━━━━━━━━━┳━━━━━━━━━┳━━━━━━━━┳━━━━━━┳━━━━━━┓\n",
       "┃<span style=\"font-weight: bold\"> 0         </span>┃<span style=\"font-weight: bold\"> 1         </span>┃<span style=\"font-weight: bold\"> 2       </span>┃<span style=\"font-weight: bold\"> 3          </span>┃<span style=\"font-weight: bold\"> 4       </span>┃<span style=\"font-weight: bold\"> 5      </span>┃<span style=\"font-weight: bold\"> 6    </span>┃<span style=\"font-weight: bold\"> 7    </span>┃\n",
       "┡━━━━━━━━━━━╇━━━━━━━━━━━╇━━━━━━━━━╇━━━━━━━━━━━━╇━━━━━━━━━╇━━━━━━━━╇━━━━━━╇━━━━━━┩\n",
       "│ chán ghét │ thích thú │ giận dữ │ ngạc nhiên │ buồn bã │ sợ hãi │ khác │ LOẠI │\n",
       "└───────────┴───────────┴─────────┴────────────┴─────────┴────────┴──────┴──────┘\n",
       "</pre>\n"
      ],
      "text/plain": [
       "\u001b[3m                                     KEY TAG                                     \u001b[0m\n",
       "┏━━━━━━━━━━━┳━━━━━━━━━━━┳━━━━━━━━━┳━━━━━━━━━━━━┳━━━━━━━━━┳━━━━━━━━┳━━━━━━┳━━━━━━┓\n",
       "┃\u001b[1m \u001b[0m\u001b[1m0        \u001b[0m\u001b[1m \u001b[0m┃\u001b[1m \u001b[0m\u001b[1m1        \u001b[0m\u001b[1m \u001b[0m┃\u001b[1m \u001b[0m\u001b[1m2      \u001b[0m\u001b[1m \u001b[0m┃\u001b[1m \u001b[0m\u001b[1m3         \u001b[0m\u001b[1m \u001b[0m┃\u001b[1m \u001b[0m\u001b[1m4      \u001b[0m\u001b[1m \u001b[0m┃\u001b[1m \u001b[0m\u001b[1m5     \u001b[0m\u001b[1m \u001b[0m┃\u001b[1m \u001b[0m\u001b[1m6   \u001b[0m\u001b[1m \u001b[0m┃\u001b[1m \u001b[0m\u001b[1m7   \u001b[0m\u001b[1m \u001b[0m┃\n",
       "┡━━━━━━━━━━━╇━━━━━━━━━━━╇━━━━━━━━━╇━━━━━━━━━━━━╇━━━━━━━━━╇━━━━━━━━╇━━━━━━╇━━━━━━┩\n",
       "│ chán ghét │ thích thú │ giận dữ │ ngạc nhiên │ buồn bã │ sợ hãi │ khác │ LOẠI │\n",
       "└───────────┴───────────┴─────────┴────────────┴─────────┴────────┴──────┴──────┘\n"
      ]
     },
     "metadata": {},
     "output_type": "display_data"
    },
    {
     "name": "stdout",
     "output_type": "stream",
     "text": [
      "\n",
      "Count:  31 \n",
      "\n",
      "Cảm ơn mấy em làm clip cho nhiều người dân đỡ bị lũ khốn nạn lừa đảo \n",
      "\n",
      "Tag: 2\n"
     ]
    },
    {
     "data": {
      "text/html": [
       "<pre style=\"white-space:pre;overflow-x:auto;line-height:normal;font-family:Menlo,'DejaVu Sans Mono',consolas,'Courier New',monospace\"><span style=\"font-style: italic\">                                     KEY TAG                                     </span>\n",
       "┏━━━━━━━━━━━┳━━━━━━━━━━━┳━━━━━━━━━┳━━━━━━━━━━━━┳━━━━━━━━━┳━━━━━━━━┳━━━━━━┳━━━━━━┓\n",
       "┃<span style=\"font-weight: bold\"> 0         </span>┃<span style=\"font-weight: bold\"> 1         </span>┃<span style=\"font-weight: bold\"> 2       </span>┃<span style=\"font-weight: bold\"> 3          </span>┃<span style=\"font-weight: bold\"> 4       </span>┃<span style=\"font-weight: bold\"> 5      </span>┃<span style=\"font-weight: bold\"> 6    </span>┃<span style=\"font-weight: bold\"> 7    </span>┃\n",
       "┡━━━━━━━━━━━╇━━━━━━━━━━━╇━━━━━━━━━╇━━━━━━━━━━━━╇━━━━━━━━━╇━━━━━━━━╇━━━━━━╇━━━━━━┩\n",
       "│ chán ghét │ thích thú │ giận dữ │ ngạc nhiên │ buồn bã │ sợ hãi │ khác │ LOẠI │\n",
       "└───────────┴───────────┴─────────┴────────────┴─────────┴────────┴──────┴──────┘\n",
       "</pre>\n"
      ],
      "text/plain": [
       "\u001b[3m                                     KEY TAG                                     \u001b[0m\n",
       "┏━━━━━━━━━━━┳━━━━━━━━━━━┳━━━━━━━━━┳━━━━━━━━━━━━┳━━━━━━━━━┳━━━━━━━━┳━━━━━━┳━━━━━━┓\n",
       "┃\u001b[1m \u001b[0m\u001b[1m0        \u001b[0m\u001b[1m \u001b[0m┃\u001b[1m \u001b[0m\u001b[1m1        \u001b[0m\u001b[1m \u001b[0m┃\u001b[1m \u001b[0m\u001b[1m2      \u001b[0m\u001b[1m \u001b[0m┃\u001b[1m \u001b[0m\u001b[1m3         \u001b[0m\u001b[1m \u001b[0m┃\u001b[1m \u001b[0m\u001b[1m4      \u001b[0m\u001b[1m \u001b[0m┃\u001b[1m \u001b[0m\u001b[1m5     \u001b[0m\u001b[1m \u001b[0m┃\u001b[1m \u001b[0m\u001b[1m6   \u001b[0m\u001b[1m \u001b[0m┃\u001b[1m \u001b[0m\u001b[1m7   \u001b[0m\u001b[1m \u001b[0m┃\n",
       "┡━━━━━━━━━━━╇━━━━━━━━━━━╇━━━━━━━━━╇━━━━━━━━━━━━╇━━━━━━━━━╇━━━━━━━━╇━━━━━━╇━━━━━━┩\n",
       "│ chán ghét │ thích thú │ giận dữ │ ngạc nhiên │ buồn bã │ sợ hãi │ khác │ LOẠI │\n",
       "└───────────┴───────────┴─────────┴────────────┴─────────┴────────┴──────┴──────┘\n"
      ]
     },
     "metadata": {},
     "output_type": "display_data"
    },
    {
     "name": "stdout",
     "output_type": "stream",
     "text": [
      "\n",
      "Count:  32 \n",
      "\n",
      "Cô xem các cảnh này , buồn quá . Tụi con ơi ,cẩn thận nhe . \n",
      "\n",
      "Tag: 4\n"
     ]
    },
    {
     "data": {
      "text/html": [
       "<pre style=\"white-space:pre;overflow-x:auto;line-height:normal;font-family:Menlo,'DejaVu Sans Mono',consolas,'Courier New',monospace\"><span style=\"font-style: italic\">                                     KEY TAG                                     </span>\n",
       "┏━━━━━━━━━━━┳━━━━━━━━━━━┳━━━━━━━━━┳━━━━━━━━━━━━┳━━━━━━━━━┳━━━━━━━━┳━━━━━━┳━━━━━━┓\n",
       "┃<span style=\"font-weight: bold\"> 0         </span>┃<span style=\"font-weight: bold\"> 1         </span>┃<span style=\"font-weight: bold\"> 2       </span>┃<span style=\"font-weight: bold\"> 3          </span>┃<span style=\"font-weight: bold\"> 4       </span>┃<span style=\"font-weight: bold\"> 5      </span>┃<span style=\"font-weight: bold\"> 6    </span>┃<span style=\"font-weight: bold\"> 7    </span>┃\n",
       "┡━━━━━━━━━━━╇━━━━━━━━━━━╇━━━━━━━━━╇━━━━━━━━━━━━╇━━━━━━━━━╇━━━━━━━━╇━━━━━━╇━━━━━━┩\n",
       "│ chán ghét │ thích thú │ giận dữ │ ngạc nhiên │ buồn bã │ sợ hãi │ khác │ LOẠI │\n",
       "└───────────┴───────────┴─────────┴────────────┴─────────┴────────┴──────┴──────┘\n",
       "</pre>\n"
      ],
      "text/plain": [
       "\u001b[3m                                     KEY TAG                                     \u001b[0m\n",
       "┏━━━━━━━━━━━┳━━━━━━━━━━━┳━━━━━━━━━┳━━━━━━━━━━━━┳━━━━━━━━━┳━━━━━━━━┳━━━━━━┳━━━━━━┓\n",
       "┃\u001b[1m \u001b[0m\u001b[1m0        \u001b[0m\u001b[1m \u001b[0m┃\u001b[1m \u001b[0m\u001b[1m1        \u001b[0m\u001b[1m \u001b[0m┃\u001b[1m \u001b[0m\u001b[1m2      \u001b[0m\u001b[1m \u001b[0m┃\u001b[1m \u001b[0m\u001b[1m3         \u001b[0m\u001b[1m \u001b[0m┃\u001b[1m \u001b[0m\u001b[1m4      \u001b[0m\u001b[1m \u001b[0m┃\u001b[1m \u001b[0m\u001b[1m5     \u001b[0m\u001b[1m \u001b[0m┃\u001b[1m \u001b[0m\u001b[1m6   \u001b[0m\u001b[1m \u001b[0m┃\u001b[1m \u001b[0m\u001b[1m7   \u001b[0m\u001b[1m \u001b[0m┃\n",
       "┡━━━━━━━━━━━╇━━━━━━━━━━━╇━━━━━━━━━╇━━━━━━━━━━━━╇━━━━━━━━━╇━━━━━━━━╇━━━━━━╇━━━━━━┩\n",
       "│ chán ghét │ thích thú │ giận dữ │ ngạc nhiên │ buồn bã │ sợ hãi │ khác │ LOẠI │\n",
       "└───────────┴───────────┴─────────┴────────────┴─────────┴────────┴──────┴──────┘\n"
      ]
     },
     "metadata": {},
     "output_type": "display_data"
    },
    {
     "name": "stdout",
     "output_type": "stream",
     "text": [
      "\n",
      "Count:  33 \n",
      "\n",
      "Hiện tại đang ở tân bình nha anh \n",
      "\n",
      "Tag: 6\n"
     ]
    },
    {
     "data": {
      "text/html": [
       "<pre style=\"white-space:pre;overflow-x:auto;line-height:normal;font-family:Menlo,'DejaVu Sans Mono',consolas,'Courier New',monospace\"><span style=\"font-style: italic\">                                     KEY TAG                                     </span>\n",
       "┏━━━━━━━━━━━┳━━━━━━━━━━━┳━━━━━━━━━┳━━━━━━━━━━━━┳━━━━━━━━━┳━━━━━━━━┳━━━━━━┳━━━━━━┓\n",
       "┃<span style=\"font-weight: bold\"> 0         </span>┃<span style=\"font-weight: bold\"> 1         </span>┃<span style=\"font-weight: bold\"> 2       </span>┃<span style=\"font-weight: bold\"> 3          </span>┃<span style=\"font-weight: bold\"> 4       </span>┃<span style=\"font-weight: bold\"> 5      </span>┃<span style=\"font-weight: bold\"> 6    </span>┃<span style=\"font-weight: bold\"> 7    </span>┃\n",
       "┡━━━━━━━━━━━╇━━━━━━━━━━━╇━━━━━━━━━╇━━━━━━━━━━━━╇━━━━━━━━━╇━━━━━━━━╇━━━━━━╇━━━━━━┩\n",
       "│ chán ghét │ thích thú │ giận dữ │ ngạc nhiên │ buồn bã │ sợ hãi │ khác │ LOẠI │\n",
       "└───────────┴───────────┴─────────┴────────────┴─────────┴────────┴──────┴──────┘\n",
       "</pre>\n"
      ],
      "text/plain": [
       "\u001b[3m                                     KEY TAG                                     \u001b[0m\n",
       "┏━━━━━━━━━━━┳━━━━━━━━━━━┳━━━━━━━━━┳━━━━━━━━━━━━┳━━━━━━━━━┳━━━━━━━━┳━━━━━━┳━━━━━━┓\n",
       "┃\u001b[1m \u001b[0m\u001b[1m0        \u001b[0m\u001b[1m \u001b[0m┃\u001b[1m \u001b[0m\u001b[1m1        \u001b[0m\u001b[1m \u001b[0m┃\u001b[1m \u001b[0m\u001b[1m2      \u001b[0m\u001b[1m \u001b[0m┃\u001b[1m \u001b[0m\u001b[1m3         \u001b[0m\u001b[1m \u001b[0m┃\u001b[1m \u001b[0m\u001b[1m4      \u001b[0m\u001b[1m \u001b[0m┃\u001b[1m \u001b[0m\u001b[1m5     \u001b[0m\u001b[1m \u001b[0m┃\u001b[1m \u001b[0m\u001b[1m6   \u001b[0m\u001b[1m \u001b[0m┃\u001b[1m \u001b[0m\u001b[1m7   \u001b[0m\u001b[1m \u001b[0m┃\n",
       "┡━━━━━━━━━━━╇━━━━━━━━━━━╇━━━━━━━━━╇━━━━━━━━━━━━╇━━━━━━━━━╇━━━━━━━━╇━━━━━━╇━━━━━━┩\n",
       "│ chán ghét │ thích thú │ giận dữ │ ngạc nhiên │ buồn bã │ sợ hãi │ khác │ LOẠI │\n",
       "└───────────┴───────────┴─────────┴────────────┴─────────┴────────┴──────┴──────┘\n"
      ]
     },
     "metadata": {},
     "output_type": "display_data"
    },
    {
     "name": "stdout",
     "output_type": "stream",
     "text": [
      "\n",
      "Count:  34 \n",
      "\n",
      "Thằng này tôi gặp hoài, nó giả nhiệt tình luôn, cả ngày ngoài đường mà da trắng như bột😂😂😂😂😂 \n",
      "\n",
      "Tag: 0\n"
     ]
    },
    {
     "data": {
      "text/html": [
       "<pre style=\"white-space:pre;overflow-x:auto;line-height:normal;font-family:Menlo,'DejaVu Sans Mono',consolas,'Courier New',monospace\"><span style=\"font-style: italic\">                                     KEY TAG                                     </span>\n",
       "┏━━━━━━━━━━━┳━━━━━━━━━━━┳━━━━━━━━━┳━━━━━━━━━━━━┳━━━━━━━━━┳━━━━━━━━┳━━━━━━┳━━━━━━┓\n",
       "┃<span style=\"font-weight: bold\"> 0         </span>┃<span style=\"font-weight: bold\"> 1         </span>┃<span style=\"font-weight: bold\"> 2       </span>┃<span style=\"font-weight: bold\"> 3          </span>┃<span style=\"font-weight: bold\"> 4       </span>┃<span style=\"font-weight: bold\"> 5      </span>┃<span style=\"font-weight: bold\"> 6    </span>┃<span style=\"font-weight: bold\"> 7    </span>┃\n",
       "┡━━━━━━━━━━━╇━━━━━━━━━━━╇━━━━━━━━━╇━━━━━━━━━━━━╇━━━━━━━━━╇━━━━━━━━╇━━━━━━╇━━━━━━┩\n",
       "│ chán ghét │ thích thú │ giận dữ │ ngạc nhiên │ buồn bã │ sợ hãi │ khác │ LOẠI │\n",
       "└───────────┴───────────┴─────────┴────────────┴─────────┴────────┴──────┴──────┘\n",
       "</pre>\n"
      ],
      "text/plain": [
       "\u001b[3m                                     KEY TAG                                     \u001b[0m\n",
       "┏━━━━━━━━━━━┳━━━━━━━━━━━┳━━━━━━━━━┳━━━━━━━━━━━━┳━━━━━━━━━┳━━━━━━━━┳━━━━━━┳━━━━━━┓\n",
       "┃\u001b[1m \u001b[0m\u001b[1m0        \u001b[0m\u001b[1m \u001b[0m┃\u001b[1m \u001b[0m\u001b[1m1        \u001b[0m\u001b[1m \u001b[0m┃\u001b[1m \u001b[0m\u001b[1m2      \u001b[0m\u001b[1m \u001b[0m┃\u001b[1m \u001b[0m\u001b[1m3         \u001b[0m\u001b[1m \u001b[0m┃\u001b[1m \u001b[0m\u001b[1m4      \u001b[0m\u001b[1m \u001b[0m┃\u001b[1m \u001b[0m\u001b[1m5     \u001b[0m\u001b[1m \u001b[0m┃\u001b[1m \u001b[0m\u001b[1m6   \u001b[0m\u001b[1m \u001b[0m┃\u001b[1m \u001b[0m\u001b[1m7   \u001b[0m\u001b[1m \u001b[0m┃\n",
       "┡━━━━━━━━━━━╇━━━━━━━━━━━╇━━━━━━━━━╇━━━━━━━━━━━━╇━━━━━━━━━╇━━━━━━━━╇━━━━━━╇━━━━━━┩\n",
       "│ chán ghét │ thích thú │ giận dữ │ ngạc nhiên │ buồn bã │ sợ hãi │ khác │ LOẠI │\n",
       "└───────────┴───────────┴─────────┴────────────┴─────────┴────────┴──────┴──────┘\n"
      ]
     },
     "metadata": {},
     "output_type": "display_data"
    },
    {
     "name": "stdout",
     "output_type": "stream",
     "text": [
      "\n",
      "Count:  35 \n",
      "\n",
      "Dân phú yên nè, sáng nay ngoài chợ An chấn quê mình có 3 cha con , mặt mũi sáng láng, bé lớn 5t, nhỏ chừng 2t, thằng cha dẫn ra chợ ngồi xin, quá chừng người cho tiền. Lý do xin ăn là vì vợ bỏ đi ko có tiền nuôi con bạn ạ. Hết hồn \n",
      "\n",
      "Tag: 6\n"
     ]
    },
    {
     "data": {
      "text/html": [
       "<pre style=\"white-space:pre;overflow-x:auto;line-height:normal;font-family:Menlo,'DejaVu Sans Mono',consolas,'Courier New',monospace\"><span style=\"font-style: italic\">                                     KEY TAG                                     </span>\n",
       "┏━━━━━━━━━━━┳━━━━━━━━━━━┳━━━━━━━━━┳━━━━━━━━━━━━┳━━━━━━━━━┳━━━━━━━━┳━━━━━━┳━━━━━━┓\n",
       "┃<span style=\"font-weight: bold\"> 0         </span>┃<span style=\"font-weight: bold\"> 1         </span>┃<span style=\"font-weight: bold\"> 2       </span>┃<span style=\"font-weight: bold\"> 3          </span>┃<span style=\"font-weight: bold\"> 4       </span>┃<span style=\"font-weight: bold\"> 5      </span>┃<span style=\"font-weight: bold\"> 6    </span>┃<span style=\"font-weight: bold\"> 7    </span>┃\n",
       "┡━━━━━━━━━━━╇━━━━━━━━━━━╇━━━━━━━━━╇━━━━━━━━━━━━╇━━━━━━━━━╇━━━━━━━━╇━━━━━━╇━━━━━━┩\n",
       "│ chán ghét │ thích thú │ giận dữ │ ngạc nhiên │ buồn bã │ sợ hãi │ khác │ LOẠI │\n",
       "└───────────┴───────────┴─────────┴────────────┴─────────┴────────┴──────┴──────┘\n",
       "</pre>\n"
      ],
      "text/plain": [
       "\u001b[3m                                     KEY TAG                                     \u001b[0m\n",
       "┏━━━━━━━━━━━┳━━━━━━━━━━━┳━━━━━━━━━┳━━━━━━━━━━━━┳━━━━━━━━━┳━━━━━━━━┳━━━━━━┳━━━━━━┓\n",
       "┃\u001b[1m \u001b[0m\u001b[1m0        \u001b[0m\u001b[1m \u001b[0m┃\u001b[1m \u001b[0m\u001b[1m1        \u001b[0m\u001b[1m \u001b[0m┃\u001b[1m \u001b[0m\u001b[1m2      \u001b[0m\u001b[1m \u001b[0m┃\u001b[1m \u001b[0m\u001b[1m3         \u001b[0m\u001b[1m \u001b[0m┃\u001b[1m \u001b[0m\u001b[1m4      \u001b[0m\u001b[1m \u001b[0m┃\u001b[1m \u001b[0m\u001b[1m5     \u001b[0m\u001b[1m \u001b[0m┃\u001b[1m \u001b[0m\u001b[1m6   \u001b[0m\u001b[1m \u001b[0m┃\u001b[1m \u001b[0m\u001b[1m7   \u001b[0m\u001b[1m \u001b[0m┃\n",
       "┡━━━━━━━━━━━╇━━━━━━━━━━━╇━━━━━━━━━╇━━━━━━━━━━━━╇━━━━━━━━━╇━━━━━━━━╇━━━━━━╇━━━━━━┩\n",
       "│ chán ghét │ thích thú │ giận dữ │ ngạc nhiên │ buồn bã │ sợ hãi │ khác │ LOẠI │\n",
       "└───────────┴───────────┴─────────┴────────────┴─────────┴────────┴──────┴──────┘\n"
      ]
     },
     "metadata": {},
     "output_type": "display_data"
    },
    {
     "name": "stdout",
     "output_type": "stream",
     "text": [
      "\n",
      "Count:  36 \n",
      "\n",
      "Một tháng trước bên Anh Tình blog có đăng rồi \n",
      "\n",
      "Tag: 6\n"
     ]
    },
    {
     "data": {
      "text/html": [
       "<pre style=\"white-space:pre;overflow-x:auto;line-height:normal;font-family:Menlo,'DejaVu Sans Mono',consolas,'Courier New',monospace\"><span style=\"font-style: italic\">                                     KEY TAG                                     </span>\n",
       "┏━━━━━━━━━━━┳━━━━━━━━━━━┳━━━━━━━━━┳━━━━━━━━━━━━┳━━━━━━━━━┳━━━━━━━━┳━━━━━━┳━━━━━━┓\n",
       "┃<span style=\"font-weight: bold\"> 0         </span>┃<span style=\"font-weight: bold\"> 1         </span>┃<span style=\"font-weight: bold\"> 2       </span>┃<span style=\"font-weight: bold\"> 3          </span>┃<span style=\"font-weight: bold\"> 4       </span>┃<span style=\"font-weight: bold\"> 5      </span>┃<span style=\"font-weight: bold\"> 6    </span>┃<span style=\"font-weight: bold\"> 7    </span>┃\n",
       "┡━━━━━━━━━━━╇━━━━━━━━━━━╇━━━━━━━━━╇━━━━━━━━━━━━╇━━━━━━━━━╇━━━━━━━━╇━━━━━━╇━━━━━━┩\n",
       "│ chán ghét │ thích thú │ giận dữ │ ngạc nhiên │ buồn bã │ sợ hãi │ khác │ LOẠI │\n",
       "└───────────┴───────────┴─────────┴────────────┴─────────┴────────┴──────┴──────┘\n",
       "</pre>\n"
      ],
      "text/plain": [
       "\u001b[3m                                     KEY TAG                                     \u001b[0m\n",
       "┏━━━━━━━━━━━┳━━━━━━━━━━━┳━━━━━━━━━┳━━━━━━━━━━━━┳━━━━━━━━━┳━━━━━━━━┳━━━━━━┳━━━━━━┓\n",
       "┃\u001b[1m \u001b[0m\u001b[1m0        \u001b[0m\u001b[1m \u001b[0m┃\u001b[1m \u001b[0m\u001b[1m1        \u001b[0m\u001b[1m \u001b[0m┃\u001b[1m \u001b[0m\u001b[1m2      \u001b[0m\u001b[1m \u001b[0m┃\u001b[1m \u001b[0m\u001b[1m3         \u001b[0m\u001b[1m \u001b[0m┃\u001b[1m \u001b[0m\u001b[1m4      \u001b[0m\u001b[1m \u001b[0m┃\u001b[1m \u001b[0m\u001b[1m5     \u001b[0m\u001b[1m \u001b[0m┃\u001b[1m \u001b[0m\u001b[1m6   \u001b[0m\u001b[1m \u001b[0m┃\u001b[1m \u001b[0m\u001b[1m7   \u001b[0m\u001b[1m \u001b[0m┃\n",
       "┡━━━━━━━━━━━╇━━━━━━━━━━━╇━━━━━━━━━╇━━━━━━━━━━━━╇━━━━━━━━━╇━━━━━━━━╇━━━━━━╇━━━━━━┩\n",
       "│ chán ghét │ thích thú │ giận dữ │ ngạc nhiên │ buồn bã │ sợ hãi │ khác │ LOẠI │\n",
       "└───────────┴───────────┴─────────┴────────────┴─────────┴────────┴──────┴──────┘\n"
      ]
     },
     "metadata": {},
     "output_type": "display_data"
    },
    {
     "name": "stdout",
     "output_type": "stream",
     "text": [
      "\n",
      "Count:  37 \n",
      "\n",
      "Ở chợ bến bạ huyện cù lao dung , st cũng có 1 cặp xin ăn. Lúc xin người vợ tưởng như bệnh rất nặng sắp chết, nhung khi lên xe về cười nói tỉnh bơ , k bị gì hết. \n",
      "\n",
      "Tag: 6\n"
     ]
    },
    {
     "data": {
      "text/html": [
       "<pre style=\"white-space:pre;overflow-x:auto;line-height:normal;font-family:Menlo,'DejaVu Sans Mono',consolas,'Courier New',monospace\"><span style=\"font-style: italic\">                                     KEY TAG                                     </span>\n",
       "┏━━━━━━━━━━━┳━━━━━━━━━━━┳━━━━━━━━━┳━━━━━━━━━━━━┳━━━━━━━━━┳━━━━━━━━┳━━━━━━┳━━━━━━┓\n",
       "┃<span style=\"font-weight: bold\"> 0         </span>┃<span style=\"font-weight: bold\"> 1         </span>┃<span style=\"font-weight: bold\"> 2       </span>┃<span style=\"font-weight: bold\"> 3          </span>┃<span style=\"font-weight: bold\"> 4       </span>┃<span style=\"font-weight: bold\"> 5      </span>┃<span style=\"font-weight: bold\"> 6    </span>┃<span style=\"font-weight: bold\"> 7    </span>┃\n",
       "┡━━━━━━━━━━━╇━━━━━━━━━━━╇━━━━━━━━━╇━━━━━━━━━━━━╇━━━━━━━━━╇━━━━━━━━╇━━━━━━╇━━━━━━┩\n",
       "│ chán ghét │ thích thú │ giận dữ │ ngạc nhiên │ buồn bã │ sợ hãi │ khác │ LOẠI │\n",
       "└───────────┴───────────┴─────────┴────────────┴─────────┴────────┴──────┴──────┘\n",
       "</pre>\n"
      ],
      "text/plain": [
       "\u001b[3m                                     KEY TAG                                     \u001b[0m\n",
       "┏━━━━━━━━━━━┳━━━━━━━━━━━┳━━━━━━━━━┳━━━━━━━━━━━━┳━━━━━━━━━┳━━━━━━━━┳━━━━━━┳━━━━━━┓\n",
       "┃\u001b[1m \u001b[0m\u001b[1m0        \u001b[0m\u001b[1m \u001b[0m┃\u001b[1m \u001b[0m\u001b[1m1        \u001b[0m\u001b[1m \u001b[0m┃\u001b[1m \u001b[0m\u001b[1m2      \u001b[0m\u001b[1m \u001b[0m┃\u001b[1m \u001b[0m\u001b[1m3         \u001b[0m\u001b[1m \u001b[0m┃\u001b[1m \u001b[0m\u001b[1m4      \u001b[0m\u001b[1m \u001b[0m┃\u001b[1m \u001b[0m\u001b[1m5     \u001b[0m\u001b[1m \u001b[0m┃\u001b[1m \u001b[0m\u001b[1m6   \u001b[0m\u001b[1m \u001b[0m┃\u001b[1m \u001b[0m\u001b[1m7   \u001b[0m\u001b[1m \u001b[0m┃\n",
       "┡━━━━━━━━━━━╇━━━━━━━━━━━╇━━━━━━━━━╇━━━━━━━━━━━━╇━━━━━━━━━╇━━━━━━━━╇━━━━━━╇━━━━━━┩\n",
       "│ chán ghét │ thích thú │ giận dữ │ ngạc nhiên │ buồn bã │ sợ hãi │ khác │ LOẠI │\n",
       "└───────────┴───────────┴─────────┴────────────┴─────────┴────────┴──────┴──────┘\n"
      ]
     },
     "metadata": {},
     "output_type": "display_data"
    },
    {
     "name": "stdout",
     "output_type": "stream",
     "text": [
      "\n",
      "Count:  38 \n",
      "\n",
      "Thật tội nghiệp cho 2 em .rút kinh nghiệm lần sau có trường hợp như vậy. Tụi e phải xem liền tại chỗ. Tại tụi e tin người quá .về nhà tụi nó còn cười tụi e nữa. Nói thật tụi e là nhà quê lên tỉnh. \n",
      "\n",
      "Tag: 6\n"
     ]
    },
    {
     "data": {
      "text/html": [
       "<pre style=\"white-space:pre;overflow-x:auto;line-height:normal;font-family:Menlo,'DejaVu Sans Mono',consolas,'Courier New',monospace\"><span style=\"font-style: italic\">                                     KEY TAG                                     </span>\n",
       "┏━━━━━━━━━━━┳━━━━━━━━━━━┳━━━━━━━━━┳━━━━━━━━━━━━┳━━━━━━━━━┳━━━━━━━━┳━━━━━━┳━━━━━━┓\n",
       "┃<span style=\"font-weight: bold\"> 0         </span>┃<span style=\"font-weight: bold\"> 1         </span>┃<span style=\"font-weight: bold\"> 2       </span>┃<span style=\"font-weight: bold\"> 3          </span>┃<span style=\"font-weight: bold\"> 4       </span>┃<span style=\"font-weight: bold\"> 5      </span>┃<span style=\"font-weight: bold\"> 6    </span>┃<span style=\"font-weight: bold\"> 7    </span>┃\n",
       "┡━━━━━━━━━━━╇━━━━━━━━━━━╇━━━━━━━━━╇━━━━━━━━━━━━╇━━━━━━━━━╇━━━━━━━━╇━━━━━━╇━━━━━━┩\n",
       "│ chán ghét │ thích thú │ giận dữ │ ngạc nhiên │ buồn bã │ sợ hãi │ khác │ LOẠI │\n",
       "└───────────┴───────────┴─────────┴────────────┴─────────┴────────┴──────┴──────┘\n",
       "</pre>\n"
      ],
      "text/plain": [
       "\u001b[3m                                     KEY TAG                                     \u001b[0m\n",
       "┏━━━━━━━━━━━┳━━━━━━━━━━━┳━━━━━━━━━┳━━━━━━━━━━━━┳━━━━━━━━━┳━━━━━━━━┳━━━━━━┳━━━━━━┓\n",
       "┃\u001b[1m \u001b[0m\u001b[1m0        \u001b[0m\u001b[1m \u001b[0m┃\u001b[1m \u001b[0m\u001b[1m1        \u001b[0m\u001b[1m \u001b[0m┃\u001b[1m \u001b[0m\u001b[1m2      \u001b[0m\u001b[1m \u001b[0m┃\u001b[1m \u001b[0m\u001b[1m3         \u001b[0m\u001b[1m \u001b[0m┃\u001b[1m \u001b[0m\u001b[1m4      \u001b[0m\u001b[1m \u001b[0m┃\u001b[1m \u001b[0m\u001b[1m5     \u001b[0m\u001b[1m \u001b[0m┃\u001b[1m \u001b[0m\u001b[1m6   \u001b[0m\u001b[1m \u001b[0m┃\u001b[1m \u001b[0m\u001b[1m7   \u001b[0m\u001b[1m \u001b[0m┃\n",
       "┡━━━━━━━━━━━╇━━━━━━━━━━━╇━━━━━━━━━╇━━━━━━━━━━━━╇━━━━━━━━━╇━━━━━━━━╇━━━━━━╇━━━━━━┩\n",
       "│ chán ghét │ thích thú │ giận dữ │ ngạc nhiên │ buồn bã │ sợ hãi │ khác │ LOẠI │\n",
       "└───────────┴───────────┴─────────┴────────────┴─────────┴────────┴──────┴──────┘\n"
      ]
     },
     "metadata": {},
     "output_type": "display_data"
    },
    {
     "name": "stdout",
     "output_type": "stream",
     "text": [
      "\n",
      "Count:  39 \n",
      "\n",
      "Các bạn thật tốt bụng . Bị lợi dụng đúng là ức chế thật 💐💐💐💐👌👍 \n",
      "\n",
      "Tag: 0\n"
     ]
    },
    {
     "data": {
      "text/html": [
       "<pre style=\"white-space:pre;overflow-x:auto;line-height:normal;font-family:Menlo,'DejaVu Sans Mono',consolas,'Courier New',monospace\"><span style=\"font-style: italic\">                                     KEY TAG                                     </span>\n",
       "┏━━━━━━━━━━━┳━━━━━━━━━━━┳━━━━━━━━━┳━━━━━━━━━━━━┳━━━━━━━━━┳━━━━━━━━┳━━━━━━┳━━━━━━┓\n",
       "┃<span style=\"font-weight: bold\"> 0         </span>┃<span style=\"font-weight: bold\"> 1         </span>┃<span style=\"font-weight: bold\"> 2       </span>┃<span style=\"font-weight: bold\"> 3          </span>┃<span style=\"font-weight: bold\"> 4       </span>┃<span style=\"font-weight: bold\"> 5      </span>┃<span style=\"font-weight: bold\"> 6    </span>┃<span style=\"font-weight: bold\"> 7    </span>┃\n",
       "┡━━━━━━━━━━━╇━━━━━━━━━━━╇━━━━━━━━━╇━━━━━━━━━━━━╇━━━━━━━━━╇━━━━━━━━╇━━━━━━╇━━━━━━┩\n",
       "│ chán ghét │ thích thú │ giận dữ │ ngạc nhiên │ buồn bã │ sợ hãi │ khác │ LOẠI │\n",
       "└───────────┴───────────┴─────────┴────────────┴─────────┴────────┴──────┴──────┘\n",
       "</pre>\n"
      ],
      "text/plain": [
       "\u001b[3m                                     KEY TAG                                     \u001b[0m\n",
       "┏━━━━━━━━━━━┳━━━━━━━━━━━┳━━━━━━━━━┳━━━━━━━━━━━━┳━━━━━━━━━┳━━━━━━━━┳━━━━━━┳━━━━━━┓\n",
       "┃\u001b[1m \u001b[0m\u001b[1m0        \u001b[0m\u001b[1m \u001b[0m┃\u001b[1m \u001b[0m\u001b[1m1        \u001b[0m\u001b[1m \u001b[0m┃\u001b[1m \u001b[0m\u001b[1m2      \u001b[0m\u001b[1m \u001b[0m┃\u001b[1m \u001b[0m\u001b[1m3         \u001b[0m\u001b[1m \u001b[0m┃\u001b[1m \u001b[0m\u001b[1m4      \u001b[0m\u001b[1m \u001b[0m┃\u001b[1m \u001b[0m\u001b[1m5     \u001b[0m\u001b[1m \u001b[0m┃\u001b[1m \u001b[0m\u001b[1m6   \u001b[0m\u001b[1m \u001b[0m┃\u001b[1m \u001b[0m\u001b[1m7   \u001b[0m\u001b[1m \u001b[0m┃\n",
       "┡━━━━━━━━━━━╇━━━━━━━━━━━╇━━━━━━━━━╇━━━━━━━━━━━━╇━━━━━━━━━╇━━━━━━━━╇━━━━━━╇━━━━━━┩\n",
       "│ chán ghét │ thích thú │ giận dữ │ ngạc nhiên │ buồn bã │ sợ hãi │ khác │ LOẠI │\n",
       "└───────────┴───────────┴─────────┴────────────┴─────────┴────────┴──────┴──────┘\n"
      ]
     },
     "metadata": {},
     "output_type": "display_data"
    },
    {
     "name": "stdout",
     "output_type": "stream",
     "text": [
      "\n",
      "Count:  40 \n",
      "\n",
      "Kiếp sau là mày được như ý muốn, lành lặn không muốn muốn gạt người khác \n",
      "\n",
      "Tag: 2\n"
     ]
    },
    {
     "data": {
      "text/html": [
       "<pre style=\"white-space:pre;overflow-x:auto;line-height:normal;font-family:Menlo,'DejaVu Sans Mono',consolas,'Courier New',monospace\"><span style=\"font-style: italic\">                                     KEY TAG                                     </span>\n",
       "┏━━━━━━━━━━━┳━━━━━━━━━━━┳━━━━━━━━━┳━━━━━━━━━━━━┳━━━━━━━━━┳━━━━━━━━┳━━━━━━┳━━━━━━┓\n",
       "┃<span style=\"font-weight: bold\"> 0         </span>┃<span style=\"font-weight: bold\"> 1         </span>┃<span style=\"font-weight: bold\"> 2       </span>┃<span style=\"font-weight: bold\"> 3          </span>┃<span style=\"font-weight: bold\"> 4       </span>┃<span style=\"font-weight: bold\"> 5      </span>┃<span style=\"font-weight: bold\"> 6    </span>┃<span style=\"font-weight: bold\"> 7    </span>┃\n",
       "┡━━━━━━━━━━━╇━━━━━━━━━━━╇━━━━━━━━━╇━━━━━━━━━━━━╇━━━━━━━━━╇━━━━━━━━╇━━━━━━╇━━━━━━┩\n",
       "│ chán ghét │ thích thú │ giận dữ │ ngạc nhiên │ buồn bã │ sợ hãi │ khác │ LOẠI │\n",
       "└───────────┴───────────┴─────────┴────────────┴─────────┴────────┴──────┴──────┘\n",
       "</pre>\n"
      ],
      "text/plain": [
       "\u001b[3m                                     KEY TAG                                     \u001b[0m\n",
       "┏━━━━━━━━━━━┳━━━━━━━━━━━┳━━━━━━━━━┳━━━━━━━━━━━━┳━━━━━━━━━┳━━━━━━━━┳━━━━━━┳━━━━━━┓\n",
       "┃\u001b[1m \u001b[0m\u001b[1m0        \u001b[0m\u001b[1m \u001b[0m┃\u001b[1m \u001b[0m\u001b[1m1        \u001b[0m\u001b[1m \u001b[0m┃\u001b[1m \u001b[0m\u001b[1m2      \u001b[0m\u001b[1m \u001b[0m┃\u001b[1m \u001b[0m\u001b[1m3         \u001b[0m\u001b[1m \u001b[0m┃\u001b[1m \u001b[0m\u001b[1m4      \u001b[0m\u001b[1m \u001b[0m┃\u001b[1m \u001b[0m\u001b[1m5     \u001b[0m\u001b[1m \u001b[0m┃\u001b[1m \u001b[0m\u001b[1m6   \u001b[0m\u001b[1m \u001b[0m┃\u001b[1m \u001b[0m\u001b[1m7   \u001b[0m\u001b[1m \u001b[0m┃\n",
       "┡━━━━━━━━━━━╇━━━━━━━━━━━╇━━━━━━━━━╇━━━━━━━━━━━━╇━━━━━━━━━╇━━━━━━━━╇━━━━━━╇━━━━━━┩\n",
       "│ chán ghét │ thích thú │ giận dữ │ ngạc nhiên │ buồn bã │ sợ hãi │ khác │ LOẠI │\n",
       "└───────────┴───────────┴─────────┴────────────┴─────────┴────────┴──────┴──────┘\n"
      ]
     },
     "metadata": {},
     "output_type": "display_data"
    },
    {
     "name": "stdout",
     "output_type": "stream",
     "text": [
      "\n",
      "Count:  41 \n",
      "\n",
      "Những người lừa dối anh thì sau này họ sẽ gặp quả báo còn anh sống mà có lòng thương người thì sau này anh sẽ gặp may mắn rất nhiều❤️❤️ \n",
      "\n",
      "Tag: 6\n"
     ]
    },
    {
     "data": {
      "text/html": [
       "<pre style=\"white-space:pre;overflow-x:auto;line-height:normal;font-family:Menlo,'DejaVu Sans Mono',consolas,'Courier New',monospace\"><span style=\"font-style: italic\">                                     KEY TAG                                     </span>\n",
       "┏━━━━━━━━━━━┳━━━━━━━━━━━┳━━━━━━━━━┳━━━━━━━━━━━━┳━━━━━━━━━┳━━━━━━━━┳━━━━━━┳━━━━━━┓\n",
       "┃<span style=\"font-weight: bold\"> 0         </span>┃<span style=\"font-weight: bold\"> 1         </span>┃<span style=\"font-weight: bold\"> 2       </span>┃<span style=\"font-weight: bold\"> 3          </span>┃<span style=\"font-weight: bold\"> 4       </span>┃<span style=\"font-weight: bold\"> 5      </span>┃<span style=\"font-weight: bold\"> 6    </span>┃<span style=\"font-weight: bold\"> 7    </span>┃\n",
       "┡━━━━━━━━━━━╇━━━━━━━━━━━╇━━━━━━━━━╇━━━━━━━━━━━━╇━━━━━━━━━╇━━━━━━━━╇━━━━━━╇━━━━━━┩\n",
       "│ chán ghét │ thích thú │ giận dữ │ ngạc nhiên │ buồn bã │ sợ hãi │ khác │ LOẠI │\n",
       "└───────────┴───────────┴─────────┴────────────┴─────────┴────────┴──────┴──────┘\n",
       "</pre>\n"
      ],
      "text/plain": [
       "\u001b[3m                                     KEY TAG                                     \u001b[0m\n",
       "┏━━━━━━━━━━━┳━━━━━━━━━━━┳━━━━━━━━━┳━━━━━━━━━━━━┳━━━━━━━━━┳━━━━━━━━┳━━━━━━┳━━━━━━┓\n",
       "┃\u001b[1m \u001b[0m\u001b[1m0        \u001b[0m\u001b[1m \u001b[0m┃\u001b[1m \u001b[0m\u001b[1m1        \u001b[0m\u001b[1m \u001b[0m┃\u001b[1m \u001b[0m\u001b[1m2      \u001b[0m\u001b[1m \u001b[0m┃\u001b[1m \u001b[0m\u001b[1m3         \u001b[0m\u001b[1m \u001b[0m┃\u001b[1m \u001b[0m\u001b[1m4      \u001b[0m\u001b[1m \u001b[0m┃\u001b[1m \u001b[0m\u001b[1m5     \u001b[0m\u001b[1m \u001b[0m┃\u001b[1m \u001b[0m\u001b[1m6   \u001b[0m\u001b[1m \u001b[0m┃\u001b[1m \u001b[0m\u001b[1m7   \u001b[0m\u001b[1m \u001b[0m┃\n",
       "┡━━━━━━━━━━━╇━━━━━━━━━━━╇━━━━━━━━━╇━━━━━━━━━━━━╇━━━━━━━━━╇━━━━━━━━╇━━━━━━╇━━━━━━┩\n",
       "│ chán ghét │ thích thú │ giận dữ │ ngạc nhiên │ buồn bã │ sợ hãi │ khác │ LOẠI │\n",
       "└───────────┴───────────┴─────────┴────────────┴─────────┴────────┴──────┴──────┘\n"
      ]
     },
     "metadata": {},
     "output_type": "display_data"
    },
    {
     "name": "stdout",
     "output_type": "stream",
     "text": [
      "\n",
      "Count:  42 \n",
      "\n",
      "Vừa thấy lết trên đường Lí thường kiệt luôn nè! \n",
      "\n",
      "Tag: 3\n"
     ]
    },
    {
     "data": {
      "text/html": [
       "<pre style=\"white-space:pre;overflow-x:auto;line-height:normal;font-family:Menlo,'DejaVu Sans Mono',consolas,'Courier New',monospace\"><span style=\"font-style: italic\">                                     KEY TAG                                     </span>\n",
       "┏━━━━━━━━━━━┳━━━━━━━━━━━┳━━━━━━━━━┳━━━━━━━━━━━━┳━━━━━━━━━┳━━━━━━━━┳━━━━━━┳━━━━━━┓\n",
       "┃<span style=\"font-weight: bold\"> 0         </span>┃<span style=\"font-weight: bold\"> 1         </span>┃<span style=\"font-weight: bold\"> 2       </span>┃<span style=\"font-weight: bold\"> 3          </span>┃<span style=\"font-weight: bold\"> 4       </span>┃<span style=\"font-weight: bold\"> 5      </span>┃<span style=\"font-weight: bold\"> 6    </span>┃<span style=\"font-weight: bold\"> 7    </span>┃\n",
       "┡━━━━━━━━━━━╇━━━━━━━━━━━╇━━━━━━━━━╇━━━━━━━━━━━━╇━━━━━━━━━╇━━━━━━━━╇━━━━━━╇━━━━━━┩\n",
       "│ chán ghét │ thích thú │ giận dữ │ ngạc nhiên │ buồn bã │ sợ hãi │ khác │ LOẠI │\n",
       "└───────────┴───────────┴─────────┴────────────┴─────────┴────────┴──────┴──────┘\n",
       "</pre>\n"
      ],
      "text/plain": [
       "\u001b[3m                                     KEY TAG                                     \u001b[0m\n",
       "┏━━━━━━━━━━━┳━━━━━━━━━━━┳━━━━━━━━━┳━━━━━━━━━━━━┳━━━━━━━━━┳━━━━━━━━┳━━━━━━┳━━━━━━┓\n",
       "┃\u001b[1m \u001b[0m\u001b[1m0        \u001b[0m\u001b[1m \u001b[0m┃\u001b[1m \u001b[0m\u001b[1m1        \u001b[0m\u001b[1m \u001b[0m┃\u001b[1m \u001b[0m\u001b[1m2      \u001b[0m\u001b[1m \u001b[0m┃\u001b[1m \u001b[0m\u001b[1m3         \u001b[0m\u001b[1m \u001b[0m┃\u001b[1m \u001b[0m\u001b[1m4      \u001b[0m\u001b[1m \u001b[0m┃\u001b[1m \u001b[0m\u001b[1m5     \u001b[0m\u001b[1m \u001b[0m┃\u001b[1m \u001b[0m\u001b[1m6   \u001b[0m\u001b[1m \u001b[0m┃\u001b[1m \u001b[0m\u001b[1m7   \u001b[0m\u001b[1m \u001b[0m┃\n",
       "┡━━━━━━━━━━━╇━━━━━━━━━━━╇━━━━━━━━━╇━━━━━━━━━━━━╇━━━━━━━━━╇━━━━━━━━╇━━━━━━╇━━━━━━┩\n",
       "│ chán ghét │ thích thú │ giận dữ │ ngạc nhiên │ buồn bã │ sợ hãi │ khác │ LOẠI │\n",
       "└───────────┴───────────┴─────────┴────────────┴─────────┴────────┴──────┴──────┘\n"
      ]
     },
     "metadata": {},
     "output_type": "display_data"
    },
    {
     "name": "stdout",
     "output_type": "stream",
     "text": [
      "\n",
      "Count:  43 \n",
      "\n",
      "Hội của nó hỗ trợ nhau ngáng đường cắt đuôi Trọng và Khoa rồi \n",
      "\n",
      "Tag: 2\n"
     ]
    },
    {
     "data": {
      "text/html": [
       "<pre style=\"white-space:pre;overflow-x:auto;line-height:normal;font-family:Menlo,'DejaVu Sans Mono',consolas,'Courier New',monospace\"><span style=\"font-style: italic\">                                     KEY TAG                                     </span>\n",
       "┏━━━━━━━━━━━┳━━━━━━━━━━━┳━━━━━━━━━┳━━━━━━━━━━━━┳━━━━━━━━━┳━━━━━━━━┳━━━━━━┳━━━━━━┓\n",
       "┃<span style=\"font-weight: bold\"> 0         </span>┃<span style=\"font-weight: bold\"> 1         </span>┃<span style=\"font-weight: bold\"> 2       </span>┃<span style=\"font-weight: bold\"> 3          </span>┃<span style=\"font-weight: bold\"> 4       </span>┃<span style=\"font-weight: bold\"> 5      </span>┃<span style=\"font-weight: bold\"> 6    </span>┃<span style=\"font-weight: bold\"> 7    </span>┃\n",
       "┡━━━━━━━━━━━╇━━━━━━━━━━━╇━━━━━━━━━╇━━━━━━━━━━━━╇━━━━━━━━━╇━━━━━━━━╇━━━━━━╇━━━━━━┩\n",
       "│ chán ghét │ thích thú │ giận dữ │ ngạc nhiên │ buồn bã │ sợ hãi │ khác │ LOẠI │\n",
       "└───────────┴───────────┴─────────┴────────────┴─────────┴────────┴──────┴──────┘\n",
       "</pre>\n"
      ],
      "text/plain": [
       "\u001b[3m                                     KEY TAG                                     \u001b[0m\n",
       "┏━━━━━━━━━━━┳━━━━━━━━━━━┳━━━━━━━━━┳━━━━━━━━━━━━┳━━━━━━━━━┳━━━━━━━━┳━━━━━━┳━━━━━━┓\n",
       "┃\u001b[1m \u001b[0m\u001b[1m0        \u001b[0m\u001b[1m \u001b[0m┃\u001b[1m \u001b[0m\u001b[1m1        \u001b[0m\u001b[1m \u001b[0m┃\u001b[1m \u001b[0m\u001b[1m2      \u001b[0m\u001b[1m \u001b[0m┃\u001b[1m \u001b[0m\u001b[1m3         \u001b[0m\u001b[1m \u001b[0m┃\u001b[1m \u001b[0m\u001b[1m4      \u001b[0m\u001b[1m \u001b[0m┃\u001b[1m \u001b[0m\u001b[1m5     \u001b[0m\u001b[1m \u001b[0m┃\u001b[1m \u001b[0m\u001b[1m6   \u001b[0m\u001b[1m \u001b[0m┃\u001b[1m \u001b[0m\u001b[1m7   \u001b[0m\u001b[1m \u001b[0m┃\n",
       "┡━━━━━━━━━━━╇━━━━━━━━━━━╇━━━━━━━━━╇━━━━━━━━━━━━╇━━━━━━━━━╇━━━━━━━━╇━━━━━━╇━━━━━━┩\n",
       "│ chán ghét │ thích thú │ giận dữ │ ngạc nhiên │ buồn bã │ sợ hãi │ khác │ LOẠI │\n",
       "└───────────┴───────────┴─────────┴────────────┴─────────┴────────┴──────┴──────┘\n"
      ]
     },
     "metadata": {},
     "output_type": "display_data"
    },
    {
     "name": "stdout",
     "output_type": "stream",
     "text": [
      "\n",
      "Count:  44 \n",
      "\n",
      "Anh ơi cho em hỏi chiếc áo khoác anh đang mặc tên gì ạ 😂😂 \n",
      "\n",
      "Tag: 6\n"
     ]
    },
    {
     "data": {
      "text/html": [
       "<pre style=\"white-space:pre;overflow-x:auto;line-height:normal;font-family:Menlo,'DejaVu Sans Mono',consolas,'Courier New',monospace\"><span style=\"font-style: italic\">                                     KEY TAG                                     </span>\n",
       "┏━━━━━━━━━━━┳━━━━━━━━━━━┳━━━━━━━━━┳━━━━━━━━━━━━┳━━━━━━━━━┳━━━━━━━━┳━━━━━━┳━━━━━━┓\n",
       "┃<span style=\"font-weight: bold\"> 0         </span>┃<span style=\"font-weight: bold\"> 1         </span>┃<span style=\"font-weight: bold\"> 2       </span>┃<span style=\"font-weight: bold\"> 3          </span>┃<span style=\"font-weight: bold\"> 4       </span>┃<span style=\"font-weight: bold\"> 5      </span>┃<span style=\"font-weight: bold\"> 6    </span>┃<span style=\"font-weight: bold\"> 7    </span>┃\n",
       "┡━━━━━━━━━━━╇━━━━━━━━━━━╇━━━━━━━━━╇━━━━━━━━━━━━╇━━━━━━━━━╇━━━━━━━━╇━━━━━━╇━━━━━━┩\n",
       "│ chán ghét │ thích thú │ giận dữ │ ngạc nhiên │ buồn bã │ sợ hãi │ khác │ LOẠI │\n",
       "└───────────┴───────────┴─────────┴────────────┴─────────┴────────┴──────┴──────┘\n",
       "</pre>\n"
      ],
      "text/plain": [
       "\u001b[3m                                     KEY TAG                                     \u001b[0m\n",
       "┏━━━━━━━━━━━┳━━━━━━━━━━━┳━━━━━━━━━┳━━━━━━━━━━━━┳━━━━━━━━━┳━━━━━━━━┳━━━━━━┳━━━━━━┓\n",
       "┃\u001b[1m \u001b[0m\u001b[1m0        \u001b[0m\u001b[1m \u001b[0m┃\u001b[1m \u001b[0m\u001b[1m1        \u001b[0m\u001b[1m \u001b[0m┃\u001b[1m \u001b[0m\u001b[1m2      \u001b[0m\u001b[1m \u001b[0m┃\u001b[1m \u001b[0m\u001b[1m3         \u001b[0m\u001b[1m \u001b[0m┃\u001b[1m \u001b[0m\u001b[1m4      \u001b[0m\u001b[1m \u001b[0m┃\u001b[1m \u001b[0m\u001b[1m5     \u001b[0m\u001b[1m \u001b[0m┃\u001b[1m \u001b[0m\u001b[1m6   \u001b[0m\u001b[1m \u001b[0m┃\u001b[1m \u001b[0m\u001b[1m7   \u001b[0m\u001b[1m \u001b[0m┃\n",
       "┡━━━━━━━━━━━╇━━━━━━━━━━━╇━━━━━━━━━╇━━━━━━━━━━━━╇━━━━━━━━━╇━━━━━━━━╇━━━━━━╇━━━━━━┩\n",
       "│ chán ghét │ thích thú │ giận dữ │ ngạc nhiên │ buồn bã │ sợ hãi │ khác │ LOẠI │\n",
       "└───────────┴───────────┴─────────┴────────────┴─────────┴────────┴──────┴──────┘\n"
      ]
     },
     "metadata": {},
     "output_type": "display_data"
    },
    {
     "name": "stdout",
     "output_type": "stream",
     "text": [
      "\n",
      "Count:  45 \n",
      "\n",
      "Các cháu làm phúc là rất tốt. Họ lừa thì giờ đi bò tiếp mọi người sẽ phát hiện ra mà. Chúc 2 cháu trúng thưởng lớn trong 2 tập vé số để tiếp tục giúp những mảnh đời bất hạnh. Hai cháu k cần đuổi xe theo họ nhỡ gặp nguy hiểm nhé! \n",
      "\n",
      "Tag: 6\n"
     ]
    },
    {
     "data": {
      "text/html": [
       "<pre style=\"white-space:pre;overflow-x:auto;line-height:normal;font-family:Menlo,'DejaVu Sans Mono',consolas,'Courier New',monospace\"><span style=\"font-style: italic\">                                     KEY TAG                                     </span>\n",
       "┏━━━━━━━━━━━┳━━━━━━━━━━━┳━━━━━━━━━┳━━━━━━━━━━━━┳━━━━━━━━━┳━━━━━━━━┳━━━━━━┳━━━━━━┓\n",
       "┃<span style=\"font-weight: bold\"> 0         </span>┃<span style=\"font-weight: bold\"> 1         </span>┃<span style=\"font-weight: bold\"> 2       </span>┃<span style=\"font-weight: bold\"> 3          </span>┃<span style=\"font-weight: bold\"> 4       </span>┃<span style=\"font-weight: bold\"> 5      </span>┃<span style=\"font-weight: bold\"> 6    </span>┃<span style=\"font-weight: bold\"> 7    </span>┃\n",
       "┡━━━━━━━━━━━╇━━━━━━━━━━━╇━━━━━━━━━╇━━━━━━━━━━━━╇━━━━━━━━━╇━━━━━━━━╇━━━━━━╇━━━━━━┩\n",
       "│ chán ghét │ thích thú │ giận dữ │ ngạc nhiên │ buồn bã │ sợ hãi │ khác │ LOẠI │\n",
       "└───────────┴───────────┴─────────┴────────────┴─────────┴────────┴──────┴──────┘\n",
       "</pre>\n"
      ],
      "text/plain": [
       "\u001b[3m                                     KEY TAG                                     \u001b[0m\n",
       "┏━━━━━━━━━━━┳━━━━━━━━━━━┳━━━━━━━━━┳━━━━━━━━━━━━┳━━━━━━━━━┳━━━━━━━━┳━━━━━━┳━━━━━━┓\n",
       "┃\u001b[1m \u001b[0m\u001b[1m0        \u001b[0m\u001b[1m \u001b[0m┃\u001b[1m \u001b[0m\u001b[1m1        \u001b[0m\u001b[1m \u001b[0m┃\u001b[1m \u001b[0m\u001b[1m2      \u001b[0m\u001b[1m \u001b[0m┃\u001b[1m \u001b[0m\u001b[1m3         \u001b[0m\u001b[1m \u001b[0m┃\u001b[1m \u001b[0m\u001b[1m4      \u001b[0m\u001b[1m \u001b[0m┃\u001b[1m \u001b[0m\u001b[1m5     \u001b[0m\u001b[1m \u001b[0m┃\u001b[1m \u001b[0m\u001b[1m6   \u001b[0m\u001b[1m \u001b[0m┃\u001b[1m \u001b[0m\u001b[1m7   \u001b[0m\u001b[1m \u001b[0m┃\n",
       "┡━━━━━━━━━━━╇━━━━━━━━━━━╇━━━━━━━━━╇━━━━━━━━━━━━╇━━━━━━━━━╇━━━━━━━━╇━━━━━━╇━━━━━━┩\n",
       "│ chán ghét │ thích thú │ giận dữ │ ngạc nhiên │ buồn bã │ sợ hãi │ khác │ LOẠI │\n",
       "└───────────┴───────────┴─────────┴────────────┴─────────┴────────┴──────┴──────┘\n"
      ]
     },
     "metadata": {},
     "output_type": "display_data"
    },
    {
     "name": "stdout",
     "output_type": "stream",
     "text": [
      "\n",
      "Count:  46 \n",
      "\n",
      "R mấy thằng dislike cũng giống nó luôn à? \n",
      "\n",
      "Tag: 6\n"
     ]
    },
    {
     "data": {
      "text/html": [
       "<pre style=\"white-space:pre;overflow-x:auto;line-height:normal;font-family:Menlo,'DejaVu Sans Mono',consolas,'Courier New',monospace\"><span style=\"font-style: italic\">                                     KEY TAG                                     </span>\n",
       "┏━━━━━━━━━━━┳━━━━━━━━━━━┳━━━━━━━━━┳━━━━━━━━━━━━┳━━━━━━━━━┳━━━━━━━━┳━━━━━━┳━━━━━━┓\n",
       "┃<span style=\"font-weight: bold\"> 0         </span>┃<span style=\"font-weight: bold\"> 1         </span>┃<span style=\"font-weight: bold\"> 2       </span>┃<span style=\"font-weight: bold\"> 3          </span>┃<span style=\"font-weight: bold\"> 4       </span>┃<span style=\"font-weight: bold\"> 5      </span>┃<span style=\"font-weight: bold\"> 6    </span>┃<span style=\"font-weight: bold\"> 7    </span>┃\n",
       "┡━━━━━━━━━━━╇━━━━━━━━━━━╇━━━━━━━━━╇━━━━━━━━━━━━╇━━━━━━━━━╇━━━━━━━━╇━━━━━━╇━━━━━━┩\n",
       "│ chán ghét │ thích thú │ giận dữ │ ngạc nhiên │ buồn bã │ sợ hãi │ khác │ LOẠI │\n",
       "└───────────┴───────────┴─────────┴────────────┴─────────┴────────┴──────┴──────┘\n",
       "</pre>\n"
      ],
      "text/plain": [
       "\u001b[3m                                     KEY TAG                                     \u001b[0m\n",
       "┏━━━━━━━━━━━┳━━━━━━━━━━━┳━━━━━━━━━┳━━━━━━━━━━━━┳━━━━━━━━━┳━━━━━━━━┳━━━━━━┳━━━━━━┓\n",
       "┃\u001b[1m \u001b[0m\u001b[1m0        \u001b[0m\u001b[1m \u001b[0m┃\u001b[1m \u001b[0m\u001b[1m1        \u001b[0m\u001b[1m \u001b[0m┃\u001b[1m \u001b[0m\u001b[1m2      \u001b[0m\u001b[1m \u001b[0m┃\u001b[1m \u001b[0m\u001b[1m3         \u001b[0m\u001b[1m \u001b[0m┃\u001b[1m \u001b[0m\u001b[1m4      \u001b[0m\u001b[1m \u001b[0m┃\u001b[1m \u001b[0m\u001b[1m5     \u001b[0m\u001b[1m \u001b[0m┃\u001b[1m \u001b[0m\u001b[1m6   \u001b[0m\u001b[1m \u001b[0m┃\u001b[1m \u001b[0m\u001b[1m7   \u001b[0m\u001b[1m \u001b[0m┃\n",
       "┡━━━━━━━━━━━╇━━━━━━━━━━━╇━━━━━━━━━╇━━━━━━━━━━━━╇━━━━━━━━━╇━━━━━━━━╇━━━━━━╇━━━━━━┩\n",
       "│ chán ghét │ thích thú │ giận dữ │ ngạc nhiên │ buồn bã │ sợ hãi │ khác │ LOẠI │\n",
       "└───────────┴───────────┴─────────┴────────────┴─────────┴────────┴──────┴──────┘\n"
      ]
     },
     "metadata": {},
     "output_type": "display_data"
    },
    {
     "name": "stdout",
     "output_type": "stream",
     "text": [
      "\n",
      "Count:  47 \n",
      "\n",
      "Chúc hai Cháu luân bình an mạnh khỏe.  Lần sau chớ bị kẻ gian lừa nữa ... \n",
      "\n",
      "Tag: 0\n"
     ]
    },
    {
     "data": {
      "text/html": [
       "<pre style=\"white-space:pre;overflow-x:auto;line-height:normal;font-family:Menlo,'DejaVu Sans Mono',consolas,'Courier New',monospace\"><span style=\"font-style: italic\">                                     KEY TAG                                     </span>\n",
       "┏━━━━━━━━━━━┳━━━━━━━━━━━┳━━━━━━━━━┳━━━━━━━━━━━━┳━━━━━━━━━┳━━━━━━━━┳━━━━━━┳━━━━━━┓\n",
       "┃<span style=\"font-weight: bold\"> 0         </span>┃<span style=\"font-weight: bold\"> 1         </span>┃<span style=\"font-weight: bold\"> 2       </span>┃<span style=\"font-weight: bold\"> 3          </span>┃<span style=\"font-weight: bold\"> 4       </span>┃<span style=\"font-weight: bold\"> 5      </span>┃<span style=\"font-weight: bold\"> 6    </span>┃<span style=\"font-weight: bold\"> 7    </span>┃\n",
       "┡━━━━━━━━━━━╇━━━━━━━━━━━╇━━━━━━━━━╇━━━━━━━━━━━━╇━━━━━━━━━╇━━━━━━━━╇━━━━━━╇━━━━━━┩\n",
       "│ chán ghét │ thích thú │ giận dữ │ ngạc nhiên │ buồn bã │ sợ hãi │ khác │ LOẠI │\n",
       "└───────────┴───────────┴─────────┴────────────┴─────────┴────────┴──────┴──────┘\n",
       "</pre>\n"
      ],
      "text/plain": [
       "\u001b[3m                                     KEY TAG                                     \u001b[0m\n",
       "┏━━━━━━━━━━━┳━━━━━━━━━━━┳━━━━━━━━━┳━━━━━━━━━━━━┳━━━━━━━━━┳━━━━━━━━┳━━━━━━┳━━━━━━┓\n",
       "┃\u001b[1m \u001b[0m\u001b[1m0        \u001b[0m\u001b[1m \u001b[0m┃\u001b[1m \u001b[0m\u001b[1m1        \u001b[0m\u001b[1m \u001b[0m┃\u001b[1m \u001b[0m\u001b[1m2      \u001b[0m\u001b[1m \u001b[0m┃\u001b[1m \u001b[0m\u001b[1m3         \u001b[0m\u001b[1m \u001b[0m┃\u001b[1m \u001b[0m\u001b[1m4      \u001b[0m\u001b[1m \u001b[0m┃\u001b[1m \u001b[0m\u001b[1m5     \u001b[0m\u001b[1m \u001b[0m┃\u001b[1m \u001b[0m\u001b[1m6   \u001b[0m\u001b[1m \u001b[0m┃\u001b[1m \u001b[0m\u001b[1m7   \u001b[0m\u001b[1m \u001b[0m┃\n",
       "┡━━━━━━━━━━━╇━━━━━━━━━━━╇━━━━━━━━━╇━━━━━━━━━━━━╇━━━━━━━━━╇━━━━━━━━╇━━━━━━╇━━━━━━┩\n",
       "│ chán ghét │ thích thú │ giận dữ │ ngạc nhiên │ buồn bã │ sợ hãi │ khác │ LOẠI │\n",
       "└───────────┴───────────┴─────────┴────────────┴─────────┴────────┴──────┴──────┘\n"
      ]
     },
     "metadata": {},
     "output_type": "display_data"
    },
    {
     "name": "stdout",
     "output_type": "stream",
     "text": [
      "\n",
      "Count:  48 \n",
      "\n",
      "Giúp người còn gặp kẻ xấu thì chịu xã hội bh rồi \n",
      "\n",
      "Tag: 0\n"
     ]
    },
    {
     "data": {
      "text/html": [
       "<pre style=\"white-space:pre;overflow-x:auto;line-height:normal;font-family:Menlo,'DejaVu Sans Mono',consolas,'Courier New',monospace\"><span style=\"font-style: italic\">                                     KEY TAG                                     </span>\n",
       "┏━━━━━━━━━━━┳━━━━━━━━━━━┳━━━━━━━━━┳━━━━━━━━━━━━┳━━━━━━━━━┳━━━━━━━━┳━━━━━━┳━━━━━━┓\n",
       "┃<span style=\"font-weight: bold\"> 0         </span>┃<span style=\"font-weight: bold\"> 1         </span>┃<span style=\"font-weight: bold\"> 2       </span>┃<span style=\"font-weight: bold\"> 3          </span>┃<span style=\"font-weight: bold\"> 4       </span>┃<span style=\"font-weight: bold\"> 5      </span>┃<span style=\"font-weight: bold\"> 6    </span>┃<span style=\"font-weight: bold\"> 7    </span>┃\n",
       "┡━━━━━━━━━━━╇━━━━━━━━━━━╇━━━━━━━━━╇━━━━━━━━━━━━╇━━━━━━━━━╇━━━━━━━━╇━━━━━━╇━━━━━━┩\n",
       "│ chán ghét │ thích thú │ giận dữ │ ngạc nhiên │ buồn bã │ sợ hãi │ khác │ LOẠI │\n",
       "└───────────┴───────────┴─────────┴────────────┴─────────┴────────┴──────┴──────┘\n",
       "</pre>\n"
      ],
      "text/plain": [
       "\u001b[3m                                     KEY TAG                                     \u001b[0m\n",
       "┏━━━━━━━━━━━┳━━━━━━━━━━━┳━━━━━━━━━┳━━━━━━━━━━━━┳━━━━━━━━━┳━━━━━━━━┳━━━━━━┳━━━━━━┓\n",
       "┃\u001b[1m \u001b[0m\u001b[1m0        \u001b[0m\u001b[1m \u001b[0m┃\u001b[1m \u001b[0m\u001b[1m1        \u001b[0m\u001b[1m \u001b[0m┃\u001b[1m \u001b[0m\u001b[1m2      \u001b[0m\u001b[1m \u001b[0m┃\u001b[1m \u001b[0m\u001b[1m3         \u001b[0m\u001b[1m \u001b[0m┃\u001b[1m \u001b[0m\u001b[1m4      \u001b[0m\u001b[1m \u001b[0m┃\u001b[1m \u001b[0m\u001b[1m5     \u001b[0m\u001b[1m \u001b[0m┃\u001b[1m \u001b[0m\u001b[1m6   \u001b[0m\u001b[1m \u001b[0m┃\u001b[1m \u001b[0m\u001b[1m7   \u001b[0m\u001b[1m \u001b[0m┃\n",
       "┡━━━━━━━━━━━╇━━━━━━━━━━━╇━━━━━━━━━╇━━━━━━━━━━━━╇━━━━━━━━━╇━━━━━━━━╇━━━━━━╇━━━━━━┩\n",
       "│ chán ghét │ thích thú │ giận dữ │ ngạc nhiên │ buồn bã │ sợ hãi │ khác │ LOẠI │\n",
       "└───────────┴───────────┴─────────┴────────────┴─────────┴────────┴──────┴──────┘\n"
      ]
     },
     "metadata": {},
     "output_type": "display_data"
    },
    {
     "name": "stdout",
     "output_type": "stream",
     "text": [
      "\n",
      "Count:  49 \n",
      "\n",
      "Hai bạn trẻ cần rút kinh nghiệm lại. Giúp người là việc tốt cần phải làm nhưng cần phải xem xét cho kỹ rồi hãy giúp. Cầu chúc 2 bạn có nhiều sức khỏe để làm việc thiện. \n",
      "\n",
      "Tag: 1\n"
     ]
    },
    {
     "data": {
      "text/html": [
       "<pre style=\"white-space:pre;overflow-x:auto;line-height:normal;font-family:Menlo,'DejaVu Sans Mono',consolas,'Courier New',monospace\"><span style=\"font-style: italic\">                                     KEY TAG                                     </span>\n",
       "┏━━━━━━━━━━━┳━━━━━━━━━━━┳━━━━━━━━━┳━━━━━━━━━━━━┳━━━━━━━━━┳━━━━━━━━┳━━━━━━┳━━━━━━┓\n",
       "┃<span style=\"font-weight: bold\"> 0         </span>┃<span style=\"font-weight: bold\"> 1         </span>┃<span style=\"font-weight: bold\"> 2       </span>┃<span style=\"font-weight: bold\"> 3          </span>┃<span style=\"font-weight: bold\"> 4       </span>┃<span style=\"font-weight: bold\"> 5      </span>┃<span style=\"font-weight: bold\"> 6    </span>┃<span style=\"font-weight: bold\"> 7    </span>┃\n",
       "┡━━━━━━━━━━━╇━━━━━━━━━━━╇━━━━━━━━━╇━━━━━━━━━━━━╇━━━━━━━━━╇━━━━━━━━╇━━━━━━╇━━━━━━┩\n",
       "│ chán ghét │ thích thú │ giận dữ │ ngạc nhiên │ buồn bã │ sợ hãi │ khác │ LOẠI │\n",
       "└───────────┴───────────┴─────────┴────────────┴─────────┴────────┴──────┴──────┘\n",
       "</pre>\n"
      ],
      "text/plain": [
       "\u001b[3m                                     KEY TAG                                     \u001b[0m\n",
       "┏━━━━━━━━━━━┳━━━━━━━━━━━┳━━━━━━━━━┳━━━━━━━━━━━━┳━━━━━━━━━┳━━━━━━━━┳━━━━━━┳━━━━━━┓\n",
       "┃\u001b[1m \u001b[0m\u001b[1m0        \u001b[0m\u001b[1m \u001b[0m┃\u001b[1m \u001b[0m\u001b[1m1        \u001b[0m\u001b[1m \u001b[0m┃\u001b[1m \u001b[0m\u001b[1m2      \u001b[0m\u001b[1m \u001b[0m┃\u001b[1m \u001b[0m\u001b[1m3         \u001b[0m\u001b[1m \u001b[0m┃\u001b[1m \u001b[0m\u001b[1m4      \u001b[0m\u001b[1m \u001b[0m┃\u001b[1m \u001b[0m\u001b[1m5     \u001b[0m\u001b[1m \u001b[0m┃\u001b[1m \u001b[0m\u001b[1m6   \u001b[0m\u001b[1m \u001b[0m┃\u001b[1m \u001b[0m\u001b[1m7   \u001b[0m\u001b[1m \u001b[0m┃\n",
       "┡━━━━━━━━━━━╇━━━━━━━━━━━╇━━━━━━━━━╇━━━━━━━━━━━━╇━━━━━━━━━╇━━━━━━━━╇━━━━━━╇━━━━━━┩\n",
       "│ chán ghét │ thích thú │ giận dữ │ ngạc nhiên │ buồn bã │ sợ hãi │ khác │ LOẠI │\n",
       "└───────────┴───────────┴─────────┴────────────┴─────────┴────────┴──────┴──────┘\n"
      ]
     },
     "metadata": {},
     "output_type": "display_data"
    },
    {
     "name": "stdout",
     "output_type": "stream",
     "text": [
      "\n",
      "Count:  50 \n",
      "\n",
      "Tôi khuyên mọi người muốn giúp đỡ người nghèo nhưng người tàn tật nên đi đến những người ở vùng sâu vùng xa rất nhiều người còn khổ hơn nhiều \n",
      "\n",
      "Tag: 1\n"
     ]
    },
    {
     "data": {
      "text/html": [
       "<pre style=\"white-space:pre;overflow-x:auto;line-height:normal;font-family:Menlo,'DejaVu Sans Mono',consolas,'Courier New',monospace\"><span style=\"font-style: italic\">                                     KEY TAG                                     </span>\n",
       "┏━━━━━━━━━━━┳━━━━━━━━━━━┳━━━━━━━━━┳━━━━━━━━━━━━┳━━━━━━━━━┳━━━━━━━━┳━━━━━━┳━━━━━━┓\n",
       "┃<span style=\"font-weight: bold\"> 0         </span>┃<span style=\"font-weight: bold\"> 1         </span>┃<span style=\"font-weight: bold\"> 2       </span>┃<span style=\"font-weight: bold\"> 3          </span>┃<span style=\"font-weight: bold\"> 4       </span>┃<span style=\"font-weight: bold\"> 5      </span>┃<span style=\"font-weight: bold\"> 6    </span>┃<span style=\"font-weight: bold\"> 7    </span>┃\n",
       "┡━━━━━━━━━━━╇━━━━━━━━━━━╇━━━━━━━━━╇━━━━━━━━━━━━╇━━━━━━━━━╇━━━━━━━━╇━━━━━━╇━━━━━━┩\n",
       "│ chán ghét │ thích thú │ giận dữ │ ngạc nhiên │ buồn bã │ sợ hãi │ khác │ LOẠI │\n",
       "└───────────┴───────────┴─────────┴────────────┴─────────┴────────┴──────┴──────┘\n",
       "</pre>\n"
      ],
      "text/plain": [
       "\u001b[3m                                     KEY TAG                                     \u001b[0m\n",
       "┏━━━━━━━━━━━┳━━━━━━━━━━━┳━━━━━━━━━┳━━━━━━━━━━━━┳━━━━━━━━━┳━━━━━━━━┳━━━━━━┳━━━━━━┓\n",
       "┃\u001b[1m \u001b[0m\u001b[1m0        \u001b[0m\u001b[1m \u001b[0m┃\u001b[1m \u001b[0m\u001b[1m1        \u001b[0m\u001b[1m \u001b[0m┃\u001b[1m \u001b[0m\u001b[1m2      \u001b[0m\u001b[1m \u001b[0m┃\u001b[1m \u001b[0m\u001b[1m3         \u001b[0m\u001b[1m \u001b[0m┃\u001b[1m \u001b[0m\u001b[1m4      \u001b[0m\u001b[1m \u001b[0m┃\u001b[1m \u001b[0m\u001b[1m5     \u001b[0m\u001b[1m \u001b[0m┃\u001b[1m \u001b[0m\u001b[1m6   \u001b[0m\u001b[1m \u001b[0m┃\u001b[1m \u001b[0m\u001b[1m7   \u001b[0m\u001b[1m \u001b[0m┃\n",
       "┡━━━━━━━━━━━╇━━━━━━━━━━━╇━━━━━━━━━╇━━━━━━━━━━━━╇━━━━━━━━━╇━━━━━━━━╇━━━━━━╇━━━━━━┩\n",
       "│ chán ghét │ thích thú │ giận dữ │ ngạc nhiên │ buồn bã │ sợ hãi │ khác │ LOẠI │\n",
       "└───────────┴───────────┴─────────┴────────────┴─────────┴────────┴──────┴──────┘\n"
      ]
     },
     "metadata": {},
     "output_type": "display_data"
    },
    {
     "name": "stdout",
     "output_type": "stream",
     "text": [
      "\n",
      "Count:  51 \n",
      "\n",
      "thương 2 cháu có lòng tốt giúp người mà bị lửa 2 cháu nhớ tìm hiểu kỷ rồi hả giúp người , chúc cháu trên con đường làm thiện nguyên may mắn và khoẻ mạnh hạnh phúc \n",
      "\n",
      "Tag: 1\n"
     ]
    },
    {
     "data": {
      "text/html": [
       "<pre style=\"white-space:pre;overflow-x:auto;line-height:normal;font-family:Menlo,'DejaVu Sans Mono',consolas,'Courier New',monospace\"><span style=\"font-style: italic\">                                     KEY TAG                                     </span>\n",
       "┏━━━━━━━━━━━┳━━━━━━━━━━━┳━━━━━━━━━┳━━━━━━━━━━━━┳━━━━━━━━━┳━━━━━━━━┳━━━━━━┳━━━━━━┓\n",
       "┃<span style=\"font-weight: bold\"> 0         </span>┃<span style=\"font-weight: bold\"> 1         </span>┃<span style=\"font-weight: bold\"> 2       </span>┃<span style=\"font-weight: bold\"> 3          </span>┃<span style=\"font-weight: bold\"> 4       </span>┃<span style=\"font-weight: bold\"> 5      </span>┃<span style=\"font-weight: bold\"> 6    </span>┃<span style=\"font-weight: bold\"> 7    </span>┃\n",
       "┡━━━━━━━━━━━╇━━━━━━━━━━━╇━━━━━━━━━╇━━━━━━━━━━━━╇━━━━━━━━━╇━━━━━━━━╇━━━━━━╇━━━━━━┩\n",
       "│ chán ghét │ thích thú │ giận dữ │ ngạc nhiên │ buồn bã │ sợ hãi │ khác │ LOẠI │\n",
       "└───────────┴───────────┴─────────┴────────────┴─────────┴────────┴──────┴──────┘\n",
       "</pre>\n"
      ],
      "text/plain": [
       "\u001b[3m                                     KEY TAG                                     \u001b[0m\n",
       "┏━━━━━━━━━━━┳━━━━━━━━━━━┳━━━━━━━━━┳━━━━━━━━━━━━┳━━━━━━━━━┳━━━━━━━━┳━━━━━━┳━━━━━━┓\n",
       "┃\u001b[1m \u001b[0m\u001b[1m0        \u001b[0m\u001b[1m \u001b[0m┃\u001b[1m \u001b[0m\u001b[1m1        \u001b[0m\u001b[1m \u001b[0m┃\u001b[1m \u001b[0m\u001b[1m2      \u001b[0m\u001b[1m \u001b[0m┃\u001b[1m \u001b[0m\u001b[1m3         \u001b[0m\u001b[1m \u001b[0m┃\u001b[1m \u001b[0m\u001b[1m4      \u001b[0m\u001b[1m \u001b[0m┃\u001b[1m \u001b[0m\u001b[1m5     \u001b[0m\u001b[1m \u001b[0m┃\u001b[1m \u001b[0m\u001b[1m6   \u001b[0m\u001b[1m \u001b[0m┃\u001b[1m \u001b[0m\u001b[1m7   \u001b[0m\u001b[1m \u001b[0m┃\n",
       "┡━━━━━━━━━━━╇━━━━━━━━━━━╇━━━━━━━━━╇━━━━━━━━━━━━╇━━━━━━━━━╇━━━━━━━━╇━━━━━━╇━━━━━━┩\n",
       "│ chán ghét │ thích thú │ giận dữ │ ngạc nhiên │ buồn bã │ sợ hãi │ khác │ LOẠI │\n",
       "└───────────┴───────────┴─────────┴────────────┴─────────┴────────┴──────┴──────┘\n"
      ]
     },
     "metadata": {},
     "output_type": "display_data"
    },
    {
     "name": "stdout",
     "output_type": "stream",
     "text": [
      "\n",
      "Count:  52 \n",
      "\n",
      "Thời buổi bây giờ ớ cứ đi lừa đảo hoài à..\n",
      "Mấy ah tốt như zây mà cứ bị lừa hoài à..\n",
      "Mấy người này á người ta có câu\n",
      "CÓ LÀM THÌ MỚI CÓ ĂN \n",
      "\n",
      "Tag: 1\n"
     ]
    },
    {
     "data": {
      "text/html": [
       "<pre style=\"white-space:pre;overflow-x:auto;line-height:normal;font-family:Menlo,'DejaVu Sans Mono',consolas,'Courier New',monospace\"><span style=\"font-style: italic\">                                     KEY TAG                                     </span>\n",
       "┏━━━━━━━━━━━┳━━━━━━━━━━━┳━━━━━━━━━┳━━━━━━━━━━━━┳━━━━━━━━━┳━━━━━━━━┳━━━━━━┳━━━━━━┓\n",
       "┃<span style=\"font-weight: bold\"> 0         </span>┃<span style=\"font-weight: bold\"> 1         </span>┃<span style=\"font-weight: bold\"> 2       </span>┃<span style=\"font-weight: bold\"> 3          </span>┃<span style=\"font-weight: bold\"> 4       </span>┃<span style=\"font-weight: bold\"> 5      </span>┃<span style=\"font-weight: bold\"> 6    </span>┃<span style=\"font-weight: bold\"> 7    </span>┃\n",
       "┡━━━━━━━━━━━╇━━━━━━━━━━━╇━━━━━━━━━╇━━━━━━━━━━━━╇━━━━━━━━━╇━━━━━━━━╇━━━━━━╇━━━━━━┩\n",
       "│ chán ghét │ thích thú │ giận dữ │ ngạc nhiên │ buồn bã │ sợ hãi │ khác │ LOẠI │\n",
       "└───────────┴───────────┴─────────┴────────────┴─────────┴────────┴──────┴──────┘\n",
       "</pre>\n"
      ],
      "text/plain": [
       "\u001b[3m                                     KEY TAG                                     \u001b[0m\n",
       "┏━━━━━━━━━━━┳━━━━━━━━━━━┳━━━━━━━━━┳━━━━━━━━━━━━┳━━━━━━━━━┳━━━━━━━━┳━━━━━━┳━━━━━━┓\n",
       "┃\u001b[1m \u001b[0m\u001b[1m0        \u001b[0m\u001b[1m \u001b[0m┃\u001b[1m \u001b[0m\u001b[1m1        \u001b[0m\u001b[1m \u001b[0m┃\u001b[1m \u001b[0m\u001b[1m2      \u001b[0m\u001b[1m \u001b[0m┃\u001b[1m \u001b[0m\u001b[1m3         \u001b[0m\u001b[1m \u001b[0m┃\u001b[1m \u001b[0m\u001b[1m4      \u001b[0m\u001b[1m \u001b[0m┃\u001b[1m \u001b[0m\u001b[1m5     \u001b[0m\u001b[1m \u001b[0m┃\u001b[1m \u001b[0m\u001b[1m6   \u001b[0m\u001b[1m \u001b[0m┃\u001b[1m \u001b[0m\u001b[1m7   \u001b[0m\u001b[1m \u001b[0m┃\n",
       "┡━━━━━━━━━━━╇━━━━━━━━━━━╇━━━━━━━━━╇━━━━━━━━━━━━╇━━━━━━━━━╇━━━━━━━━╇━━━━━━╇━━━━━━┩\n",
       "│ chán ghét │ thích thú │ giận dữ │ ngạc nhiên │ buồn bã │ sợ hãi │ khác │ LOẠI │\n",
       "└───────────┴───────────┴─────────┴────────────┴─────────┴────────┴──────┴──────┘\n"
      ]
     },
     "metadata": {},
     "output_type": "display_data"
    },
    {
     "name": "stdout",
     "output_type": "stream",
     "text": [
      "\n",
      "Count:  53 \n",
      "\n",
      "Bó tay... O sao đâu cháu, vì cháu có tấm lòng tốt thôi làm việc tốt sẽ có trời phật phù hộ , \n",
      "còn họ sống sao thì nghiệp đấy thôi cháu á. \n",
      "Chúc 2 cháu luôn thành công trong công việc nhé! \n",
      "\n",
      "Tag: 4\n"
     ]
    },
    {
     "data": {
      "text/html": [
       "<pre style=\"white-space:pre;overflow-x:auto;line-height:normal;font-family:Menlo,'DejaVu Sans Mono',consolas,'Courier New',monospace\"><span style=\"font-style: italic\">                                     KEY TAG                                     </span>\n",
       "┏━━━━━━━━━━━┳━━━━━━━━━━━┳━━━━━━━━━┳━━━━━━━━━━━━┳━━━━━━━━━┳━━━━━━━━┳━━━━━━┳━━━━━━┓\n",
       "┃<span style=\"font-weight: bold\"> 0         </span>┃<span style=\"font-weight: bold\"> 1         </span>┃<span style=\"font-weight: bold\"> 2       </span>┃<span style=\"font-weight: bold\"> 3          </span>┃<span style=\"font-weight: bold\"> 4       </span>┃<span style=\"font-weight: bold\"> 5      </span>┃<span style=\"font-weight: bold\"> 6    </span>┃<span style=\"font-weight: bold\"> 7    </span>┃\n",
       "┡━━━━━━━━━━━╇━━━━━━━━━━━╇━━━━━━━━━╇━━━━━━━━━━━━╇━━━━━━━━━╇━━━━━━━━╇━━━━━━╇━━━━━━┩\n",
       "│ chán ghét │ thích thú │ giận dữ │ ngạc nhiên │ buồn bã │ sợ hãi │ khác │ LOẠI │\n",
       "└───────────┴───────────┴─────────┴────────────┴─────────┴────────┴──────┴──────┘\n",
       "</pre>\n"
      ],
      "text/plain": [
       "\u001b[3m                                     KEY TAG                                     \u001b[0m\n",
       "┏━━━━━━━━━━━┳━━━━━━━━━━━┳━━━━━━━━━┳━━━━━━━━━━━━┳━━━━━━━━━┳━━━━━━━━┳━━━━━━┳━━━━━━┓\n",
       "┃\u001b[1m \u001b[0m\u001b[1m0        \u001b[0m\u001b[1m \u001b[0m┃\u001b[1m \u001b[0m\u001b[1m1        \u001b[0m\u001b[1m \u001b[0m┃\u001b[1m \u001b[0m\u001b[1m2      \u001b[0m\u001b[1m \u001b[0m┃\u001b[1m \u001b[0m\u001b[1m3         \u001b[0m\u001b[1m \u001b[0m┃\u001b[1m \u001b[0m\u001b[1m4      \u001b[0m\u001b[1m \u001b[0m┃\u001b[1m \u001b[0m\u001b[1m5     \u001b[0m\u001b[1m \u001b[0m┃\u001b[1m \u001b[0m\u001b[1m6   \u001b[0m\u001b[1m \u001b[0m┃\u001b[1m \u001b[0m\u001b[1m7   \u001b[0m\u001b[1m \u001b[0m┃\n",
       "┡━━━━━━━━━━━╇━━━━━━━━━━━╇━━━━━━━━━╇━━━━━━━━━━━━╇━━━━━━━━━╇━━━━━━━━╇━━━━━━╇━━━━━━┩\n",
       "│ chán ghét │ thích thú │ giận dữ │ ngạc nhiên │ buồn bã │ sợ hãi │ khác │ LOẠI │\n",
       "└───────────┴───────────┴─────────┴────────────┴─────────┴────────┴──────┴──────┘\n"
      ]
     },
     "metadata": {},
     "output_type": "display_data"
    },
    {
     "name": "stdout",
     "output_type": "stream",
     "text": [
      "\n",
      "Count:  54 \n",
      "\n",
      "Bạn nên giúp những người già và người đúng bị liệt thật sự mấy thèn này chuyên nghiệp mẹ ròi \n",
      "\n",
      "Tag: 2\n"
     ]
    },
    {
     "data": {
      "text/html": [
       "<pre style=\"white-space:pre;overflow-x:auto;line-height:normal;font-family:Menlo,'DejaVu Sans Mono',consolas,'Courier New',monospace\"><span style=\"font-style: italic\">                                     KEY TAG                                     </span>\n",
       "┏━━━━━━━━━━━┳━━━━━━━━━━━┳━━━━━━━━━┳━━━━━━━━━━━━┳━━━━━━━━━┳━━━━━━━━┳━━━━━━┳━━━━━━┓\n",
       "┃<span style=\"font-weight: bold\"> 0         </span>┃<span style=\"font-weight: bold\"> 1         </span>┃<span style=\"font-weight: bold\"> 2       </span>┃<span style=\"font-weight: bold\"> 3          </span>┃<span style=\"font-weight: bold\"> 4       </span>┃<span style=\"font-weight: bold\"> 5      </span>┃<span style=\"font-weight: bold\"> 6    </span>┃<span style=\"font-weight: bold\"> 7    </span>┃\n",
       "┡━━━━━━━━━━━╇━━━━━━━━━━━╇━━━━━━━━━╇━━━━━━━━━━━━╇━━━━━━━━━╇━━━━━━━━╇━━━━━━╇━━━━━━┩\n",
       "│ chán ghét │ thích thú │ giận dữ │ ngạc nhiên │ buồn bã │ sợ hãi │ khác │ LOẠI │\n",
       "└───────────┴───────────┴─────────┴────────────┴─────────┴────────┴──────┴──────┘\n",
       "</pre>\n"
      ],
      "text/plain": [
       "\u001b[3m                                     KEY TAG                                     \u001b[0m\n",
       "┏━━━━━━━━━━━┳━━━━━━━━━━━┳━━━━━━━━━┳━━━━━━━━━━━━┳━━━━━━━━━┳━━━━━━━━┳━━━━━━┳━━━━━━┓\n",
       "┃\u001b[1m \u001b[0m\u001b[1m0        \u001b[0m\u001b[1m \u001b[0m┃\u001b[1m \u001b[0m\u001b[1m1        \u001b[0m\u001b[1m \u001b[0m┃\u001b[1m \u001b[0m\u001b[1m2      \u001b[0m\u001b[1m \u001b[0m┃\u001b[1m \u001b[0m\u001b[1m3         \u001b[0m\u001b[1m \u001b[0m┃\u001b[1m \u001b[0m\u001b[1m4      \u001b[0m\u001b[1m \u001b[0m┃\u001b[1m \u001b[0m\u001b[1m5     \u001b[0m\u001b[1m \u001b[0m┃\u001b[1m \u001b[0m\u001b[1m6   \u001b[0m\u001b[1m \u001b[0m┃\u001b[1m \u001b[0m\u001b[1m7   \u001b[0m\u001b[1m \u001b[0m┃\n",
       "┡━━━━━━━━━━━╇━━━━━━━━━━━╇━━━━━━━━━╇━━━━━━━━━━━━╇━━━━━━━━━╇━━━━━━━━╇━━━━━━╇━━━━━━┩\n",
       "│ chán ghét │ thích thú │ giận dữ │ ngạc nhiên │ buồn bã │ sợ hãi │ khác │ LOẠI │\n",
       "└───────────┴───────────┴─────────┴────────────┴─────────┴────────┴──────┴──────┘\n"
      ]
     },
     "metadata": {},
     "output_type": "display_data"
    },
    {
     "name": "stdout",
     "output_type": "stream",
     "text": [
      "\n",
      "Count:  55 \n",
      "\n",
      "Cầu cho 2 con trúng vài tờ trong số đó để tụi con làm tự tiện \n",
      "\n",
      "Tag: 4\n"
     ]
    },
    {
     "data": {
      "text/html": [
       "<pre style=\"white-space:pre;overflow-x:auto;line-height:normal;font-family:Menlo,'DejaVu Sans Mono',consolas,'Courier New',monospace\"><span style=\"font-style: italic\">                                     KEY TAG                                     </span>\n",
       "┏━━━━━━━━━━━┳━━━━━━━━━━━┳━━━━━━━━━┳━━━━━━━━━━━━┳━━━━━━━━━┳━━━━━━━━┳━━━━━━┳━━━━━━┓\n",
       "┃<span style=\"font-weight: bold\"> 0         </span>┃<span style=\"font-weight: bold\"> 1         </span>┃<span style=\"font-weight: bold\"> 2       </span>┃<span style=\"font-weight: bold\"> 3          </span>┃<span style=\"font-weight: bold\"> 4       </span>┃<span style=\"font-weight: bold\"> 5      </span>┃<span style=\"font-weight: bold\"> 6    </span>┃<span style=\"font-weight: bold\"> 7    </span>┃\n",
       "┡━━━━━━━━━━━╇━━━━━━━━━━━╇━━━━━━━━━╇━━━━━━━━━━━━╇━━━━━━━━━╇━━━━━━━━╇━━━━━━╇━━━━━━┩\n",
       "│ chán ghét │ thích thú │ giận dữ │ ngạc nhiên │ buồn bã │ sợ hãi │ khác │ LOẠI │\n",
       "└───────────┴───────────┴─────────┴────────────┴─────────┴────────┴──────┴──────┘\n",
       "</pre>\n"
      ],
      "text/plain": [
       "\u001b[3m                                     KEY TAG                                     \u001b[0m\n",
       "┏━━━━━━━━━━━┳━━━━━━━━━━━┳━━━━━━━━━┳━━━━━━━━━━━━┳━━━━━━━━━┳━━━━━━━━┳━━━━━━┳━━━━━━┓\n",
       "┃\u001b[1m \u001b[0m\u001b[1m0        \u001b[0m\u001b[1m \u001b[0m┃\u001b[1m \u001b[0m\u001b[1m1        \u001b[0m\u001b[1m \u001b[0m┃\u001b[1m \u001b[0m\u001b[1m2      \u001b[0m\u001b[1m \u001b[0m┃\u001b[1m \u001b[0m\u001b[1m3         \u001b[0m\u001b[1m \u001b[0m┃\u001b[1m \u001b[0m\u001b[1m4      \u001b[0m\u001b[1m \u001b[0m┃\u001b[1m \u001b[0m\u001b[1m5     \u001b[0m\u001b[1m \u001b[0m┃\u001b[1m \u001b[0m\u001b[1m6   \u001b[0m\u001b[1m \u001b[0m┃\u001b[1m \u001b[0m\u001b[1m7   \u001b[0m\u001b[1m \u001b[0m┃\n",
       "┡━━━━━━━━━━━╇━━━━━━━━━━━╇━━━━━━━━━╇━━━━━━━━━━━━╇━━━━━━━━━╇━━━━━━━━╇━━━━━━╇━━━━━━┩\n",
       "│ chán ghét │ thích thú │ giận dữ │ ngạc nhiên │ buồn bã │ sợ hãi │ khác │ LOẠI │\n",
       "└───────────┴───────────┴─────────┴────────────┴─────────┴────────┴──────┴──────┘\n"
      ]
     },
     "metadata": {},
     "output_type": "display_data"
    },
    {
     "name": "stdout",
     "output_type": "stream",
     "text": [
      "\n",
      "Count:  56 \n",
      "\n",
      "Nhìn mặt đã ko tin rồi thích lợi dụng lòng tốt của ng khác trả sống đc tốt \n",
      "\n",
      "Tag: 6\n"
     ]
    },
    {
     "data": {
      "text/html": [
       "<pre style=\"white-space:pre;overflow-x:auto;line-height:normal;font-family:Menlo,'DejaVu Sans Mono',consolas,'Courier New',monospace\"><span style=\"font-style: italic\">                                     KEY TAG                                     </span>\n",
       "┏━━━━━━━━━━━┳━━━━━━━━━━━┳━━━━━━━━━┳━━━━━━━━━━━━┳━━━━━━━━━┳━━━━━━━━┳━━━━━━┳━━━━━━┓\n",
       "┃<span style=\"font-weight: bold\"> 0         </span>┃<span style=\"font-weight: bold\"> 1         </span>┃<span style=\"font-weight: bold\"> 2       </span>┃<span style=\"font-weight: bold\"> 3          </span>┃<span style=\"font-weight: bold\"> 4       </span>┃<span style=\"font-weight: bold\"> 5      </span>┃<span style=\"font-weight: bold\"> 6    </span>┃<span style=\"font-weight: bold\"> 7    </span>┃\n",
       "┡━━━━━━━━━━━╇━━━━━━━━━━━╇━━━━━━━━━╇━━━━━━━━━━━━╇━━━━━━━━━╇━━━━━━━━╇━━━━━━╇━━━━━━┩\n",
       "│ chán ghét │ thích thú │ giận dữ │ ngạc nhiên │ buồn bã │ sợ hãi │ khác │ LOẠI │\n",
       "└───────────┴───────────┴─────────┴────────────┴─────────┴────────┴──────┴──────┘\n",
       "</pre>\n"
      ],
      "text/plain": [
       "\u001b[3m                                     KEY TAG                                     \u001b[0m\n",
       "┏━━━━━━━━━━━┳━━━━━━━━━━━┳━━━━━━━━━┳━━━━━━━━━━━━┳━━━━━━━━━┳━━━━━━━━┳━━━━━━┳━━━━━━┓\n",
       "┃\u001b[1m \u001b[0m\u001b[1m0        \u001b[0m\u001b[1m \u001b[0m┃\u001b[1m \u001b[0m\u001b[1m1        \u001b[0m\u001b[1m \u001b[0m┃\u001b[1m \u001b[0m\u001b[1m2      \u001b[0m\u001b[1m \u001b[0m┃\u001b[1m \u001b[0m\u001b[1m3         \u001b[0m\u001b[1m \u001b[0m┃\u001b[1m \u001b[0m\u001b[1m4      \u001b[0m\u001b[1m \u001b[0m┃\u001b[1m \u001b[0m\u001b[1m5     \u001b[0m\u001b[1m \u001b[0m┃\u001b[1m \u001b[0m\u001b[1m6   \u001b[0m\u001b[1m \u001b[0m┃\u001b[1m \u001b[0m\u001b[1m7   \u001b[0m\u001b[1m \u001b[0m┃\n",
       "┡━━━━━━━━━━━╇━━━━━━━━━━━╇━━━━━━━━━╇━━━━━━━━━━━━╇━━━━━━━━━╇━━━━━━━━╇━━━━━━╇━━━━━━┩\n",
       "│ chán ghét │ thích thú │ giận dữ │ ngạc nhiên │ buồn bã │ sợ hãi │ khác │ LOẠI │\n",
       "└───────────┴───────────┴─────────┴────────────┴─────────┴────────┴──────┴──────┘\n"
      ]
     },
     "metadata": {},
     "output_type": "display_data"
    },
    {
     "name": "stdout",
     "output_type": "stream",
     "text": [
      "\n",
      "Count:  57 \n",
      "\n",
      "Dò vé số đi a , biết đâu trúng \n",
      "\n",
      "Tag: 4\n"
     ]
    },
    {
     "data": {
      "text/html": [
       "<pre style=\"white-space:pre;overflow-x:auto;line-height:normal;font-family:Menlo,'DejaVu Sans Mono',consolas,'Courier New',monospace\"><span style=\"font-style: italic\">                                     KEY TAG                                     </span>\n",
       "┏━━━━━━━━━━━┳━━━━━━━━━━━┳━━━━━━━━━┳━━━━━━━━━━━━┳━━━━━━━━━┳━━━━━━━━┳━━━━━━┳━━━━━━┓\n",
       "┃<span style=\"font-weight: bold\"> 0         </span>┃<span style=\"font-weight: bold\"> 1         </span>┃<span style=\"font-weight: bold\"> 2       </span>┃<span style=\"font-weight: bold\"> 3          </span>┃<span style=\"font-weight: bold\"> 4       </span>┃<span style=\"font-weight: bold\"> 5      </span>┃<span style=\"font-weight: bold\"> 6    </span>┃<span style=\"font-weight: bold\"> 7    </span>┃\n",
       "┡━━━━━━━━━━━╇━━━━━━━━━━━╇━━━━━━━━━╇━━━━━━━━━━━━╇━━━━━━━━━╇━━━━━━━━╇━━━━━━╇━━━━━━┩\n",
       "│ chán ghét │ thích thú │ giận dữ │ ngạc nhiên │ buồn bã │ sợ hãi │ khác │ LOẠI │\n",
       "└───────────┴───────────┴─────────┴────────────┴─────────┴────────┴──────┴──────┘\n",
       "</pre>\n"
      ],
      "text/plain": [
       "\u001b[3m                                     KEY TAG                                     \u001b[0m\n",
       "┏━━━━━━━━━━━┳━━━━━━━━━━━┳━━━━━━━━━┳━━━━━━━━━━━━┳━━━━━━━━━┳━━━━━━━━┳━━━━━━┳━━━━━━┓\n",
       "┃\u001b[1m \u001b[0m\u001b[1m0        \u001b[0m\u001b[1m \u001b[0m┃\u001b[1m \u001b[0m\u001b[1m1        \u001b[0m\u001b[1m \u001b[0m┃\u001b[1m \u001b[0m\u001b[1m2      \u001b[0m\u001b[1m \u001b[0m┃\u001b[1m \u001b[0m\u001b[1m3         \u001b[0m\u001b[1m \u001b[0m┃\u001b[1m \u001b[0m\u001b[1m4      \u001b[0m\u001b[1m \u001b[0m┃\u001b[1m \u001b[0m\u001b[1m5     \u001b[0m\u001b[1m \u001b[0m┃\u001b[1m \u001b[0m\u001b[1m6   \u001b[0m\u001b[1m \u001b[0m┃\u001b[1m \u001b[0m\u001b[1m7   \u001b[0m\u001b[1m \u001b[0m┃\n",
       "┡━━━━━━━━━━━╇━━━━━━━━━━━╇━━━━━━━━━╇━━━━━━━━━━━━╇━━━━━━━━━╇━━━━━━━━╇━━━━━━╇━━━━━━┩\n",
       "│ chán ghét │ thích thú │ giận dữ │ ngạc nhiên │ buồn bã │ sợ hãi │ khác │ LOẠI │\n",
       "└───────────┴───────────┴─────────┴────────────┴─────────┴────────┴──────┴──────┘\n"
      ]
     },
     "metadata": {},
     "output_type": "display_data"
    },
    {
     "name": "stdout",
     "output_type": "stream",
     "text": [
      "\n",
      "Count:  58 \n",
      "\n",
      "thương a Trọng ❤ \n",
      "\n",
      "Tag: 4\n"
     ]
    },
    {
     "data": {
      "text/html": [
       "<pre style=\"white-space:pre;overflow-x:auto;line-height:normal;font-family:Menlo,'DejaVu Sans Mono',consolas,'Courier New',monospace\"><span style=\"font-style: italic\">                                     KEY TAG                                     </span>\n",
       "┏━━━━━━━━━━━┳━━━━━━━━━━━┳━━━━━━━━━┳━━━━━━━━━━━━┳━━━━━━━━━┳━━━━━━━━┳━━━━━━┳━━━━━━┓\n",
       "┃<span style=\"font-weight: bold\"> 0         </span>┃<span style=\"font-weight: bold\"> 1         </span>┃<span style=\"font-weight: bold\"> 2       </span>┃<span style=\"font-weight: bold\"> 3          </span>┃<span style=\"font-weight: bold\"> 4       </span>┃<span style=\"font-weight: bold\"> 5      </span>┃<span style=\"font-weight: bold\"> 6    </span>┃<span style=\"font-weight: bold\"> 7    </span>┃\n",
       "┡━━━━━━━━━━━╇━━━━━━━━━━━╇━━━━━━━━━╇━━━━━━━━━━━━╇━━━━━━━━━╇━━━━━━━━╇━━━━━━╇━━━━━━┩\n",
       "│ chán ghét │ thích thú │ giận dữ │ ngạc nhiên │ buồn bã │ sợ hãi │ khác │ LOẠI │\n",
       "└───────────┴───────────┴─────────┴────────────┴─────────┴────────┴──────┴──────┘\n",
       "</pre>\n"
      ],
      "text/plain": [
       "\u001b[3m                                     KEY TAG                                     \u001b[0m\n",
       "┏━━━━━━━━━━━┳━━━━━━━━━━━┳━━━━━━━━━┳━━━━━━━━━━━━┳━━━━━━━━━┳━━━━━━━━┳━━━━━━┳━━━━━━┓\n",
       "┃\u001b[1m \u001b[0m\u001b[1m0        \u001b[0m\u001b[1m \u001b[0m┃\u001b[1m \u001b[0m\u001b[1m1        \u001b[0m\u001b[1m \u001b[0m┃\u001b[1m \u001b[0m\u001b[1m2      \u001b[0m\u001b[1m \u001b[0m┃\u001b[1m \u001b[0m\u001b[1m3         \u001b[0m\u001b[1m \u001b[0m┃\u001b[1m \u001b[0m\u001b[1m4      \u001b[0m\u001b[1m \u001b[0m┃\u001b[1m \u001b[0m\u001b[1m5     \u001b[0m\u001b[1m \u001b[0m┃\u001b[1m \u001b[0m\u001b[1m6   \u001b[0m\u001b[1m \u001b[0m┃\u001b[1m \u001b[0m\u001b[1m7   \u001b[0m\u001b[1m \u001b[0m┃\n",
       "┡━━━━━━━━━━━╇━━━━━━━━━━━╇━━━━━━━━━╇━━━━━━━━━━━━╇━━━━━━━━━╇━━━━━━━━╇━━━━━━╇━━━━━━┩\n",
       "│ chán ghét │ thích thú │ giận dữ │ ngạc nhiên │ buồn bã │ sợ hãi │ khác │ LOẠI │\n",
       "└───────────┴───────────┴─────────┴────────────┴─────────┴────────┴──────┴──────┘\n"
      ]
     },
     "metadata": {},
     "output_type": "display_data"
    },
    {
     "name": "stdout",
     "output_type": "stream",
     "text": [
      "\n",
      "Count:  59 \n",
      "\n",
      "Nếu lần sau thế nào cũng gặp lại sao em ơi,,chúc hai em luôn khỏe mạnh và bình an giống như lon lưng \n",
      "\n",
      "Tag: 6\n"
     ]
    },
    {
     "data": {
      "text/html": [
       "<pre style=\"white-space:pre;overflow-x:auto;line-height:normal;font-family:Menlo,'DejaVu Sans Mono',consolas,'Courier New',monospace\"><span style=\"font-style: italic\">                                     KEY TAG                                     </span>\n",
       "┏━━━━━━━━━━━┳━━━━━━━━━━━┳━━━━━━━━━┳━━━━━━━━━━━━┳━━━━━━━━━┳━━━━━━━━┳━━━━━━┳━━━━━━┓\n",
       "┃<span style=\"font-weight: bold\"> 0         </span>┃<span style=\"font-weight: bold\"> 1         </span>┃<span style=\"font-weight: bold\"> 2       </span>┃<span style=\"font-weight: bold\"> 3          </span>┃<span style=\"font-weight: bold\"> 4       </span>┃<span style=\"font-weight: bold\"> 5      </span>┃<span style=\"font-weight: bold\"> 6    </span>┃<span style=\"font-weight: bold\"> 7    </span>┃\n",
       "┡━━━━━━━━━━━╇━━━━━━━━━━━╇━━━━━━━━━╇━━━━━━━━━━━━╇━━━━━━━━━╇━━━━━━━━╇━━━━━━╇━━━━━━┩\n",
       "│ chán ghét │ thích thú │ giận dữ │ ngạc nhiên │ buồn bã │ sợ hãi │ khác │ LOẠI │\n",
       "└───────────┴───────────┴─────────┴────────────┴─────────┴────────┴──────┴──────┘\n",
       "</pre>\n"
      ],
      "text/plain": [
       "\u001b[3m                                     KEY TAG                                     \u001b[0m\n",
       "┏━━━━━━━━━━━┳━━━━━━━━━━━┳━━━━━━━━━┳━━━━━━━━━━━━┳━━━━━━━━━┳━━━━━━━━┳━━━━━━┳━━━━━━┓\n",
       "┃\u001b[1m \u001b[0m\u001b[1m0        \u001b[0m\u001b[1m \u001b[0m┃\u001b[1m \u001b[0m\u001b[1m1        \u001b[0m\u001b[1m \u001b[0m┃\u001b[1m \u001b[0m\u001b[1m2      \u001b[0m\u001b[1m \u001b[0m┃\u001b[1m \u001b[0m\u001b[1m3         \u001b[0m\u001b[1m \u001b[0m┃\u001b[1m \u001b[0m\u001b[1m4      \u001b[0m\u001b[1m \u001b[0m┃\u001b[1m \u001b[0m\u001b[1m5     \u001b[0m\u001b[1m \u001b[0m┃\u001b[1m \u001b[0m\u001b[1m6   \u001b[0m\u001b[1m \u001b[0m┃\u001b[1m \u001b[0m\u001b[1m7   \u001b[0m\u001b[1m \u001b[0m┃\n",
       "┡━━━━━━━━━━━╇━━━━━━━━━━━╇━━━━━━━━━╇━━━━━━━━━━━━╇━━━━━━━━━╇━━━━━━━━╇━━━━━━╇━━━━━━┩\n",
       "│ chán ghét │ thích thú │ giận dữ │ ngạc nhiên │ buồn bã │ sợ hãi │ khác │ LOẠI │\n",
       "└───────────┴───────────┴─────────┴────────────┴─────────┴────────┴──────┴──────┘\n"
      ]
     },
     "metadata": {},
     "output_type": "display_data"
    },
    {
     "name": "stdout",
     "output_type": "stream",
     "text": [
      "\n",
      "Count:  60 \n",
      "\n",
      "Gì tiền mà lòng người khó lường.tội nghiệp cho 2 em gì thường người mà bị lừa tội nghiệp.. \n",
      "\n",
      "Tag: 4\n"
     ]
    },
    {
     "data": {
      "text/html": [
       "<pre style=\"white-space:pre;overflow-x:auto;line-height:normal;font-family:Menlo,'DejaVu Sans Mono',consolas,'Courier New',monospace\"><span style=\"font-style: italic\">                                     KEY TAG                                     </span>\n",
       "┏━━━━━━━━━━━┳━━━━━━━━━━━┳━━━━━━━━━┳━━━━━━━━━━━━┳━━━━━━━━━┳━━━━━━━━┳━━━━━━┳━━━━━━┓\n",
       "┃<span style=\"font-weight: bold\"> 0         </span>┃<span style=\"font-weight: bold\"> 1         </span>┃<span style=\"font-weight: bold\"> 2       </span>┃<span style=\"font-weight: bold\"> 3          </span>┃<span style=\"font-weight: bold\"> 4       </span>┃<span style=\"font-weight: bold\"> 5      </span>┃<span style=\"font-weight: bold\"> 6    </span>┃<span style=\"font-weight: bold\"> 7    </span>┃\n",
       "┡━━━━━━━━━━━╇━━━━━━━━━━━╇━━━━━━━━━╇━━━━━━━━━━━━╇━━━━━━━━━╇━━━━━━━━╇━━━━━━╇━━━━━━┩\n",
       "│ chán ghét │ thích thú │ giận dữ │ ngạc nhiên │ buồn bã │ sợ hãi │ khác │ LOẠI │\n",
       "└───────────┴───────────┴─────────┴────────────┴─────────┴────────┴──────┴──────┘\n",
       "</pre>\n"
      ],
      "text/plain": [
       "\u001b[3m                                     KEY TAG                                     \u001b[0m\n",
       "┏━━━━━━━━━━━┳━━━━━━━━━━━┳━━━━━━━━━┳━━━━━━━━━━━━┳━━━━━━━━━┳━━━━━━━━┳━━━━━━┳━━━━━━┓\n",
       "┃\u001b[1m \u001b[0m\u001b[1m0        \u001b[0m\u001b[1m \u001b[0m┃\u001b[1m \u001b[0m\u001b[1m1        \u001b[0m\u001b[1m \u001b[0m┃\u001b[1m \u001b[0m\u001b[1m2      \u001b[0m\u001b[1m \u001b[0m┃\u001b[1m \u001b[0m\u001b[1m3         \u001b[0m\u001b[1m \u001b[0m┃\u001b[1m \u001b[0m\u001b[1m4      \u001b[0m\u001b[1m \u001b[0m┃\u001b[1m \u001b[0m\u001b[1m5     \u001b[0m\u001b[1m \u001b[0m┃\u001b[1m \u001b[0m\u001b[1m6   \u001b[0m\u001b[1m \u001b[0m┃\u001b[1m \u001b[0m\u001b[1m7   \u001b[0m\u001b[1m \u001b[0m┃\n",
       "┡━━━━━━━━━━━╇━━━━━━━━━━━╇━━━━━━━━━╇━━━━━━━━━━━━╇━━━━━━━━━╇━━━━━━━━╇━━━━━━╇━━━━━━┩\n",
       "│ chán ghét │ thích thú │ giận dữ │ ngạc nhiên │ buồn bã │ sợ hãi │ khác │ LOẠI │\n",
       "└───────────┴───────────┴─────────┴────────────┴─────────┴────────┴──────┴──────┘\n"
      ]
     },
     "metadata": {},
     "output_type": "display_data"
    },
    {
     "name": "stdout",
     "output_type": "stream",
     "text": [
      "\n",
      "Count:  61 \n",
      "\n",
      "Tức nhất là bà kia chen lại khi rượt đuổi \n",
      "\n",
      "Tag: 2\n"
     ]
    },
    {
     "data": {
      "text/html": [
       "<pre style=\"white-space:pre;overflow-x:auto;line-height:normal;font-family:Menlo,'DejaVu Sans Mono',consolas,'Courier New',monospace\"><span style=\"font-style: italic\">                                     KEY TAG                                     </span>\n",
       "┏━━━━━━━━━━━┳━━━━━━━━━━━┳━━━━━━━━━┳━━━━━━━━━━━━┳━━━━━━━━━┳━━━━━━━━┳━━━━━━┳━━━━━━┓\n",
       "┃<span style=\"font-weight: bold\"> 0         </span>┃<span style=\"font-weight: bold\"> 1         </span>┃<span style=\"font-weight: bold\"> 2       </span>┃<span style=\"font-weight: bold\"> 3          </span>┃<span style=\"font-weight: bold\"> 4       </span>┃<span style=\"font-weight: bold\"> 5      </span>┃<span style=\"font-weight: bold\"> 6    </span>┃<span style=\"font-weight: bold\"> 7    </span>┃\n",
       "┡━━━━━━━━━━━╇━━━━━━━━━━━╇━━━━━━━━━╇━━━━━━━━━━━━╇━━━━━━━━━╇━━━━━━━━╇━━━━━━╇━━━━━━┩\n",
       "│ chán ghét │ thích thú │ giận dữ │ ngạc nhiên │ buồn bã │ sợ hãi │ khác │ LOẠI │\n",
       "└───────────┴───────────┴─────────┴────────────┴─────────┴────────┴──────┴──────┘\n",
       "</pre>\n"
      ],
      "text/plain": [
       "\u001b[3m                                     KEY TAG                                     \u001b[0m\n",
       "┏━━━━━━━━━━━┳━━━━━━━━━━━┳━━━━━━━━━┳━━━━━━━━━━━━┳━━━━━━━━━┳━━━━━━━━┳━━━━━━┳━━━━━━┓\n",
       "┃\u001b[1m \u001b[0m\u001b[1m0        \u001b[0m\u001b[1m \u001b[0m┃\u001b[1m \u001b[0m\u001b[1m1        \u001b[0m\u001b[1m \u001b[0m┃\u001b[1m \u001b[0m\u001b[1m2      \u001b[0m\u001b[1m \u001b[0m┃\u001b[1m \u001b[0m\u001b[1m3         \u001b[0m\u001b[1m \u001b[0m┃\u001b[1m \u001b[0m\u001b[1m4      \u001b[0m\u001b[1m \u001b[0m┃\u001b[1m \u001b[0m\u001b[1m5     \u001b[0m\u001b[1m \u001b[0m┃\u001b[1m \u001b[0m\u001b[1m6   \u001b[0m\u001b[1m \u001b[0m┃\u001b[1m \u001b[0m\u001b[1m7   \u001b[0m\u001b[1m \u001b[0m┃\n",
       "┡━━━━━━━━━━━╇━━━━━━━━━━━╇━━━━━━━━━╇━━━━━━━━━━━━╇━━━━━━━━━╇━━━━━━━━╇━━━━━━╇━━━━━━┩\n",
       "│ chán ghét │ thích thú │ giận dữ │ ngạc nhiên │ buồn bã │ sợ hãi │ khác │ LOẠI │\n",
       "└───────────┴───────────┴─────────┴────────────┴─────────┴────────┴──────┴──────┘\n"
      ]
     },
     "metadata": {},
     "output_type": "display_data"
    },
    {
     "name": "stdout",
     "output_type": "stream",
     "text": [
      "\n",
      "Count:  62 \n",
      "\n",
      "Thích Khoa. ghê \n",
      "\n",
      "Tag: 6\n"
     ]
    },
    {
     "data": {
      "text/html": [
       "<pre style=\"white-space:pre;overflow-x:auto;line-height:normal;font-family:Menlo,'DejaVu Sans Mono',consolas,'Courier New',monospace\"><span style=\"font-style: italic\">                                     KEY TAG                                     </span>\n",
       "┏━━━━━━━━━━━┳━━━━━━━━━━━┳━━━━━━━━━┳━━━━━━━━━━━━┳━━━━━━━━━┳━━━━━━━━┳━━━━━━┳━━━━━━┓\n",
       "┃<span style=\"font-weight: bold\"> 0         </span>┃<span style=\"font-weight: bold\"> 1         </span>┃<span style=\"font-weight: bold\"> 2       </span>┃<span style=\"font-weight: bold\"> 3          </span>┃<span style=\"font-weight: bold\"> 4       </span>┃<span style=\"font-weight: bold\"> 5      </span>┃<span style=\"font-weight: bold\"> 6    </span>┃<span style=\"font-weight: bold\"> 7    </span>┃\n",
       "┡━━━━━━━━━━━╇━━━━━━━━━━━╇━━━━━━━━━╇━━━━━━━━━━━━╇━━━━━━━━━╇━━━━━━━━╇━━━━━━╇━━━━━━┩\n",
       "│ chán ghét │ thích thú │ giận dữ │ ngạc nhiên │ buồn bã │ sợ hãi │ khác │ LOẠI │\n",
       "└───────────┴───────────┴─────────┴────────────┴─────────┴────────┴──────┴──────┘\n",
       "</pre>\n"
      ],
      "text/plain": [
       "\u001b[3m                                     KEY TAG                                     \u001b[0m\n",
       "┏━━━━━━━━━━━┳━━━━━━━━━━━┳━━━━━━━━━┳━━━━━━━━━━━━┳━━━━━━━━━┳━━━━━━━━┳━━━━━━┳━━━━━━┓\n",
       "┃\u001b[1m \u001b[0m\u001b[1m0        \u001b[0m\u001b[1m \u001b[0m┃\u001b[1m \u001b[0m\u001b[1m1        \u001b[0m\u001b[1m \u001b[0m┃\u001b[1m \u001b[0m\u001b[1m2      \u001b[0m\u001b[1m \u001b[0m┃\u001b[1m \u001b[0m\u001b[1m3         \u001b[0m\u001b[1m \u001b[0m┃\u001b[1m \u001b[0m\u001b[1m4      \u001b[0m\u001b[1m \u001b[0m┃\u001b[1m \u001b[0m\u001b[1m5     \u001b[0m\u001b[1m \u001b[0m┃\u001b[1m \u001b[0m\u001b[1m6   \u001b[0m\u001b[1m \u001b[0m┃\u001b[1m \u001b[0m\u001b[1m7   \u001b[0m\u001b[1m \u001b[0m┃\n",
       "┡━━━━━━━━━━━╇━━━━━━━━━━━╇━━━━━━━━━╇━━━━━━━━━━━━╇━━━━━━━━━╇━━━━━━━━╇━━━━━━╇━━━━━━┩\n",
       "│ chán ghét │ thích thú │ giận dữ │ ngạc nhiên │ buồn bã │ sợ hãi │ khác │ LOẠI │\n",
       "└───────────┴───────────┴─────────┴────────────┴─────────┴────────┴──────┴──────┘\n"
      ]
     },
     "metadata": {},
     "output_type": "display_data"
    },
    {
     "name": "stdout",
     "output_type": "stream",
     "text": [
      "\n",
      "Count:  63 \n",
      "\n",
      "Coi chừng xem vé số giả luôn hok chừng à \n",
      "\n",
      "Tag: 4\n"
     ]
    },
    {
     "data": {
      "text/html": [
       "<pre style=\"white-space:pre;overflow-x:auto;line-height:normal;font-family:Menlo,'DejaVu Sans Mono',consolas,'Courier New',monospace\"><span style=\"font-style: italic\">                                     KEY TAG                                     </span>\n",
       "┏━━━━━━━━━━━┳━━━━━━━━━━━┳━━━━━━━━━┳━━━━━━━━━━━━┳━━━━━━━━━┳━━━━━━━━┳━━━━━━┳━━━━━━┓\n",
       "┃<span style=\"font-weight: bold\"> 0         </span>┃<span style=\"font-weight: bold\"> 1         </span>┃<span style=\"font-weight: bold\"> 2       </span>┃<span style=\"font-weight: bold\"> 3          </span>┃<span style=\"font-weight: bold\"> 4       </span>┃<span style=\"font-weight: bold\"> 5      </span>┃<span style=\"font-weight: bold\"> 6    </span>┃<span style=\"font-weight: bold\"> 7    </span>┃\n",
       "┡━━━━━━━━━━━╇━━━━━━━━━━━╇━━━━━━━━━╇━━━━━━━━━━━━╇━━━━━━━━━╇━━━━━━━━╇━━━━━━╇━━━━━━┩\n",
       "│ chán ghét │ thích thú │ giận dữ │ ngạc nhiên │ buồn bã │ sợ hãi │ khác │ LOẠI │\n",
       "└───────────┴───────────┴─────────┴────────────┴─────────┴────────┴──────┴──────┘\n",
       "</pre>\n"
      ],
      "text/plain": [
       "\u001b[3m                                     KEY TAG                                     \u001b[0m\n",
       "┏━━━━━━━━━━━┳━━━━━━━━━━━┳━━━━━━━━━┳━━━━━━━━━━━━┳━━━━━━━━━┳━━━━━━━━┳━━━━━━┳━━━━━━┓\n",
       "┃\u001b[1m \u001b[0m\u001b[1m0        \u001b[0m\u001b[1m \u001b[0m┃\u001b[1m \u001b[0m\u001b[1m1        \u001b[0m\u001b[1m \u001b[0m┃\u001b[1m \u001b[0m\u001b[1m2      \u001b[0m\u001b[1m \u001b[0m┃\u001b[1m \u001b[0m\u001b[1m3         \u001b[0m\u001b[1m \u001b[0m┃\u001b[1m \u001b[0m\u001b[1m4      \u001b[0m\u001b[1m \u001b[0m┃\u001b[1m \u001b[0m\u001b[1m5     \u001b[0m\u001b[1m \u001b[0m┃\u001b[1m \u001b[0m\u001b[1m6   \u001b[0m\u001b[1m \u001b[0m┃\u001b[1m \u001b[0m\u001b[1m7   \u001b[0m\u001b[1m \u001b[0m┃\n",
       "┡━━━━━━━━━━━╇━━━━━━━━━━━╇━━━━━━━━━╇━━━━━━━━━━━━╇━━━━━━━━━╇━━━━━━━━╇━━━━━━╇━━━━━━┩\n",
       "│ chán ghét │ thích thú │ giận dữ │ ngạc nhiên │ buồn bã │ sợ hãi │ khác │ LOẠI │\n",
       "└───────────┴───────────┴─────────┴────────────┴─────────┴────────┴──────┴──────┘\n"
      ]
     },
     "metadata": {},
     "output_type": "display_data"
    },
    {
     "name": "stdout",
     "output_type": "stream",
     "text": [
      "\n",
      "Count:  64 \n",
      "\n",
      "Cám ơn những chàng trai ....nho các em mà biết được những kẻ ăn xin này \n",
      "\n",
      "Tag: 4\n"
     ]
    },
    {
     "data": {
      "text/html": [
       "<pre style=\"white-space:pre;overflow-x:auto;line-height:normal;font-family:Menlo,'DejaVu Sans Mono',consolas,'Courier New',monospace\"><span style=\"font-style: italic\">                                     KEY TAG                                     </span>\n",
       "┏━━━━━━━━━━━┳━━━━━━━━━━━┳━━━━━━━━━┳━━━━━━━━━━━━┳━━━━━━━━━┳━━━━━━━━┳━━━━━━┳━━━━━━┓\n",
       "┃<span style=\"font-weight: bold\"> 0         </span>┃<span style=\"font-weight: bold\"> 1         </span>┃<span style=\"font-weight: bold\"> 2       </span>┃<span style=\"font-weight: bold\"> 3          </span>┃<span style=\"font-weight: bold\"> 4       </span>┃<span style=\"font-weight: bold\"> 5      </span>┃<span style=\"font-weight: bold\"> 6    </span>┃<span style=\"font-weight: bold\"> 7    </span>┃\n",
       "┡━━━━━━━━━━━╇━━━━━━━━━━━╇━━━━━━━━━╇━━━━━━━━━━━━╇━━━━━━━━━╇━━━━━━━━╇━━━━━━╇━━━━━━┩\n",
       "│ chán ghét │ thích thú │ giận dữ │ ngạc nhiên │ buồn bã │ sợ hãi │ khác │ LOẠI │\n",
       "└───────────┴───────────┴─────────┴────────────┴─────────┴────────┴──────┴──────┘\n",
       "</pre>\n"
      ],
      "text/plain": [
       "\u001b[3m                                     KEY TAG                                     \u001b[0m\n",
       "┏━━━━━━━━━━━┳━━━━━━━━━━━┳━━━━━━━━━┳━━━━━━━━━━━━┳━━━━━━━━━┳━━━━━━━━┳━━━━━━┳━━━━━━┓\n",
       "┃\u001b[1m \u001b[0m\u001b[1m0        \u001b[0m\u001b[1m \u001b[0m┃\u001b[1m \u001b[0m\u001b[1m1        \u001b[0m\u001b[1m \u001b[0m┃\u001b[1m \u001b[0m\u001b[1m2      \u001b[0m\u001b[1m \u001b[0m┃\u001b[1m \u001b[0m\u001b[1m3         \u001b[0m\u001b[1m \u001b[0m┃\u001b[1m \u001b[0m\u001b[1m4      \u001b[0m\u001b[1m \u001b[0m┃\u001b[1m \u001b[0m\u001b[1m5     \u001b[0m\u001b[1m \u001b[0m┃\u001b[1m \u001b[0m\u001b[1m6   \u001b[0m\u001b[1m \u001b[0m┃\u001b[1m \u001b[0m\u001b[1m7   \u001b[0m\u001b[1m \u001b[0m┃\n",
       "┡━━━━━━━━━━━╇━━━━━━━━━━━╇━━━━━━━━━╇━━━━━━━━━━━━╇━━━━━━━━━╇━━━━━━━━╇━━━━━━╇━━━━━━┩\n",
       "│ chán ghét │ thích thú │ giận dữ │ ngạc nhiên │ buồn bã │ sợ hãi │ khác │ LOẠI │\n",
       "└───────────┴───────────┴─────────┴────────────┴─────────┴────────┴──────┴──────┘\n"
      ]
     },
     "metadata": {},
     "output_type": "display_data"
    },
    {
     "name": "stdout",
     "output_type": "stream",
     "text": [
      "\n",
      "Count:  65 \n",
      "\n",
      "Ung hộ 2 em trai💯💯💯💯💯💯 \n",
      "\n",
      "Tag: 1\n"
     ]
    },
    {
     "data": {
      "text/html": [
       "<pre style=\"white-space:pre;overflow-x:auto;line-height:normal;font-family:Menlo,'DejaVu Sans Mono',consolas,'Courier New',monospace\"><span style=\"font-style: italic\">                                     KEY TAG                                     </span>\n",
       "┏━━━━━━━━━━━┳━━━━━━━━━━━┳━━━━━━━━━┳━━━━━━━━━━━━┳━━━━━━━━━┳━━━━━━━━┳━━━━━━┳━━━━━━┓\n",
       "┃<span style=\"font-weight: bold\"> 0         </span>┃<span style=\"font-weight: bold\"> 1         </span>┃<span style=\"font-weight: bold\"> 2       </span>┃<span style=\"font-weight: bold\"> 3          </span>┃<span style=\"font-weight: bold\"> 4       </span>┃<span style=\"font-weight: bold\"> 5      </span>┃<span style=\"font-weight: bold\"> 6    </span>┃<span style=\"font-weight: bold\"> 7    </span>┃\n",
       "┡━━━━━━━━━━━╇━━━━━━━━━━━╇━━━━━━━━━╇━━━━━━━━━━━━╇━━━━━━━━━╇━━━━━━━━╇━━━━━━╇━━━━━━┩\n",
       "│ chán ghét │ thích thú │ giận dữ │ ngạc nhiên │ buồn bã │ sợ hãi │ khác │ LOẠI │\n",
       "└───────────┴───────────┴─────────┴────────────┴─────────┴────────┴──────┴──────┘\n",
       "</pre>\n"
      ],
      "text/plain": [
       "\u001b[3m                                     KEY TAG                                     \u001b[0m\n",
       "┏━━━━━━━━━━━┳━━━━━━━━━━━┳━━━━━━━━━┳━━━━━━━━━━━━┳━━━━━━━━━┳━━━━━━━━┳━━━━━━┳━━━━━━┓\n",
       "┃\u001b[1m \u001b[0m\u001b[1m0        \u001b[0m\u001b[1m \u001b[0m┃\u001b[1m \u001b[0m\u001b[1m1        \u001b[0m\u001b[1m \u001b[0m┃\u001b[1m \u001b[0m\u001b[1m2      \u001b[0m\u001b[1m \u001b[0m┃\u001b[1m \u001b[0m\u001b[1m3         \u001b[0m\u001b[1m \u001b[0m┃\u001b[1m \u001b[0m\u001b[1m4      \u001b[0m\u001b[1m \u001b[0m┃\u001b[1m \u001b[0m\u001b[1m5     \u001b[0m\u001b[1m \u001b[0m┃\u001b[1m \u001b[0m\u001b[1m6   \u001b[0m\u001b[1m \u001b[0m┃\u001b[1m \u001b[0m\u001b[1m7   \u001b[0m\u001b[1m \u001b[0m┃\n",
       "┡━━━━━━━━━━━╇━━━━━━━━━━━╇━━━━━━━━━╇━━━━━━━━━━━━╇━━━━━━━━━╇━━━━━━━━╇━━━━━━╇━━━━━━┩\n",
       "│ chán ghét │ thích thú │ giận dữ │ ngạc nhiên │ buồn bã │ sợ hãi │ khác │ LOẠI │\n",
       "└───────────┴───────────┴─────────┴────────────┴─────────┴────────┴──────┴──────┘\n"
      ]
     },
     "metadata": {},
     "output_type": "display_data"
    },
    {
     "name": "stdout",
     "output_type": "stream",
     "text": [
      "\n",
      "Count:  66 \n",
      "\n",
      "2 em quá tốt \n",
      "\n",
      "Tag: 3\n"
     ]
    },
    {
     "data": {
      "text/html": [
       "<pre style=\"white-space:pre;overflow-x:auto;line-height:normal;font-family:Menlo,'DejaVu Sans Mono',consolas,'Courier New',monospace\"><span style=\"font-style: italic\">                                     KEY TAG                                     </span>\n",
       "┏━━━━━━━━━━━┳━━━━━━━━━━━┳━━━━━━━━━┳━━━━━━━━━━━━┳━━━━━━━━━┳━━━━━━━━┳━━━━━━┳━━━━━━┓\n",
       "┃<span style=\"font-weight: bold\"> 0         </span>┃<span style=\"font-weight: bold\"> 1         </span>┃<span style=\"font-weight: bold\"> 2       </span>┃<span style=\"font-weight: bold\"> 3          </span>┃<span style=\"font-weight: bold\"> 4       </span>┃<span style=\"font-weight: bold\"> 5      </span>┃<span style=\"font-weight: bold\"> 6    </span>┃<span style=\"font-weight: bold\"> 7    </span>┃\n",
       "┡━━━━━━━━━━━╇━━━━━━━━━━━╇━━━━━━━━━╇━━━━━━━━━━━━╇━━━━━━━━━╇━━━━━━━━╇━━━━━━╇━━━━━━┩\n",
       "│ chán ghét │ thích thú │ giận dữ │ ngạc nhiên │ buồn bã │ sợ hãi │ khác │ LOẠI │\n",
       "└───────────┴───────────┴─────────┴────────────┴─────────┴────────┴──────┴──────┘\n",
       "</pre>\n"
      ],
      "text/plain": [
       "\u001b[3m                                     KEY TAG                                     \u001b[0m\n",
       "┏━━━━━━━━━━━┳━━━━━━━━━━━┳━━━━━━━━━┳━━━━━━━━━━━━┳━━━━━━━━━┳━━━━━━━━┳━━━━━━┳━━━━━━┓\n",
       "┃\u001b[1m \u001b[0m\u001b[1m0        \u001b[0m\u001b[1m \u001b[0m┃\u001b[1m \u001b[0m\u001b[1m1        \u001b[0m\u001b[1m \u001b[0m┃\u001b[1m \u001b[0m\u001b[1m2      \u001b[0m\u001b[1m \u001b[0m┃\u001b[1m \u001b[0m\u001b[1m3         \u001b[0m\u001b[1m \u001b[0m┃\u001b[1m \u001b[0m\u001b[1m4      \u001b[0m\u001b[1m \u001b[0m┃\u001b[1m \u001b[0m\u001b[1m5     \u001b[0m\u001b[1m \u001b[0m┃\u001b[1m \u001b[0m\u001b[1m6   \u001b[0m\u001b[1m \u001b[0m┃\u001b[1m \u001b[0m\u001b[1m7   \u001b[0m\u001b[1m \u001b[0m┃\n",
       "┡━━━━━━━━━━━╇━━━━━━━━━━━╇━━━━━━━━━╇━━━━━━━━━━━━╇━━━━━━━━━╇━━━━━━━━╇━━━━━━╇━━━━━━┩\n",
       "│ chán ghét │ thích thú │ giận dữ │ ngạc nhiên │ buồn bã │ sợ hãi │ khác │ LOẠI │\n",
       "└───────────┴───────────┴─────────┴────────────┴─────────┴────────┴──────┴──────┘\n"
      ]
     },
     "metadata": {},
     "output_type": "display_data"
    },
    {
     "name": "stdout",
     "output_type": "stream",
     "text": [
      "\n",
      "Count:  67 \n",
      "\n",
      "Thui hai em ơi nó thích què. Lại lừa hai e như vậy. Nó sẽ gặp hậu quả rùi bị què luôn đó. Chúc hai e khoẻ làm điều nhiều tốt \n",
      "\n",
      "Tag: 4\n"
     ]
    },
    {
     "data": {
      "text/html": [
       "<pre style=\"white-space:pre;overflow-x:auto;line-height:normal;font-family:Menlo,'DejaVu Sans Mono',consolas,'Courier New',monospace\"><span style=\"font-style: italic\">                                     KEY TAG                                     </span>\n",
       "┏━━━━━━━━━━━┳━━━━━━━━━━━┳━━━━━━━━━┳━━━━━━━━━━━━┳━━━━━━━━━┳━━━━━━━━┳━━━━━━┳━━━━━━┓\n",
       "┃<span style=\"font-weight: bold\"> 0         </span>┃<span style=\"font-weight: bold\"> 1         </span>┃<span style=\"font-weight: bold\"> 2       </span>┃<span style=\"font-weight: bold\"> 3          </span>┃<span style=\"font-weight: bold\"> 4       </span>┃<span style=\"font-weight: bold\"> 5      </span>┃<span style=\"font-weight: bold\"> 6    </span>┃<span style=\"font-weight: bold\"> 7    </span>┃\n",
       "┡━━━━━━━━━━━╇━━━━━━━━━━━╇━━━━━━━━━╇━━━━━━━━━━━━╇━━━━━━━━━╇━━━━━━━━╇━━━━━━╇━━━━━━┩\n",
       "│ chán ghét │ thích thú │ giận dữ │ ngạc nhiên │ buồn bã │ sợ hãi │ khác │ LOẠI │\n",
       "└───────────┴───────────┴─────────┴────────────┴─────────┴────────┴──────┴──────┘\n",
       "</pre>\n"
      ],
      "text/plain": [
       "\u001b[3m                                     KEY TAG                                     \u001b[0m\n",
       "┏━━━━━━━━━━━┳━━━━━━━━━━━┳━━━━━━━━━┳━━━━━━━━━━━━┳━━━━━━━━━┳━━━━━━━━┳━━━━━━┳━━━━━━┓\n",
       "┃\u001b[1m \u001b[0m\u001b[1m0        \u001b[0m\u001b[1m \u001b[0m┃\u001b[1m \u001b[0m\u001b[1m1        \u001b[0m\u001b[1m \u001b[0m┃\u001b[1m \u001b[0m\u001b[1m2      \u001b[0m\u001b[1m \u001b[0m┃\u001b[1m \u001b[0m\u001b[1m3         \u001b[0m\u001b[1m \u001b[0m┃\u001b[1m \u001b[0m\u001b[1m4      \u001b[0m\u001b[1m \u001b[0m┃\u001b[1m \u001b[0m\u001b[1m5     \u001b[0m\u001b[1m \u001b[0m┃\u001b[1m \u001b[0m\u001b[1m6   \u001b[0m\u001b[1m \u001b[0m┃\u001b[1m \u001b[0m\u001b[1m7   \u001b[0m\u001b[1m \u001b[0m┃\n",
       "┡━━━━━━━━━━━╇━━━━━━━━━━━╇━━━━━━━━━╇━━━━━━━━━━━━╇━━━━━━━━━╇━━━━━━━━╇━━━━━━╇━━━━━━┩\n",
       "│ chán ghét │ thích thú │ giận dữ │ ngạc nhiên │ buồn bã │ sợ hãi │ khác │ LOẠI │\n",
       "└───────────┴───────────┴─────────┴────────────┴─────────┴────────┴──────┴──────┘\n"
      ]
     },
     "metadata": {},
     "output_type": "display_data"
    },
    {
     "name": "stdout",
     "output_type": "stream",
     "text": [
      "\n",
      "Count:  68 \n",
      "\n",
      "Người tàn tật mà có Sk lết kinh nhỉ 😀 Muốn giúp người phải tìm hiểu cho kỹ, mấy tin này trên YouTube đầy. Chúc 2 em gặp may mắn và có Sk .. \n",
      "\n",
      "Tag: 0\n"
     ]
    },
    {
     "data": {
      "text/html": [
       "<pre style=\"white-space:pre;overflow-x:auto;line-height:normal;font-family:Menlo,'DejaVu Sans Mono',consolas,'Courier New',monospace\"><span style=\"font-style: italic\">                                     KEY TAG                                     </span>\n",
       "┏━━━━━━━━━━━┳━━━━━━━━━━━┳━━━━━━━━━┳━━━━━━━━━━━━┳━━━━━━━━━┳━━━━━━━━┳━━━━━━┳━━━━━━┓\n",
       "┃<span style=\"font-weight: bold\"> 0         </span>┃<span style=\"font-weight: bold\"> 1         </span>┃<span style=\"font-weight: bold\"> 2       </span>┃<span style=\"font-weight: bold\"> 3          </span>┃<span style=\"font-weight: bold\"> 4       </span>┃<span style=\"font-weight: bold\"> 5      </span>┃<span style=\"font-weight: bold\"> 6    </span>┃<span style=\"font-weight: bold\"> 7    </span>┃\n",
       "┡━━━━━━━━━━━╇━━━━━━━━━━━╇━━━━━━━━━╇━━━━━━━━━━━━╇━━━━━━━━━╇━━━━━━━━╇━━━━━━╇━━━━━━┩\n",
       "│ chán ghét │ thích thú │ giận dữ │ ngạc nhiên │ buồn bã │ sợ hãi │ khác │ LOẠI │\n",
       "└───────────┴───────────┴─────────┴────────────┴─────────┴────────┴──────┴──────┘\n",
       "</pre>\n"
      ],
      "text/plain": [
       "\u001b[3m                                     KEY TAG                                     \u001b[0m\n",
       "┏━━━━━━━━━━━┳━━━━━━━━━━━┳━━━━━━━━━┳━━━━━━━━━━━━┳━━━━━━━━━┳━━━━━━━━┳━━━━━━┳━━━━━━┓\n",
       "┃\u001b[1m \u001b[0m\u001b[1m0        \u001b[0m\u001b[1m \u001b[0m┃\u001b[1m \u001b[0m\u001b[1m1        \u001b[0m\u001b[1m \u001b[0m┃\u001b[1m \u001b[0m\u001b[1m2      \u001b[0m\u001b[1m \u001b[0m┃\u001b[1m \u001b[0m\u001b[1m3         \u001b[0m\u001b[1m \u001b[0m┃\u001b[1m \u001b[0m\u001b[1m4      \u001b[0m\u001b[1m \u001b[0m┃\u001b[1m \u001b[0m\u001b[1m5     \u001b[0m\u001b[1m \u001b[0m┃\u001b[1m \u001b[0m\u001b[1m6   \u001b[0m\u001b[1m \u001b[0m┃\u001b[1m \u001b[0m\u001b[1m7   \u001b[0m\u001b[1m \u001b[0m┃\n",
       "┡━━━━━━━━━━━╇━━━━━━━━━━━╇━━━━━━━━━╇━━━━━━━━━━━━╇━━━━━━━━━╇━━━━━━━━╇━━━━━━╇━━━━━━┩\n",
       "│ chán ghét │ thích thú │ giận dữ │ ngạc nhiên │ buồn bã │ sợ hãi │ khác │ LOẠI │\n",
       "└───────────┴───────────┴─────────┴────────────┴─────────┴────────┴──────┴──────┘\n"
      ]
     },
     "metadata": {},
     "output_type": "display_data"
    },
    {
     "name": "stdout",
     "output_type": "stream",
     "text": [
      "\n",
      "Count:  69 \n",
      "\n",
      "Ak ơi đừng buồn cố gắng lên 💪💪💪 \n",
      "\n",
      "Tag: 6\n"
     ]
    },
    {
     "data": {
      "text/html": [
       "<pre style=\"white-space:pre;overflow-x:auto;line-height:normal;font-family:Menlo,'DejaVu Sans Mono',consolas,'Courier New',monospace\"><span style=\"font-style: italic\">                                     KEY TAG                                     </span>\n",
       "┏━━━━━━━━━━━┳━━━━━━━━━━━┳━━━━━━━━━┳━━━━━━━━━━━━┳━━━━━━━━━┳━━━━━━━━┳━━━━━━┳━━━━━━┓\n",
       "┃<span style=\"font-weight: bold\"> 0         </span>┃<span style=\"font-weight: bold\"> 1         </span>┃<span style=\"font-weight: bold\"> 2       </span>┃<span style=\"font-weight: bold\"> 3          </span>┃<span style=\"font-weight: bold\"> 4       </span>┃<span style=\"font-weight: bold\"> 5      </span>┃<span style=\"font-weight: bold\"> 6    </span>┃<span style=\"font-weight: bold\"> 7    </span>┃\n",
       "┡━━━━━━━━━━━╇━━━━━━━━━━━╇━━━━━━━━━╇━━━━━━━━━━━━╇━━━━━━━━━╇━━━━━━━━╇━━━━━━╇━━━━━━┩\n",
       "│ chán ghét │ thích thú │ giận dữ │ ngạc nhiên │ buồn bã │ sợ hãi │ khác │ LOẠI │\n",
       "└───────────┴───────────┴─────────┴────────────┴─────────┴────────┴──────┴──────┘\n",
       "</pre>\n"
      ],
      "text/plain": [
       "\u001b[3m                                     KEY TAG                                     \u001b[0m\n",
       "┏━━━━━━━━━━━┳━━━━━━━━━━━┳━━━━━━━━━┳━━━━━━━━━━━━┳━━━━━━━━━┳━━━━━━━━┳━━━━━━┳━━━━━━┓\n",
       "┃\u001b[1m \u001b[0m\u001b[1m0        \u001b[0m\u001b[1m \u001b[0m┃\u001b[1m \u001b[0m\u001b[1m1        \u001b[0m\u001b[1m \u001b[0m┃\u001b[1m \u001b[0m\u001b[1m2      \u001b[0m\u001b[1m \u001b[0m┃\u001b[1m \u001b[0m\u001b[1m3         \u001b[0m\u001b[1m \u001b[0m┃\u001b[1m \u001b[0m\u001b[1m4      \u001b[0m\u001b[1m \u001b[0m┃\u001b[1m \u001b[0m\u001b[1m5     \u001b[0m\u001b[1m \u001b[0m┃\u001b[1m \u001b[0m\u001b[1m6   \u001b[0m\u001b[1m \u001b[0m┃\u001b[1m \u001b[0m\u001b[1m7   \u001b[0m\u001b[1m \u001b[0m┃\n",
       "┡━━━━━━━━━━━╇━━━━━━━━━━━╇━━━━━━━━━╇━━━━━━━━━━━━╇━━━━━━━━━╇━━━━━━━━╇━━━━━━╇━━━━━━┩\n",
       "│ chán ghét │ thích thú │ giận dữ │ ngạc nhiên │ buồn bã │ sợ hãi │ khác │ LOẠI │\n",
       "└───────────┴───────────┴─────────┴────────────┴─────────┴────────┴──────┴──────┘\n"
      ]
     },
     "metadata": {},
     "output_type": "display_data"
    },
    {
     "name": "stdout",
     "output_type": "stream",
     "text": [
      "\n",
      "Count:  70 \n",
      "\n",
      "Gieo gió gặt bão ông Trời cao có mắt. Các bạn được phước. \n",
      "\n",
      "Tag: 4\n"
     ]
    },
    {
     "data": {
      "text/html": [
       "<pre style=\"white-space:pre;overflow-x:auto;line-height:normal;font-family:Menlo,'DejaVu Sans Mono',consolas,'Courier New',monospace\"><span style=\"font-style: italic\">                                     KEY TAG                                     </span>\n",
       "┏━━━━━━━━━━━┳━━━━━━━━━━━┳━━━━━━━━━┳━━━━━━━━━━━━┳━━━━━━━━━┳━━━━━━━━┳━━━━━━┳━━━━━━┓\n",
       "┃<span style=\"font-weight: bold\"> 0         </span>┃<span style=\"font-weight: bold\"> 1         </span>┃<span style=\"font-weight: bold\"> 2       </span>┃<span style=\"font-weight: bold\"> 3          </span>┃<span style=\"font-weight: bold\"> 4       </span>┃<span style=\"font-weight: bold\"> 5      </span>┃<span style=\"font-weight: bold\"> 6    </span>┃<span style=\"font-weight: bold\"> 7    </span>┃\n",
       "┡━━━━━━━━━━━╇━━━━━━━━━━━╇━━━━━━━━━╇━━━━━━━━━━━━╇━━━━━━━━━╇━━━━━━━━╇━━━━━━╇━━━━━━┩\n",
       "│ chán ghét │ thích thú │ giận dữ │ ngạc nhiên │ buồn bã │ sợ hãi │ khác │ LOẠI │\n",
       "└───────────┴───────────┴─────────┴────────────┴─────────┴────────┴──────┴──────┘\n",
       "</pre>\n"
      ],
      "text/plain": [
       "\u001b[3m                                     KEY TAG                                     \u001b[0m\n",
       "┏━━━━━━━━━━━┳━━━━━━━━━━━┳━━━━━━━━━┳━━━━━━━━━━━━┳━━━━━━━━━┳━━━━━━━━┳━━━━━━┳━━━━━━┓\n",
       "┃\u001b[1m \u001b[0m\u001b[1m0        \u001b[0m\u001b[1m \u001b[0m┃\u001b[1m \u001b[0m\u001b[1m1        \u001b[0m\u001b[1m \u001b[0m┃\u001b[1m \u001b[0m\u001b[1m2      \u001b[0m\u001b[1m \u001b[0m┃\u001b[1m \u001b[0m\u001b[1m3         \u001b[0m\u001b[1m \u001b[0m┃\u001b[1m \u001b[0m\u001b[1m4      \u001b[0m\u001b[1m \u001b[0m┃\u001b[1m \u001b[0m\u001b[1m5     \u001b[0m\u001b[1m \u001b[0m┃\u001b[1m \u001b[0m\u001b[1m6   \u001b[0m\u001b[1m \u001b[0m┃\u001b[1m \u001b[0m\u001b[1m7   \u001b[0m\u001b[1m \u001b[0m┃\n",
       "┡━━━━━━━━━━━╇━━━━━━━━━━━╇━━━━━━━━━╇━━━━━━━━━━━━╇━━━━━━━━━╇━━━━━━━━╇━━━━━━╇━━━━━━┩\n",
       "│ chán ghét │ thích thú │ giận dữ │ ngạc nhiên │ buồn bã │ sợ hãi │ khác │ LOẠI │\n",
       "└───────────┴───────────┴─────────┴────────────┴─────────┴────────┴──────┴──────┘\n"
      ]
     },
     "metadata": {},
     "output_type": "display_data"
    },
    {
     "name": "stdout",
     "output_type": "stream",
     "text": [
      "\n",
      "Count:  71 \n",
      "\n",
      "Ráng lên người tốt sẽ gặp may thôi sớm muộn sẽ bắt được nó 💪💪 \n",
      "\n",
      "Tag: 1\n"
     ]
    },
    {
     "data": {
      "text/html": [
       "<pre style=\"white-space:pre;overflow-x:auto;line-height:normal;font-family:Menlo,'DejaVu Sans Mono',consolas,'Courier New',monospace\"><span style=\"font-style: italic\">                                     KEY TAG                                     </span>\n",
       "┏━━━━━━━━━━━┳━━━━━━━━━━━┳━━━━━━━━━┳━━━━━━━━━━━━┳━━━━━━━━━┳━━━━━━━━┳━━━━━━┳━━━━━━┓\n",
       "┃<span style=\"font-weight: bold\"> 0         </span>┃<span style=\"font-weight: bold\"> 1         </span>┃<span style=\"font-weight: bold\"> 2       </span>┃<span style=\"font-weight: bold\"> 3          </span>┃<span style=\"font-weight: bold\"> 4       </span>┃<span style=\"font-weight: bold\"> 5      </span>┃<span style=\"font-weight: bold\"> 6    </span>┃<span style=\"font-weight: bold\"> 7    </span>┃\n",
       "┡━━━━━━━━━━━╇━━━━━━━━━━━╇━━━━━━━━━╇━━━━━━━━━━━━╇━━━━━━━━━╇━━━━━━━━╇━━━━━━╇━━━━━━┩\n",
       "│ chán ghét │ thích thú │ giận dữ │ ngạc nhiên │ buồn bã │ sợ hãi │ khác │ LOẠI │\n",
       "└───────────┴───────────┴─────────┴────────────┴─────────┴────────┴──────┴──────┘\n",
       "</pre>\n"
      ],
      "text/plain": [
       "\u001b[3m                                     KEY TAG                                     \u001b[0m\n",
       "┏━━━━━━━━━━━┳━━━━━━━━━━━┳━━━━━━━━━┳━━━━━━━━━━━━┳━━━━━━━━━┳━━━━━━━━┳━━━━━━┳━━━━━━┓\n",
       "┃\u001b[1m \u001b[0m\u001b[1m0        \u001b[0m\u001b[1m \u001b[0m┃\u001b[1m \u001b[0m\u001b[1m1        \u001b[0m\u001b[1m \u001b[0m┃\u001b[1m \u001b[0m\u001b[1m2      \u001b[0m\u001b[1m \u001b[0m┃\u001b[1m \u001b[0m\u001b[1m3         \u001b[0m\u001b[1m \u001b[0m┃\u001b[1m \u001b[0m\u001b[1m4      \u001b[0m\u001b[1m \u001b[0m┃\u001b[1m \u001b[0m\u001b[1m5     \u001b[0m\u001b[1m \u001b[0m┃\u001b[1m \u001b[0m\u001b[1m6   \u001b[0m\u001b[1m \u001b[0m┃\u001b[1m \u001b[0m\u001b[1m7   \u001b[0m\u001b[1m \u001b[0m┃\n",
       "┡━━━━━━━━━━━╇━━━━━━━━━━━╇━━━━━━━━━╇━━━━━━━━━━━━╇━━━━━━━━━╇━━━━━━━━╇━━━━━━╇━━━━━━┩\n",
       "│ chán ghét │ thích thú │ giận dữ │ ngạc nhiên │ buồn bã │ sợ hãi │ khác │ LOẠI │\n",
       "└───────────┴───────────┴─────────┴────────────┴─────────┴────────┴──────┴──────┘\n"
      ]
     },
     "metadata": {},
     "output_type": "display_data"
    },
    {
     "name": "stdout",
     "output_type": "stream",
     "text": [
      "\n",
      "Count:  72 \n",
      "\n",
      "Anh chở thẳng lên phường là nó sợ à. 😂 \n",
      "\n",
      "Tag: 1\n"
     ]
    },
    {
     "data": {
      "text/html": [
       "<pre style=\"white-space:pre;overflow-x:auto;line-height:normal;font-family:Menlo,'DejaVu Sans Mono',consolas,'Courier New',monospace\"><span style=\"font-style: italic\">                                     KEY TAG                                     </span>\n",
       "┏━━━━━━━━━━━┳━━━━━━━━━━━┳━━━━━━━━━┳━━━━━━━━━━━━┳━━━━━━━━━┳━━━━━━━━┳━━━━━━┳━━━━━━┓\n",
       "┃<span style=\"font-weight: bold\"> 0         </span>┃<span style=\"font-weight: bold\"> 1         </span>┃<span style=\"font-weight: bold\"> 2       </span>┃<span style=\"font-weight: bold\"> 3          </span>┃<span style=\"font-weight: bold\"> 4       </span>┃<span style=\"font-weight: bold\"> 5      </span>┃<span style=\"font-weight: bold\"> 6    </span>┃<span style=\"font-weight: bold\"> 7    </span>┃\n",
       "┡━━━━━━━━━━━╇━━━━━━━━━━━╇━━━━━━━━━╇━━━━━━━━━━━━╇━━━━━━━━━╇━━━━━━━━╇━━━━━━╇━━━━━━┩\n",
       "│ chán ghét │ thích thú │ giận dữ │ ngạc nhiên │ buồn bã │ sợ hãi │ khác │ LOẠI │\n",
       "└───────────┴───────────┴─────────┴────────────┴─────────┴────────┴──────┴──────┘\n",
       "</pre>\n"
      ],
      "text/plain": [
       "\u001b[3m                                     KEY TAG                                     \u001b[0m\n",
       "┏━━━━━━━━━━━┳━━━━━━━━━━━┳━━━━━━━━━┳━━━━━━━━━━━━┳━━━━━━━━━┳━━━━━━━━┳━━━━━━┳━━━━━━┓\n",
       "┃\u001b[1m \u001b[0m\u001b[1m0        \u001b[0m\u001b[1m \u001b[0m┃\u001b[1m \u001b[0m\u001b[1m1        \u001b[0m\u001b[1m \u001b[0m┃\u001b[1m \u001b[0m\u001b[1m2      \u001b[0m\u001b[1m \u001b[0m┃\u001b[1m \u001b[0m\u001b[1m3         \u001b[0m\u001b[1m \u001b[0m┃\u001b[1m \u001b[0m\u001b[1m4      \u001b[0m\u001b[1m \u001b[0m┃\u001b[1m \u001b[0m\u001b[1m5     \u001b[0m\u001b[1m \u001b[0m┃\u001b[1m \u001b[0m\u001b[1m6   \u001b[0m\u001b[1m \u001b[0m┃\u001b[1m \u001b[0m\u001b[1m7   \u001b[0m\u001b[1m \u001b[0m┃\n",
       "┡━━━━━━━━━━━╇━━━━━━━━━━━╇━━━━━━━━━╇━━━━━━━━━━━━╇━━━━━━━━━╇━━━━━━━━╇━━━━━━╇━━━━━━┩\n",
       "│ chán ghét │ thích thú │ giận dữ │ ngạc nhiên │ buồn bã │ sợ hãi │ khác │ LOẠI │\n",
       "└───────────┴───────────┴─────────┴────────────┴─────────┴────────┴──────┴──────┘\n"
      ]
     },
     "metadata": {},
     "output_type": "display_data"
    },
    {
     "name": "stdout",
     "output_type": "stream",
     "text": [
      "\n",
      "Count:  73 \n",
      "\n",
      "Người tốt ae xem ủng hộ cho 2ae có động lực \n",
      "\n",
      "Tag: 4\n"
     ]
    },
    {
     "data": {
      "text/html": [
       "<pre style=\"white-space:pre;overflow-x:auto;line-height:normal;font-family:Menlo,'DejaVu Sans Mono',consolas,'Courier New',monospace\"><span style=\"font-style: italic\">                                     KEY TAG                                     </span>\n",
       "┏━━━━━━━━━━━┳━━━━━━━━━━━┳━━━━━━━━━┳━━━━━━━━━━━━┳━━━━━━━━━┳━━━━━━━━┳━━━━━━┳━━━━━━┓\n",
       "┃<span style=\"font-weight: bold\"> 0         </span>┃<span style=\"font-weight: bold\"> 1         </span>┃<span style=\"font-weight: bold\"> 2       </span>┃<span style=\"font-weight: bold\"> 3          </span>┃<span style=\"font-weight: bold\"> 4       </span>┃<span style=\"font-weight: bold\"> 5      </span>┃<span style=\"font-weight: bold\"> 6    </span>┃<span style=\"font-weight: bold\"> 7    </span>┃\n",
       "┡━━━━━━━━━━━╇━━━━━━━━━━━╇━━━━━━━━━╇━━━━━━━━━━━━╇━━━━━━━━━╇━━━━━━━━╇━━━━━━╇━━━━━━┩\n",
       "│ chán ghét │ thích thú │ giận dữ │ ngạc nhiên │ buồn bã │ sợ hãi │ khác │ LOẠI │\n",
       "└───────────┴───────────┴─────────┴────────────┴─────────┴────────┴──────┴──────┘\n",
       "</pre>\n"
      ],
      "text/plain": [
       "\u001b[3m                                     KEY TAG                                     \u001b[0m\n",
       "┏━━━━━━━━━━━┳━━━━━━━━━━━┳━━━━━━━━━┳━━━━━━━━━━━━┳━━━━━━━━━┳━━━━━━━━┳━━━━━━┳━━━━━━┓\n",
       "┃\u001b[1m \u001b[0m\u001b[1m0        \u001b[0m\u001b[1m \u001b[0m┃\u001b[1m \u001b[0m\u001b[1m1        \u001b[0m\u001b[1m \u001b[0m┃\u001b[1m \u001b[0m\u001b[1m2      \u001b[0m\u001b[1m \u001b[0m┃\u001b[1m \u001b[0m\u001b[1m3         \u001b[0m\u001b[1m \u001b[0m┃\u001b[1m \u001b[0m\u001b[1m4      \u001b[0m\u001b[1m \u001b[0m┃\u001b[1m \u001b[0m\u001b[1m5     \u001b[0m\u001b[1m \u001b[0m┃\u001b[1m \u001b[0m\u001b[1m6   \u001b[0m\u001b[1m \u001b[0m┃\u001b[1m \u001b[0m\u001b[1m7   \u001b[0m\u001b[1m \u001b[0m┃\n",
       "┡━━━━━━━━━━━╇━━━━━━━━━━━╇━━━━━━━━━╇━━━━━━━━━━━━╇━━━━━━━━━╇━━━━━━━━╇━━━━━━╇━━━━━━┩\n",
       "│ chán ghét │ thích thú │ giận dữ │ ngạc nhiên │ buồn bã │ sợ hãi │ khác │ LOẠI │\n",
       "└───────────┴───────────┴─────────┴────────────┴─────────┴────────┴──────┴──────┘\n"
      ]
     },
     "metadata": {},
     "output_type": "display_data"
    },
    {
     "name": "stdout",
     "output_type": "stream",
     "text": [
      "\n",
      "Count:  74 \n",
      "\n",
      "Mấy cái đường a chạy gần nhà e để có j em quan sát rồi em ib a nhé \n",
      "\n",
      "Tag: 6\n"
     ]
    },
    {
     "data": {
      "text/html": [
       "<pre style=\"white-space:pre;overflow-x:auto;line-height:normal;font-family:Menlo,'DejaVu Sans Mono',consolas,'Courier New',monospace\"><span style=\"font-style: italic\">                                     KEY TAG                                     </span>\n",
       "┏━━━━━━━━━━━┳━━━━━━━━━━━┳━━━━━━━━━┳━━━━━━━━━━━━┳━━━━━━━━━┳━━━━━━━━┳━━━━━━┳━━━━━━┓\n",
       "┃<span style=\"font-weight: bold\"> 0         </span>┃<span style=\"font-weight: bold\"> 1         </span>┃<span style=\"font-weight: bold\"> 2       </span>┃<span style=\"font-weight: bold\"> 3          </span>┃<span style=\"font-weight: bold\"> 4       </span>┃<span style=\"font-weight: bold\"> 5      </span>┃<span style=\"font-weight: bold\"> 6    </span>┃<span style=\"font-weight: bold\"> 7    </span>┃\n",
       "┡━━━━━━━━━━━╇━━━━━━━━━━━╇━━━━━━━━━╇━━━━━━━━━━━━╇━━━━━━━━━╇━━━━━━━━╇━━━━━━╇━━━━━━┩\n",
       "│ chán ghét │ thích thú │ giận dữ │ ngạc nhiên │ buồn bã │ sợ hãi │ khác │ LOẠI │\n",
       "└───────────┴───────────┴─────────┴────────────┴─────────┴────────┴──────┴──────┘\n",
       "</pre>\n"
      ],
      "text/plain": [
       "\u001b[3m                                     KEY TAG                                     \u001b[0m\n",
       "┏━━━━━━━━━━━┳━━━━━━━━━━━┳━━━━━━━━━┳━━━━━━━━━━━━┳━━━━━━━━━┳━━━━━━━━┳━━━━━━┳━━━━━━┓\n",
       "┃\u001b[1m \u001b[0m\u001b[1m0        \u001b[0m\u001b[1m \u001b[0m┃\u001b[1m \u001b[0m\u001b[1m1        \u001b[0m\u001b[1m \u001b[0m┃\u001b[1m \u001b[0m\u001b[1m2      \u001b[0m\u001b[1m \u001b[0m┃\u001b[1m \u001b[0m\u001b[1m3         \u001b[0m\u001b[1m \u001b[0m┃\u001b[1m \u001b[0m\u001b[1m4      \u001b[0m\u001b[1m \u001b[0m┃\u001b[1m \u001b[0m\u001b[1m5     \u001b[0m\u001b[1m \u001b[0m┃\u001b[1m \u001b[0m\u001b[1m6   \u001b[0m\u001b[1m \u001b[0m┃\u001b[1m \u001b[0m\u001b[1m7   \u001b[0m\u001b[1m \u001b[0m┃\n",
       "┡━━━━━━━━━━━╇━━━━━━━━━━━╇━━━━━━━━━╇━━━━━━━━━━━━╇━━━━━━━━━╇━━━━━━━━╇━━━━━━╇━━━━━━┩\n",
       "│ chán ghét │ thích thú │ giận dữ │ ngạc nhiên │ buồn bã │ sợ hãi │ khác │ LOẠI │\n",
       "└───────────┴───────────┴─────────┴────────────┴─────────┴────────┴──────┴──────┘\n"
      ]
     },
     "metadata": {},
     "output_type": "display_data"
    },
    {
     "name": "stdout",
     "output_type": "stream",
     "text": [
      "\n",
      "Count:  75 \n",
      "\n",
      "Cũng may có khác em truy lùng như vậy chứ xã hội này càng ngày càng ngoan \n",
      "\n",
      "Tag: 6\n"
     ]
    },
    {
     "data": {
      "text/html": [
       "<pre style=\"white-space:pre;overflow-x:auto;line-height:normal;font-family:Menlo,'DejaVu Sans Mono',consolas,'Courier New',monospace\"><span style=\"font-style: italic\">                                     KEY TAG                                     </span>\n",
       "┏━━━━━━━━━━━┳━━━━━━━━━━━┳━━━━━━━━━┳━━━━━━━━━━━━┳━━━━━━━━━┳━━━━━━━━┳━━━━━━┳━━━━━━┓\n",
       "┃<span style=\"font-weight: bold\"> 0         </span>┃<span style=\"font-weight: bold\"> 1         </span>┃<span style=\"font-weight: bold\"> 2       </span>┃<span style=\"font-weight: bold\"> 3          </span>┃<span style=\"font-weight: bold\"> 4       </span>┃<span style=\"font-weight: bold\"> 5      </span>┃<span style=\"font-weight: bold\"> 6    </span>┃<span style=\"font-weight: bold\"> 7    </span>┃\n",
       "┡━━━━━━━━━━━╇━━━━━━━━━━━╇━━━━━━━━━╇━━━━━━━━━━━━╇━━━━━━━━━╇━━━━━━━━╇━━━━━━╇━━━━━━┩\n",
       "│ chán ghét │ thích thú │ giận dữ │ ngạc nhiên │ buồn bã │ sợ hãi │ khác │ LOẠI │\n",
       "└───────────┴───────────┴─────────┴────────────┴─────────┴────────┴──────┴──────┘\n",
       "</pre>\n"
      ],
      "text/plain": [
       "\u001b[3m                                     KEY TAG                                     \u001b[0m\n",
       "┏━━━━━━━━━━━┳━━━━━━━━━━━┳━━━━━━━━━┳━━━━━━━━━━━━┳━━━━━━━━━┳━━━━━━━━┳━━━━━━┳━━━━━━┓\n",
       "┃\u001b[1m \u001b[0m\u001b[1m0        \u001b[0m\u001b[1m \u001b[0m┃\u001b[1m \u001b[0m\u001b[1m1        \u001b[0m\u001b[1m \u001b[0m┃\u001b[1m \u001b[0m\u001b[1m2      \u001b[0m\u001b[1m \u001b[0m┃\u001b[1m \u001b[0m\u001b[1m3         \u001b[0m\u001b[1m \u001b[0m┃\u001b[1m \u001b[0m\u001b[1m4      \u001b[0m\u001b[1m \u001b[0m┃\u001b[1m \u001b[0m\u001b[1m5     \u001b[0m\u001b[1m \u001b[0m┃\u001b[1m \u001b[0m\u001b[1m6   \u001b[0m\u001b[1m \u001b[0m┃\u001b[1m \u001b[0m\u001b[1m7   \u001b[0m\u001b[1m \u001b[0m┃\n",
       "┡━━━━━━━━━━━╇━━━━━━━━━━━╇━━━━━━━━━╇━━━━━━━━━━━━╇━━━━━━━━━╇━━━━━━━━╇━━━━━━╇━━━━━━┩\n",
       "│ chán ghét │ thích thú │ giận dữ │ ngạc nhiên │ buồn bã │ sợ hãi │ khác │ LOẠI │\n",
       "└───────────┴───────────┴─────────┴────────────┴─────────┴────────┴──────┴──────┘\n"
      ]
     },
     "metadata": {},
     "output_type": "display_data"
    },
    {
     "name": "stdout",
     "output_type": "stream",
     "text": [
      "\n",
      "Count:  76 \n",
      "\n",
      "Tụi nó bây giờ lọng hành quá mọi người cũng cảnh giác nhé \n",
      "\n",
      "Tag: 0\n"
     ]
    },
    {
     "data": {
      "text/html": [
       "<pre style=\"white-space:pre;overflow-x:auto;line-height:normal;font-family:Menlo,'DejaVu Sans Mono',consolas,'Courier New',monospace\"><span style=\"font-style: italic\">                                     KEY TAG                                     </span>\n",
       "┏━━━━━━━━━━━┳━━━━━━━━━━━┳━━━━━━━━━┳━━━━━━━━━━━━┳━━━━━━━━━┳━━━━━━━━┳━━━━━━┳━━━━━━┓\n",
       "┃<span style=\"font-weight: bold\"> 0         </span>┃<span style=\"font-weight: bold\"> 1         </span>┃<span style=\"font-weight: bold\"> 2       </span>┃<span style=\"font-weight: bold\"> 3          </span>┃<span style=\"font-weight: bold\"> 4       </span>┃<span style=\"font-weight: bold\"> 5      </span>┃<span style=\"font-weight: bold\"> 6    </span>┃<span style=\"font-weight: bold\"> 7    </span>┃\n",
       "┡━━━━━━━━━━━╇━━━━━━━━━━━╇━━━━━━━━━╇━━━━━━━━━━━━╇━━━━━━━━━╇━━━━━━━━╇━━━━━━╇━━━━━━┩\n",
       "│ chán ghét │ thích thú │ giận dữ │ ngạc nhiên │ buồn bã │ sợ hãi │ khác │ LOẠI │\n",
       "└───────────┴───────────┴─────────┴────────────┴─────────┴────────┴──────┴──────┘\n",
       "</pre>\n"
      ],
      "text/plain": [
       "\u001b[3m                                     KEY TAG                                     \u001b[0m\n",
       "┏━━━━━━━━━━━┳━━━━━━━━━━━┳━━━━━━━━━┳━━━━━━━━━━━━┳━━━━━━━━━┳━━━━━━━━┳━━━━━━┳━━━━━━┓\n",
       "┃\u001b[1m \u001b[0m\u001b[1m0        \u001b[0m\u001b[1m \u001b[0m┃\u001b[1m \u001b[0m\u001b[1m1        \u001b[0m\u001b[1m \u001b[0m┃\u001b[1m \u001b[0m\u001b[1m2      \u001b[0m\u001b[1m \u001b[0m┃\u001b[1m \u001b[0m\u001b[1m3         \u001b[0m\u001b[1m \u001b[0m┃\u001b[1m \u001b[0m\u001b[1m4      \u001b[0m\u001b[1m \u001b[0m┃\u001b[1m \u001b[0m\u001b[1m5     \u001b[0m\u001b[1m \u001b[0m┃\u001b[1m \u001b[0m\u001b[1m6   \u001b[0m\u001b[1m \u001b[0m┃\u001b[1m \u001b[0m\u001b[1m7   \u001b[0m\u001b[1m \u001b[0m┃\n",
       "┡━━━━━━━━━━━╇━━━━━━━━━━━╇━━━━━━━━━╇━━━━━━━━━━━━╇━━━━━━━━━╇━━━━━━━━╇━━━━━━╇━━━━━━┩\n",
       "│ chán ghét │ thích thú │ giận dữ │ ngạc nhiên │ buồn bã │ sợ hãi │ khác │ LOẠI │\n",
       "└───────────┴───────────┴─────────┴────────────┴─────────┴────────┴──────┴──────┘\n"
      ]
     },
     "metadata": {},
     "output_type": "display_data"
    },
    {
     "name": "stdout",
     "output_type": "stream",
     "text": [
      "\n",
      "Count:  77 \n",
      "\n",
      "Mấy hôm trước ở Trà Vinh có 2 người. Y như thế này nhưng họ bán vé số. Bị thanh niên xung kích trà vinh vạch trần bộ mặt thật của họ \n",
      "\n",
      "Tag: 0\n"
     ]
    },
    {
     "data": {
      "text/html": [
       "<pre style=\"white-space:pre;overflow-x:auto;line-height:normal;font-family:Menlo,'DejaVu Sans Mono',consolas,'Courier New',monospace\"><span style=\"font-style: italic\">                                     KEY TAG                                     </span>\n",
       "┏━━━━━━━━━━━┳━━━━━━━━━━━┳━━━━━━━━━┳━━━━━━━━━━━━┳━━━━━━━━━┳━━━━━━━━┳━━━━━━┳━━━━━━┓\n",
       "┃<span style=\"font-weight: bold\"> 0         </span>┃<span style=\"font-weight: bold\"> 1         </span>┃<span style=\"font-weight: bold\"> 2       </span>┃<span style=\"font-weight: bold\"> 3          </span>┃<span style=\"font-weight: bold\"> 4       </span>┃<span style=\"font-weight: bold\"> 5      </span>┃<span style=\"font-weight: bold\"> 6    </span>┃<span style=\"font-weight: bold\"> 7    </span>┃\n",
       "┡━━━━━━━━━━━╇━━━━━━━━━━━╇━━━━━━━━━╇━━━━━━━━━━━━╇━━━━━━━━━╇━━━━━━━━╇━━━━━━╇━━━━━━┩\n",
       "│ chán ghét │ thích thú │ giận dữ │ ngạc nhiên │ buồn bã │ sợ hãi │ khác │ LOẠI │\n",
       "└───────────┴───────────┴─────────┴────────────┴─────────┴────────┴──────┴──────┘\n",
       "</pre>\n"
      ],
      "text/plain": [
       "\u001b[3m                                     KEY TAG                                     \u001b[0m\n",
       "┏━━━━━━━━━━━┳━━━━━━━━━━━┳━━━━━━━━━┳━━━━━━━━━━━━┳━━━━━━━━━┳━━━━━━━━┳━━━━━━┳━━━━━━┓\n",
       "┃\u001b[1m \u001b[0m\u001b[1m0        \u001b[0m\u001b[1m \u001b[0m┃\u001b[1m \u001b[0m\u001b[1m1        \u001b[0m\u001b[1m \u001b[0m┃\u001b[1m \u001b[0m\u001b[1m2      \u001b[0m\u001b[1m \u001b[0m┃\u001b[1m \u001b[0m\u001b[1m3         \u001b[0m\u001b[1m \u001b[0m┃\u001b[1m \u001b[0m\u001b[1m4      \u001b[0m\u001b[1m \u001b[0m┃\u001b[1m \u001b[0m\u001b[1m5     \u001b[0m\u001b[1m \u001b[0m┃\u001b[1m \u001b[0m\u001b[1m6   \u001b[0m\u001b[1m \u001b[0m┃\u001b[1m \u001b[0m\u001b[1m7   \u001b[0m\u001b[1m \u001b[0m┃\n",
       "┡━━━━━━━━━━━╇━━━━━━━━━━━╇━━━━━━━━━╇━━━━━━━━━━━━╇━━━━━━━━━╇━━━━━━━━╇━━━━━━╇━━━━━━┩\n",
       "│ chán ghét │ thích thú │ giận dữ │ ngạc nhiên │ buồn bã │ sợ hãi │ khác │ LOẠI │\n",
       "└───────────┴───────────┴─────────┴────────────┴─────────┴────────┴──────┴──────┘\n"
      ]
     },
     "metadata": {},
     "output_type": "display_data"
    },
    {
     "name": "stdout",
     "output_type": "stream",
     "text": [
      "\n",
      "Count:  78 \n",
      "\n",
      "Chúc các con sức khoẻ các con nên cảnh giác và gũi gìn bản thân \n",
      "\n",
      "Tag: 6\n"
     ]
    },
    {
     "data": {
      "text/html": [
       "<pre style=\"white-space:pre;overflow-x:auto;line-height:normal;font-family:Menlo,'DejaVu Sans Mono',consolas,'Courier New',monospace\"><span style=\"font-style: italic\">                                     KEY TAG                                     </span>\n",
       "┏━━━━━━━━━━━┳━━━━━━━━━━━┳━━━━━━━━━┳━━━━━━━━━━━━┳━━━━━━━━━┳━━━━━━━━┳━━━━━━┳━━━━━━┓\n",
       "┃<span style=\"font-weight: bold\"> 0         </span>┃<span style=\"font-weight: bold\"> 1         </span>┃<span style=\"font-weight: bold\"> 2       </span>┃<span style=\"font-weight: bold\"> 3          </span>┃<span style=\"font-weight: bold\"> 4       </span>┃<span style=\"font-weight: bold\"> 5      </span>┃<span style=\"font-weight: bold\"> 6    </span>┃<span style=\"font-weight: bold\"> 7    </span>┃\n",
       "┡━━━━━━━━━━━╇━━━━━━━━━━━╇━━━━━━━━━╇━━━━━━━━━━━━╇━━━━━━━━━╇━━━━━━━━╇━━━━━━╇━━━━━━┩\n",
       "│ chán ghét │ thích thú │ giận dữ │ ngạc nhiên │ buồn bã │ sợ hãi │ khác │ LOẠI │\n",
       "└───────────┴───────────┴─────────┴────────────┴─────────┴────────┴──────┴──────┘\n",
       "</pre>\n"
      ],
      "text/plain": [
       "\u001b[3m                                     KEY TAG                                     \u001b[0m\n",
       "┏━━━━━━━━━━━┳━━━━━━━━━━━┳━━━━━━━━━┳━━━━━━━━━━━━┳━━━━━━━━━┳━━━━━━━━┳━━━━━━┳━━━━━━┓\n",
       "┃\u001b[1m \u001b[0m\u001b[1m0        \u001b[0m\u001b[1m \u001b[0m┃\u001b[1m \u001b[0m\u001b[1m1        \u001b[0m\u001b[1m \u001b[0m┃\u001b[1m \u001b[0m\u001b[1m2      \u001b[0m\u001b[1m \u001b[0m┃\u001b[1m \u001b[0m\u001b[1m3         \u001b[0m\u001b[1m \u001b[0m┃\u001b[1m \u001b[0m\u001b[1m4      \u001b[0m\u001b[1m \u001b[0m┃\u001b[1m \u001b[0m\u001b[1m5     \u001b[0m\u001b[1m \u001b[0m┃\u001b[1m \u001b[0m\u001b[1m6   \u001b[0m\u001b[1m \u001b[0m┃\u001b[1m \u001b[0m\u001b[1m7   \u001b[0m\u001b[1m \u001b[0m┃\n",
       "┡━━━━━━━━━━━╇━━━━━━━━━━━╇━━━━━━━━━╇━━━━━━━━━━━━╇━━━━━━━━━╇━━━━━━━━╇━━━━━━╇━━━━━━┩\n",
       "│ chán ghét │ thích thú │ giận dữ │ ngạc nhiên │ buồn bã │ sợ hãi │ khác │ LOẠI │\n",
       "└───────────┴───────────┴─────────┴────────────┴─────────┴────────┴──────┴──────┘\n"
      ]
     },
     "metadata": {},
     "output_type": "display_data"
    },
    {
     "name": "stdout",
     "output_type": "stream",
     "text": [
      "\n",
      "Count:  79 \n",
      "\n",
      "Cảm ơn video, để biết có gặp né. \n",
      "\n",
      "Tag: 1\n"
     ]
    },
    {
     "data": {
      "text/html": [
       "<pre style=\"white-space:pre;overflow-x:auto;line-height:normal;font-family:Menlo,'DejaVu Sans Mono',consolas,'Courier New',monospace\"><span style=\"font-style: italic\">                                     KEY TAG                                     </span>\n",
       "┏━━━━━━━━━━━┳━━━━━━━━━━━┳━━━━━━━━━┳━━━━━━━━━━━━┳━━━━━━━━━┳━━━━━━━━┳━━━━━━┳━━━━━━┓\n",
       "┃<span style=\"font-weight: bold\"> 0         </span>┃<span style=\"font-weight: bold\"> 1         </span>┃<span style=\"font-weight: bold\"> 2       </span>┃<span style=\"font-weight: bold\"> 3          </span>┃<span style=\"font-weight: bold\"> 4       </span>┃<span style=\"font-weight: bold\"> 5      </span>┃<span style=\"font-weight: bold\"> 6    </span>┃<span style=\"font-weight: bold\"> 7    </span>┃\n",
       "┡━━━━━━━━━━━╇━━━━━━━━━━━╇━━━━━━━━━╇━━━━━━━━━━━━╇━━━━━━━━━╇━━━━━━━━╇━━━━━━╇━━━━━━┩\n",
       "│ chán ghét │ thích thú │ giận dữ │ ngạc nhiên │ buồn bã │ sợ hãi │ khác │ LOẠI │\n",
       "└───────────┴───────────┴─────────┴────────────┴─────────┴────────┴──────┴──────┘\n",
       "</pre>\n"
      ],
      "text/plain": [
       "\u001b[3m                                     KEY TAG                                     \u001b[0m\n",
       "┏━━━━━━━━━━━┳━━━━━━━━━━━┳━━━━━━━━━┳━━━━━━━━━━━━┳━━━━━━━━━┳━━━━━━━━┳━━━━━━┳━━━━━━┓\n",
       "┃\u001b[1m \u001b[0m\u001b[1m0        \u001b[0m\u001b[1m \u001b[0m┃\u001b[1m \u001b[0m\u001b[1m1        \u001b[0m\u001b[1m \u001b[0m┃\u001b[1m \u001b[0m\u001b[1m2      \u001b[0m\u001b[1m \u001b[0m┃\u001b[1m \u001b[0m\u001b[1m3         \u001b[0m\u001b[1m \u001b[0m┃\u001b[1m \u001b[0m\u001b[1m4      \u001b[0m\u001b[1m \u001b[0m┃\u001b[1m \u001b[0m\u001b[1m5     \u001b[0m\u001b[1m \u001b[0m┃\u001b[1m \u001b[0m\u001b[1m6   \u001b[0m\u001b[1m \u001b[0m┃\u001b[1m \u001b[0m\u001b[1m7   \u001b[0m\u001b[1m \u001b[0m┃\n",
       "┡━━━━━━━━━━━╇━━━━━━━━━━━╇━━━━━━━━━╇━━━━━━━━━━━━╇━━━━━━━━━╇━━━━━━━━╇━━━━━━╇━━━━━━┩\n",
       "│ chán ghét │ thích thú │ giận dữ │ ngạc nhiên │ buồn bã │ sợ hãi │ khác │ LOẠI │\n",
       "└───────────┴───────────┴─────────┴────────────┴─────────┴────────┴──────┴──────┘\n"
      ]
     },
     "metadata": {},
     "output_type": "display_data"
    },
    {
     "name": "stdout",
     "output_type": "stream",
     "text": [
      "\n",
      "Count:  80 \n",
      "\n",
      "Cuối cùng hai bạn trúng độc đắc chưa??kk \n",
      "\n",
      "Tag: 6\n"
     ]
    },
    {
     "data": {
      "text/html": [
       "<pre style=\"white-space:pre;overflow-x:auto;line-height:normal;font-family:Menlo,'DejaVu Sans Mono',consolas,'Courier New',monospace\"><span style=\"font-style: italic\">                                     KEY TAG                                     </span>\n",
       "┏━━━━━━━━━━━┳━━━━━━━━━━━┳━━━━━━━━━┳━━━━━━━━━━━━┳━━━━━━━━━┳━━━━━━━━┳━━━━━━┳━━━━━━┓\n",
       "┃<span style=\"font-weight: bold\"> 0         </span>┃<span style=\"font-weight: bold\"> 1         </span>┃<span style=\"font-weight: bold\"> 2       </span>┃<span style=\"font-weight: bold\"> 3          </span>┃<span style=\"font-weight: bold\"> 4       </span>┃<span style=\"font-weight: bold\"> 5      </span>┃<span style=\"font-weight: bold\"> 6    </span>┃<span style=\"font-weight: bold\"> 7    </span>┃\n",
       "┡━━━━━━━━━━━╇━━━━━━━━━━━╇━━━━━━━━━╇━━━━━━━━━━━━╇━━━━━━━━━╇━━━━━━━━╇━━━━━━╇━━━━━━┩\n",
       "│ chán ghét │ thích thú │ giận dữ │ ngạc nhiên │ buồn bã │ sợ hãi │ khác │ LOẠI │\n",
       "└───────────┴───────────┴─────────┴────────────┴─────────┴────────┴──────┴──────┘\n",
       "</pre>\n"
      ],
      "text/plain": [
       "\u001b[3m                                     KEY TAG                                     \u001b[0m\n",
       "┏━━━━━━━━━━━┳━━━━━━━━━━━┳━━━━━━━━━┳━━━━━━━━━━━━┳━━━━━━━━━┳━━━━━━━━┳━━━━━━┳━━━━━━┓\n",
       "┃\u001b[1m \u001b[0m\u001b[1m0        \u001b[0m\u001b[1m \u001b[0m┃\u001b[1m \u001b[0m\u001b[1m1        \u001b[0m\u001b[1m \u001b[0m┃\u001b[1m \u001b[0m\u001b[1m2      \u001b[0m\u001b[1m \u001b[0m┃\u001b[1m \u001b[0m\u001b[1m3         \u001b[0m\u001b[1m \u001b[0m┃\u001b[1m \u001b[0m\u001b[1m4      \u001b[0m\u001b[1m \u001b[0m┃\u001b[1m \u001b[0m\u001b[1m5     \u001b[0m\u001b[1m \u001b[0m┃\u001b[1m \u001b[0m\u001b[1m6   \u001b[0m\u001b[1m \u001b[0m┃\u001b[1m \u001b[0m\u001b[1m7   \u001b[0m\u001b[1m \u001b[0m┃\n",
       "┡━━━━━━━━━━━╇━━━━━━━━━━━╇━━━━━━━━━╇━━━━━━━━━━━━╇━━━━━━━━━╇━━━━━━━━╇━━━━━━╇━━━━━━┩\n",
       "│ chán ghét │ thích thú │ giận dữ │ ngạc nhiên │ buồn bã │ sợ hãi │ khác │ LOẠI │\n",
       "└───────────┴───────────┴─────────┴────────────┴─────────┴────────┴──────┴──────┘\n"
      ]
     },
     "metadata": {},
     "output_type": "display_data"
    },
    {
     "name": "stdout",
     "output_type": "stream",
     "text": [
      "\n",
      "Count:  81 \n",
      "\n",
      "Các bạn nên giúp đỡ những người có hoàn cảnh thật sự .hãy tìm hiểu trước kỹ càng rồi giúp \n",
      "\n",
      "Tag: 6\n"
     ]
    },
    {
     "data": {
      "text/html": [
       "<pre style=\"white-space:pre;overflow-x:auto;line-height:normal;font-family:Menlo,'DejaVu Sans Mono',consolas,'Courier New',monospace\"><span style=\"font-style: italic\">                                     KEY TAG                                     </span>\n",
       "┏━━━━━━━━━━━┳━━━━━━━━━━━┳━━━━━━━━━┳━━━━━━━━━━━━┳━━━━━━━━━┳━━━━━━━━┳━━━━━━┳━━━━━━┓\n",
       "┃<span style=\"font-weight: bold\"> 0         </span>┃<span style=\"font-weight: bold\"> 1         </span>┃<span style=\"font-weight: bold\"> 2       </span>┃<span style=\"font-weight: bold\"> 3          </span>┃<span style=\"font-weight: bold\"> 4       </span>┃<span style=\"font-weight: bold\"> 5      </span>┃<span style=\"font-weight: bold\"> 6    </span>┃<span style=\"font-weight: bold\"> 7    </span>┃\n",
       "┡━━━━━━━━━━━╇━━━━━━━━━━━╇━━━━━━━━━╇━━━━━━━━━━━━╇━━━━━━━━━╇━━━━━━━━╇━━━━━━╇━━━━━━┩\n",
       "│ chán ghét │ thích thú │ giận dữ │ ngạc nhiên │ buồn bã │ sợ hãi │ khác │ LOẠI │\n",
       "└───────────┴───────────┴─────────┴────────────┴─────────┴────────┴──────┴──────┘\n",
       "</pre>\n"
      ],
      "text/plain": [
       "\u001b[3m                                     KEY TAG                                     \u001b[0m\n",
       "┏━━━━━━━━━━━┳━━━━━━━━━━━┳━━━━━━━━━┳━━━━━━━━━━━━┳━━━━━━━━━┳━━━━━━━━┳━━━━━━┳━━━━━━┓\n",
       "┃\u001b[1m \u001b[0m\u001b[1m0        \u001b[0m\u001b[1m \u001b[0m┃\u001b[1m \u001b[0m\u001b[1m1        \u001b[0m\u001b[1m \u001b[0m┃\u001b[1m \u001b[0m\u001b[1m2      \u001b[0m\u001b[1m \u001b[0m┃\u001b[1m \u001b[0m\u001b[1m3         \u001b[0m\u001b[1m \u001b[0m┃\u001b[1m \u001b[0m\u001b[1m4      \u001b[0m\u001b[1m \u001b[0m┃\u001b[1m \u001b[0m\u001b[1m5     \u001b[0m\u001b[1m \u001b[0m┃\u001b[1m \u001b[0m\u001b[1m6   \u001b[0m\u001b[1m \u001b[0m┃\u001b[1m \u001b[0m\u001b[1m7   \u001b[0m\u001b[1m \u001b[0m┃\n",
       "┡━━━━━━━━━━━╇━━━━━━━━━━━╇━━━━━━━━━╇━━━━━━━━━━━━╇━━━━━━━━━╇━━━━━━━━╇━━━━━━╇━━━━━━┩\n",
       "│ chán ghét │ thích thú │ giận dữ │ ngạc nhiên │ buồn bã │ sợ hãi │ khác │ LOẠI │\n",
       "└───────────┴───────────┴─────────┴────────────┴─────────┴────────┴──────┴──────┘\n"
      ]
     },
     "metadata": {},
     "output_type": "display_data"
    },
    {
     "name": "stdout",
     "output_type": "stream",
     "text": [
      "\n",
      "Count:  82 \n",
      "\n",
      "non và xanh quá 2 chú.  kkkkk \n",
      "\n",
      "Tag: 6\n"
     ]
    },
    {
     "data": {
      "text/html": [
       "<pre style=\"white-space:pre;overflow-x:auto;line-height:normal;font-family:Menlo,'DejaVu Sans Mono',consolas,'Courier New',monospace\"><span style=\"font-style: italic\">                                     KEY TAG                                     </span>\n",
       "┏━━━━━━━━━━━┳━━━━━━━━━━━┳━━━━━━━━━┳━━━━━━━━━━━━┳━━━━━━━━━┳━━━━━━━━┳━━━━━━┳━━━━━━┓\n",
       "┃<span style=\"font-weight: bold\"> 0         </span>┃<span style=\"font-weight: bold\"> 1         </span>┃<span style=\"font-weight: bold\"> 2       </span>┃<span style=\"font-weight: bold\"> 3          </span>┃<span style=\"font-weight: bold\"> 4       </span>┃<span style=\"font-weight: bold\"> 5      </span>┃<span style=\"font-weight: bold\"> 6    </span>┃<span style=\"font-weight: bold\"> 7    </span>┃\n",
       "┡━━━━━━━━━━━╇━━━━━━━━━━━╇━━━━━━━━━╇━━━━━━━━━━━━╇━━━━━━━━━╇━━━━━━━━╇━━━━━━╇━━━━━━┩\n",
       "│ chán ghét │ thích thú │ giận dữ │ ngạc nhiên │ buồn bã │ sợ hãi │ khác │ LOẠI │\n",
       "└───────────┴───────────┴─────────┴────────────┴─────────┴────────┴──────┴──────┘\n",
       "</pre>\n"
      ],
      "text/plain": [
       "\u001b[3m                                     KEY TAG                                     \u001b[0m\n",
       "┏━━━━━━━━━━━┳━━━━━━━━━━━┳━━━━━━━━━┳━━━━━━━━━━━━┳━━━━━━━━━┳━━━━━━━━┳━━━━━━┳━━━━━━┓\n",
       "┃\u001b[1m \u001b[0m\u001b[1m0        \u001b[0m\u001b[1m \u001b[0m┃\u001b[1m \u001b[0m\u001b[1m1        \u001b[0m\u001b[1m \u001b[0m┃\u001b[1m \u001b[0m\u001b[1m2      \u001b[0m\u001b[1m \u001b[0m┃\u001b[1m \u001b[0m\u001b[1m3         \u001b[0m\u001b[1m \u001b[0m┃\u001b[1m \u001b[0m\u001b[1m4      \u001b[0m\u001b[1m \u001b[0m┃\u001b[1m \u001b[0m\u001b[1m5     \u001b[0m\u001b[1m \u001b[0m┃\u001b[1m \u001b[0m\u001b[1m6   \u001b[0m\u001b[1m \u001b[0m┃\u001b[1m \u001b[0m\u001b[1m7   \u001b[0m\u001b[1m \u001b[0m┃\n",
       "┡━━━━━━━━━━━╇━━━━━━━━━━━╇━━━━━━━━━╇━━━━━━━━━━━━╇━━━━━━━━━╇━━━━━━━━╇━━━━━━╇━━━━━━┩\n",
       "│ chán ghét │ thích thú │ giận dữ │ ngạc nhiên │ buồn bã │ sợ hãi │ khác │ LOẠI │\n",
       "└───────────┴───────────┴─────────┴────────────┴─────────┴────────┴──────┴──────┘\n"
      ]
     },
     "metadata": {},
     "output_type": "display_data"
    },
    {
     "name": "stdout",
     "output_type": "stream",
     "text": [
      "\n",
      "Count:  83 \n",
      "\n",
      "Tội ah quá. \n",
      "\n",
      "Tag: 4\n"
     ]
    },
    {
     "data": {
      "text/html": [
       "<pre style=\"white-space:pre;overflow-x:auto;line-height:normal;font-family:Menlo,'DejaVu Sans Mono',consolas,'Courier New',monospace\"><span style=\"font-style: italic\">                                     KEY TAG                                     </span>\n",
       "┏━━━━━━━━━━━┳━━━━━━━━━━━┳━━━━━━━━━┳━━━━━━━━━━━━┳━━━━━━━━━┳━━━━━━━━┳━━━━━━┳━━━━━━┓\n",
       "┃<span style=\"font-weight: bold\"> 0         </span>┃<span style=\"font-weight: bold\"> 1         </span>┃<span style=\"font-weight: bold\"> 2       </span>┃<span style=\"font-weight: bold\"> 3          </span>┃<span style=\"font-weight: bold\"> 4       </span>┃<span style=\"font-weight: bold\"> 5      </span>┃<span style=\"font-weight: bold\"> 6    </span>┃<span style=\"font-weight: bold\"> 7    </span>┃\n",
       "┡━━━━━━━━━━━╇━━━━━━━━━━━╇━━━━━━━━━╇━━━━━━━━━━━━╇━━━━━━━━━╇━━━━━━━━╇━━━━━━╇━━━━━━┩\n",
       "│ chán ghét │ thích thú │ giận dữ │ ngạc nhiên │ buồn bã │ sợ hãi │ khác │ LOẠI │\n",
       "└───────────┴───────────┴─────────┴────────────┴─────────┴────────┴──────┴──────┘\n",
       "</pre>\n"
      ],
      "text/plain": [
       "\u001b[3m                                     KEY TAG                                     \u001b[0m\n",
       "┏━━━━━━━━━━━┳━━━━━━━━━━━┳━━━━━━━━━┳━━━━━━━━━━━━┳━━━━━━━━━┳━━━━━━━━┳━━━━━━┳━━━━━━┓\n",
       "┃\u001b[1m \u001b[0m\u001b[1m0        \u001b[0m\u001b[1m \u001b[0m┃\u001b[1m \u001b[0m\u001b[1m1        \u001b[0m\u001b[1m \u001b[0m┃\u001b[1m \u001b[0m\u001b[1m2      \u001b[0m\u001b[1m \u001b[0m┃\u001b[1m \u001b[0m\u001b[1m3         \u001b[0m\u001b[1m \u001b[0m┃\u001b[1m \u001b[0m\u001b[1m4      \u001b[0m\u001b[1m \u001b[0m┃\u001b[1m \u001b[0m\u001b[1m5     \u001b[0m\u001b[1m \u001b[0m┃\u001b[1m \u001b[0m\u001b[1m6   \u001b[0m\u001b[1m \u001b[0m┃\u001b[1m \u001b[0m\u001b[1m7   \u001b[0m\u001b[1m \u001b[0m┃\n",
       "┡━━━━━━━━━━━╇━━━━━━━━━━━╇━━━━━━━━━╇━━━━━━━━━━━━╇━━━━━━━━━╇━━━━━━━━╇━━━━━━╇━━━━━━┩\n",
       "│ chán ghét │ thích thú │ giận dữ │ ngạc nhiên │ buồn bã │ sợ hãi │ khác │ LOẠI │\n",
       "└───────────┴───────────┴─────────┴────────────┴─────────┴────────┴──────┴──────┘\n"
      ]
     },
     "metadata": {},
     "output_type": "display_data"
    },
    {
     "name": "stdout",
     "output_type": "stream",
     "text": [
      "\n",
      "Count:  84 \n",
      "\n",
      "Bạn bán vé số này bị phát hiện r nha.... Ae vào fb Thanh niên xung kích trà vinh sẽ thấy \n",
      "\n",
      "Tag: 0\n"
     ]
    },
    {
     "data": {
      "text/html": [
       "<pre style=\"white-space:pre;overflow-x:auto;line-height:normal;font-family:Menlo,'DejaVu Sans Mono',consolas,'Courier New',monospace\"><span style=\"font-style: italic\">                                     KEY TAG                                     </span>\n",
       "┏━━━━━━━━━━━┳━━━━━━━━━━━┳━━━━━━━━━┳━━━━━━━━━━━━┳━━━━━━━━━┳━━━━━━━━┳━━━━━━┳━━━━━━┓\n",
       "┃<span style=\"font-weight: bold\"> 0         </span>┃<span style=\"font-weight: bold\"> 1         </span>┃<span style=\"font-weight: bold\"> 2       </span>┃<span style=\"font-weight: bold\"> 3          </span>┃<span style=\"font-weight: bold\"> 4       </span>┃<span style=\"font-weight: bold\"> 5      </span>┃<span style=\"font-weight: bold\"> 6    </span>┃<span style=\"font-weight: bold\"> 7    </span>┃\n",
       "┡━━━━━━━━━━━╇━━━━━━━━━━━╇━━━━━━━━━╇━━━━━━━━━━━━╇━━━━━━━━━╇━━━━━━━━╇━━━━━━╇━━━━━━┩\n",
       "│ chán ghét │ thích thú │ giận dữ │ ngạc nhiên │ buồn bã │ sợ hãi │ khác │ LOẠI │\n",
       "└───────────┴───────────┴─────────┴────────────┴─────────┴────────┴──────┴──────┘\n",
       "</pre>\n"
      ],
      "text/plain": [
       "\u001b[3m                                     KEY TAG                                     \u001b[0m\n",
       "┏━━━━━━━━━━━┳━━━━━━━━━━━┳━━━━━━━━━┳━━━━━━━━━━━━┳━━━━━━━━━┳━━━━━━━━┳━━━━━━┳━━━━━━┓\n",
       "┃\u001b[1m \u001b[0m\u001b[1m0        \u001b[0m\u001b[1m \u001b[0m┃\u001b[1m \u001b[0m\u001b[1m1        \u001b[0m\u001b[1m \u001b[0m┃\u001b[1m \u001b[0m\u001b[1m2      \u001b[0m\u001b[1m \u001b[0m┃\u001b[1m \u001b[0m\u001b[1m3         \u001b[0m\u001b[1m \u001b[0m┃\u001b[1m \u001b[0m\u001b[1m4      \u001b[0m\u001b[1m \u001b[0m┃\u001b[1m \u001b[0m\u001b[1m5     \u001b[0m\u001b[1m \u001b[0m┃\u001b[1m \u001b[0m\u001b[1m6   \u001b[0m\u001b[1m \u001b[0m┃\u001b[1m \u001b[0m\u001b[1m7   \u001b[0m\u001b[1m \u001b[0m┃\n",
       "┡━━━━━━━━━━━╇━━━━━━━━━━━╇━━━━━━━━━╇━━━━━━━━━━━━╇━━━━━━━━━╇━━━━━━━━╇━━━━━━╇━━━━━━┩\n",
       "│ chán ghét │ thích thú │ giận dữ │ ngạc nhiên │ buồn bã │ sợ hãi │ khác │ LOẠI │\n",
       "└───────────┴───────────┴─────────┴────────────┴─────────┴────────┴──────┴──────┘\n"
      ]
     },
     "metadata": {},
     "output_type": "display_data"
    },
    {
     "name": "stdout",
     "output_type": "stream",
     "text": [
      "\n",
      "Count:  85 \n",
      "\n",
      "Người thật không bao giờ làm vậy, vì người ta tự ái , còn những người không tự ái thì bó tay, bây giờ có nhiều người chăn dắt \n",
      "\n",
      "Tag: 2\n"
     ]
    },
    {
     "data": {
      "text/html": [
       "<pre style=\"white-space:pre;overflow-x:auto;line-height:normal;font-family:Menlo,'DejaVu Sans Mono',consolas,'Courier New',monospace\"><span style=\"font-style: italic\">                                     KEY TAG                                     </span>\n",
       "┏━━━━━━━━━━━┳━━━━━━━━━━━┳━━━━━━━━━┳━━━━━━━━━━━━┳━━━━━━━━━┳━━━━━━━━┳━━━━━━┳━━━━━━┓\n",
       "┃<span style=\"font-weight: bold\"> 0         </span>┃<span style=\"font-weight: bold\"> 1         </span>┃<span style=\"font-weight: bold\"> 2       </span>┃<span style=\"font-weight: bold\"> 3          </span>┃<span style=\"font-weight: bold\"> 4       </span>┃<span style=\"font-weight: bold\"> 5      </span>┃<span style=\"font-weight: bold\"> 6    </span>┃<span style=\"font-weight: bold\"> 7    </span>┃\n",
       "┡━━━━━━━━━━━╇━━━━━━━━━━━╇━━━━━━━━━╇━━━━━━━━━━━━╇━━━━━━━━━╇━━━━━━━━╇━━━━━━╇━━━━━━┩\n",
       "│ chán ghét │ thích thú │ giận dữ │ ngạc nhiên │ buồn bã │ sợ hãi │ khác │ LOẠI │\n",
       "└───────────┴───────────┴─────────┴────────────┴─────────┴────────┴──────┴──────┘\n",
       "</pre>\n"
      ],
      "text/plain": [
       "\u001b[3m                                     KEY TAG                                     \u001b[0m\n",
       "┏━━━━━━━━━━━┳━━━━━━━━━━━┳━━━━━━━━━┳━━━━━━━━━━━━┳━━━━━━━━━┳━━━━━━━━┳━━━━━━┳━━━━━━┓\n",
       "┃\u001b[1m \u001b[0m\u001b[1m0        \u001b[0m\u001b[1m \u001b[0m┃\u001b[1m \u001b[0m\u001b[1m1        \u001b[0m\u001b[1m \u001b[0m┃\u001b[1m \u001b[0m\u001b[1m2      \u001b[0m\u001b[1m \u001b[0m┃\u001b[1m \u001b[0m\u001b[1m3         \u001b[0m\u001b[1m \u001b[0m┃\u001b[1m \u001b[0m\u001b[1m4      \u001b[0m\u001b[1m \u001b[0m┃\u001b[1m \u001b[0m\u001b[1m5     \u001b[0m\u001b[1m \u001b[0m┃\u001b[1m \u001b[0m\u001b[1m6   \u001b[0m\u001b[1m \u001b[0m┃\u001b[1m \u001b[0m\u001b[1m7   \u001b[0m\u001b[1m \u001b[0m┃\n",
       "┡━━━━━━━━━━━╇━━━━━━━━━━━╇━━━━━━━━━╇━━━━━━━━━━━━╇━━━━━━━━━╇━━━━━━━━╇━━━━━━╇━━━━━━┩\n",
       "│ chán ghét │ thích thú │ giận dữ │ ngạc nhiên │ buồn bã │ sợ hãi │ khác │ LOẠI │\n",
       "└───────────┴───────────┴─────────┴────────────┴─────────┴────────┴──────┴──────┘\n"
      ]
     },
     "metadata": {},
     "output_type": "display_data"
    },
    {
     "name": "stdout",
     "output_type": "stream",
     "text": [
      "\n",
      "Count:  86 \n",
      "\n",
      "A ơi xuống thăm chú Tuấn đi ạ \n",
      "\n",
      "Tag: 6\n"
     ]
    },
    {
     "data": {
      "text/html": [
       "<pre style=\"white-space:pre;overflow-x:auto;line-height:normal;font-family:Menlo,'DejaVu Sans Mono',consolas,'Courier New',monospace\"><span style=\"font-style: italic\">                                     KEY TAG                                     </span>\n",
       "┏━━━━━━━━━━━┳━━━━━━━━━━━┳━━━━━━━━━┳━━━━━━━━━━━━┳━━━━━━━━━┳━━━━━━━━┳━━━━━━┳━━━━━━┓\n",
       "┃<span style=\"font-weight: bold\"> 0         </span>┃<span style=\"font-weight: bold\"> 1         </span>┃<span style=\"font-weight: bold\"> 2       </span>┃<span style=\"font-weight: bold\"> 3          </span>┃<span style=\"font-weight: bold\"> 4       </span>┃<span style=\"font-weight: bold\"> 5      </span>┃<span style=\"font-weight: bold\"> 6    </span>┃<span style=\"font-weight: bold\"> 7    </span>┃\n",
       "┡━━━━━━━━━━━╇━━━━━━━━━━━╇━━━━━━━━━╇━━━━━━━━━━━━╇━━━━━━━━━╇━━━━━━━━╇━━━━━━╇━━━━━━┩\n",
       "│ chán ghét │ thích thú │ giận dữ │ ngạc nhiên │ buồn bã │ sợ hãi │ khác │ LOẠI │\n",
       "└───────────┴───────────┴─────────┴────────────┴─────────┴────────┴──────┴──────┘\n",
       "</pre>\n"
      ],
      "text/plain": [
       "\u001b[3m                                     KEY TAG                                     \u001b[0m\n",
       "┏━━━━━━━━━━━┳━━━━━━━━━━━┳━━━━━━━━━┳━━━━━━━━━━━━┳━━━━━━━━━┳━━━━━━━━┳━━━━━━┳━━━━━━┓\n",
       "┃\u001b[1m \u001b[0m\u001b[1m0        \u001b[0m\u001b[1m \u001b[0m┃\u001b[1m \u001b[0m\u001b[1m1        \u001b[0m\u001b[1m \u001b[0m┃\u001b[1m \u001b[0m\u001b[1m2      \u001b[0m\u001b[1m \u001b[0m┃\u001b[1m \u001b[0m\u001b[1m3         \u001b[0m\u001b[1m \u001b[0m┃\u001b[1m \u001b[0m\u001b[1m4      \u001b[0m\u001b[1m \u001b[0m┃\u001b[1m \u001b[0m\u001b[1m5     \u001b[0m\u001b[1m \u001b[0m┃\u001b[1m \u001b[0m\u001b[1m6   \u001b[0m\u001b[1m \u001b[0m┃\u001b[1m \u001b[0m\u001b[1m7   \u001b[0m\u001b[1m \u001b[0m┃\n",
       "┡━━━━━━━━━━━╇━━━━━━━━━━━╇━━━━━━━━━╇━━━━━━━━━━━━╇━━━━━━━━━╇━━━━━━━━╇━━━━━━╇━━━━━━┩\n",
       "│ chán ghét │ thích thú │ giận dữ │ ngạc nhiên │ buồn bã │ sợ hãi │ khác │ LOẠI │\n",
       "└───────────┴───────────┴─────────┴────────────┴─────────┴────────┴──────┴──────┘\n"
      ]
     },
     "metadata": {},
     "output_type": "display_data"
    },
    {
     "name": "stdout",
     "output_type": "stream",
     "text": [
      "\n",
      "Count:  87 \n",
      "\n",
      "Chào các con.k sao đâu.cac con đã có tâm hồn cao đẹp.cac con đã cho đi rằng các con sẽ nhận lại.con ai sống lua đao họ sẽ đón nhận ...nhan qua.. \n",
      "\n",
      "Tag: 4\n"
     ]
    },
    {
     "data": {
      "text/html": [
       "<pre style=\"white-space:pre;overflow-x:auto;line-height:normal;font-family:Menlo,'DejaVu Sans Mono',consolas,'Courier New',monospace\"><span style=\"font-style: italic\">                                     KEY TAG                                     </span>\n",
       "┏━━━━━━━━━━━┳━━━━━━━━━━━┳━━━━━━━━━┳━━━━━━━━━━━━┳━━━━━━━━━┳━━━━━━━━┳━━━━━━┳━━━━━━┓\n",
       "┃<span style=\"font-weight: bold\"> 0         </span>┃<span style=\"font-weight: bold\"> 1         </span>┃<span style=\"font-weight: bold\"> 2       </span>┃<span style=\"font-weight: bold\"> 3          </span>┃<span style=\"font-weight: bold\"> 4       </span>┃<span style=\"font-weight: bold\"> 5      </span>┃<span style=\"font-weight: bold\"> 6    </span>┃<span style=\"font-weight: bold\"> 7    </span>┃\n",
       "┡━━━━━━━━━━━╇━━━━━━━━━━━╇━━━━━━━━━╇━━━━━━━━━━━━╇━━━━━━━━━╇━━━━━━━━╇━━━━━━╇━━━━━━┩\n",
       "│ chán ghét │ thích thú │ giận dữ │ ngạc nhiên │ buồn bã │ sợ hãi │ khác │ LOẠI │\n",
       "└───────────┴───────────┴─────────┴────────────┴─────────┴────────┴──────┴──────┘\n",
       "</pre>\n"
      ],
      "text/plain": [
       "\u001b[3m                                     KEY TAG                                     \u001b[0m\n",
       "┏━━━━━━━━━━━┳━━━━━━━━━━━┳━━━━━━━━━┳━━━━━━━━━━━━┳━━━━━━━━━┳━━━━━━━━┳━━━━━━┳━━━━━━┓\n",
       "┃\u001b[1m \u001b[0m\u001b[1m0        \u001b[0m\u001b[1m \u001b[0m┃\u001b[1m \u001b[0m\u001b[1m1        \u001b[0m\u001b[1m \u001b[0m┃\u001b[1m \u001b[0m\u001b[1m2      \u001b[0m\u001b[1m \u001b[0m┃\u001b[1m \u001b[0m\u001b[1m3         \u001b[0m\u001b[1m \u001b[0m┃\u001b[1m \u001b[0m\u001b[1m4      \u001b[0m\u001b[1m \u001b[0m┃\u001b[1m \u001b[0m\u001b[1m5     \u001b[0m\u001b[1m \u001b[0m┃\u001b[1m \u001b[0m\u001b[1m6   \u001b[0m\u001b[1m \u001b[0m┃\u001b[1m \u001b[0m\u001b[1m7   \u001b[0m\u001b[1m \u001b[0m┃\n",
       "┡━━━━━━━━━━━╇━━━━━━━━━━━╇━━━━━━━━━╇━━━━━━━━━━━━╇━━━━━━━━━╇━━━━━━━━╇━━━━━━╇━━━━━━┩\n",
       "│ chán ghét │ thích thú │ giận dữ │ ngạc nhiên │ buồn bã │ sợ hãi │ khác │ LOẠI │\n",
       "└───────────┴───────────┴─────────┴────────────┴─────────┴────────┴──────┴──────┘\n"
      ]
     },
     "metadata": {},
     "output_type": "display_data"
    },
    {
     "name": "stdout",
     "output_type": "stream",
     "text": [
      "\n",
      "Count:  88 \n",
      "\n",
      "Nhìn mà sót quá 😭 \n",
      "\n",
      "Tag: 4\n"
     ]
    },
    {
     "data": {
      "text/html": [
       "<pre style=\"white-space:pre;overflow-x:auto;line-height:normal;font-family:Menlo,'DejaVu Sans Mono',consolas,'Courier New',monospace\"><span style=\"font-style: italic\">                                     KEY TAG                                     </span>\n",
       "┏━━━━━━━━━━━┳━━━━━━━━━━━┳━━━━━━━━━┳━━━━━━━━━━━━┳━━━━━━━━━┳━━━━━━━━┳━━━━━━┳━━━━━━┓\n",
       "┃<span style=\"font-weight: bold\"> 0         </span>┃<span style=\"font-weight: bold\"> 1         </span>┃<span style=\"font-weight: bold\"> 2       </span>┃<span style=\"font-weight: bold\"> 3          </span>┃<span style=\"font-weight: bold\"> 4       </span>┃<span style=\"font-weight: bold\"> 5      </span>┃<span style=\"font-weight: bold\"> 6    </span>┃<span style=\"font-weight: bold\"> 7    </span>┃\n",
       "┡━━━━━━━━━━━╇━━━━━━━━━━━╇━━━━━━━━━╇━━━━━━━━━━━━╇━━━━━━━━━╇━━━━━━━━╇━━━━━━╇━━━━━━┩\n",
       "│ chán ghét │ thích thú │ giận dữ │ ngạc nhiên │ buồn bã │ sợ hãi │ khác │ LOẠI │\n",
       "└───────────┴───────────┴─────────┴────────────┴─────────┴────────┴──────┴──────┘\n",
       "</pre>\n"
      ],
      "text/plain": [
       "\u001b[3m                                     KEY TAG                                     \u001b[0m\n",
       "┏━━━━━━━━━━━┳━━━━━━━━━━━┳━━━━━━━━━┳━━━━━━━━━━━━┳━━━━━━━━━┳━━━━━━━━┳━━━━━━┳━━━━━━┓\n",
       "┃\u001b[1m \u001b[0m\u001b[1m0        \u001b[0m\u001b[1m \u001b[0m┃\u001b[1m \u001b[0m\u001b[1m1        \u001b[0m\u001b[1m \u001b[0m┃\u001b[1m \u001b[0m\u001b[1m2      \u001b[0m\u001b[1m \u001b[0m┃\u001b[1m \u001b[0m\u001b[1m3         \u001b[0m\u001b[1m \u001b[0m┃\u001b[1m \u001b[0m\u001b[1m4      \u001b[0m\u001b[1m \u001b[0m┃\u001b[1m \u001b[0m\u001b[1m5     \u001b[0m\u001b[1m \u001b[0m┃\u001b[1m \u001b[0m\u001b[1m6   \u001b[0m\u001b[1m \u001b[0m┃\u001b[1m \u001b[0m\u001b[1m7   \u001b[0m\u001b[1m \u001b[0m┃\n",
       "┡━━━━━━━━━━━╇━━━━━━━━━━━╇━━━━━━━━━╇━━━━━━━━━━━━╇━━━━━━━━━╇━━━━━━━━╇━━━━━━╇━━━━━━┩\n",
       "│ chán ghét │ thích thú │ giận dữ │ ngạc nhiên │ buồn bã │ sợ hãi │ khác │ LOẠI │\n",
       "└───────────┴───────────┴─────────┴────────────┴─────────┴────────┴──────┴──────┘\n"
      ]
     },
     "metadata": {},
     "output_type": "display_data"
    },
    {
     "name": "stdout",
     "output_type": "stream",
     "text": [
      "\n",
      "Count:  89 \n",
      "\n",
      "2 em lần sau rút kinh nghiệm giờ nó cứ giả vờ lết vậy để ban ve số đó \n",
      "\n",
      "Tag: 4\n"
     ]
    },
    {
     "data": {
      "text/html": [
       "<pre style=\"white-space:pre;overflow-x:auto;line-height:normal;font-family:Menlo,'DejaVu Sans Mono',consolas,'Courier New',monospace\"><span style=\"font-style: italic\">                                     KEY TAG                                     </span>\n",
       "┏━━━━━━━━━━━┳━━━━━━━━━━━┳━━━━━━━━━┳━━━━━━━━━━━━┳━━━━━━━━━┳━━━━━━━━┳━━━━━━┳━━━━━━┓\n",
       "┃<span style=\"font-weight: bold\"> 0         </span>┃<span style=\"font-weight: bold\"> 1         </span>┃<span style=\"font-weight: bold\"> 2       </span>┃<span style=\"font-weight: bold\"> 3          </span>┃<span style=\"font-weight: bold\"> 4       </span>┃<span style=\"font-weight: bold\"> 5      </span>┃<span style=\"font-weight: bold\"> 6    </span>┃<span style=\"font-weight: bold\"> 7    </span>┃\n",
       "┡━━━━━━━━━━━╇━━━━━━━━━━━╇━━━━━━━━━╇━━━━━━━━━━━━╇━━━━━━━━━╇━━━━━━━━╇━━━━━━╇━━━━━━┩\n",
       "│ chán ghét │ thích thú │ giận dữ │ ngạc nhiên │ buồn bã │ sợ hãi │ khác │ LOẠI │\n",
       "└───────────┴───────────┴─────────┴────────────┴─────────┴────────┴──────┴──────┘\n",
       "</pre>\n"
      ],
      "text/plain": [
       "\u001b[3m                                     KEY TAG                                     \u001b[0m\n",
       "┏━━━━━━━━━━━┳━━━━━━━━━━━┳━━━━━━━━━┳━━━━━━━━━━━━┳━━━━━━━━━┳━━━━━━━━┳━━━━━━┳━━━━━━┓\n",
       "┃\u001b[1m \u001b[0m\u001b[1m0        \u001b[0m\u001b[1m \u001b[0m┃\u001b[1m \u001b[0m\u001b[1m1        \u001b[0m\u001b[1m \u001b[0m┃\u001b[1m \u001b[0m\u001b[1m2      \u001b[0m\u001b[1m \u001b[0m┃\u001b[1m \u001b[0m\u001b[1m3         \u001b[0m\u001b[1m \u001b[0m┃\u001b[1m \u001b[0m\u001b[1m4      \u001b[0m\u001b[1m \u001b[0m┃\u001b[1m \u001b[0m\u001b[1m5     \u001b[0m\u001b[1m \u001b[0m┃\u001b[1m \u001b[0m\u001b[1m6   \u001b[0m\u001b[1m \u001b[0m┃\u001b[1m \u001b[0m\u001b[1m7   \u001b[0m\u001b[1m \u001b[0m┃\n",
       "┡━━━━━━━━━━━╇━━━━━━━━━━━╇━━━━━━━━━╇━━━━━━━━━━━━╇━━━━━━━━━╇━━━━━━━━╇━━━━━━╇━━━━━━┩\n",
       "│ chán ghét │ thích thú │ giận dữ │ ngạc nhiên │ buồn bã │ sợ hãi │ khác │ LOẠI │\n",
       "└───────────┴───────────┴─────────┴────────────┴─────────┴────────┴──────┴──────┘\n"
      ]
     },
     "metadata": {},
     "output_type": "display_data"
    },
    {
     "name": "stdout",
     "output_type": "stream",
     "text": [
      "\n",
      "Count:  90 \n",
      "\n",
      "200 tờ vé đó  nếu còn sớm  hai anh tới đại lý thương lượng  ! \n",
      "\n",
      "Tag: 4\n"
     ]
    },
    {
     "data": {
      "text/html": [
       "<pre style=\"white-space:pre;overflow-x:auto;line-height:normal;font-family:Menlo,'DejaVu Sans Mono',consolas,'Courier New',monospace\"><span style=\"font-style: italic\">                                     KEY TAG                                     </span>\n",
       "┏━━━━━━━━━━━┳━━━━━━━━━━━┳━━━━━━━━━┳━━━━━━━━━━━━┳━━━━━━━━━┳━━━━━━━━┳━━━━━━┳━━━━━━┓\n",
       "┃<span style=\"font-weight: bold\"> 0         </span>┃<span style=\"font-weight: bold\"> 1         </span>┃<span style=\"font-weight: bold\"> 2       </span>┃<span style=\"font-weight: bold\"> 3          </span>┃<span style=\"font-weight: bold\"> 4       </span>┃<span style=\"font-weight: bold\"> 5      </span>┃<span style=\"font-weight: bold\"> 6    </span>┃<span style=\"font-weight: bold\"> 7    </span>┃\n",
       "┡━━━━━━━━━━━╇━━━━━━━━━━━╇━━━━━━━━━╇━━━━━━━━━━━━╇━━━━━━━━━╇━━━━━━━━╇━━━━━━╇━━━━━━┩\n",
       "│ chán ghét │ thích thú │ giận dữ │ ngạc nhiên │ buồn bã │ sợ hãi │ khác │ LOẠI │\n",
       "└───────────┴───────────┴─────────┴────────────┴─────────┴────────┴──────┴──────┘\n",
       "</pre>\n"
      ],
      "text/plain": [
       "\u001b[3m                                     KEY TAG                                     \u001b[0m\n",
       "┏━━━━━━━━━━━┳━━━━━━━━━━━┳━━━━━━━━━┳━━━━━━━━━━━━┳━━━━━━━━━┳━━━━━━━━┳━━━━━━┳━━━━━━┓\n",
       "┃\u001b[1m \u001b[0m\u001b[1m0        \u001b[0m\u001b[1m \u001b[0m┃\u001b[1m \u001b[0m\u001b[1m1        \u001b[0m\u001b[1m \u001b[0m┃\u001b[1m \u001b[0m\u001b[1m2      \u001b[0m\u001b[1m \u001b[0m┃\u001b[1m \u001b[0m\u001b[1m3         \u001b[0m\u001b[1m \u001b[0m┃\u001b[1m \u001b[0m\u001b[1m4      \u001b[0m\u001b[1m \u001b[0m┃\u001b[1m \u001b[0m\u001b[1m5     \u001b[0m\u001b[1m \u001b[0m┃\u001b[1m \u001b[0m\u001b[1m6   \u001b[0m\u001b[1m \u001b[0m┃\u001b[1m \u001b[0m\u001b[1m7   \u001b[0m\u001b[1m \u001b[0m┃\n",
       "┡━━━━━━━━━━━╇━━━━━━━━━━━╇━━━━━━━━━╇━━━━━━━━━━━━╇━━━━━━━━━╇━━━━━━━━╇━━━━━━╇━━━━━━┩\n",
       "│ chán ghét │ thích thú │ giận dữ │ ngạc nhiên │ buồn bã │ sợ hãi │ khác │ LOẠI │\n",
       "└───────────┴───────────┴─────────┴────────────┴─────────┴────────┴──────┴──────┘\n"
      ]
     },
     "metadata": {},
     "output_type": "display_data"
    },
    {
     "name": "stdout",
     "output_type": "stream",
     "text": [
      "\n",
      "Count:  91 \n",
      "\n",
      "troi oi toi nghiep 2 em qua \n",
      "\n",
      "Tag: 4\n"
     ]
    },
    {
     "data": {
      "text/html": [
       "<pre style=\"white-space:pre;overflow-x:auto;line-height:normal;font-family:Menlo,'DejaVu Sans Mono',consolas,'Courier New',monospace\"><span style=\"font-style: italic\">                                     KEY TAG                                     </span>\n",
       "┏━━━━━━━━━━━┳━━━━━━━━━━━┳━━━━━━━━━┳━━━━━━━━━━━━┳━━━━━━━━━┳━━━━━━━━┳━━━━━━┳━━━━━━┓\n",
       "┃<span style=\"font-weight: bold\"> 0         </span>┃<span style=\"font-weight: bold\"> 1         </span>┃<span style=\"font-weight: bold\"> 2       </span>┃<span style=\"font-weight: bold\"> 3          </span>┃<span style=\"font-weight: bold\"> 4       </span>┃<span style=\"font-weight: bold\"> 5      </span>┃<span style=\"font-weight: bold\"> 6    </span>┃<span style=\"font-weight: bold\"> 7    </span>┃\n",
       "┡━━━━━━━━━━━╇━━━━━━━━━━━╇━━━━━━━━━╇━━━━━━━━━━━━╇━━━━━━━━━╇━━━━━━━━╇━━━━━━╇━━━━━━┩\n",
       "│ chán ghét │ thích thú │ giận dữ │ ngạc nhiên │ buồn bã │ sợ hãi │ khác │ LOẠI │\n",
       "└───────────┴───────────┴─────────┴────────────┴─────────┴────────┴──────┴──────┘\n",
       "</pre>\n"
      ],
      "text/plain": [
       "\u001b[3m                                     KEY TAG                                     \u001b[0m\n",
       "┏━━━━━━━━━━━┳━━━━━━━━━━━┳━━━━━━━━━┳━━━━━━━━━━━━┳━━━━━━━━━┳━━━━━━━━┳━━━━━━┳━━━━━━┓\n",
       "┃\u001b[1m \u001b[0m\u001b[1m0        \u001b[0m\u001b[1m \u001b[0m┃\u001b[1m \u001b[0m\u001b[1m1        \u001b[0m\u001b[1m \u001b[0m┃\u001b[1m \u001b[0m\u001b[1m2      \u001b[0m\u001b[1m \u001b[0m┃\u001b[1m \u001b[0m\u001b[1m3         \u001b[0m\u001b[1m \u001b[0m┃\u001b[1m \u001b[0m\u001b[1m4      \u001b[0m\u001b[1m \u001b[0m┃\u001b[1m \u001b[0m\u001b[1m5     \u001b[0m\u001b[1m \u001b[0m┃\u001b[1m \u001b[0m\u001b[1m6   \u001b[0m\u001b[1m \u001b[0m┃\u001b[1m \u001b[0m\u001b[1m7   \u001b[0m\u001b[1m \u001b[0m┃\n",
       "┡━━━━━━━━━━━╇━━━━━━━━━━━╇━━━━━━━━━╇━━━━━━━━━━━━╇━━━━━━━━━╇━━━━━━━━╇━━━━━━╇━━━━━━┩\n",
       "│ chán ghét │ thích thú │ giận dữ │ ngạc nhiên │ buồn bã │ sợ hãi │ khác │ LOẠI │\n",
       "└───────────┴───────────┴─────────┴────────────┴─────────┴────────┴──────┴──────┘\n"
      ]
     },
     "metadata": {},
     "output_type": "display_data"
    },
    {
     "name": "stdout",
     "output_type": "stream",
     "text": [
      "\n",
      "Count:  92 \n",
      "\n",
      "Tại sao những người này đa phần là người miền Trung hết vậy mong sống thật với con tim mình đi \n",
      "\n",
      "Tag: 2\n"
     ]
    },
    {
     "data": {
      "text/html": [
       "<pre style=\"white-space:pre;overflow-x:auto;line-height:normal;font-family:Menlo,'DejaVu Sans Mono',consolas,'Courier New',monospace\"><span style=\"font-style: italic\">                                     KEY TAG                                     </span>\n",
       "┏━━━━━━━━━━━┳━━━━━━━━━━━┳━━━━━━━━━┳━━━━━━━━━━━━┳━━━━━━━━━┳━━━━━━━━┳━━━━━━┳━━━━━━┓\n",
       "┃<span style=\"font-weight: bold\"> 0         </span>┃<span style=\"font-weight: bold\"> 1         </span>┃<span style=\"font-weight: bold\"> 2       </span>┃<span style=\"font-weight: bold\"> 3          </span>┃<span style=\"font-weight: bold\"> 4       </span>┃<span style=\"font-weight: bold\"> 5      </span>┃<span style=\"font-weight: bold\"> 6    </span>┃<span style=\"font-weight: bold\"> 7    </span>┃\n",
       "┡━━━━━━━━━━━╇━━━━━━━━━━━╇━━━━━━━━━╇━━━━━━━━━━━━╇━━━━━━━━━╇━━━━━━━━╇━━━━━━╇━━━━━━┩\n",
       "│ chán ghét │ thích thú │ giận dữ │ ngạc nhiên │ buồn bã │ sợ hãi │ khác │ LOẠI │\n",
       "└───────────┴───────────┴─────────┴────────────┴─────────┴────────┴──────┴──────┘\n",
       "</pre>\n"
      ],
      "text/plain": [
       "\u001b[3m                                     KEY TAG                                     \u001b[0m\n",
       "┏━━━━━━━━━━━┳━━━━━━━━━━━┳━━━━━━━━━┳━━━━━━━━━━━━┳━━━━━━━━━┳━━━━━━━━┳━━━━━━┳━━━━━━┓\n",
       "┃\u001b[1m \u001b[0m\u001b[1m0        \u001b[0m\u001b[1m \u001b[0m┃\u001b[1m \u001b[0m\u001b[1m1        \u001b[0m\u001b[1m \u001b[0m┃\u001b[1m \u001b[0m\u001b[1m2      \u001b[0m\u001b[1m \u001b[0m┃\u001b[1m \u001b[0m\u001b[1m3         \u001b[0m\u001b[1m \u001b[0m┃\u001b[1m \u001b[0m\u001b[1m4      \u001b[0m\u001b[1m \u001b[0m┃\u001b[1m \u001b[0m\u001b[1m5     \u001b[0m\u001b[1m \u001b[0m┃\u001b[1m \u001b[0m\u001b[1m6   \u001b[0m\u001b[1m \u001b[0m┃\u001b[1m \u001b[0m\u001b[1m7   \u001b[0m\u001b[1m \u001b[0m┃\n",
       "┡━━━━━━━━━━━╇━━━━━━━━━━━╇━━━━━━━━━╇━━━━━━━━━━━━╇━━━━━━━━━╇━━━━━━━━╇━━━━━━╇━━━━━━┩\n",
       "│ chán ghét │ thích thú │ giận dữ │ ngạc nhiên │ buồn bã │ sợ hãi │ khác │ LOẠI │\n",
       "└───────────┴───────────┴─────────┴────────────┴─────────┴────────┴──────┴──────┘\n"
      ]
     },
     "metadata": {},
     "output_type": "display_data"
    },
    {
     "name": "stdout",
     "output_type": "stream",
     "text": [
      "\n",
      "Count:  93 \n",
      "\n",
      "Thời buổi giờ nhìu chiêu trò lắm các ah cẩn thận lại nha❤️ \n",
      "\n",
      "Tag: 6\n"
     ]
    },
    {
     "data": {
      "text/html": [
       "<pre style=\"white-space:pre;overflow-x:auto;line-height:normal;font-family:Menlo,'DejaVu Sans Mono',consolas,'Courier New',monospace\"><span style=\"font-style: italic\">                                     KEY TAG                                     </span>\n",
       "┏━━━━━━━━━━━┳━━━━━━━━━━━┳━━━━━━━━━┳━━━━━━━━━━━━┳━━━━━━━━━┳━━━━━━━━┳━━━━━━┳━━━━━━┓\n",
       "┃<span style=\"font-weight: bold\"> 0         </span>┃<span style=\"font-weight: bold\"> 1         </span>┃<span style=\"font-weight: bold\"> 2       </span>┃<span style=\"font-weight: bold\"> 3          </span>┃<span style=\"font-weight: bold\"> 4       </span>┃<span style=\"font-weight: bold\"> 5      </span>┃<span style=\"font-weight: bold\"> 6    </span>┃<span style=\"font-weight: bold\"> 7    </span>┃\n",
       "┡━━━━━━━━━━━╇━━━━━━━━━━━╇━━━━━━━━━╇━━━━━━━━━━━━╇━━━━━━━━━╇━━━━━━━━╇━━━━━━╇━━━━━━┩\n",
       "│ chán ghét │ thích thú │ giận dữ │ ngạc nhiên │ buồn bã │ sợ hãi │ khác │ LOẠI │\n",
       "└───────────┴───────────┴─────────┴────────────┴─────────┴────────┴──────┴──────┘\n",
       "</pre>\n"
      ],
      "text/plain": [
       "\u001b[3m                                     KEY TAG                                     \u001b[0m\n",
       "┏━━━━━━━━━━━┳━━━━━━━━━━━┳━━━━━━━━━┳━━━━━━━━━━━━┳━━━━━━━━━┳━━━━━━━━┳━━━━━━┳━━━━━━┓\n",
       "┃\u001b[1m \u001b[0m\u001b[1m0        \u001b[0m\u001b[1m \u001b[0m┃\u001b[1m \u001b[0m\u001b[1m1        \u001b[0m\u001b[1m \u001b[0m┃\u001b[1m \u001b[0m\u001b[1m2      \u001b[0m\u001b[1m \u001b[0m┃\u001b[1m \u001b[0m\u001b[1m3         \u001b[0m\u001b[1m \u001b[0m┃\u001b[1m \u001b[0m\u001b[1m4      \u001b[0m\u001b[1m \u001b[0m┃\u001b[1m \u001b[0m\u001b[1m5     \u001b[0m\u001b[1m \u001b[0m┃\u001b[1m \u001b[0m\u001b[1m6   \u001b[0m\u001b[1m \u001b[0m┃\u001b[1m \u001b[0m\u001b[1m7   \u001b[0m\u001b[1m \u001b[0m┃\n",
       "┡━━━━━━━━━━━╇━━━━━━━━━━━╇━━━━━━━━━╇━━━━━━━━━━━━╇━━━━━━━━━╇━━━━━━━━╇━━━━━━╇━━━━━━┩\n",
       "│ chán ghét │ thích thú │ giận dữ │ ngạc nhiên │ buồn bã │ sợ hãi │ khác │ LOẠI │\n",
       "└───────────┴───────────┴─────────┴────────────┴─────────┴────────┴──────┴──────┘\n"
      ]
     },
     "metadata": {},
     "output_type": "display_data"
    },
    {
     "name": "stdout",
     "output_type": "stream",
     "text": [
      "\n",
      "Count:  94 \n",
      "\n",
      "Lại tiếng Phú Yên kkkk \n",
      "\n",
      "Tag: 6\n"
     ]
    },
    {
     "data": {
      "text/html": [
       "<pre style=\"white-space:pre;overflow-x:auto;line-height:normal;font-family:Menlo,'DejaVu Sans Mono',consolas,'Courier New',monospace\"><span style=\"font-style: italic\">                                     KEY TAG                                     </span>\n",
       "┏━━━━━━━━━━━┳━━━━━━━━━━━┳━━━━━━━━━┳━━━━━━━━━━━━┳━━━━━━━━━┳━━━━━━━━┳━━━━━━┳━━━━━━┓\n",
       "┃<span style=\"font-weight: bold\"> 0         </span>┃<span style=\"font-weight: bold\"> 1         </span>┃<span style=\"font-weight: bold\"> 2       </span>┃<span style=\"font-weight: bold\"> 3          </span>┃<span style=\"font-weight: bold\"> 4       </span>┃<span style=\"font-weight: bold\"> 5      </span>┃<span style=\"font-weight: bold\"> 6    </span>┃<span style=\"font-weight: bold\"> 7    </span>┃\n",
       "┡━━━━━━━━━━━╇━━━━━━━━━━━╇━━━━━━━━━╇━━━━━━━━━━━━╇━━━━━━━━━╇━━━━━━━━╇━━━━━━╇━━━━━━┩\n",
       "│ chán ghét │ thích thú │ giận dữ │ ngạc nhiên │ buồn bã │ sợ hãi │ khác │ LOẠI │\n",
       "└───────────┴───────────┴─────────┴────────────┴─────────┴────────┴──────┴──────┘\n",
       "</pre>\n"
      ],
      "text/plain": [
       "\u001b[3m                                     KEY TAG                                     \u001b[0m\n",
       "┏━━━━━━━━━━━┳━━━━━━━━━━━┳━━━━━━━━━┳━━━━━━━━━━━━┳━━━━━━━━━┳━━━━━━━━┳━━━━━━┳━━━━━━┓\n",
       "┃\u001b[1m \u001b[0m\u001b[1m0        \u001b[0m\u001b[1m \u001b[0m┃\u001b[1m \u001b[0m\u001b[1m1        \u001b[0m\u001b[1m \u001b[0m┃\u001b[1m \u001b[0m\u001b[1m2      \u001b[0m\u001b[1m \u001b[0m┃\u001b[1m \u001b[0m\u001b[1m3         \u001b[0m\u001b[1m \u001b[0m┃\u001b[1m \u001b[0m\u001b[1m4      \u001b[0m\u001b[1m \u001b[0m┃\u001b[1m \u001b[0m\u001b[1m5     \u001b[0m\u001b[1m \u001b[0m┃\u001b[1m \u001b[0m\u001b[1m6   \u001b[0m\u001b[1m \u001b[0m┃\u001b[1m \u001b[0m\u001b[1m7   \u001b[0m\u001b[1m \u001b[0m┃\n",
       "┡━━━━━━━━━━━╇━━━━━━━━━━━╇━━━━━━━━━╇━━━━━━━━━━━━╇━━━━━━━━━╇━━━━━━━━╇━━━━━━╇━━━━━━┩\n",
       "│ chán ghét │ thích thú │ giận dữ │ ngạc nhiên │ buồn bã │ sợ hãi │ khác │ LOẠI │\n",
       "└───────────┴───────────┴─────────┴────────────┴─────────┴────────┴──────┴──────┘\n"
      ]
     },
     "metadata": {},
     "output_type": "display_data"
    },
    {
     "name": "stdout",
     "output_type": "stream",
     "text": [
      "\n",
      "Count:  95 \n",
      "\n",
      "Em ơi ! Tốt bụng như vậy không đáng đâu, luận làm gì cho mệt, kẻ đã lừa đảo còn gì để nói. \n",
      "\n",
      "Tag: 0\n"
     ]
    },
    {
     "data": {
      "text/html": [
       "<pre style=\"white-space:pre;overflow-x:auto;line-height:normal;font-family:Menlo,'DejaVu Sans Mono',consolas,'Courier New',monospace\"><span style=\"font-style: italic\">                                     KEY TAG                                     </span>\n",
       "┏━━━━━━━━━━━┳━━━━━━━━━━━┳━━━━━━━━━┳━━━━━━━━━━━━┳━━━━━━━━━┳━━━━━━━━┳━━━━━━┳━━━━━━┓\n",
       "┃<span style=\"font-weight: bold\"> 0         </span>┃<span style=\"font-weight: bold\"> 1         </span>┃<span style=\"font-weight: bold\"> 2       </span>┃<span style=\"font-weight: bold\"> 3          </span>┃<span style=\"font-weight: bold\"> 4       </span>┃<span style=\"font-weight: bold\"> 5      </span>┃<span style=\"font-weight: bold\"> 6    </span>┃<span style=\"font-weight: bold\"> 7    </span>┃\n",
       "┡━━━━━━━━━━━╇━━━━━━━━━━━╇━━━━━━━━━╇━━━━━━━━━━━━╇━━━━━━━━━╇━━━━━━━━╇━━━━━━╇━━━━━━┩\n",
       "│ chán ghét │ thích thú │ giận dữ │ ngạc nhiên │ buồn bã │ sợ hãi │ khác │ LOẠI │\n",
       "└───────────┴───────────┴─────────┴────────────┴─────────┴────────┴──────┴──────┘\n",
       "</pre>\n"
      ],
      "text/plain": [
       "\u001b[3m                                     KEY TAG                                     \u001b[0m\n",
       "┏━━━━━━━━━━━┳━━━━━━━━━━━┳━━━━━━━━━┳━━━━━━━━━━━━┳━━━━━━━━━┳━━━━━━━━┳━━━━━━┳━━━━━━┓\n",
       "┃\u001b[1m \u001b[0m\u001b[1m0        \u001b[0m\u001b[1m \u001b[0m┃\u001b[1m \u001b[0m\u001b[1m1        \u001b[0m\u001b[1m \u001b[0m┃\u001b[1m \u001b[0m\u001b[1m2      \u001b[0m\u001b[1m \u001b[0m┃\u001b[1m \u001b[0m\u001b[1m3         \u001b[0m\u001b[1m \u001b[0m┃\u001b[1m \u001b[0m\u001b[1m4      \u001b[0m\u001b[1m \u001b[0m┃\u001b[1m \u001b[0m\u001b[1m5     \u001b[0m\u001b[1m \u001b[0m┃\u001b[1m \u001b[0m\u001b[1m6   \u001b[0m\u001b[1m \u001b[0m┃\u001b[1m \u001b[0m\u001b[1m7   \u001b[0m\u001b[1m \u001b[0m┃\n",
       "┡━━━━━━━━━━━╇━━━━━━━━━━━╇━━━━━━━━━╇━━━━━━━━━━━━╇━━━━━━━━━╇━━━━━━━━╇━━━━━━╇━━━━━━┩\n",
       "│ chán ghét │ thích thú │ giận dữ │ ngạc nhiên │ buồn bã │ sợ hãi │ khác │ LOẠI │\n",
       "└───────────┴───────────┴─────────┴────────────┴─────────┴────────┴──────┴──────┘\n"
      ]
     },
     "metadata": {},
     "output_type": "display_data"
    },
    {
     "name": "stdout",
     "output_type": "stream",
     "text": [
      "\n",
      "Count:  96 \n",
      "\n",
      "E đừng buồn, chỉ là chúng ta đa phần lương thiện, chỉ là mình xui gặp phải phường lừa đảo, mỗi trải nghiệm là một kinh nghiệm, tiền đó e xem như là tiền đóng học phí để ta học thêm kinh nghiệm thôi mà. Nghĩ vậy đi cho lành e ạ \n",
      "\n",
      "Tag: 4\n"
     ]
    },
    {
     "data": {
      "text/html": [
       "<pre style=\"white-space:pre;overflow-x:auto;line-height:normal;font-family:Menlo,'DejaVu Sans Mono',consolas,'Courier New',monospace\"><span style=\"font-style: italic\">                                     KEY TAG                                     </span>\n",
       "┏━━━━━━━━━━━┳━━━━━━━━━━━┳━━━━━━━━━┳━━━━━━━━━━━━┳━━━━━━━━━┳━━━━━━━━┳━━━━━━┳━━━━━━┓\n",
       "┃<span style=\"font-weight: bold\"> 0         </span>┃<span style=\"font-weight: bold\"> 1         </span>┃<span style=\"font-weight: bold\"> 2       </span>┃<span style=\"font-weight: bold\"> 3          </span>┃<span style=\"font-weight: bold\"> 4       </span>┃<span style=\"font-weight: bold\"> 5      </span>┃<span style=\"font-weight: bold\"> 6    </span>┃<span style=\"font-weight: bold\"> 7    </span>┃\n",
       "┡━━━━━━━━━━━╇━━━━━━━━━━━╇━━━━━━━━━╇━━━━━━━━━━━━╇━━━━━━━━━╇━━━━━━━━╇━━━━━━╇━━━━━━┩\n",
       "│ chán ghét │ thích thú │ giận dữ │ ngạc nhiên │ buồn bã │ sợ hãi │ khác │ LOẠI │\n",
       "└───────────┴───────────┴─────────┴────────────┴─────────┴────────┴──────┴──────┘\n",
       "</pre>\n"
      ],
      "text/plain": [
       "\u001b[3m                                     KEY TAG                                     \u001b[0m\n",
       "┏━━━━━━━━━━━┳━━━━━━━━━━━┳━━━━━━━━━┳━━━━━━━━━━━━┳━━━━━━━━━┳━━━━━━━━┳━━━━━━┳━━━━━━┓\n",
       "┃\u001b[1m \u001b[0m\u001b[1m0        \u001b[0m\u001b[1m \u001b[0m┃\u001b[1m \u001b[0m\u001b[1m1        \u001b[0m\u001b[1m \u001b[0m┃\u001b[1m \u001b[0m\u001b[1m2      \u001b[0m\u001b[1m \u001b[0m┃\u001b[1m \u001b[0m\u001b[1m3         \u001b[0m\u001b[1m \u001b[0m┃\u001b[1m \u001b[0m\u001b[1m4      \u001b[0m\u001b[1m \u001b[0m┃\u001b[1m \u001b[0m\u001b[1m5     \u001b[0m\u001b[1m \u001b[0m┃\u001b[1m \u001b[0m\u001b[1m6   \u001b[0m\u001b[1m \u001b[0m┃\u001b[1m \u001b[0m\u001b[1m7   \u001b[0m\u001b[1m \u001b[0m┃\n",
       "┡━━━━━━━━━━━╇━━━━━━━━━━━╇━━━━━━━━━╇━━━━━━━━━━━━╇━━━━━━━━━╇━━━━━━━━╇━━━━━━╇━━━━━━┩\n",
       "│ chán ghét │ thích thú │ giận dữ │ ngạc nhiên │ buồn bã │ sợ hãi │ khác │ LOẠI │\n",
       "└───────────┴───────────┴─────────┴────────────┴─────────┴────────┴──────┴──────┘\n"
      ]
     },
     "metadata": {},
     "output_type": "display_data"
    },
    {
     "name": "stdout",
     "output_type": "stream",
     "text": [
      "\n",
      "Count:  97 \n",
      "\n",
      "Hai ông thật thà chết đc, \n",
      "\n",
      "Tag: 6\n"
     ]
    },
    {
     "data": {
      "text/html": [
       "<pre style=\"white-space:pre;overflow-x:auto;line-height:normal;font-family:Menlo,'DejaVu Sans Mono',consolas,'Courier New',monospace\"><span style=\"font-style: italic\">                                     KEY TAG                                     </span>\n",
       "┏━━━━━━━━━━━┳━━━━━━━━━━━┳━━━━━━━━━┳━━━━━━━━━━━━┳━━━━━━━━━┳━━━━━━━━┳━━━━━━┳━━━━━━┓\n",
       "┃<span style=\"font-weight: bold\"> 0         </span>┃<span style=\"font-weight: bold\"> 1         </span>┃<span style=\"font-weight: bold\"> 2       </span>┃<span style=\"font-weight: bold\"> 3          </span>┃<span style=\"font-weight: bold\"> 4       </span>┃<span style=\"font-weight: bold\"> 5      </span>┃<span style=\"font-weight: bold\"> 6    </span>┃<span style=\"font-weight: bold\"> 7    </span>┃\n",
       "┡━━━━━━━━━━━╇━━━━━━━━━━━╇━━━━━━━━━╇━━━━━━━━━━━━╇━━━━━━━━━╇━━━━━━━━╇━━━━━━╇━━━━━━┩\n",
       "│ chán ghét │ thích thú │ giận dữ │ ngạc nhiên │ buồn bã │ sợ hãi │ khác │ LOẠI │\n",
       "└───────────┴───────────┴─────────┴────────────┴─────────┴────────┴──────┴──────┘\n",
       "</pre>\n"
      ],
      "text/plain": [
       "\u001b[3m                                     KEY TAG                                     \u001b[0m\n",
       "┏━━━━━━━━━━━┳━━━━━━━━━━━┳━━━━━━━━━┳━━━━━━━━━━━━┳━━━━━━━━━┳━━━━━━━━┳━━━━━━┳━━━━━━┓\n",
       "┃\u001b[1m \u001b[0m\u001b[1m0        \u001b[0m\u001b[1m \u001b[0m┃\u001b[1m \u001b[0m\u001b[1m1        \u001b[0m\u001b[1m \u001b[0m┃\u001b[1m \u001b[0m\u001b[1m2      \u001b[0m\u001b[1m \u001b[0m┃\u001b[1m \u001b[0m\u001b[1m3         \u001b[0m\u001b[1m \u001b[0m┃\u001b[1m \u001b[0m\u001b[1m4      \u001b[0m\u001b[1m \u001b[0m┃\u001b[1m \u001b[0m\u001b[1m5     \u001b[0m\u001b[1m \u001b[0m┃\u001b[1m \u001b[0m\u001b[1m6   \u001b[0m\u001b[1m \u001b[0m┃\u001b[1m \u001b[0m\u001b[1m7   \u001b[0m\u001b[1m \u001b[0m┃\n",
       "┡━━━━━━━━━━━╇━━━━━━━━━━━╇━━━━━━━━━╇━━━━━━━━━━━━╇━━━━━━━━━╇━━━━━━━━╇━━━━━━╇━━━━━━┩\n",
       "│ chán ghét │ thích thú │ giận dữ │ ngạc nhiên │ buồn bã │ sợ hãi │ khác │ LOẠI │\n",
       "└───────────┴───────────┴─────────┴────────────┴─────────┴────────┴──────┴──────┘\n"
      ]
     },
     "metadata": {},
     "output_type": "display_data"
    },
    {
     "name": "stdout",
     "output_type": "stream",
     "text": [
      "\n",
      "Count:  98 \n",
      "\n",
      "53:46 Bản nhạc buồn len lỏi từng góc phố 🗑 \n",
      "\n",
      "Tag: 6\n"
     ]
    },
    {
     "data": {
      "text/html": [
       "<pre style=\"white-space:pre;overflow-x:auto;line-height:normal;font-family:Menlo,'DejaVu Sans Mono',consolas,'Courier New',monospace\"><span style=\"font-style: italic\">                                     KEY TAG                                     </span>\n",
       "┏━━━━━━━━━━━┳━━━━━━━━━━━┳━━━━━━━━━┳━━━━━━━━━━━━┳━━━━━━━━━┳━━━━━━━━┳━━━━━━┳━━━━━━┓\n",
       "┃<span style=\"font-weight: bold\"> 0         </span>┃<span style=\"font-weight: bold\"> 1         </span>┃<span style=\"font-weight: bold\"> 2       </span>┃<span style=\"font-weight: bold\"> 3          </span>┃<span style=\"font-weight: bold\"> 4       </span>┃<span style=\"font-weight: bold\"> 5      </span>┃<span style=\"font-weight: bold\"> 6    </span>┃<span style=\"font-weight: bold\"> 7    </span>┃\n",
       "┡━━━━━━━━━━━╇━━━━━━━━━━━╇━━━━━━━━━╇━━━━━━━━━━━━╇━━━━━━━━━╇━━━━━━━━╇━━━━━━╇━━━━━━┩\n",
       "│ chán ghét │ thích thú │ giận dữ │ ngạc nhiên │ buồn bã │ sợ hãi │ khác │ LOẠI │\n",
       "└───────────┴───────────┴─────────┴────────────┴─────────┴────────┴──────┴──────┘\n",
       "</pre>\n"
      ],
      "text/plain": [
       "\u001b[3m                                     KEY TAG                                     \u001b[0m\n",
       "┏━━━━━━━━━━━┳━━━━━━━━━━━┳━━━━━━━━━┳━━━━━━━━━━━━┳━━━━━━━━━┳━━━━━━━━┳━━━━━━┳━━━━━━┓\n",
       "┃\u001b[1m \u001b[0m\u001b[1m0        \u001b[0m\u001b[1m \u001b[0m┃\u001b[1m \u001b[0m\u001b[1m1        \u001b[0m\u001b[1m \u001b[0m┃\u001b[1m \u001b[0m\u001b[1m2      \u001b[0m\u001b[1m \u001b[0m┃\u001b[1m \u001b[0m\u001b[1m3         \u001b[0m\u001b[1m \u001b[0m┃\u001b[1m \u001b[0m\u001b[1m4      \u001b[0m\u001b[1m \u001b[0m┃\u001b[1m \u001b[0m\u001b[1m5     \u001b[0m\u001b[1m \u001b[0m┃\u001b[1m \u001b[0m\u001b[1m6   \u001b[0m\u001b[1m \u001b[0m┃\u001b[1m \u001b[0m\u001b[1m7   \u001b[0m\u001b[1m \u001b[0m┃\n",
       "┡━━━━━━━━━━━╇━━━━━━━━━━━╇━━━━━━━━━╇━━━━━━━━━━━━╇━━━━━━━━━╇━━━━━━━━╇━━━━━━╇━━━━━━┩\n",
       "│ chán ghét │ thích thú │ giận dữ │ ngạc nhiên │ buồn bã │ sợ hãi │ khác │ LOẠI │\n",
       "└───────────┴───────────┴─────────┴────────────┴─────────┴────────┴──────┴──────┘\n"
      ]
     },
     "metadata": {},
     "output_type": "display_data"
    },
    {
     "name": "stdout",
     "output_type": "stream",
     "text": [
      "\n",
      "Count:  99 \n",
      "\n",
      "Mấy cháu qúa hiền lành nhưng dể tin người , vì là tuổi trẻ , nên các cháu làm việc  rất thật tâm , nên bị người ta chửi , các cháu tức , vì bị người ta nói xấu , chửi các cháu , nên các cháu giận , cô rất hiểu và các MTQ cũng  rất hiểu các cháu . Các cháu hãy  vượt qua và  kẽ lừa mình , họ sẽ bị qua báo !. \n",
      "\n",
      "Tag: 2\n"
     ]
    },
    {
     "data": {
      "text/html": [
       "<pre style=\"white-space:pre;overflow-x:auto;line-height:normal;font-family:Menlo,'DejaVu Sans Mono',consolas,'Courier New',monospace\"><span style=\"font-style: italic\">                                     KEY TAG                                     </span>\n",
       "┏━━━━━━━━━━━┳━━━━━━━━━━━┳━━━━━━━━━┳━━━━━━━━━━━━┳━━━━━━━━━┳━━━━━━━━┳━━━━━━┳━━━━━━┓\n",
       "┃<span style=\"font-weight: bold\"> 0         </span>┃<span style=\"font-weight: bold\"> 1         </span>┃<span style=\"font-weight: bold\"> 2       </span>┃<span style=\"font-weight: bold\"> 3          </span>┃<span style=\"font-weight: bold\"> 4       </span>┃<span style=\"font-weight: bold\"> 5      </span>┃<span style=\"font-weight: bold\"> 6    </span>┃<span style=\"font-weight: bold\"> 7    </span>┃\n",
       "┡━━━━━━━━━━━╇━━━━━━━━━━━╇━━━━━━━━━╇━━━━━━━━━━━━╇━━━━━━━━━╇━━━━━━━━╇━━━━━━╇━━━━━━┩\n",
       "│ chán ghét │ thích thú │ giận dữ │ ngạc nhiên │ buồn bã │ sợ hãi │ khác │ LOẠI │\n",
       "└───────────┴───────────┴─────────┴────────────┴─────────┴────────┴──────┴──────┘\n",
       "</pre>\n"
      ],
      "text/plain": [
       "\u001b[3m                                     KEY TAG                                     \u001b[0m\n",
       "┏━━━━━━━━━━━┳━━━━━━━━━━━┳━━━━━━━━━┳━━━━━━━━━━━━┳━━━━━━━━━┳━━━━━━━━┳━━━━━━┳━━━━━━┓\n",
       "┃\u001b[1m \u001b[0m\u001b[1m0        \u001b[0m\u001b[1m \u001b[0m┃\u001b[1m \u001b[0m\u001b[1m1        \u001b[0m\u001b[1m \u001b[0m┃\u001b[1m \u001b[0m\u001b[1m2      \u001b[0m\u001b[1m \u001b[0m┃\u001b[1m \u001b[0m\u001b[1m3         \u001b[0m\u001b[1m \u001b[0m┃\u001b[1m \u001b[0m\u001b[1m4      \u001b[0m\u001b[1m \u001b[0m┃\u001b[1m \u001b[0m\u001b[1m5     \u001b[0m\u001b[1m \u001b[0m┃\u001b[1m \u001b[0m\u001b[1m6   \u001b[0m\u001b[1m \u001b[0m┃\u001b[1m \u001b[0m\u001b[1m7   \u001b[0m\u001b[1m \u001b[0m┃\n",
       "┡━━━━━━━━━━━╇━━━━━━━━━━━╇━━━━━━━━━╇━━━━━━━━━━━━╇━━━━━━━━━╇━━━━━━━━╇━━━━━━╇━━━━━━┩\n",
       "│ chán ghét │ thích thú │ giận dữ │ ngạc nhiên │ buồn bã │ sợ hãi │ khác │ LOẠI │\n",
       "└───────────┴───────────┴─────────┴────────────┴─────────┴────────┴──────┴──────┘\n"
      ]
     },
     "metadata": {},
     "output_type": "display_data"
    },
    {
     "name": "stdout",
     "output_type": "stream",
     "text": [
      "\n",
      "Count:  100 \n",
      "\n",
      "Tội nghiệp hai cháu quá thật thà khóa lại bị lừa kiếm được nó ở đâu đem nó vô công an \n",
      "\n",
      "Tag: 2\n"
     ]
    }
   ],
   "source": [
    "from rich.console import Console\n",
    "from rich.table import Table\n",
    "import xlrd\n",
    "import pandas as pd\n",
    "import xlsxwriter\n",
    "\n",
    "\n",
    "def showTag():\n",
    "    table = Table(title=\"KEY TAG\")\n",
    "    for i in range(0,8):\n",
    "        table.add_column(str(i))\n",
    "    table.add_row(\"chán ghét\", \"thích thú\", \"giận dữ\", \"ngạc nhiên\", \"buồn bã\", \"sợ hãi\", \"khác\", \"LOẠI\")\n",
    "    \n",
    "    console = Console()\n",
    "    console.print(table)\n",
    "\n",
    "def writeTagFile(file_path):\n",
    "    workbook = xlsxwriter.Workbook(file_path)\n",
    "    worksheet = workbook.add_worksheet()\n",
    "\n",
    "    data = pd.read_excel(file_path, engine=\"openpyxl\")\n",
    "    df = pd.DataFrame(data, columns=['comment'])\n",
    "\n",
    "    col = 0\n",
    "    row = 0\n",
    "    count = 0\n",
    "    index = 0\n",
    "    worksheet.write(0, 1, \"comment\")\n",
    "    worksheet.write(0, 2, \"tag\")\n",
    "\n",
    "    while (count < 101):\n",
    "        showTag()\n",
    "        print(\"\\nCount: \", count,\"\\n\")\n",
    "        print(df.comment[index],\"\\n\")\n",
    "        tag = input(\"Tag: \")\n",
    "\n",
    "        if (tag != \"7\"):\n",
    "            worksheet.write(count+1, 0, count)\n",
    "            worksheet.write(count+1, 1, df.comment[index])\n",
    "            worksheet.write(count+1, 2, tag)\n",
    "            count +=1\n",
    "            index +=1\n",
    "        else:\n",
    "            count = count\n",
    "            index+=1\n",
    "\n",
    "    workbook.close()\n",
    "\n",
    "if __name__ == \"__main__\":\n",
    "    nameFile = input(\"Enter name file: \")\n",
    "    writeTagFile(nameFile)"
   ]
  },
  {
   "cell_type": "code",
   "execution_count": 5,
   "metadata": {},
   "outputs": [],
   "source": [
    "import pandas as pd \n",
    "df1 = pd.read_excel('comments_chipu.xlsx')\n",
    "df2 = pd.read_excel('comments_fobtv.xlsx')\n",
    "df3 = pd.read_excel('comments_luadao.xlsx')\n",
    "\n"
   ]
  },
  {
   "cell_type": "code",
   "execution_count": 6,
   "metadata": {},
   "outputs": [],
   "source": [
    "df1['tag'] = df1['tag'].replace([0,1,2,3,4,5,6],['Disgust','Enjoyment','Anger','Surprise','Sadness','Fear','Other'])\n",
    "df2['tag'] = df2['tag'].replace([0,1,2,3,4,5,6],['Disgust','Enjoyment','Anger','Surprise','Sadness','Fear','Other'])\n",
    "df3['tag'] = df3['tag'].replace([0,1,2,3,4,5,6],['Disgust','Enjoyment','Anger','Surprise','Sadness','Fear','Other'])"
   ]
  },
  {
   "cell_type": "code",
   "execution_count": 7,
   "metadata": {},
   "outputs": [],
   "source": [
    "df1 = df1.drop(['Unnamed: 0'],axis=1)\n",
    "df2 = df2.drop(['Unnamed: 0'],axis=1)\n",
    "df3 = df3.drop(['Unnamed: 0'],axis=1)"
   ]
  },
  {
   "cell_type": "code",
   "execution_count": 8,
   "metadata": {},
   "outputs": [],
   "source": [
    "#df1.to_excel('comments_chipu.xlsx',encoding='utf8')\n",
    "#df2.to_excel('comments_fobtv.xlsx',encoding='utf8')\n",
    "#df3.to_excel('comments_luadao.xlsx',encoding='utf8')\n",
    "\n"
   ]
  },
  {
   "cell_type": "code",
   "execution_count": null,
   "metadata": {},
   "outputs": [],
   "source": []
  }
 ],
 "metadata": {
  "kernelspec": {
   "display_name": "Python 3",
   "language": "python",
   "name": "python3"
  },
  "language_info": {
   "codemirror_mode": {
    "name": "ipython",
    "version": 3
   },
   "file_extension": ".py",
   "mimetype": "text/x-python",
   "name": "python",
   "nbconvert_exporter": "python",
   "pygments_lexer": "ipython3",
   "version": "3.8.3"
  }
 },
 "nbformat": 4,
 "nbformat_minor": 4
}
